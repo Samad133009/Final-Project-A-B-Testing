{
 "cells": [
  {
   "cell_type": "markdown",
   "metadata": {},
   "source": [
    "# Project Description"
   ]
  },
  {
   "cell_type": "markdown",
   "metadata": {},
   "source": [
    "# Task:\n",
    "I have received an analytical task from an international online store. Our predecessor failed to complete it: they launched an A/B test and then quit (to start a watermelon farm in Brazil). They left only the technical specifications and the test results.\n",
    "\n",
    "# Technical description\n",
    "-  Test name: recommender_system_test\n",
    "-  Groups: А (control), B (new payment funnel)\n",
    "-  Launch date: 2020-12-07\n",
    "-  Date when they stopped taking up new users: 2020-12-21\n",
    "-  End date: 2021-01-01\n",
    "-  Audience: 15% of the new users from the EU region\n",
    "-  Expected result: within 14 days of signing up, users will show better conversion into product page views (the product_page event), instances of adding items to the shopping cart (product_cart), and purchases (purchase). At each stage of the funnel product_page → product_cart → purchase, there will be at least a 10% increase.\n",
    "-  Expected number of test participants: 6000\n",
    "\n",
    "# Description of the data:\n",
    "- ab_project_marketing_events_us.csv — the calendar of marketing events for 2020\n",
    "- final_ab_new_users_upd_us.csv — all users who signed up in the online store from December 7 to 21, 2020\n",
    "- final_ab_events_upd_us.csv — all events of the new users within the period from December 7, 2020 through January 1, 2021\n",
    "- final_ab_participants_upd_us.csv — table containing test participants\n",
    "- Structure of ab_project__marketing_events_us.csv:\n",
    "  -  name — the name of the marketing event\n",
    "  -  regions — regions where the ad campaign will be held\n",
    "  -  start_dt — campaign start date\n",
    "  -  finish_dt — campaign end date\n",
    "- Structure of final_ab_new_users_upd_us.csv:\n",
    "  -  user_id\n",
    "  -  first_date — sign-up date\n",
    "  -  region\n",
    "  -  device — device used to sign up\n",
    "- Structure of final_ab_events_upd_us.csv:\n",
    "  -  user_id\n",
    "  -  event_dt — event date and time\n",
    "  -  event_name — event type name\n",
    "  -  details — additional data on the event (for instance, the order total in USD for purchase events)\n",
    "- Structure of final_ab_participants_upd_us.csv:\n",
    "  -  user_id\n",
    "  -  ab_test — test name\n",
    "  -  group — the test group the user belonged to"
   ]
  },
  {
   "cell_type": "markdown",
   "metadata": {},
   "source": [
    "# Project Goal"
   ]
  },
  {
   "cell_type": "markdown",
   "metadata": {},
   "source": [
    "Testing changes related to the introduction of an improved recommendation system."
   ]
  },
  {
   "cell_type": "markdown",
   "metadata": {},
   "source": [
    "# Project Contents"
   ]
  },
  {
   "cell_type": "markdown",
   "metadata": {},
   "source": [
    "-  <a href='#the_destination1'>Downloading the data and preparing it for analysis</a>\n",
    "-  <a href='#the_destination2'>Carry out exploratory data analysis</a>\n",
    "-  <a href='#the_destination3'>Evaluate the A/B test results</a>\n",
    "-  <a href='#the_destination4'>Overall conclusion</a>"
   ]
  },
  {
   "cell_type": "markdown",
   "metadata": {},
   "source": [
    "<a id='the_destination1'></a>\n",
    "# Step 1. Downloading the data and preparing it for analysis"
   ]
  },
  {
   "cell_type": "markdown",
   "metadata": {},
   "source": [
    "**Importing the libraries:**"
   ]
  },
  {
   "cell_type": "code",
   "execution_count": 1,
   "metadata": {},
   "outputs": [],
   "source": [
    "import pandas as pd\n",
    "import numpy as np\n",
    "import matplotlib.pyplot as plt\n",
    "import datetime as dt\n",
    "import scipy.stats as st\n",
    "import math as mth"
   ]
  },
  {
   "cell_type": "markdown",
   "metadata": {},
   "source": [
    "**Information for the \"ab_project_marketing_events_us\" dataset:**"
   ]
  },
  {
   "cell_type": "code",
   "execution_count": 2,
   "metadata": {},
   "outputs": [
    {
     "name": "stdout",
     "output_type": "stream",
     "text": [
      "<class 'pandas.core.frame.DataFrame'>\n",
      "RangeIndex: 14 entries, 0 to 13\n",
      "Data columns (total 4 columns):\n",
      "name         14 non-null object\n",
      "regions      14 non-null object\n",
      "start_dt     14 non-null object\n",
      "finish_dt    14 non-null object\n",
      "dtypes: object(4)\n",
      "memory usage: 576.0+ bytes\n"
     ]
    },
    {
     "data": {
      "text/html": [
       "<div>\n",
       "<style scoped>\n",
       "    .dataframe tbody tr th:only-of-type {\n",
       "        vertical-align: middle;\n",
       "    }\n",
       "\n",
       "    .dataframe tbody tr th {\n",
       "        vertical-align: top;\n",
       "    }\n",
       "\n",
       "    .dataframe thead th {\n",
       "        text-align: right;\n",
       "    }\n",
       "</style>\n",
       "<table border=\"1\" class=\"dataframe\">\n",
       "  <thead>\n",
       "    <tr style=\"text-align: right;\">\n",
       "      <th></th>\n",
       "      <th>name</th>\n",
       "      <th>regions</th>\n",
       "      <th>start_dt</th>\n",
       "      <th>finish_dt</th>\n",
       "    </tr>\n",
       "  </thead>\n",
       "  <tbody>\n",
       "    <tr>\n",
       "      <td>0</td>\n",
       "      <td>Christmas&amp;New Year Promo</td>\n",
       "      <td>EU, N.America</td>\n",
       "      <td>2020-12-25</td>\n",
       "      <td>2021-01-03</td>\n",
       "    </tr>\n",
       "    <tr>\n",
       "      <td>1</td>\n",
       "      <td>St. Valentine's Day Giveaway</td>\n",
       "      <td>EU, CIS, APAC, N.America</td>\n",
       "      <td>2020-02-14</td>\n",
       "      <td>2020-02-16</td>\n",
       "    </tr>\n",
       "    <tr>\n",
       "      <td>2</td>\n",
       "      <td>St. Patric's Day Promo</td>\n",
       "      <td>EU, N.America</td>\n",
       "      <td>2020-03-17</td>\n",
       "      <td>2020-03-19</td>\n",
       "    </tr>\n",
       "    <tr>\n",
       "      <td>3</td>\n",
       "      <td>Easter Promo</td>\n",
       "      <td>EU, CIS, APAC, N.America</td>\n",
       "      <td>2020-04-12</td>\n",
       "      <td>2020-04-19</td>\n",
       "    </tr>\n",
       "    <tr>\n",
       "      <td>4</td>\n",
       "      <td>4th of July Promo</td>\n",
       "      <td>N.America</td>\n",
       "      <td>2020-07-04</td>\n",
       "      <td>2020-07-11</td>\n",
       "    </tr>\n",
       "    <tr>\n",
       "      <td>5</td>\n",
       "      <td>Black Friday Ads Campaign</td>\n",
       "      <td>EU, CIS, APAC, N.America</td>\n",
       "      <td>2020-11-26</td>\n",
       "      <td>2020-12-01</td>\n",
       "    </tr>\n",
       "    <tr>\n",
       "      <td>6</td>\n",
       "      <td>Chinese New Year Promo</td>\n",
       "      <td>APAC</td>\n",
       "      <td>2020-01-25</td>\n",
       "      <td>2020-02-07</td>\n",
       "    </tr>\n",
       "    <tr>\n",
       "      <td>7</td>\n",
       "      <td>Labor day (May 1st) Ads Campaign</td>\n",
       "      <td>EU, CIS, APAC</td>\n",
       "      <td>2020-05-01</td>\n",
       "      <td>2020-05-03</td>\n",
       "    </tr>\n",
       "    <tr>\n",
       "      <td>8</td>\n",
       "      <td>International Women's Day Promo</td>\n",
       "      <td>EU, CIS, APAC</td>\n",
       "      <td>2020-03-08</td>\n",
       "      <td>2020-03-10</td>\n",
       "    </tr>\n",
       "    <tr>\n",
       "      <td>9</td>\n",
       "      <td>Victory Day CIS (May 9th) Event</td>\n",
       "      <td>CIS</td>\n",
       "      <td>2020-05-09</td>\n",
       "      <td>2020-05-11</td>\n",
       "    </tr>\n",
       "    <tr>\n",
       "      <td>10</td>\n",
       "      <td>CIS New Year Gift Lottery</td>\n",
       "      <td>CIS</td>\n",
       "      <td>2020-12-30</td>\n",
       "      <td>2021-01-07</td>\n",
       "    </tr>\n",
       "    <tr>\n",
       "      <td>11</td>\n",
       "      <td>Dragon Boat Festival Giveaway</td>\n",
       "      <td>APAC</td>\n",
       "      <td>2020-06-25</td>\n",
       "      <td>2020-07-01</td>\n",
       "    </tr>\n",
       "    <tr>\n",
       "      <td>12</td>\n",
       "      <td>Single's Day Gift Promo</td>\n",
       "      <td>APAC</td>\n",
       "      <td>2020-11-11</td>\n",
       "      <td>2020-11-12</td>\n",
       "    </tr>\n",
       "    <tr>\n",
       "      <td>13</td>\n",
       "      <td>Chinese Moon Festival</td>\n",
       "      <td>APAC</td>\n",
       "      <td>2020-10-01</td>\n",
       "      <td>2020-10-07</td>\n",
       "    </tr>\n",
       "  </tbody>\n",
       "</table>\n",
       "</div>"
      ],
      "text/plain": [
       "                                name                   regions    start_dt  \\\n",
       "0           Christmas&New Year Promo             EU, N.America  2020-12-25   \n",
       "1       St. Valentine's Day Giveaway  EU, CIS, APAC, N.America  2020-02-14   \n",
       "2             St. Patric's Day Promo             EU, N.America  2020-03-17   \n",
       "3                       Easter Promo  EU, CIS, APAC, N.America  2020-04-12   \n",
       "4                  4th of July Promo                 N.America  2020-07-04   \n",
       "5          Black Friday Ads Campaign  EU, CIS, APAC, N.America  2020-11-26   \n",
       "6             Chinese New Year Promo                      APAC  2020-01-25   \n",
       "7   Labor day (May 1st) Ads Campaign             EU, CIS, APAC  2020-05-01   \n",
       "8    International Women's Day Promo             EU, CIS, APAC  2020-03-08   \n",
       "9    Victory Day CIS (May 9th) Event                       CIS  2020-05-09   \n",
       "10         CIS New Year Gift Lottery                       CIS  2020-12-30   \n",
       "11     Dragon Boat Festival Giveaway                      APAC  2020-06-25   \n",
       "12           Single's Day Gift Promo                      APAC  2020-11-11   \n",
       "13             Chinese Moon Festival                      APAC  2020-10-01   \n",
       "\n",
       "     finish_dt  \n",
       "0   2021-01-03  \n",
       "1   2020-02-16  \n",
       "2   2020-03-19  \n",
       "3   2020-04-19  \n",
       "4   2020-07-11  \n",
       "5   2020-12-01  \n",
       "6   2020-02-07  \n",
       "7   2020-05-03  \n",
       "8   2020-03-10  \n",
       "9   2020-05-11  \n",
       "10  2021-01-07  \n",
       "11  2020-07-01  \n",
       "12  2020-11-12  \n",
       "13  2020-10-07  "
      ]
     },
     "metadata": {},
     "output_type": "display_data"
    }
   ],
   "source": [
    "try:\n",
    "    ab_project_marketing_events_us = pd.read_csv('ab_project_marketing_events_us.csv')\n",
    "except:\n",
    "    ab_project_marketing_events_us = pd.read_csv('/datasets/ab_project_marketing_events_us.csv')\n",
    "ab_project_marketing_events_us.info()\n",
    "display(ab_project_marketing_events_us.head(14))"
   ]
  },
  {
   "cell_type": "markdown",
   "metadata": {},
   "source": [
    "In the \"ab_project_marketing_events_us\" dataset, there are 14 rows and 4 columns. Columns name are \"name\", \"regions\", \"start_dt\" and \"finsih_dt\"."
   ]
  },
  {
   "cell_type": "markdown",
   "metadata": {},
   "source": [
    "**Checking datatypes for the \"ab_project_marketing_events_us\" dataset:**"
   ]
  },
  {
   "cell_type": "code",
   "execution_count": 3,
   "metadata": {},
   "outputs": [
    {
     "data": {
      "text/plain": [
       "name         object\n",
       "regions      object\n",
       "start_dt     object\n",
       "finish_dt    object\n",
       "dtype: object"
      ]
     },
     "execution_count": 3,
     "metadata": {},
     "output_type": "execute_result"
    }
   ],
   "source": [
    "ab_project_marketing_events_us.dtypes"
   ]
  },
  {
   "cell_type": "markdown",
   "metadata": {},
   "source": [
    "In the \"ab_project_marketing_events_us\" dataset, all of the columns are object datatype."
   ]
  },
  {
   "cell_type": "markdown",
   "metadata": {},
   "source": [
    "**Converting \"start_dt\" and \"finish_dt\" columns from object to datetime type:**"
   ]
  },
  {
   "cell_type": "code",
   "execution_count": 4,
   "metadata": {},
   "outputs": [
    {
     "name": "stdout",
     "output_type": "stream",
     "text": [
      "<class 'pandas.core.frame.DataFrame'>\n",
      "RangeIndex: 14 entries, 0 to 13\n",
      "Data columns (total 4 columns):\n",
      "name         14 non-null object\n",
      "regions      14 non-null object\n",
      "start_dt     14 non-null datetime64[ns]\n",
      "finish_dt    14 non-null datetime64[ns]\n",
      "dtypes: datetime64[ns](2), object(2)\n",
      "memory usage: 576.0+ bytes\n"
     ]
    }
   ],
   "source": [
    "ab_project_marketing_events_us['start_dt'] = pd.to_datetime(ab_project_marketing_events_us['start_dt'], format = '%Y-%m-%d')\n",
    "ab_project_marketing_events_us['finish_dt'] = pd.to_datetime(ab_project_marketing_events_us['finish_dt'], format = '%Y-%m-%d')\n",
    "ab_project_marketing_events_us.info()"
   ]
  },
  {
   "cell_type": "markdown",
   "metadata": {},
   "source": [
    "I converted \"start_dt\" and \"finish_dt\" columns from object to datetime type."
   ]
  },
  {
   "cell_type": "markdown",
   "metadata": {},
   "source": [
    "**Checking missing values in the \"ab_project_marketing_events_us\" dataset:**"
   ]
  },
  {
   "cell_type": "code",
   "execution_count": 5,
   "metadata": {},
   "outputs": [
    {
     "data": {
      "text/plain": [
       "name         0\n",
       "regions      0\n",
       "start_dt     0\n",
       "finish_dt    0\n",
       "dtype: int64"
      ]
     },
     "execution_count": 5,
     "metadata": {},
     "output_type": "execute_result"
    }
   ],
   "source": [
    "ab_project_marketing_events_us.isnull().sum()"
   ]
  },
  {
   "cell_type": "markdown",
   "metadata": {},
   "source": [
    "There is no missing values in the \"ab_project_marketing_events_us\" dataset."
   ]
  },
  {
   "cell_type": "markdown",
   "metadata": {},
   "source": [
    "**Checking duplicate values in the \"ab_project_marketing_events_us\" dataset:**"
   ]
  },
  {
   "cell_type": "code",
   "execution_count": 6,
   "metadata": {},
   "outputs": [
    {
     "data": {
      "text/plain": [
       "0"
      ]
     },
     "execution_count": 6,
     "metadata": {},
     "output_type": "execute_result"
    }
   ],
   "source": [
    "ab_project_marketing_events_us.duplicated().sum()"
   ]
  },
  {
   "cell_type": "markdown",
   "metadata": {},
   "source": [
    "There is no duplicate values in the \"ab_project_marketing_events_us\" dataset."
   ]
  },
  {
   "cell_type": "markdown",
   "metadata": {},
   "source": [
    "**Information for the \"final_ab_new_users_upd_us\" dataset:**"
   ]
  },
  {
   "cell_type": "code",
   "execution_count": 7,
   "metadata": {},
   "outputs": [
    {
     "name": "stdout",
     "output_type": "stream",
     "text": [
      "<class 'pandas.core.frame.DataFrame'>\n",
      "RangeIndex: 58703 entries, 0 to 58702\n",
      "Data columns (total 4 columns):\n",
      "user_id       58703 non-null object\n",
      "first_date    58703 non-null object\n",
      "region        58703 non-null object\n",
      "device        58703 non-null object\n",
      "dtypes: object(4)\n",
      "memory usage: 1.8+ MB\n"
     ]
    },
    {
     "data": {
      "text/html": [
       "<div>\n",
       "<style scoped>\n",
       "    .dataframe tbody tr th:only-of-type {\n",
       "        vertical-align: middle;\n",
       "    }\n",
       "\n",
       "    .dataframe tbody tr th {\n",
       "        vertical-align: top;\n",
       "    }\n",
       "\n",
       "    .dataframe thead th {\n",
       "        text-align: right;\n",
       "    }\n",
       "</style>\n",
       "<table border=\"1\" class=\"dataframe\">\n",
       "  <thead>\n",
       "    <tr style=\"text-align: right;\">\n",
       "      <th></th>\n",
       "      <th>user_id</th>\n",
       "      <th>first_date</th>\n",
       "      <th>region</th>\n",
       "      <th>device</th>\n",
       "    </tr>\n",
       "  </thead>\n",
       "  <tbody>\n",
       "    <tr>\n",
       "      <td>0</td>\n",
       "      <td>D72A72121175D8BE</td>\n",
       "      <td>2020-12-07</td>\n",
       "      <td>EU</td>\n",
       "      <td>PC</td>\n",
       "    </tr>\n",
       "    <tr>\n",
       "      <td>1</td>\n",
       "      <td>F1C668619DFE6E65</td>\n",
       "      <td>2020-12-07</td>\n",
       "      <td>N.America</td>\n",
       "      <td>Android</td>\n",
       "    </tr>\n",
       "    <tr>\n",
       "      <td>2</td>\n",
       "      <td>2E1BF1D4C37EA01F</td>\n",
       "      <td>2020-12-07</td>\n",
       "      <td>EU</td>\n",
       "      <td>PC</td>\n",
       "    </tr>\n",
       "    <tr>\n",
       "      <td>3</td>\n",
       "      <td>50734A22C0C63768</td>\n",
       "      <td>2020-12-07</td>\n",
       "      <td>EU</td>\n",
       "      <td>iPhone</td>\n",
       "    </tr>\n",
       "    <tr>\n",
       "      <td>4</td>\n",
       "      <td>E1BDDCE0DAFA2679</td>\n",
       "      <td>2020-12-07</td>\n",
       "      <td>N.America</td>\n",
       "      <td>iPhone</td>\n",
       "    </tr>\n",
       "  </tbody>\n",
       "</table>\n",
       "</div>"
      ],
      "text/plain": [
       "            user_id  first_date     region   device\n",
       "0  D72A72121175D8BE  2020-12-07         EU       PC\n",
       "1  F1C668619DFE6E65  2020-12-07  N.America  Android\n",
       "2  2E1BF1D4C37EA01F  2020-12-07         EU       PC\n",
       "3  50734A22C0C63768  2020-12-07         EU   iPhone\n",
       "4  E1BDDCE0DAFA2679  2020-12-07  N.America   iPhone"
      ]
     },
     "metadata": {},
     "output_type": "display_data"
    }
   ],
   "source": [
    "try:\n",
    "    final_ab_new_users_upd_us = pd.read_csv(\"final_ab_new_users_upd_us.csv\")\n",
    "except:\n",
    "    final_ab_new_users_upd_us = pd.read_csv(\"/datasets/final_ab_new_users_upd_us.csv\")\n",
    "final_ab_new_users_upd_us.info()\n",
    "display(final_ab_new_users_upd_us.head())"
   ]
  },
  {
   "cell_type": "markdown",
   "metadata": {},
   "source": [
    "In the \"final_ab_new_users_upd_us\" dataset, there are 58703 rows and 3 columns. Columns name are \"user_id\", \"first_date\", \"region\" and \"device\"."
   ]
  },
  {
   "cell_type": "markdown",
   "metadata": {},
   "source": [
    "**Checking datatypes for the \"final_ab_new_users_upd_us\" dataset:**"
   ]
  },
  {
   "cell_type": "code",
   "execution_count": 8,
   "metadata": {},
   "outputs": [
    {
     "data": {
      "text/plain": [
       "user_id       object\n",
       "first_date    object\n",
       "region        object\n",
       "device        object\n",
       "dtype: object"
      ]
     },
     "execution_count": 8,
     "metadata": {},
     "output_type": "execute_result"
    }
   ],
   "source": [
    "final_ab_new_users_upd_us.dtypes"
   ]
  },
  {
   "cell_type": "markdown",
   "metadata": {},
   "source": [
    "In the \"final_ab_new_users_upd_us\" dataset, all of the columns are object data type."
   ]
  },
  {
   "cell_type": "markdown",
   "metadata": {},
   "source": [
    "**Converting \"first_date\" column from object to datetime type:**"
   ]
  },
  {
   "cell_type": "code",
   "execution_count": 9,
   "metadata": {},
   "outputs": [
    {
     "name": "stdout",
     "output_type": "stream",
     "text": [
      "<class 'pandas.core.frame.DataFrame'>\n",
      "RangeIndex: 58703 entries, 0 to 58702\n",
      "Data columns (total 4 columns):\n",
      "user_id       58703 non-null object\n",
      "first_date    58703 non-null datetime64[ns]\n",
      "region        58703 non-null object\n",
      "device        58703 non-null object\n",
      "dtypes: datetime64[ns](1), object(3)\n",
      "memory usage: 1.8+ MB\n"
     ]
    },
    {
     "data": {
      "text/html": [
       "<div>\n",
       "<style scoped>\n",
       "    .dataframe tbody tr th:only-of-type {\n",
       "        vertical-align: middle;\n",
       "    }\n",
       "\n",
       "    .dataframe tbody tr th {\n",
       "        vertical-align: top;\n",
       "    }\n",
       "\n",
       "    .dataframe thead th {\n",
       "        text-align: right;\n",
       "    }\n",
       "</style>\n",
       "<table border=\"1\" class=\"dataframe\">\n",
       "  <thead>\n",
       "    <tr style=\"text-align: right;\">\n",
       "      <th></th>\n",
       "      <th>user_id</th>\n",
       "      <th>first_date</th>\n",
       "      <th>region</th>\n",
       "      <th>device</th>\n",
       "    </tr>\n",
       "  </thead>\n",
       "  <tbody>\n",
       "    <tr>\n",
       "      <td>0</td>\n",
       "      <td>D72A72121175D8BE</td>\n",
       "      <td>2020-12-07</td>\n",
       "      <td>EU</td>\n",
       "      <td>PC</td>\n",
       "    </tr>\n",
       "    <tr>\n",
       "      <td>1</td>\n",
       "      <td>F1C668619DFE6E65</td>\n",
       "      <td>2020-12-07</td>\n",
       "      <td>N.America</td>\n",
       "      <td>Android</td>\n",
       "    </tr>\n",
       "    <tr>\n",
       "      <td>2</td>\n",
       "      <td>2E1BF1D4C37EA01F</td>\n",
       "      <td>2020-12-07</td>\n",
       "      <td>EU</td>\n",
       "      <td>PC</td>\n",
       "    </tr>\n",
       "    <tr>\n",
       "      <td>3</td>\n",
       "      <td>50734A22C0C63768</td>\n",
       "      <td>2020-12-07</td>\n",
       "      <td>EU</td>\n",
       "      <td>iPhone</td>\n",
       "    </tr>\n",
       "    <tr>\n",
       "      <td>4</td>\n",
       "      <td>E1BDDCE0DAFA2679</td>\n",
       "      <td>2020-12-07</td>\n",
       "      <td>N.America</td>\n",
       "      <td>iPhone</td>\n",
       "    </tr>\n",
       "  </tbody>\n",
       "</table>\n",
       "</div>"
      ],
      "text/plain": [
       "            user_id first_date     region   device\n",
       "0  D72A72121175D8BE 2020-12-07         EU       PC\n",
       "1  F1C668619DFE6E65 2020-12-07  N.America  Android\n",
       "2  2E1BF1D4C37EA01F 2020-12-07         EU       PC\n",
       "3  50734A22C0C63768 2020-12-07         EU   iPhone\n",
       "4  E1BDDCE0DAFA2679 2020-12-07  N.America   iPhone"
      ]
     },
     "metadata": {},
     "output_type": "display_data"
    }
   ],
   "source": [
    "final_ab_new_users_upd_us['first_date'] = pd.to_datetime(final_ab_new_users_upd_us['first_date'], format = '%Y-%m-%d')\n",
    "final_ab_new_users_upd_us.info()\n",
    "display(final_ab_new_users_upd_us.head())"
   ]
  },
  {
   "cell_type": "markdown",
   "metadata": {},
   "source": [
    "In the \"final_ab_new_users_upd_us\" dataset, I converted \"first_date\" column from object to datetime type."
   ]
  },
  {
   "cell_type": "markdown",
   "metadata": {},
   "source": [
    "**Checking missing values in the \"final_ab_new_users_upd_us\" dataset:**"
   ]
  },
  {
   "cell_type": "code",
   "execution_count": 10,
   "metadata": {},
   "outputs": [
    {
     "data": {
      "text/plain": [
       "user_id       0\n",
       "first_date    0\n",
       "region        0\n",
       "device        0\n",
       "dtype: int64"
      ]
     },
     "execution_count": 10,
     "metadata": {},
     "output_type": "execute_result"
    }
   ],
   "source": [
    "final_ab_new_users_upd_us.isnull().sum()"
   ]
  },
  {
   "cell_type": "markdown",
   "metadata": {},
   "source": [
    "There is no missing values in the \"final_ab_new_users_upd_us\" dataset."
   ]
  },
  {
   "cell_type": "markdown",
   "metadata": {},
   "source": [
    "**Checking duplicate values in the \"final_ab_new_users_upd_us\" dataset:**"
   ]
  },
  {
   "cell_type": "code",
   "execution_count": 11,
   "metadata": {},
   "outputs": [
    {
     "data": {
      "text/plain": [
       "0"
      ]
     },
     "execution_count": 11,
     "metadata": {},
     "output_type": "execute_result"
    }
   ],
   "source": [
    "final_ab_new_users_upd_us.duplicated().sum()"
   ]
  },
  {
   "cell_type": "markdown",
   "metadata": {},
   "source": [
    "There is no duplicate values in the \"final_ab_new_users_upd_us\" dataset."
   ]
  },
  {
   "cell_type": "markdown",
   "metadata": {},
   "source": [
    "**Information for the \"final_ab_events_upd_us\" dataset:**"
   ]
  },
  {
   "cell_type": "code",
   "execution_count": 12,
   "metadata": {},
   "outputs": [
    {
     "name": "stdout",
     "output_type": "stream",
     "text": [
      "<class 'pandas.core.frame.DataFrame'>\n",
      "RangeIndex: 423761 entries, 0 to 423760\n",
      "Data columns (total 4 columns):\n",
      "user_id       423761 non-null object\n",
      "event_dt      423761 non-null object\n",
      "event_name    423761 non-null object\n",
      "details       60314 non-null float64\n",
      "dtypes: float64(1), object(3)\n",
      "memory usage: 12.9+ MB\n"
     ]
    },
    {
     "data": {
      "text/html": [
       "<div>\n",
       "<style scoped>\n",
       "    .dataframe tbody tr th:only-of-type {\n",
       "        vertical-align: middle;\n",
       "    }\n",
       "\n",
       "    .dataframe tbody tr th {\n",
       "        vertical-align: top;\n",
       "    }\n",
       "\n",
       "    .dataframe thead th {\n",
       "        text-align: right;\n",
       "    }\n",
       "</style>\n",
       "<table border=\"1\" class=\"dataframe\">\n",
       "  <thead>\n",
       "    <tr style=\"text-align: right;\">\n",
       "      <th></th>\n",
       "      <th>user_id</th>\n",
       "      <th>event_dt</th>\n",
       "      <th>event_name</th>\n",
       "      <th>details</th>\n",
       "    </tr>\n",
       "  </thead>\n",
       "  <tbody>\n",
       "    <tr>\n",
       "      <td>0</td>\n",
       "      <td>E1BDDCE0DAFA2679</td>\n",
       "      <td>2020-12-07 20:22:03</td>\n",
       "      <td>purchase</td>\n",
       "      <td>99.99</td>\n",
       "    </tr>\n",
       "    <tr>\n",
       "      <td>1</td>\n",
       "      <td>7B6452F081F49504</td>\n",
       "      <td>2020-12-07 09:22:53</td>\n",
       "      <td>purchase</td>\n",
       "      <td>9.99</td>\n",
       "    </tr>\n",
       "    <tr>\n",
       "      <td>2</td>\n",
       "      <td>9CD9F34546DF254C</td>\n",
       "      <td>2020-12-07 12:59:29</td>\n",
       "      <td>purchase</td>\n",
       "      <td>4.99</td>\n",
       "    </tr>\n",
       "    <tr>\n",
       "      <td>3</td>\n",
       "      <td>96F27A054B191457</td>\n",
       "      <td>2020-12-07 04:02:40</td>\n",
       "      <td>purchase</td>\n",
       "      <td>4.99</td>\n",
       "    </tr>\n",
       "    <tr>\n",
       "      <td>4</td>\n",
       "      <td>1FD7660FDF94CA1F</td>\n",
       "      <td>2020-12-07 10:15:09</td>\n",
       "      <td>purchase</td>\n",
       "      <td>4.99</td>\n",
       "    </tr>\n",
       "  </tbody>\n",
       "</table>\n",
       "</div>"
      ],
      "text/plain": [
       "            user_id             event_dt event_name  details\n",
       "0  E1BDDCE0DAFA2679  2020-12-07 20:22:03   purchase    99.99\n",
       "1  7B6452F081F49504  2020-12-07 09:22:53   purchase     9.99\n",
       "2  9CD9F34546DF254C  2020-12-07 12:59:29   purchase     4.99\n",
       "3  96F27A054B191457  2020-12-07 04:02:40   purchase     4.99\n",
       "4  1FD7660FDF94CA1F  2020-12-07 10:15:09   purchase     4.99"
      ]
     },
     "metadata": {},
     "output_type": "display_data"
    }
   ],
   "source": [
    "try:\n",
    "    final_ab_events_upd_us = pd.read_csv('final_ab_events_upd_us.csv')\n",
    "except:\n",
    "    final_ab_events_upd_us = pd.read_csv('/datasets/final_ab_events_upd_us.csv')\n",
    "final_ab_events_upd_us.info()\n",
    "display(final_ab_events_upd_us.head())"
   ]
  },
  {
   "cell_type": "markdown",
   "metadata": {},
   "source": [
    "In the \"final_ab_events_upd_us\" dataset, there are 423761 rows and 4 columns. Columns name are \"user_id\", \"event_dt\", \"event_name\" and \"details\"."
   ]
  },
  {
   "cell_type": "markdown",
   "metadata": {},
   "source": [
    "**Checking datatypes in the \"final_ab_events_upd_us\" dataset:**"
   ]
  },
  {
   "cell_type": "code",
   "execution_count": 13,
   "metadata": {},
   "outputs": [
    {
     "data": {
      "text/plain": [
       "user_id        object\n",
       "event_dt       object\n",
       "event_name     object\n",
       "details       float64\n",
       "dtype: object"
      ]
     },
     "execution_count": 13,
     "metadata": {},
     "output_type": "execute_result"
    }
   ],
   "source": [
    "final_ab_events_upd_us.dtypes"
   ]
  },
  {
   "cell_type": "markdown",
   "metadata": {},
   "source": [
    "In the \"final_ab_events_upd_us\" dataset, \"user_id\", \"event_dt\", \"event_name\" columns are object datatype and \"details\" column is float datatype. "
   ]
  },
  {
   "cell_type": "markdown",
   "metadata": {},
   "source": [
    "**Converting \"event_dt\" column from object to datetime type:**"
   ]
  },
  {
   "cell_type": "code",
   "execution_count": 14,
   "metadata": {},
   "outputs": [
    {
     "data": {
      "text/plain": [
       "user_id               object\n",
       "event_dt      datetime64[ns]\n",
       "event_name            object\n",
       "details              float64\n",
       "dtype: object"
      ]
     },
     "execution_count": 14,
     "metadata": {},
     "output_type": "execute_result"
    }
   ],
   "source": [
    "final_ab_events_upd_us['event_dt'] = pd.to_datetime(final_ab_events_upd_us['event_dt'], format ='%Y-%m-%d %H:%M:%S')\n",
    "final_ab_events_upd_us.dtypes"
   ]
  },
  {
   "cell_type": "markdown",
   "metadata": {},
   "source": [
    "I converted \"event_dt\" column from object to datetime type."
   ]
  },
  {
   "cell_type": "markdown",
   "metadata": {},
   "source": [
    "**Checking missing values in the \"final_ab_events_upd_us\" dataset:**"
   ]
  },
  {
   "cell_type": "code",
   "execution_count": 15,
   "metadata": {},
   "outputs": [
    {
     "data": {
      "text/plain": [
       "user_id            0\n",
       "event_dt           0\n",
       "event_name         0\n",
       "details       363447\n",
       "dtype: int64"
      ]
     },
     "execution_count": 15,
     "metadata": {},
     "output_type": "execute_result"
    }
   ],
   "source": [
    "final_ab_events_upd_us.isnull().sum()"
   ]
  },
  {
   "cell_type": "markdown",
   "metadata": {},
   "source": [
    "In the \"final_ab_events_upd_us\" dataset, \"details\" column has 363447 missing values but according to the description of the project those are non-purchase events."
   ]
  },
  {
   "cell_type": "markdown",
   "metadata": {},
   "source": [
    "**Checking duplicate values in the \"final_ab_events_upd_us\" dataset:**"
   ]
  },
  {
   "cell_type": "code",
   "execution_count": 16,
   "metadata": {},
   "outputs": [
    {
     "data": {
      "text/plain": [
       "0"
      ]
     },
     "execution_count": 16,
     "metadata": {},
     "output_type": "execute_result"
    }
   ],
   "source": [
    "final_ab_events_upd_us.duplicated().sum()"
   ]
  },
  {
   "cell_type": "markdown",
   "metadata": {},
   "source": [
    "In the \"final_ab_events_upd_us\" dataset, there is no duplicate values."
   ]
  },
  {
   "cell_type": "markdown",
   "metadata": {},
   "source": [
    "**Information for \"final_ab_participants_upd_us\" dataset:**"
   ]
  },
  {
   "cell_type": "code",
   "execution_count": 17,
   "metadata": {},
   "outputs": [
    {
     "name": "stdout",
     "output_type": "stream",
     "text": [
      "<class 'pandas.core.frame.DataFrame'>\n",
      "RangeIndex: 14525 entries, 0 to 14524\n",
      "Data columns (total 3 columns):\n",
      "user_id    14525 non-null object\n",
      "group      14525 non-null object\n",
      "ab_test    14525 non-null object\n",
      "dtypes: object(3)\n",
      "memory usage: 340.6+ KB\n"
     ]
    },
    {
     "data": {
      "text/html": [
       "<div>\n",
       "<style scoped>\n",
       "    .dataframe tbody tr th:only-of-type {\n",
       "        vertical-align: middle;\n",
       "    }\n",
       "\n",
       "    .dataframe tbody tr th {\n",
       "        vertical-align: top;\n",
       "    }\n",
       "\n",
       "    .dataframe thead th {\n",
       "        text-align: right;\n",
       "    }\n",
       "</style>\n",
       "<table border=\"1\" class=\"dataframe\">\n",
       "  <thead>\n",
       "    <tr style=\"text-align: right;\">\n",
       "      <th></th>\n",
       "      <th>user_id</th>\n",
       "      <th>group</th>\n",
       "      <th>ab_test</th>\n",
       "    </tr>\n",
       "  </thead>\n",
       "  <tbody>\n",
       "    <tr>\n",
       "      <td>0</td>\n",
       "      <td>D1ABA3E2887B6A73</td>\n",
       "      <td>A</td>\n",
       "      <td>recommender_system_test</td>\n",
       "    </tr>\n",
       "    <tr>\n",
       "      <td>1</td>\n",
       "      <td>A7A3664BD6242119</td>\n",
       "      <td>A</td>\n",
       "      <td>recommender_system_test</td>\n",
       "    </tr>\n",
       "    <tr>\n",
       "      <td>2</td>\n",
       "      <td>DABC14FDDFADD29E</td>\n",
       "      <td>A</td>\n",
       "      <td>recommender_system_test</td>\n",
       "    </tr>\n",
       "    <tr>\n",
       "      <td>3</td>\n",
       "      <td>04988C5DF189632E</td>\n",
       "      <td>A</td>\n",
       "      <td>recommender_system_test</td>\n",
       "    </tr>\n",
       "    <tr>\n",
       "      <td>4</td>\n",
       "      <td>4FF2998A348C484F</td>\n",
       "      <td>A</td>\n",
       "      <td>recommender_system_test</td>\n",
       "    </tr>\n",
       "  </tbody>\n",
       "</table>\n",
       "</div>"
      ],
      "text/plain": [
       "            user_id group                  ab_test\n",
       "0  D1ABA3E2887B6A73     A  recommender_system_test\n",
       "1  A7A3664BD6242119     A  recommender_system_test\n",
       "2  DABC14FDDFADD29E     A  recommender_system_test\n",
       "3  04988C5DF189632E     A  recommender_system_test\n",
       "4  4FF2998A348C484F     A  recommender_system_test"
      ]
     },
     "metadata": {},
     "output_type": "display_data"
    }
   ],
   "source": [
    "try:\n",
    "    final_ab_participants_upd_us = pd.read_csv('final_ab_participants_upd_us.csv')\n",
    "except:\n",
    "    final_ab_participants_upd_us = pd.read_csv('/datasets/final_ab_participants_upd_us.csv')\n",
    "final_ab_participants_upd_us.info()\n",
    "display(final_ab_participants_upd_us.head())"
   ]
  },
  {
   "cell_type": "markdown",
   "metadata": {},
   "source": [
    "In the \"final_ab_participants_upd_us\" dataset, there are 14525 rows and 3 columns. Columns name are \"user_id\", \"group\" and \"ab_test\"."
   ]
  },
  {
   "cell_type": "markdown",
   "metadata": {},
   "source": [
    "**Checking datatypes in the \"final_ab_participants_upd_us\" dataset:**"
   ]
  },
  {
   "cell_type": "code",
   "execution_count": 18,
   "metadata": {},
   "outputs": [
    {
     "data": {
      "text/plain": [
       "user_id    object\n",
       "group      object\n",
       "ab_test    object\n",
       "dtype: object"
      ]
     },
     "execution_count": 18,
     "metadata": {},
     "output_type": "execute_result"
    }
   ],
   "source": [
    "final_ab_participants_upd_us.dtypes"
   ]
  },
  {
   "cell_type": "markdown",
   "metadata": {},
   "source": [
    "In the \"final_ab_participants_upd_us\" dataset, all of the columns are obejct type."
   ]
  },
  {
   "cell_type": "markdown",
   "metadata": {},
   "source": [
    "**Checking missing values in the \"final_ab_participants_upd_us\" dataset:**"
   ]
  },
  {
   "cell_type": "code",
   "execution_count": 19,
   "metadata": {},
   "outputs": [
    {
     "data": {
      "text/plain": [
       "user_id    0\n",
       "group      0\n",
       "ab_test    0\n",
       "dtype: int64"
      ]
     },
     "execution_count": 19,
     "metadata": {},
     "output_type": "execute_result"
    }
   ],
   "source": [
    "final_ab_participants_upd_us.isnull().sum()"
   ]
  },
  {
   "cell_type": "markdown",
   "metadata": {},
   "source": [
    "In the \"final_ab_participants_upd_us\" dataset, there is no missing values."
   ]
  },
  {
   "cell_type": "markdown",
   "metadata": {},
   "source": [
    "**Checking duplicate values in the \"final_ab_participants_upd_us\" dataset:**"
   ]
  },
  {
   "cell_type": "code",
   "execution_count": 20,
   "metadata": {},
   "outputs": [
    {
     "data": {
      "text/plain": [
       "0"
      ]
     },
     "execution_count": 20,
     "metadata": {},
     "output_type": "execute_result"
    }
   ],
   "source": [
    "final_ab_participants_upd_us.duplicated().sum()"
   ]
  },
  {
   "cell_type": "markdown",
   "metadata": {},
   "source": [
    "In the \"final_ab_participants_upd_us\" dataset, there is no duplicate values."
   ]
  },
  {
   "cell_type": "markdown",
   "metadata": {},
   "source": [
    "- From \"ab_project_marketing_events_us\" dataset we get,\n",
    "  -  In the \"ab_project_marketing_events_us\" dataset, there are 14 rows and 4 columns. Columns name are \"name\", \"regions\", \"start_dt\" and \"finsih_dt\".\n",
    "  -  In the \"ab_project_marketing_events_us\" dataset, all of the columns are object datatype.\n",
    "  -  I converted \"start_dt\" and \"finish_dt\" columns from object to datetime type.\n",
    "  -  There is no missing values in the \"ab_project_marketing_events_us\" dataset.\n",
    "  -  There is no duplicate values in the \"ab_project_marketing_events_us\" dataset.\n",
    "- From the \"final_ab_new_users_upd_us\" dataset:\n",
    "  -  In the \"final_ab_new_users_upd_us\" dataset, there are 58703 rows and 3 columns. Columns name are \"user_id\", \"first_date\", \"region\" and \"device\".\n",
    "  -  In the \"final_ab_new_users_upd_us\" dataset, all of the columns are object data type.\n",
    "  -  In the \"final_ab_new_users_upd_us\" dataset, I converted \"first_date\" column from object to datetime type.\n",
    "  -  There is no missing values in the \"final_ab_new_users_upd_us\" dataset.\n",
    "  -  There is no duplicate values in the \"final_ab_new_users_upd_us\" dataset.\n",
    "-  From \"final_ab_events_upd_us\" dataset\n",
    "   -  In the \"final_ab_events_upd_us\" dataset, there are 423761 rows and 4 columns. Columns name are \"user_id\", \"event_dt\", \"event_name\" and \"details\".\n",
    "   -  In the \"final_ab_events_upd_us\" dataset, \"user_id\", \"event_dt\", \"event_name\" columns are object datatype and \"details\" column is float datatype. \n",
    "   -  I converted \"event_dt\" column from object to datetime type.\n",
    "   -  In the \"final_ab_events_upd_us\" dataset, \"details\" column has 363447 missing values but according to the description of the project those are non-purchase events.\n",
    "   -  In the \"final_ab_events_upd_us\" dataset, there is no duplicate values.\n",
    "- From \"final_ab_participants_upd_us\" dataset,\n",
    "   -  In the \"final_ab_participants_upd_us\" dataset, there are 14525 rows and 3 columns. Columns name are \"user_id\", \"group\" and \"ab_test\".\n",
    "   -  In the \"final_ab_participants_upd_us\" dataset, all of the columns are obejct type.\n",
    "   -  In the \"final_ab_participants_upd_us\" dataset, there is no missing values.\n",
    "   -  In the \"final_ab_participants_upd_us\" dataset, there is no duplicate values."
   ]
  },
  {
   "cell_type": "markdown",
   "metadata": {},
   "source": [
    "****"
   ]
  },
  {
   "cell_type": "markdown",
   "metadata": {},
   "source": [
    "<a id='the_destination2'></a>\n",
    "# Step 2. Carry out exploratory data analysis"
   ]
  },
  {
   "cell_type": "markdown",
   "metadata": {},
   "source": [
    "**Determining \"ab_project_marketing_events_us\" dataset starting and finishing date duration:**"
   ]
  },
  {
   "cell_type": "code",
   "execution_count": 21,
   "metadata": {},
   "outputs": [
    {
     "name": "stdout",
     "output_type": "stream",
     "text": [
      "ab project marketing events earliest start date 2020-01-25 00:00:00\n",
      "ab project marketing events latest start date 2020-12-30 00:00:00\n",
      "ab project marketing events earliest finishing date 2020-02-07 00:00:00\n",
      "ab project marketing events latest finishing date 2021-01-07 00:00:00\n"
     ]
    }
   ],
   "source": [
    "print(\"ab project marketing events earliest start date\", ab_project_marketing_events_us['start_dt'].min())\n",
    "print(\"ab project marketing events latest start date\", ab_project_marketing_events_us['start_dt'].max())\n",
    "print(\"ab project marketing events earliest finishing date\", ab_project_marketing_events_us['finish_dt'].min())\n",
    "print(\"ab project marketing events latest finishing date\", ab_project_marketing_events_us['finish_dt'].max())"
   ]
  },
  {
   "cell_type": "markdown",
   "metadata": {},
   "source": [
    "ab project marketing events earliest start date \"2020-01-25 00:00:00\" and latest start date \"2020-12-30 00:00:00\". On the other hand, ab project marketing events earliest finishing date \"2020-02-07 00:00:00\" and \"2021-01-07 00:00:00\"."
   ]
  },
  {
   "cell_type": "markdown",
   "metadata": {},
   "source": [
    "**Checking \"final_ab_new_users_upd_us\" dataset earliest and lastest first date:**"
   ]
  },
  {
   "cell_type": "code",
   "execution_count": 22,
   "metadata": {},
   "outputs": [
    {
     "name": "stdout",
     "output_type": "stream",
     "text": [
      "final ab new users earliest first date 2020-12-07 00:00:00\n",
      "final ab new users latest first date 2020-12-23 00:00:00\n"
     ]
    }
   ],
   "source": [
    "print(\"final ab new users earliest first date\", final_ab_new_users_upd_us['first_date'].min())\n",
    "print(\"final ab new users latest first date\", final_ab_new_users_upd_us['first_date'].max())"
   ]
  },
  {
   "cell_type": "markdown",
   "metadata": {},
   "source": [
    "Final ab new users earliest first date \"2020-12-07 00:00:00\" and latest first date \"2020-12-23 00:00:00\" but according to the technical description of the project we stopped taking new users after \"2020-12-21\". So we would filer our dataset later."
   ]
  },
  {
   "cell_type": "markdown",
   "metadata": {},
   "source": [
    "**Checking the range for \"final_ab_events_upd_us\" dataset \"event date\" column:**"
   ]
  },
  {
   "cell_type": "code",
   "execution_count": 23,
   "metadata": {},
   "outputs": [
    {
     "name": "stdout",
     "output_type": "stream",
     "text": [
      "final ab events earliest event date 2020-12-07 00:00:33\n",
      "final ab events latest event date 2020-12-30 23:36:33\n"
     ]
    }
   ],
   "source": [
    "print(\"final ab events earliest event date\", final_ab_events_upd_us['event_dt'].min())\n",
    "print(\"final ab events latest event date\", final_ab_events_upd_us['event_dt'].max())"
   ]
  },
  {
   "cell_type": "markdown",
   "metadata": {},
   "source": [
    "final ab events earliest event date \"2020-12-07 00:00:33\" and latest event date \"2020-12-30 23:36:33\"."
   ]
  },
  {
   "cell_type": "markdown",
   "metadata": {},
   "source": [
    "**Checking the percentage of new users in the EU region:**"
   ]
  },
  {
   "cell_type": "code",
   "execution_count": 24,
   "metadata": {},
   "outputs": [
    {
     "name": "stdout",
     "output_type": "stream",
     "text": [
      "Number of new users in the EU region is: 43396\n",
      "percentage_of_new_users_in_EU_region is: 73.9246716522154\n"
     ]
    }
   ],
   "source": [
    "EU_region_final_ab_new_users_upd_us = final_ab_new_users_upd_us.loc[final_ab_new_users_upd_us['region'] == 'EU']\n",
    "print(\"Number of new users in the EU region is:\", len(EU_region_final_ab_new_users_upd_us))\n",
    "percentage_of_new_users_in_EU_region = (len(EU_region_final_ab_new_users_upd_us)) / (len(final_ab_new_users_upd_us))*100\n",
    "print(\"percentage_of_new_users_in_EU_region is:\", percentage_of_new_users_in_EU_region)"
   ]
  },
  {
   "cell_type": "markdown",
   "metadata": {},
   "source": [
    "Number of new users in the EU region is 43396. According to the technical description of the project the percentage of new users in the EU region is 15% but in reality the percentage of new users in EU region is 73.93%."
   ]
  },
  {
   "cell_type": "markdown",
   "metadata": {},
   "source": [
    "**Selecting only \"recommender_system_test\" user in the \"final_ab_participants_upd_us\" dataset:**"
   ]
  },
  {
   "cell_type": "code",
   "execution_count": 25,
   "metadata": {},
   "outputs": [
    {
     "data": {
      "text/html": [
       "<div>\n",
       "<style scoped>\n",
       "    .dataframe tbody tr th:only-of-type {\n",
       "        vertical-align: middle;\n",
       "    }\n",
       "\n",
       "    .dataframe tbody tr th {\n",
       "        vertical-align: top;\n",
       "    }\n",
       "\n",
       "    .dataframe thead th {\n",
       "        text-align: right;\n",
       "    }\n",
       "</style>\n",
       "<table border=\"1\" class=\"dataframe\">\n",
       "  <thead>\n",
       "    <tr style=\"text-align: right;\">\n",
       "      <th></th>\n",
       "      <th>user_id</th>\n",
       "      <th>group</th>\n",
       "      <th>ab_test</th>\n",
       "    </tr>\n",
       "  </thead>\n",
       "  <tbody>\n",
       "    <tr>\n",
       "      <td>0</td>\n",
       "      <td>D1ABA3E2887B6A73</td>\n",
       "      <td>A</td>\n",
       "      <td>recommender_system_test</td>\n",
       "    </tr>\n",
       "    <tr>\n",
       "      <td>1</td>\n",
       "      <td>A7A3664BD6242119</td>\n",
       "      <td>A</td>\n",
       "      <td>recommender_system_test</td>\n",
       "    </tr>\n",
       "    <tr>\n",
       "      <td>2</td>\n",
       "      <td>DABC14FDDFADD29E</td>\n",
       "      <td>A</td>\n",
       "      <td>recommender_system_test</td>\n",
       "    </tr>\n",
       "    <tr>\n",
       "      <td>3</td>\n",
       "      <td>04988C5DF189632E</td>\n",
       "      <td>A</td>\n",
       "      <td>recommender_system_test</td>\n",
       "    </tr>\n",
       "    <tr>\n",
       "      <td>4</td>\n",
       "      <td>4FF2998A348C484F</td>\n",
       "      <td>A</td>\n",
       "      <td>recommender_system_test</td>\n",
       "    </tr>\n",
       "  </tbody>\n",
       "</table>\n",
       "</div>"
      ],
      "text/plain": [
       "            user_id group                  ab_test\n",
       "0  D1ABA3E2887B6A73     A  recommender_system_test\n",
       "1  A7A3664BD6242119     A  recommender_system_test\n",
       "2  DABC14FDDFADD29E     A  recommender_system_test\n",
       "3  04988C5DF189632E     A  recommender_system_test\n",
       "4  4FF2998A348C484F     A  recommender_system_test"
      ]
     },
     "metadata": {},
     "output_type": "display_data"
    }
   ],
   "source": [
    "recommender_system_test_final_ab_participants_upd_us = final_ab_participants_upd_us.loc[final_ab_participants_upd_us['ab_test'] == 'recommender_system_test']\n",
    "display(recommender_system_test_final_ab_participants_upd_us.head())"
   ]
  },
  {
   "cell_type": "markdown",
   "metadata": {},
   "source": [
    "There are two types of ab test. One is \"interface_eu_test\" and the other is \"recommender_system_test\" but our goal is look into only \"recommender_system_test\" test. That's why I selected only recommender_system_test for ab test."
   ]
  },
  {
   "cell_type": "markdown",
   "metadata": {},
   "source": [
    "**Merging \"final_ab_new_users_upd_us\" and \"recommender_system_test_final_ab_participants_upd_us\" dataset:**"
   ]
  },
  {
   "cell_type": "code",
   "execution_count": 26,
   "metadata": {},
   "outputs": [
    {
     "name": "stdout",
     "output_type": "stream",
     "text": [
      "<class 'pandas.core.frame.DataFrame'>\n",
      "Int64Index: 3675 entries, 0 to 3674\n",
      "Data columns (total 6 columns):\n",
      "user_id       3675 non-null object\n",
      "first_date    3675 non-null datetime64[ns]\n",
      "region        3675 non-null object\n",
      "device        3675 non-null object\n",
      "group         3675 non-null object\n",
      "ab_test       3675 non-null object\n",
      "dtypes: datetime64[ns](1), object(5)\n",
      "memory usage: 201.0+ KB\n"
     ]
    },
    {
     "data": {
      "text/html": [
       "<div>\n",
       "<style scoped>\n",
       "    .dataframe tbody tr th:only-of-type {\n",
       "        vertical-align: middle;\n",
       "    }\n",
       "\n",
       "    .dataframe tbody tr th {\n",
       "        vertical-align: top;\n",
       "    }\n",
       "\n",
       "    .dataframe thead th {\n",
       "        text-align: right;\n",
       "    }\n",
       "</style>\n",
       "<table border=\"1\" class=\"dataframe\">\n",
       "  <thead>\n",
       "    <tr style=\"text-align: right;\">\n",
       "      <th></th>\n",
       "      <th>user_id</th>\n",
       "      <th>first_date</th>\n",
       "      <th>region</th>\n",
       "      <th>device</th>\n",
       "      <th>group</th>\n",
       "      <th>ab_test</th>\n",
       "    </tr>\n",
       "  </thead>\n",
       "  <tbody>\n",
       "    <tr>\n",
       "      <td>0</td>\n",
       "      <td>D72A72121175D8BE</td>\n",
       "      <td>2020-12-07</td>\n",
       "      <td>EU</td>\n",
       "      <td>PC</td>\n",
       "      <td>A</td>\n",
       "      <td>recommender_system_test</td>\n",
       "    </tr>\n",
       "    <tr>\n",
       "      <td>1</td>\n",
       "      <td>DD4352CDCF8C3D57</td>\n",
       "      <td>2020-12-07</td>\n",
       "      <td>EU</td>\n",
       "      <td>Android</td>\n",
       "      <td>B</td>\n",
       "      <td>recommender_system_test</td>\n",
       "    </tr>\n",
       "    <tr>\n",
       "      <td>2</td>\n",
       "      <td>831887FE7F2D6CBA</td>\n",
       "      <td>2020-12-07</td>\n",
       "      <td>EU</td>\n",
       "      <td>Android</td>\n",
       "      <td>A</td>\n",
       "      <td>recommender_system_test</td>\n",
       "    </tr>\n",
       "    <tr>\n",
       "      <td>3</td>\n",
       "      <td>4CB179C7F847320B</td>\n",
       "      <td>2020-12-07</td>\n",
       "      <td>EU</td>\n",
       "      <td>iPhone</td>\n",
       "      <td>B</td>\n",
       "      <td>recommender_system_test</td>\n",
       "    </tr>\n",
       "    <tr>\n",
       "      <td>4</td>\n",
       "      <td>29C92313A98B1176</td>\n",
       "      <td>2020-12-07</td>\n",
       "      <td>APAC</td>\n",
       "      <td>Android</td>\n",
       "      <td>B</td>\n",
       "      <td>recommender_system_test</td>\n",
       "    </tr>\n",
       "  </tbody>\n",
       "</table>\n",
       "</div>"
      ],
      "text/plain": [
       "            user_id first_date region   device group                  ab_test\n",
       "0  D72A72121175D8BE 2020-12-07     EU       PC     A  recommender_system_test\n",
       "1  DD4352CDCF8C3D57 2020-12-07     EU  Android     B  recommender_system_test\n",
       "2  831887FE7F2D6CBA 2020-12-07     EU  Android     A  recommender_system_test\n",
       "3  4CB179C7F847320B 2020-12-07     EU   iPhone     B  recommender_system_test\n",
       "4  29C92313A98B1176 2020-12-07   APAC  Android     B  recommender_system_test"
      ]
     },
     "metadata": {},
     "output_type": "display_data"
    }
   ],
   "source": [
    "merged_data = final_ab_new_users_upd_us.merge(recommender_system_test_final_ab_participants_upd_us, on = 'user_id', how = 'right')\n",
    "merged_data.info()\n",
    "display(merged_data.head())"
   ]
  },
  {
   "cell_type": "markdown",
   "metadata": {},
   "source": [
    "I merged \"final_ab_new_users_upd_us\" and \"recommender_system_test_final_ab_participants_upd_us\" dataset."
   ]
  },
  {
   "cell_type": "markdown",
   "metadata": {},
   "source": [
    "**Merging \"merged_data\" and \"final_ab_events_upd_us\" dataset:**"
   ]
  },
  {
   "cell_type": "code",
   "execution_count": 27,
   "metadata": {},
   "outputs": [
    {
     "name": "stdout",
     "output_type": "stream",
     "text": [
      "<class 'pandas.core.frame.DataFrame'>\n",
      "Int64Index: 423761 entries, 0 to 423760\n",
      "Data columns (total 9 columns):\n",
      "user_id       423761 non-null object\n",
      "first_date    23909 non-null datetime64[ns]\n",
      "region        23909 non-null object\n",
      "device        23909 non-null object\n",
      "group         23909 non-null object\n",
      "ab_test       23909 non-null object\n",
      "event_dt      423761 non-null datetime64[ns]\n",
      "event_name    423761 non-null object\n",
      "details       60314 non-null float64\n",
      "dtypes: datetime64[ns](2), float64(1), object(6)\n",
      "memory usage: 32.3+ MB\n"
     ]
    },
    {
     "data": {
      "text/html": [
       "<div>\n",
       "<style scoped>\n",
       "    .dataframe tbody tr th:only-of-type {\n",
       "        vertical-align: middle;\n",
       "    }\n",
       "\n",
       "    .dataframe tbody tr th {\n",
       "        vertical-align: top;\n",
       "    }\n",
       "\n",
       "    .dataframe thead th {\n",
       "        text-align: right;\n",
       "    }\n",
       "</style>\n",
       "<table border=\"1\" class=\"dataframe\">\n",
       "  <thead>\n",
       "    <tr style=\"text-align: right;\">\n",
       "      <th></th>\n",
       "      <th>user_id</th>\n",
       "      <th>first_date</th>\n",
       "      <th>region</th>\n",
       "      <th>device</th>\n",
       "      <th>group</th>\n",
       "      <th>ab_test</th>\n",
       "      <th>event_dt</th>\n",
       "      <th>event_name</th>\n",
       "      <th>details</th>\n",
       "    </tr>\n",
       "  </thead>\n",
       "  <tbody>\n",
       "    <tr>\n",
       "      <td>0</td>\n",
       "      <td>D72A72121175D8BE</td>\n",
       "      <td>2020-12-07</td>\n",
       "      <td>EU</td>\n",
       "      <td>PC</td>\n",
       "      <td>A</td>\n",
       "      <td>recommender_system_test</td>\n",
       "      <td>2020-12-07 21:52:10</td>\n",
       "      <td>product_page</td>\n",
       "      <td>NaN</td>\n",
       "    </tr>\n",
       "    <tr>\n",
       "      <td>1</td>\n",
       "      <td>D72A72121175D8BE</td>\n",
       "      <td>2020-12-07</td>\n",
       "      <td>EU</td>\n",
       "      <td>PC</td>\n",
       "      <td>A</td>\n",
       "      <td>recommender_system_test</td>\n",
       "      <td>2020-12-07 21:52:07</td>\n",
       "      <td>login</td>\n",
       "      <td>NaN</td>\n",
       "    </tr>\n",
       "    <tr>\n",
       "      <td>2</td>\n",
       "      <td>DD4352CDCF8C3D57</td>\n",
       "      <td>2020-12-07</td>\n",
       "      <td>EU</td>\n",
       "      <td>Android</td>\n",
       "      <td>B</td>\n",
       "      <td>recommender_system_test</td>\n",
       "      <td>2020-12-07 15:32:54</td>\n",
       "      <td>product_page</td>\n",
       "      <td>NaN</td>\n",
       "    </tr>\n",
       "    <tr>\n",
       "      <td>3</td>\n",
       "      <td>DD4352CDCF8C3D57</td>\n",
       "      <td>2020-12-07</td>\n",
       "      <td>EU</td>\n",
       "      <td>Android</td>\n",
       "      <td>B</td>\n",
       "      <td>recommender_system_test</td>\n",
       "      <td>2020-12-08 08:29:31</td>\n",
       "      <td>product_page</td>\n",
       "      <td>NaN</td>\n",
       "    </tr>\n",
       "    <tr>\n",
       "      <td>4</td>\n",
       "      <td>DD4352CDCF8C3D57</td>\n",
       "      <td>2020-12-07</td>\n",
       "      <td>EU</td>\n",
       "      <td>Android</td>\n",
       "      <td>B</td>\n",
       "      <td>recommender_system_test</td>\n",
       "      <td>2020-12-10 18:18:27</td>\n",
       "      <td>product_page</td>\n",
       "      <td>NaN</td>\n",
       "    </tr>\n",
       "  </tbody>\n",
       "</table>\n",
       "</div>"
      ],
      "text/plain": [
       "            user_id first_date region   device group                  ab_test  \\\n",
       "0  D72A72121175D8BE 2020-12-07     EU       PC     A  recommender_system_test   \n",
       "1  D72A72121175D8BE 2020-12-07     EU       PC     A  recommender_system_test   \n",
       "2  DD4352CDCF8C3D57 2020-12-07     EU  Android     B  recommender_system_test   \n",
       "3  DD4352CDCF8C3D57 2020-12-07     EU  Android     B  recommender_system_test   \n",
       "4  DD4352CDCF8C3D57 2020-12-07     EU  Android     B  recommender_system_test   \n",
       "\n",
       "             event_dt    event_name  details  \n",
       "0 2020-12-07 21:52:10  product_page      NaN  \n",
       "1 2020-12-07 21:52:07         login      NaN  \n",
       "2 2020-12-07 15:32:54  product_page      NaN  \n",
       "3 2020-12-08 08:29:31  product_page      NaN  \n",
       "4 2020-12-10 18:18:27  product_page      NaN  "
      ]
     },
     "metadata": {},
     "output_type": "display_data"
    }
   ],
   "source": [
    "new_merged_data = merged_data.merge(final_ab_events_upd_us, on = 'user_id', how = 'right')\n",
    "new_merged_data.info()\n",
    "display(new_merged_data.head())"
   ]
  },
  {
   "cell_type": "markdown",
   "metadata": {},
   "source": [
    "I again merged \"merged_data\"  and \"final_ab_events_upd_us\" dataset."
   ]
  },
  {
   "cell_type": "markdown",
   "metadata": {},
   "source": [
    "**Counting \"event_name\" in the \"new_merged_data\" dataset:**"
   ]
  },
  {
   "cell_type": "code",
   "execution_count": 28,
   "metadata": {},
   "outputs": [
    {
     "data": {
      "text/plain": [
       "login           182465\n",
       "product_page    120862\n",
       "purchase         60314\n",
       "product_cart     60120\n",
       "Name: event_name, dtype: int64"
      ]
     },
     "execution_count": 28,
     "metadata": {},
     "output_type": "execute_result"
    }
   ],
   "source": [
    "new_merged_data['event_name'].value_counts()"
   ]
  },
  {
   "cell_type": "markdown",
   "metadata": {},
   "source": [
    "\"new_merged_data\" dataset has four types of events named \"login\", \"product_page\", \"purchase\" and \"product_cart\". \"login\", \"product_page\", \"purchase\" and \"product_cart\" have number of users 182465, 120862, 60314 and 60120 respectively."
   ]
  },
  {
   "cell_type": "markdown",
   "metadata": {},
   "source": [
    "**Determining the average number of events per user:**"
   ]
  },
  {
   "cell_type": "code",
   "execution_count": 29,
   "metadata": {},
   "outputs": [
    {
     "data": {
      "text/plain": [
       "7.0"
      ]
     },
     "execution_count": 29,
     "metadata": {},
     "output_type": "execute_result"
    }
   ],
   "source": [
    "new_merged_data.groupby('user_id')['event_name'].count().mean().round()"
   ]
  },
  {
   "cell_type": "markdown",
   "metadata": {},
   "source": [
    "The average number of events per user is 7. "
   ]
  },
  {
   "cell_type": "markdown",
   "metadata": {},
   "source": [
    "**Separating test A and B for recommender_system_test:**"
   ]
  },
  {
   "cell_type": "code",
   "execution_count": 30,
   "metadata": {},
   "outputs": [],
   "source": [
    "test_A = new_merged_data[(new_merged_data.group == 'A') & (new_merged_data.ab_test == 'recommender_system_test')]\n",
    "test_B = new_merged_data[(new_merged_data.group == 'B') & (new_merged_data.ab_test == 'recommender_system_test')]"
   ]
  },
  {
   "cell_type": "markdown",
   "metadata": {},
   "source": [
    "I separted test A and test B for the recommender_system_test."
   ]
  },
  {
   "cell_type": "markdown",
   "metadata": {},
   "source": [
    "**Average number of events per user for the group A:**"
   ]
  },
  {
   "cell_type": "code",
   "execution_count": 31,
   "metadata": {},
   "outputs": [
    {
     "data": {
      "text/plain": [
       "7.0"
      ]
     },
     "execution_count": 31,
     "metadata": {},
     "output_type": "execute_result"
    }
   ],
   "source": [
    "test_A.groupby('user_id')['event_name'].count().mean().round()"
   ]
  },
  {
   "cell_type": "markdown",
   "metadata": {},
   "source": [
    "The average number of events per user for the group A is 7."
   ]
  },
  {
   "cell_type": "markdown",
   "metadata": {},
   "source": [
    "**Average number of events per user for the group B:**"
   ]
  },
  {
   "cell_type": "code",
   "execution_count": 32,
   "metadata": {},
   "outputs": [
    {
     "data": {
      "text/plain": [
       "6.0"
      ]
     },
     "execution_count": 32,
     "metadata": {},
     "output_type": "execute_result"
    }
   ],
   "source": [
    "test_B.groupby('user_id')['event_name'].count().mean().round()"
   ]
  },
  {
   "cell_type": "markdown",
   "metadata": {},
   "source": [
    "The average number of events per user for the group B is 6."
   ]
  },
  {
   "cell_type": "markdown",
   "metadata": {},
   "source": [
    "**Histogram of average number of events per user for the group A:**"
   ]
  },
  {
   "cell_type": "code",
   "execution_count": 33,
   "metadata": {},
   "outputs": [
    {
     "data": {
      "image/png": "[encoded data removed]",
      "text/plain": [
       "<Figure size 432x288 with 1 Axes>"
      ]
     },
     "metadata": {
      "needs_background": "light"
     },
     "output_type": "display_data"
    }
   ],
   "source": [
    "test_A.groupby('user_id')['event_name'].count().hist()\n",
    "plt.title('Histogram of average number of events per user for the group A',fontsize = 14,fontweight = \"bold\")\n",
    "plt.xlabel('Nb of events')\n",
    "plt.ylabel('count')\n",
    "plt.show()"
   ]
  },
  {
   "cell_type": "markdown",
   "metadata": {},
   "source": [
    "The number of events per user for the group A is between 2 to 24."
   ]
  },
  {
   "cell_type": "markdown",
   "metadata": {},
   "source": [
    "**Histogram of average number of events per user for the group B:**"
   ]
  },
  {
   "cell_type": "code",
   "execution_count": 34,
   "metadata": {},
   "outputs": [
    {
     "data": {
      "image/png": "[encoded data removed]",
      "text/plain": [
       "<Figure size 432x288 with 1 Axes>"
      ]
     },
     "metadata": {
      "needs_background": "light"
     },
     "output_type": "display_data"
    }
   ],
   "source": [
    "test_B.groupby('user_id')['event_name'].count().hist()\n",
    "plt.title('Histogram of average number of events per user for the group B',fontsize = 14,fontweight = \"bold\")\n",
    "plt.xlabel('Nb of events')\n",
    "plt.ylabel('count')\n",
    "plt.show()"
   ]
  },
  {
   "cell_type": "markdown",
   "metadata": {},
   "source": [
    "The number of events per user for the group B is between 2 to 27."
   ]
  },
  {
   "cell_type": "code",
   "execution_count": 35,
   "metadata": {},
   "outputs": [
    {
     "data": {
      "image/png": "[encoded data removed]",
      "text/plain": [
       "<Figure size 432x288 with 1 Axes>"
      ]
     },
     "metadata": {
      "needs_background": "light"
     },
     "output_type": "display_data"
    }
   ],
   "source": [
    "test_A.groupby('user_id')['event_name'].count().hist(\n",
    "    bins = np.arange(0, test_A.groupby('user_id')['event_name'].count().max(), 1))\n",
    "plt.title('Histogram of average number of events per user for the group A',fontsize = 14,fontweight = \"bold\")\n",
    "plt.xlabel('Nb of events')\n",
    "plt.ylabel('count')\n",
    "plt.show()"
   ]
  },
  {
   "cell_type": "markdown",
   "metadata": {},
   "source": [
    "**Studying conversion at different stages of the funnel for group A:**"
   ]
  },
  {
   "cell_type": "code",
   "execution_count": 36,
   "metadata": {},
   "outputs": [
    {
     "data": {
      "text/html": [
       "<div>\n",
       "<style scoped>\n",
       "    .dataframe tbody tr th:only-of-type {\n",
       "        vertical-align: middle;\n",
       "    }\n",
       "\n",
       "    .dataframe tbody tr th {\n",
       "        vertical-align: top;\n",
       "    }\n",
       "\n",
       "    .dataframe thead th {\n",
       "        text-align: right;\n",
       "    }\n",
       "</style>\n",
       "<table border=\"1\" class=\"dataframe\">\n",
       "  <thead>\n",
       "    <tr style=\"text-align: right;\">\n",
       "      <th></th>\n",
       "      <th>user_id</th>\n",
       "    </tr>\n",
       "    <tr>\n",
       "      <th>event_name</th>\n",
       "      <th></th>\n",
       "    </tr>\n",
       "  </thead>\n",
       "  <tbody>\n",
       "    <tr>\n",
       "      <td>login</td>\n",
       "      <td>296.012931</td>\n",
       "    </tr>\n",
       "    <tr>\n",
       "      <td>product_cart</td>\n",
       "      <td>88.793103</td>\n",
       "    </tr>\n",
       "    <tr>\n",
       "      <td>product_page</td>\n",
       "      <td>191.810345</td>\n",
       "    </tr>\n",
       "    <tr>\n",
       "      <td>purchase</td>\n",
       "      <td>93.965517</td>\n",
       "    </tr>\n",
       "  </tbody>\n",
       "</table>\n",
       "</div>"
      ],
      "text/plain": [
       "                 user_id\n",
       "event_name              \n",
       "login         296.012931\n",
       "product_cart   88.793103\n",
       "product_page  191.810345\n",
       "purchase       93.965517"
      ]
     },
     "execution_count": 36,
     "metadata": {},
     "output_type": "execute_result"
    }
   ],
   "source": [
    "(test_A.groupby('event_name').agg({'user_id' : 'nunique'}) / test_B.user_id.nunique()) * 100"
   ]
  },
  {
   "cell_type": "markdown",
   "metadata": {},
   "source": [
    "For group A event types \"login\", \"product_cart\", \"product_page\" and \"purchase\" have the percentage of the number of events are 296.01%, 88.8%, 191.82% and 93.97% respectively."
   ]
  },
  {
   "cell_type": "code",
   "execution_count": 37,
   "metadata": {},
   "outputs": [
    {
     "data": {
      "text/html": [
       "<div>\n",
       "<style scoped>\n",
       "    .dataframe tbody tr th:only-of-type {\n",
       "        vertical-align: middle;\n",
       "    }\n",
       "\n",
       "    .dataframe tbody tr th {\n",
       "        vertical-align: top;\n",
       "    }\n",
       "\n",
       "    .dataframe thead th {\n",
       "        text-align: right;\n",
       "    }\n",
       "</style>\n",
       "<table border=\"1\" class=\"dataframe\">\n",
       "  <thead>\n",
       "    <tr style=\"text-align: right;\">\n",
       "      <th></th>\n",
       "      <th>user_id</th>\n",
       "    </tr>\n",
       "    <tr>\n",
       "      <th>event_name</th>\n",
       "      <th></th>\n",
       "    </tr>\n",
       "  </thead>\n",
       "  <tbody>\n",
       "    <tr>\n",
       "      <td>login</td>\n",
       "      <td>100.000000</td>\n",
       "    </tr>\n",
       "    <tr>\n",
       "      <td>product_cart</td>\n",
       "      <td>29.996360</td>\n",
       "    </tr>\n",
       "    <tr>\n",
       "      <td>product_page</td>\n",
       "      <td>64.797961</td>\n",
       "    </tr>\n",
       "    <tr>\n",
       "      <td>purchase</td>\n",
       "      <td>31.743720</td>\n",
       "    </tr>\n",
       "  </tbody>\n",
       "</table>\n",
       "</div>"
      ],
      "text/plain": [
       "                 user_id\n",
       "event_name              \n",
       "login         100.000000\n",
       "product_cart   29.996360\n",
       "product_page   64.797961\n",
       "purchase       31.743720"
      ]
     },
     "execution_count": 37,
     "metadata": {},
     "output_type": "execute_result"
    }
   ],
   "source": [
    "(test_A.groupby('event_name').agg({'user_id' : 'nunique'}) / test_A.user_id.nunique()) * 100"
   ]
  },
  {
   "cell_type": "markdown",
   "metadata": {},
   "source": [
    "**Studying conversion at different stages of the funnel for group B:**"
   ]
  },
  {
   "cell_type": "code",
   "execution_count": 38,
   "metadata": {},
   "outputs": [
    {
     "data": {
      "text/html": [
       "<div>\n",
       "<style scoped>\n",
       "    .dataframe tbody tr th:only-of-type {\n",
       "        vertical-align: middle;\n",
       "    }\n",
       "\n",
       "    .dataframe tbody tr th {\n",
       "        vertical-align: top;\n",
       "    }\n",
       "\n",
       "    .dataframe thead th {\n",
       "        text-align: right;\n",
       "    }\n",
       "</style>\n",
       "<table border=\"1\" class=\"dataframe\">\n",
       "  <thead>\n",
       "    <tr style=\"text-align: right;\">\n",
       "      <th></th>\n",
       "      <th>user_id</th>\n",
       "    </tr>\n",
       "    <tr>\n",
       "      <th>event_name</th>\n",
       "      <th></th>\n",
       "    </tr>\n",
       "  </thead>\n",
       "  <tbody>\n",
       "    <tr>\n",
       "      <td>login</td>\n",
       "      <td>99.892241</td>\n",
       "    </tr>\n",
       "    <tr>\n",
       "      <td>product_cart</td>\n",
       "      <td>27.478448</td>\n",
       "    </tr>\n",
       "    <tr>\n",
       "      <td>product_page</td>\n",
       "      <td>56.357759</td>\n",
       "    </tr>\n",
       "    <tr>\n",
       "      <td>purchase</td>\n",
       "      <td>27.586207</td>\n",
       "    </tr>\n",
       "  </tbody>\n",
       "</table>\n",
       "</div>"
      ],
      "text/plain": [
       "                user_id\n",
       "event_name             \n",
       "login         99.892241\n",
       "product_cart  27.478448\n",
       "product_page  56.357759\n",
       "purchase      27.586207"
      ]
     },
     "execution_count": 38,
     "metadata": {},
     "output_type": "execute_result"
    }
   ],
   "source": [
    "(test_B.groupby('event_name').agg({'user_id' : 'nunique'}) / test_B.user_id.nunique()) * 100 "
   ]
  },
  {
   "cell_type": "markdown",
   "metadata": {},
   "source": [
    "For group B event types \"login\", \"product_cart\", \"product_page\" and \"purchase\" have the percentage of the number of events are 99.9%, 27.47%, 56.35% and 27.59% respectively."
   ]
  },
  {
   "cell_type": "code",
   "execution_count": 39,
   "metadata": {},
   "outputs": [
    {
     "data": {
      "text/html": [
       "<div>\n",
       "<style scoped>\n",
       "    .dataframe tbody tr th:only-of-type {\n",
       "        vertical-align: middle;\n",
       "    }\n",
       "\n",
       "    .dataframe tbody tr th {\n",
       "        vertical-align: top;\n",
       "    }\n",
       "\n",
       "    .dataframe thead th {\n",
       "        text-align: right;\n",
       "    }\n",
       "</style>\n",
       "<table border=\"1\" class=\"dataframe\">\n",
       "  <thead>\n",
       "    <tr style=\"text-align: right;\">\n",
       "      <th></th>\n",
       "      <th>user_id</th>\n",
       "    </tr>\n",
       "    <tr>\n",
       "      <th>event_name</th>\n",
       "      <th></th>\n",
       "    </tr>\n",
       "  </thead>\n",
       "  <tbody>\n",
       "    <tr>\n",
       "      <td>login</td>\n",
       "      <td>0.998922</td>\n",
       "    </tr>\n",
       "    <tr>\n",
       "      <td>product_cart</td>\n",
       "      <td>0.274784</td>\n",
       "    </tr>\n",
       "    <tr>\n",
       "      <td>product_page</td>\n",
       "      <td>0.563578</td>\n",
       "    </tr>\n",
       "    <tr>\n",
       "      <td>purchase</td>\n",
       "      <td>0.275862</td>\n",
       "    </tr>\n",
       "  </tbody>\n",
       "</table>\n",
       "</div>"
      ],
      "text/plain": [
       "               user_id\n",
       "event_name            \n",
       "login         0.998922\n",
       "product_cart  0.274784\n",
       "product_page  0.563578\n",
       "purchase      0.275862"
      ]
     },
     "execution_count": 39,
     "metadata": {},
     "output_type": "execute_result"
    }
   ],
   "source": [
    "test_B.groupby('event_name').agg({'user_id' : 'nunique'}) / test_B.user_id.nunique()"
   ]
  },
  {
   "cell_type": "markdown",
   "metadata": {},
   "source": [
    "**Determining the number of events per user distributed equally or not equally among the samples:**"
   ]
  },
  {
   "cell_type": "code",
   "execution_count": 40,
   "metadata": {},
   "outputs": [
    {
     "data": {
      "text/plain": [
       "A3917F81482141F2    0.000085\n",
       "203773F2A53233A8    0.000076\n",
       "426330B820B8711A    0.000076\n",
       "8AEB716C4CD82CA7    0.000076\n",
       "BA87FD8D70D63CC6    0.000076\n",
       "                      ...   \n",
       "704E8E06FE69C691    0.000002\n",
       "80967EC801FE4C8B    0.000002\n",
       "B96BD5336FF1686D    0.000002\n",
       "0FA9C0953DFCF365    0.000002\n",
       "097672657E333676    0.000002\n",
       "Name: user_id, Length: 58703, dtype: float64"
      ]
     },
     "execution_count": 40,
     "metadata": {},
     "output_type": "execute_result"
    }
   ],
   "source": [
    "new_merged_data['user_id'].value_counts()/len(new_merged_data)"
   ]
  },
  {
   "cell_type": "markdown",
   "metadata": {},
   "source": [
    "The number of events per user distributed equally among the samples."
   ]
  },
  {
   "cell_type": "markdown",
   "metadata": {},
   "source": [
    "**Raw distribution  of events by date:**"
   ]
  },
  {
   "cell_type": "code",
   "execution_count": 41,
   "metadata": {},
   "outputs": [
    {
     "name": "stderr",
     "output_type": "stream",
     "text": [
      "/opt/conda/lib/python3.7/site-packages/pandas/plotting/_matplotlib/converter.py:103: FutureWarning: Using an implicitly registered datetime converter for a matplotlib plotting method. The converter was registered by pandas on import. Future versions of pandas will require you to explicitly register matplotlib converters.\n",
      "\n",
      "To register the converters:\n",
      "\t>>> from pandas.plotting import register_matplotlib_converters\n",
      "\t>>> register_matplotlib_converters()\n",
      "  warnings.warn(msg, FutureWarning)\n"
     ]
    },
    {
     "data": {
      "image/png": "[encoded data removed]",
      "text/plain": [
       "<Figure size 1080x360 with 1 Axes>"
      ]
     },
     "metadata": {
      "needs_background": "light"
     },
     "output_type": "display_data"
    }
   ],
   "source": [
    "new_merged_data['event_dt'].hist(figsize = (15, 5),bins = 100)\n",
    "plt.title('Raw distribution  of events by date',fontsize = 14,fontweight = \"bold\")\n",
    "plt.xlabel('event_dt')\n",
    "plt.ylabel('Nb of events')\n",
    "plt.show()"
   ]
  },
  {
   "cell_type": "markdown",
   "metadata": {},
   "source": [
    "    The number of more events were distributed between 2020-12-14 and 2020-12-24."
   ]
  },
  {
   "cell_type": "markdown",
   "metadata": {},
   "source": [
    "**Selecting events between \"2020-12-07\" and \"2020-12-21\" for group A and the recommneder system test:**"
   ]
  },
  {
   "cell_type": "code",
   "execution_count": 42,
   "metadata": {},
   "outputs": [
    {
     "name": "stdout",
     "output_type": "stream",
     "text": [
      "Christmas&New Year Promo\n",
      "login           927\n",
      "product_page    612\n",
      "purchase        297\n",
      "product_cart    278\n",
      "Name: event_name, dtype: int64\n"
     ]
    }
   ],
   "source": [
    "for st_date, e_date, name in zip(ab_project_marketing_events_us[\"start_dt\"],\\\n",
    "                                 ab_project_marketing_events_us[\"finish_dt\"],\\\n",
    "                                 ab_project_marketing_events_us[\"name\"]): \n",
    "    eves = test_A[(test_A.event_dt >= st_date) & (test_A.event_dt <= e_date)]['event_name'].value_counts()\n",
    "    if len(eves) != 0:\n",
    "        print(name)\n",
    "        print(eves)"
   ]
  },
  {
   "cell_type": "markdown",
   "metadata": {},
   "source": [
    "For group A and the recommender system test we found only one event and that is \"Christmas&New Year Promo\"."
   ]
  },
  {
   "cell_type": "markdown",
   "metadata": {},
   "source": [
    "**Selecting events between \"2020-12-07\" and \"2020-12-21\" for group B and the recommneder system test:**"
   ]
  },
  {
   "cell_type": "code",
   "execution_count": 43,
   "metadata": {},
   "outputs": [
    {
     "name": "stdout",
     "output_type": "stream",
     "text": [
      "Christmas&New Year Promo\n",
      "login           217\n",
      "product_page    112\n",
      "purchase         54\n",
      "product_cart     42\n",
      "Name: event_name, dtype: int64\n",
      "CIS New Year Gift Lottery\n",
      "login           2\n",
      "product_page    1\n",
      "product_cart    1\n",
      "Name: event_name, dtype: int64\n"
     ]
    }
   ],
   "source": [
    "\n",
    "for st_date, e_date, name in zip(ab_project_marketing_events_us[\"start_dt\"],\\\n",
    "                                 ab_project_marketing_events_us[\"finish_dt\"],\\\n",
    "                                 ab_project_marketing_events_us[\"name\"]): \n",
    "    eves = test_B[(test_B.event_dt >= st_date) & (test_B.event_dt <= e_date)]['event_name'].value_counts()\n",
    "    if len(eves) != 0:\n",
    "        print(name)\n",
    "        print(eves)"
   ]
  },
  {
   "cell_type": "markdown",
   "metadata": {},
   "source": [
    "-  For group B and the recommender system test we found two events and those are \"Christmas&New Year Promo\" and \"CIS New Year Gift Lottery\".\n",
    "-  For group A and B \"Christmas&New Year Promo\" event is more popular."
   ]
  },
  {
   "cell_type": "markdown",
   "metadata": {},
   "source": [
    "**Filtering \"new_merged_data\" dataset:**"
   ]
  },
  {
   "cell_type": "code",
   "execution_count": 44,
   "metadata": {},
   "outputs": [
    {
     "name": "stdout",
     "output_type": "stream",
     "text": [
      "Number of new users are till '2020-12-21': 23909\n",
      "<class 'pandas.core.frame.DataFrame'>\n",
      "Int64Index: 23909 entries, 0 to 23908\n",
      "Data columns (total 9 columns):\n",
      "user_id       23909 non-null object\n",
      "first_date    23909 non-null datetime64[ns]\n",
      "region        23909 non-null object\n",
      "device        23909 non-null object\n",
      "group         23909 non-null object\n",
      "ab_test       23909 non-null object\n",
      "event_dt      23909 non-null datetime64[ns]\n",
      "event_name    23909 non-null object\n",
      "details       3210 non-null float64\n",
      "dtypes: datetime64[ns](2), float64(1), object(6)\n",
      "memory usage: 1.8+ MB\n"
     ]
    },
    {
     "data": {
      "text/html": [
       "<div>\n",
       "<style scoped>\n",
       "    .dataframe tbody tr th:only-of-type {\n",
       "        vertical-align: middle;\n",
       "    }\n",
       "\n",
       "    .dataframe tbody tr th {\n",
       "        vertical-align: top;\n",
       "    }\n",
       "\n",
       "    .dataframe thead th {\n",
       "        text-align: right;\n",
       "    }\n",
       "</style>\n",
       "<table border=\"1\" class=\"dataframe\">\n",
       "  <thead>\n",
       "    <tr style=\"text-align: right;\">\n",
       "      <th></th>\n",
       "      <th>user_id</th>\n",
       "      <th>first_date</th>\n",
       "      <th>region</th>\n",
       "      <th>device</th>\n",
       "      <th>group</th>\n",
       "      <th>ab_test</th>\n",
       "      <th>event_dt</th>\n",
       "      <th>event_name</th>\n",
       "      <th>details</th>\n",
       "    </tr>\n",
       "  </thead>\n",
       "  <tbody>\n",
       "    <tr>\n",
       "      <td>0</td>\n",
       "      <td>D72A72121175D8BE</td>\n",
       "      <td>2020-12-07</td>\n",
       "      <td>EU</td>\n",
       "      <td>PC</td>\n",
       "      <td>A</td>\n",
       "      <td>recommender_system_test</td>\n",
       "      <td>2020-12-07 21:52:10</td>\n",
       "      <td>product_page</td>\n",
       "      <td>NaN</td>\n",
       "    </tr>\n",
       "    <tr>\n",
       "      <td>1</td>\n",
       "      <td>D72A72121175D8BE</td>\n",
       "      <td>2020-12-07</td>\n",
       "      <td>EU</td>\n",
       "      <td>PC</td>\n",
       "      <td>A</td>\n",
       "      <td>recommender_system_test</td>\n",
       "      <td>2020-12-07 21:52:07</td>\n",
       "      <td>login</td>\n",
       "      <td>NaN</td>\n",
       "    </tr>\n",
       "    <tr>\n",
       "      <td>2</td>\n",
       "      <td>DD4352CDCF8C3D57</td>\n",
       "      <td>2020-12-07</td>\n",
       "      <td>EU</td>\n",
       "      <td>Android</td>\n",
       "      <td>B</td>\n",
       "      <td>recommender_system_test</td>\n",
       "      <td>2020-12-07 15:32:54</td>\n",
       "      <td>product_page</td>\n",
       "      <td>NaN</td>\n",
       "    </tr>\n",
       "    <tr>\n",
       "      <td>3</td>\n",
       "      <td>DD4352CDCF8C3D57</td>\n",
       "      <td>2020-12-07</td>\n",
       "      <td>EU</td>\n",
       "      <td>Android</td>\n",
       "      <td>B</td>\n",
       "      <td>recommender_system_test</td>\n",
       "      <td>2020-12-08 08:29:31</td>\n",
       "      <td>product_page</td>\n",
       "      <td>NaN</td>\n",
       "    </tr>\n",
       "    <tr>\n",
       "      <td>4</td>\n",
       "      <td>DD4352CDCF8C3D57</td>\n",
       "      <td>2020-12-07</td>\n",
       "      <td>EU</td>\n",
       "      <td>Android</td>\n",
       "      <td>B</td>\n",
       "      <td>recommender_system_test</td>\n",
       "      <td>2020-12-10 18:18:27</td>\n",
       "      <td>product_page</td>\n",
       "      <td>NaN</td>\n",
       "    </tr>\n",
       "  </tbody>\n",
       "</table>\n",
       "</div>"
      ],
      "text/plain": [
       "            user_id first_date region   device group                  ab_test  \\\n",
       "0  D72A72121175D8BE 2020-12-07     EU       PC     A  recommender_system_test   \n",
       "1  D72A72121175D8BE 2020-12-07     EU       PC     A  recommender_system_test   \n",
       "2  DD4352CDCF8C3D57 2020-12-07     EU  Android     B  recommender_system_test   \n",
       "3  DD4352CDCF8C3D57 2020-12-07     EU  Android     B  recommender_system_test   \n",
       "4  DD4352CDCF8C3D57 2020-12-07     EU  Android     B  recommender_system_test   \n",
       "\n",
       "             event_dt    event_name  details  \n",
       "0 2020-12-07 21:52:10  product_page      NaN  \n",
       "1 2020-12-07 21:52:07         login      NaN  \n",
       "2 2020-12-07 15:32:54  product_page      NaN  \n",
       "3 2020-12-08 08:29:31  product_page      NaN  \n",
       "4 2020-12-10 18:18:27  product_page      NaN  "
      ]
     },
     "metadata": {},
     "output_type": "display_data"
    }
   ],
   "source": [
    "filtered_new_merged_data = new_merged_data.loc[new_merged_data['first_date'] <= '2020-12-21']\n",
    "print(\"Number of new users are till '2020-12-21':\", len(filtered_new_merged_data))\n",
    "filtered_new_merged_data.info()\n",
    "display(filtered_new_merged_data.head())"
   ]
  },
  {
   "cell_type": "markdown",
   "metadata": {},
   "source": [
    "In the \"new_merged_data\" dataset, there are new users who joined after \"2020-12-21\". So I dropped out new users who came after \"2020-12-21\"."
   ]
  },
  {
   "cell_type": "markdown",
   "metadata": {},
   "source": [
    "**Check  repartiton of  total users per events:**"
   ]
  },
  {
   "cell_type": "code",
   "execution_count": 45,
   "metadata": {},
   "outputs": [
    {
     "data": {
      "text/html": [
       "<div>\n",
       "<style scoped>\n",
       "    .dataframe tbody tr th:only-of-type {\n",
       "        vertical-align: middle;\n",
       "    }\n",
       "\n",
       "    .dataframe tbody tr th {\n",
       "        vertical-align: top;\n",
       "    }\n",
       "\n",
       "    .dataframe thead th {\n",
       "        text-align: right;\n",
       "    }\n",
       "</style>\n",
       "<table border=\"1\" class=\"dataframe\">\n",
       "  <thead>\n",
       "    <tr style=\"text-align: right;\">\n",
       "      <th></th>\n",
       "      <th>event_types</th>\n",
       "      <th>number_of_users</th>\n",
       "      <th>percentage</th>\n",
       "    </tr>\n",
       "  </thead>\n",
       "  <tbody>\n",
       "    <tr>\n",
       "      <td>0</td>\n",
       "      <td>login</td>\n",
       "      <td>10837</td>\n",
       "      <td>45.326028</td>\n",
       "    </tr>\n",
       "    <tr>\n",
       "      <td>1</td>\n",
       "      <td>product_page</td>\n",
       "      <td>6702</td>\n",
       "      <td>28.031285</td>\n",
       "    </tr>\n",
       "    <tr>\n",
       "      <td>2</td>\n",
       "      <td>purchase</td>\n",
       "      <td>3210</td>\n",
       "      <td>13.425907</td>\n",
       "    </tr>\n",
       "    <tr>\n",
       "      <td>3</td>\n",
       "      <td>product_cart</td>\n",
       "      <td>3160</td>\n",
       "      <td>13.216780</td>\n",
       "    </tr>\n",
       "  </tbody>\n",
       "</table>\n",
       "</div>"
      ],
      "text/plain": [
       "    event_types  number_of_users  percentage\n",
       "0         login            10837   45.326028\n",
       "1  product_page             6702   28.031285\n",
       "2      purchase             3210   13.425907\n",
       "3  product_cart             3160   13.216780"
      ]
     },
     "metadata": {},
     "output_type": "display_data"
    }
   ],
   "source": [
    "unique_users_full_date = new_merged_data['user_id'].nunique()\n",
    "repartition_of_users = filtered_new_merged_data.groupby('event_name')['user_id'].count().sort_values(ascending=False).reset_index()\n",
    "repartition_of_users = repartition_of_users.rename(columns={'event_name':'event_types','user_id':'number_of_users'})\n",
    "repartition_of_users['percentage'] = (repartition_of_users['number_of_users'] / repartition_of_users['number_of_users'].sum()) * 100\n",
    "display(repartition_of_users)"
   ]
  },
  {
   "cell_type": "markdown",
   "metadata": {},
   "source": [
    "After repartition the event \"login\",\"product_page\", \"purchase\" and\"product_cart\" have number of users are 10837, 6702, 3210 and 3160 respectively."
   ]
  },
  {
   "cell_type": "markdown",
   "metadata": {},
   "source": [
    "**Checking repartiton of number of users unique per events:**"
   ]
  },
  {
   "cell_type": "code",
   "execution_count": 46,
   "metadata": {},
   "outputs": [
    {
     "data": {
      "text/html": [
       "<div>\n",
       "<style scoped>\n",
       "    .dataframe tbody tr th:only-of-type {\n",
       "        vertical-align: middle;\n",
       "    }\n",
       "\n",
       "    .dataframe tbody tr th {\n",
       "        vertical-align: top;\n",
       "    }\n",
       "\n",
       "    .dataframe thead th {\n",
       "        text-align: right;\n",
       "    }\n",
       "</style>\n",
       "<table border=\"1\" class=\"dataframe\">\n",
       "  <thead>\n",
       "    <tr style=\"text-align: right;\">\n",
       "      <th></th>\n",
       "      <th>event_types</th>\n",
       "      <th>number_of_users</th>\n",
       "      <th>percentage</th>\n",
       "      <th>total _percentage</th>\n",
       "    </tr>\n",
       "  </thead>\n",
       "  <tbody>\n",
       "    <tr>\n",
       "      <td>0</td>\n",
       "      <td>login</td>\n",
       "      <td>3674</td>\n",
       "      <td>44.892473</td>\n",
       "      <td>99.972789</td>\n",
       "    </tr>\n",
       "    <tr>\n",
       "      <td>1</td>\n",
       "      <td>product_page</td>\n",
       "      <td>2303</td>\n",
       "      <td>28.140274</td>\n",
       "      <td>62.666667</td>\n",
       "    </tr>\n",
       "    <tr>\n",
       "      <td>2</td>\n",
       "      <td>purchase</td>\n",
       "      <td>1128</td>\n",
       "      <td>13.782991</td>\n",
       "      <td>30.693878</td>\n",
       "    </tr>\n",
       "    <tr>\n",
       "      <td>3</td>\n",
       "      <td>product_cart</td>\n",
       "      <td>1079</td>\n",
       "      <td>13.184262</td>\n",
       "      <td>29.360544</td>\n",
       "    </tr>\n",
       "  </tbody>\n",
       "</table>\n",
       "</div>"
      ],
      "text/plain": [
       "    event_types  number_of_users  percentage  total _percentage\n",
       "0         login             3674   44.892473          99.972789\n",
       "1  product_page             2303   28.140274          62.666667\n",
       "2      purchase             1128   13.782991          30.693878\n",
       "3  product_cart             1079   13.184262          29.360544"
      ]
     },
     "metadata": {},
     "output_type": "display_data"
    }
   ],
   "source": [
    "unique_users_full_date = merged_data['user_id'].nunique()\n",
    "repartition_of_users_unique = filtered_new_merged_data.groupby('event_name')['user_id'] .nunique().sort_values(ascending=False).reset_index()\n",
    "repartition_of_users_unique = repartition_of_users_unique.rename(columns={'event_name':'event_types','user_id':'number_of_users'})\n",
    "repartition_of_users_unique['percentage'] = (repartition_of_users_unique['number_of_users'] / repartition_of_users_unique['number_of_users'].sum()) * 100\n",
    "repartition_of_users_unique['total _percentage'] = (repartition_of_users_unique['number_of_users'] / unique_users_full_date) * 100\n",
    "display(repartition_of_users_unique)"
   ]
  },
  {
   "cell_type": "markdown",
   "metadata": {},
   "source": [
    "After repartition the number of users unique per event \"login\",\"product_page\", \"purchase\" and \"product_cart\" have number of users are 3674, 2303, 1128 and 1079  respectively."
   ]
  },
  {
   "cell_type": "markdown",
   "metadata": {},
   "source": [
    "**Calculating the number of users left at each stage & percentage of user's gone:**"
   ]
  },
  {
   "cell_type": "code",
   "execution_count": 47,
   "metadata": {},
   "outputs": [
    {
     "data": {
      "text/html": [
       "<div>\n",
       "<style scoped>\n",
       "    .dataframe tbody tr th:only-of-type {\n",
       "        vertical-align: middle;\n",
       "    }\n",
       "\n",
       "    .dataframe tbody tr th {\n",
       "        vertical-align: top;\n",
       "    }\n",
       "\n",
       "    .dataframe thead th {\n",
       "        text-align: right;\n",
       "    }\n",
       "</style>\n",
       "<table border=\"1\" class=\"dataframe\">\n",
       "  <thead>\n",
       "    <tr style=\"text-align: right;\">\n",
       "      <th></th>\n",
       "      <th>event_types</th>\n",
       "      <th>number_of_users</th>\n",
       "      <th>percentage</th>\n",
       "      <th>total _percentage</th>\n",
       "    </tr>\n",
       "  </thead>\n",
       "  <tbody>\n",
       "    <tr>\n",
       "      <td>0</td>\n",
       "      <td>login</td>\n",
       "      <td>3674</td>\n",
       "      <td>44.892473</td>\n",
       "      <td>99.972789</td>\n",
       "    </tr>\n",
       "    <tr>\n",
       "      <td>1</td>\n",
       "      <td>product_page</td>\n",
       "      <td>2303</td>\n",
       "      <td>28.140274</td>\n",
       "      <td>62.666667</td>\n",
       "    </tr>\n",
       "    <tr>\n",
       "      <td>3</td>\n",
       "      <td>product_cart</td>\n",
       "      <td>1079</td>\n",
       "      <td>13.184262</td>\n",
       "      <td>29.360544</td>\n",
       "    </tr>\n",
       "    <tr>\n",
       "      <td>2</td>\n",
       "      <td>purchase</td>\n",
       "      <td>1128</td>\n",
       "      <td>13.782991</td>\n",
       "      <td>30.693878</td>\n",
       "    </tr>\n",
       "  </tbody>\n",
       "</table>\n",
       "</div>"
      ],
      "text/plain": [
       "    event_types  number_of_users  percentage  total _percentage\n",
       "0         login             3674   44.892473          99.972789\n",
       "1  product_page             2303   28.140274          62.666667\n",
       "3  product_cart             1079   13.184262          29.360544\n",
       "2      purchase             1128   13.782991          30.693878"
      ]
     },
     "metadata": {},
     "output_type": "display_data"
    },
    {
     "data": {
      "text/html": [
       "<div>\n",
       "<style scoped>\n",
       "    .dataframe tbody tr th:only-of-type {\n",
       "        vertical-align: middle;\n",
       "    }\n",
       "\n",
       "    .dataframe tbody tr th {\n",
       "        vertical-align: top;\n",
       "    }\n",
       "\n",
       "    .dataframe thead th {\n",
       "        text-align: right;\n",
       "    }\n",
       "</style>\n",
       "<table border=\"1\" class=\"dataframe\">\n",
       "  <thead>\n",
       "    <tr style=\"text-align: right;\">\n",
       "      <th></th>\n",
       "      <th>event_types</th>\n",
       "      <th>number_of_users</th>\n",
       "      <th>percentage</th>\n",
       "      <th>total _percentage</th>\n",
       "      <th>users_left</th>\n",
       "      <th>percentage_of_users_gone</th>\n",
       "    </tr>\n",
       "  </thead>\n",
       "  <tbody>\n",
       "    <tr>\n",
       "      <td>0</td>\n",
       "      <td>login</td>\n",
       "      <td>3674</td>\n",
       "      <td>44.892473</td>\n",
       "      <td>99.972789</td>\n",
       "      <td>0</td>\n",
       "      <td>0.000000</td>\n",
       "    </tr>\n",
       "    <tr>\n",
       "      <td>1</td>\n",
       "      <td>product_page</td>\n",
       "      <td>2303</td>\n",
       "      <td>28.140274</td>\n",
       "      <td>62.666667</td>\n",
       "      <td>-1371</td>\n",
       "      <td>-37.316277</td>\n",
       "    </tr>\n",
       "    <tr>\n",
       "      <td>3</td>\n",
       "      <td>product_cart</td>\n",
       "      <td>1079</td>\n",
       "      <td>13.184262</td>\n",
       "      <td>29.360544</td>\n",
       "      <td>-1224</td>\n",
       "      <td>-53.148068</td>\n",
       "    </tr>\n",
       "    <tr>\n",
       "      <td>2</td>\n",
       "      <td>purchase</td>\n",
       "      <td>1128</td>\n",
       "      <td>13.782991</td>\n",
       "      <td>30.693878</td>\n",
       "      <td>49</td>\n",
       "      <td>4.541242</td>\n",
       "    </tr>\n",
       "  </tbody>\n",
       "</table>\n",
       "</div>"
      ],
      "text/plain": [
       "    event_types  number_of_users  percentage  total _percentage  users_left  \\\n",
       "0         login             3674   44.892473          99.972789           0   \n",
       "1  product_page             2303   28.140274          62.666667       -1371   \n",
       "3  product_cart             1079   13.184262          29.360544       -1224   \n",
       "2      purchase             1128   13.782991          30.693878          49   \n",
       "\n",
       "   percentage_of_users_gone  \n",
       "0                  0.000000  \n",
       "1                -37.316277  \n",
       "3                -53.148068  \n",
       "2                  4.541242  "
      ]
     },
     "metadata": {},
     "output_type": "display_data"
    }
   ],
   "source": [
    "tmp = repartition_of_users_unique.reindex([0,1,3,2]).copy()\n",
    "display(tmp)\n",
    "tmp['users_left'] = tmp['number_of_users'].diff().fillna(0).astype(int)\n",
    "tmp['percentage_of_users_gone'] = ( tmp['number_of_users'].pct_change()*100).fillna(0)\n",
    "display(tmp)"
   ]
  },
  {
   "cell_type": "markdown",
   "metadata": {},
   "source": [
    "-  Event type \"login\" has no users left.\n",
    "-  The percentage of users left at \"product_cart\" event is more compared to the other events."
   ]
  },
  {
   "cell_type": "code",
   "execution_count": 48,
   "metadata": {},
   "outputs": [
    {
     "data": {
      "text/html": [
       "<div>\n",
       "<style scoped>\n",
       "    .dataframe tbody tr th:only-of-type {\n",
       "        vertical-align: middle;\n",
       "    }\n",
       "\n",
       "    .dataframe tbody tr th {\n",
       "        vertical-align: top;\n",
       "    }\n",
       "\n",
       "    .dataframe thead th {\n",
       "        text-align: right;\n",
       "    }\n",
       "</style>\n",
       "<table border=\"1\" class=\"dataframe\">\n",
       "  <thead>\n",
       "    <tr style=\"text-align: right;\">\n",
       "      <th></th>\n",
       "      <th>event_types</th>\n",
       "      <th>number_of_users</th>\n",
       "      <th>percentage</th>\n",
       "      <th>total _percentage</th>\n",
       "    </tr>\n",
       "  </thead>\n",
       "  <tbody>\n",
       "    <tr>\n",
       "      <td>0</td>\n",
       "      <td>login</td>\n",
       "      <td>3674</td>\n",
       "      <td>44.892473</td>\n",
       "      <td>99.972789</td>\n",
       "    </tr>\n",
       "    <tr>\n",
       "      <td>1</td>\n",
       "      <td>product_page</td>\n",
       "      <td>2303</td>\n",
       "      <td>28.140274</td>\n",
       "      <td>62.666667</td>\n",
       "    </tr>\n",
       "    <tr>\n",
       "      <td>3</td>\n",
       "      <td>product_cart</td>\n",
       "      <td>1079</td>\n",
       "      <td>13.184262</td>\n",
       "      <td>29.360544</td>\n",
       "    </tr>\n",
       "    <tr>\n",
       "      <td>2</td>\n",
       "      <td>purchase</td>\n",
       "      <td>1128</td>\n",
       "      <td>13.782991</td>\n",
       "      <td>30.693878</td>\n",
       "    </tr>\n",
       "  </tbody>\n",
       "</table>\n",
       "</div>"
      ],
      "text/plain": [
       "    event_types  number_of_users  percentage  total _percentage\n",
       "0         login             3674   44.892473          99.972789\n",
       "1  product_page             2303   28.140274          62.666667\n",
       "3  product_cart             1079   13.184262          29.360544\n",
       "2      purchase             1128   13.782991          30.693878"
      ]
     },
     "metadata": {},
     "output_type": "display_data"
    },
    {
     "data": {
      "text/html": [
       "<div>\n",
       "<style scoped>\n",
       "    .dataframe tbody tr th:only-of-type {\n",
       "        vertical-align: middle;\n",
       "    }\n",
       "\n",
       "    .dataframe tbody tr th {\n",
       "        vertical-align: top;\n",
       "    }\n",
       "\n",
       "    .dataframe thead th {\n",
       "        text-align: right;\n",
       "    }\n",
       "</style>\n",
       "<table border=\"1\" class=\"dataframe\">\n",
       "  <thead>\n",
       "    <tr style=\"text-align: right;\">\n",
       "      <th></th>\n",
       "      <th>event_types</th>\n",
       "      <th>number_of_users</th>\n",
       "      <th>percentage</th>\n",
       "      <th>total _percentage</th>\n",
       "      <th>users_left</th>\n",
       "      <th>percentage_of_users_gone</th>\n",
       "    </tr>\n",
       "  </thead>\n",
       "  <tbody>\n",
       "    <tr>\n",
       "      <td>0</td>\n",
       "      <td>login</td>\n",
       "      <td>3674</td>\n",
       "      <td>44.892473</td>\n",
       "      <td>99.972789</td>\n",
       "      <td>0</td>\n",
       "      <td>0.000000</td>\n",
       "    </tr>\n",
       "    <tr>\n",
       "      <td>1</td>\n",
       "      <td>product_page</td>\n",
       "      <td>2303</td>\n",
       "      <td>28.140274</td>\n",
       "      <td>62.666667</td>\n",
       "      <td>-1371</td>\n",
       "      <td>-37.316277</td>\n",
       "    </tr>\n",
       "    <tr>\n",
       "      <td>3</td>\n",
       "      <td>product_cart</td>\n",
       "      <td>1079</td>\n",
       "      <td>13.184262</td>\n",
       "      <td>29.360544</td>\n",
       "      <td>-1224</td>\n",
       "      <td>-53.148068</td>\n",
       "    </tr>\n",
       "    <tr>\n",
       "      <td>2</td>\n",
       "      <td>purchase</td>\n",
       "      <td>1128</td>\n",
       "      <td>13.782991</td>\n",
       "      <td>30.693878</td>\n",
       "      <td>49</td>\n",
       "      <td>4.541242</td>\n",
       "    </tr>\n",
       "  </tbody>\n",
       "</table>\n",
       "</div>"
      ],
      "text/plain": [
       "    event_types  number_of_users  percentage  total _percentage  users_left  \\\n",
       "0         login             3674   44.892473          99.972789           0   \n",
       "1  product_page             2303   28.140274          62.666667       -1371   \n",
       "3  product_cart             1079   13.184262          29.360544       -1224   \n",
       "2      purchase             1128   13.782991          30.693878          49   \n",
       "\n",
       "   percentage_of_users_gone  \n",
       "0                  0.000000  \n",
       "1                -37.316277  \n",
       "3                -53.148068  \n",
       "2                  4.541242  "
      ]
     },
     "execution_count": 48,
     "metadata": {},
     "output_type": "execute_result"
    }
   ],
   "source": [
    "tmp = repartition_of_users_unique.reindex([0,1,3,2]).copy()\n",
    "display(tmp)\n",
    "\n",
    "# and re-calculate metrics:\n",
    "tmp['users_left'] = tmp['number_of_users'].diff().fillna(0).astype(int)\n",
    "tmp['percentage_of_users_gone'] = ( tmp['number_of_users'].pct_change()*100).fillna(0)\n",
    "tmp"
   ]
  },
  {
   "cell_type": "markdown",
   "metadata": {},
   "source": [
    "-  ab project marketing events earliest start date \"2020-01-25 00:00:00\" and latest start date \"2020-12-30 00:00:00\". On the other hand, ab project marketing events earliest finishing date \"2020-02-07 00:00:00\" and \"2021-01-07 00:00:00\".\n",
    "-  Final ab new users earliest first date \"2020-12-07 00:00:00\" and latest first date \"2020-12-23 00:00:00\" but according to the technical description of the project we stopped taking new users after \"2020-12-21\". So we would filer our dataset later.\n",
    "-  final ab events earliest event date \"2020-12-07 00:00:33\" and latest event date \"2020-12-30 23:36:33\".\n",
    "-  Number of new users in the EU region is 43396. According to the technical description of the project the percentage of new users in the EU region is 15% but in reality the percentage of new users in EU region is 73.93%.\n",
    "-  There are two types of ab test. One is \"interface_eu_test\" and the other is \"recommender_system_test\" but our goal is look into only \"recommender_system_test\" test. That's why I selected only recommender_system_test for ab test.\n",
    "-  I merged \"final_ab_new_users_upd_us\" and \"recommender_system_test_final_ab_participants_upd_us\" dataset.\n",
    "-  I again merged \"merged_data\"  and \"final_ab_events_upd_us\" dataset.\n",
    "-  \"new_merged_data\" dataset has four types of events named \"login\", \"product_page\", \"purchase\" and \"product_cart\". \"login\", \"product_page\", \"purchase\" and \"product_cart\" have number of users 182465, 120862, 60314 and 60120 respectively.\n",
    "-  The average number of events per user is 7. \n",
    "-  I separted test A and test B for the recommender_system_test.\n",
    "-  The average number of events per user for the group A is 7.\n",
    "-  The average number of events per user for the group B is 6.\n",
    "-  The number of events per user for the group A is between 2 to 24.\n",
    "-  The number of events per user for the group B is between 2 to 27.\n",
    "-  For group A event types \"login\", \"product_cart\", \"product_page\" and \"purchase\" have the percentage of the number of events are 296.01%, 88.8%, 191.82% and 93.97% respectively.\n",
    "-  For group B event types \"login\", \"product_cart\", \"product_page\" and \"purchase\" have the percentage of the number of events are 99.9%, 27.47%, 56.35% and 27.59% respectively.\n",
    "-  The number of events per user distributed equally among the samples.\n",
    "-  The number of more events were distributed between 2020-12-14 and 2020-12-24.\n",
    "-  For group A and the recommender system test we found only one event and that is \"Christmas&New Year Promo\".\n",
    "-  For group B and the recommender system test we found two events and those are \"Christmas&New Year Promo\" and \"CIS New Year Gift Lottery\".\n",
    "-  For group A and B \"Christmas&New Year Promo\" event is more popular.\n",
    "-  In the \"new_merged_data\" dataset, there are new users who joined after \"2020-12-21\". So I dropped out new users who came after \"2020-12-21\".\n",
    "-  After repartition the event \"login\",\"product_page\", \"purchase\" and \"product_cart\" have number of users are 10837, 6702, 3210 and 3160 respectively.\n",
    "-  After repartition the number of users unique per event \"login\",\"product_page\", \"purchase\" and \"product_cart\" have number of users are 3674, 2303, 1128 and 1079  respectively.\n",
    "-  Event \"login\" has no users left.\n",
    "-  The percentage of users left at \"product_cart\" event is more compared to the other events."
   ]
  },
  {
   "cell_type": "markdown",
   "metadata": {},
   "source": [
    "****"
   ]
  },
  {
   "cell_type": "markdown",
   "metadata": {},
   "source": [
    "<a id='the_destination3'></a>\n",
    "# Step 3. Evaluate the A/B test results"
   ]
  },
  {
   "cell_type": "markdown",
   "metadata": {},
   "source": [
    "**Number of users are there in each group:**"
   ]
  },
  {
   "cell_type": "code",
   "execution_count": 49,
   "metadata": {},
   "outputs": [
    {
     "data": {
      "text/html": [
       "<div>\n",
       "<style scoped>\n",
       "    .dataframe tbody tr th:only-of-type {\n",
       "        vertical-align: middle;\n",
       "    }\n",
       "\n",
       "    .dataframe tbody tr th {\n",
       "        vertical-align: top;\n",
       "    }\n",
       "\n",
       "    .dataframe thead th {\n",
       "        text-align: right;\n",
       "    }\n",
       "</style>\n",
       "<table border=\"1\" class=\"dataframe\">\n",
       "  <thead>\n",
       "    <tr style=\"text-align: right;\">\n",
       "      <th></th>\n",
       "      <th>group</th>\n",
       "      <th>user_id</th>\n",
       "    </tr>\n",
       "  </thead>\n",
       "  <tbody>\n",
       "    <tr>\n",
       "      <td>0</td>\n",
       "      <td>A</td>\n",
       "      <td>18627</td>\n",
       "    </tr>\n",
       "    <tr>\n",
       "      <td>1</td>\n",
       "      <td>B</td>\n",
       "      <td>5282</td>\n",
       "    </tr>\n",
       "  </tbody>\n",
       "</table>\n",
       "</div>"
      ],
      "text/plain": [
       "  group  user_id\n",
       "0     A    18627\n",
       "1     B     5282"
      ]
     },
     "execution_count": 49,
     "metadata": {},
     "output_type": "execute_result"
    }
   ],
   "source": [
    "new_merged_data.groupby('group')['user_id'].count().reset_index()"
   ]
  },
  {
   "cell_type": "markdown",
   "metadata": {},
   "source": [
    "Group \"A\" and \"B\" have 18627 and 5282 users respectively. "
   ]
  },
  {
   "cell_type": "markdown",
   "metadata": {},
   "source": [
    "**Number of users are there in each group for the \"new_events\" dataset:**"
   ]
  },
  {
   "cell_type": "code",
   "execution_count": 50,
   "metadata": {},
   "outputs": [
    {
     "data": {
      "text/html": [
       "<div>\n",
       "<style scoped>\n",
       "    .dataframe tbody tr th:only-of-type {\n",
       "        vertical-align: middle;\n",
       "    }\n",
       "\n",
       "    .dataframe tbody tr th {\n",
       "        vertical-align: top;\n",
       "    }\n",
       "\n",
       "    .dataframe thead th {\n",
       "        text-align: right;\n",
       "    }\n",
       "</style>\n",
       "<table border=\"1\" class=\"dataframe\">\n",
       "  <thead>\n",
       "    <tr style=\"text-align: right;\">\n",
       "      <th></th>\n",
       "      <th>group</th>\n",
       "      <th>number_of_users</th>\n",
       "      <th>percentage</th>\n",
       "    </tr>\n",
       "  </thead>\n",
       "  <tbody>\n",
       "    <tr>\n",
       "      <td>0</td>\n",
       "      <td>A</td>\n",
       "      <td>2747</td>\n",
       "      <td>74.75%</td>\n",
       "    </tr>\n",
       "    <tr>\n",
       "      <td>1</td>\n",
       "      <td>B</td>\n",
       "      <td>928</td>\n",
       "      <td>25.25%</td>\n",
       "    </tr>\n",
       "  </tbody>\n",
       "</table>\n",
       "</div>"
      ],
      "text/plain": [
       "  group  number_of_users percentage\n",
       "0     A             2747     74.75%\n",
       "1     B              928     25.25%"
      ]
     },
     "metadata": {},
     "output_type": "display_data"
    }
   ],
   "source": [
    "number_of_user_group_one = new_merged_data.groupby('group')['user_id'].nunique().reset_index()\n",
    "number_of_user_group_one.rename(columns = {'user_id': 'number_of_users'}, inplace=True)\n",
    "number_of_user_group_one['percentage'] = ((number_of_user_group_one['number_of_users'] / number_of_user_group_one['number_of_users'].sum()) * 100).map(\"{:,.2f}%\".format)\n",
    "display(number_of_user_group_one)"
   ]
  },
  {
   "cell_type": "markdown",
   "metadata": {},
   "source": [
    "In the \"new_events\" dataset, group \"A\" and \"B\" have 2747 and 928 users respectively."
   ]
  },
  {
   "cell_type": "markdown",
   "metadata": {},
   "source": [
    "**Number of unique users who performed each event:**"
   ]
  },
  {
   "cell_type": "code",
   "execution_count": 51,
   "metadata": {},
   "outputs": [
    {
     "data": {
      "text/html": [
       "<div>\n",
       "<style scoped>\n",
       "    .dataframe tbody tr th:only-of-type {\n",
       "        vertical-align: middle;\n",
       "    }\n",
       "\n",
       "    .dataframe tbody tr th {\n",
       "        vertical-align: top;\n",
       "    }\n",
       "\n",
       "    .dataframe thead th {\n",
       "        text-align: right;\n",
       "    }\n",
       "</style>\n",
       "<table border=\"1\" class=\"dataframe\">\n",
       "  <thead>\n",
       "    <tr style=\"text-align: right;\">\n",
       "      <th>group</th>\n",
       "      <th>event_name</th>\n",
       "      <th>group_A</th>\n",
       "      <th>group_B</th>\n",
       "    </tr>\n",
       "  </thead>\n",
       "  <tbody>\n",
       "    <tr>\n",
       "      <td>0</td>\n",
       "      <td>login</td>\n",
       "      <td>2747</td>\n",
       "      <td>927</td>\n",
       "    </tr>\n",
       "    <tr>\n",
       "      <td>1</td>\n",
       "      <td>product_cart</td>\n",
       "      <td>824</td>\n",
       "      <td>255</td>\n",
       "    </tr>\n",
       "    <tr>\n",
       "      <td>2</td>\n",
       "      <td>product_page</td>\n",
       "      <td>1780</td>\n",
       "      <td>523</td>\n",
       "    </tr>\n",
       "    <tr>\n",
       "      <td>3</td>\n",
       "      <td>purchase</td>\n",
       "      <td>872</td>\n",
       "      <td>256</td>\n",
       "    </tr>\n",
       "  </tbody>\n",
       "</table>\n",
       "</div>"
      ],
      "text/plain": [
       "group    event_name  group_A  group_B\n",
       "0             login     2747      927\n",
       "1      product_cart      824      255\n",
       "2      product_page     1780      523\n",
       "3          purchase      872      256"
      ]
     },
     "metadata": {},
     "output_type": "display_data"
    }
   ],
   "source": [
    "number_of_user_experiment = (new_merged_data.pivot_table(index = 'event_name', columns = 'group', values = 'user_id', aggfunc = 'nunique')).reset_index()\n",
    "number_of_user_experiment = number_of_user_experiment.rename(columns = {'A': 'group_A','B':'group_B'})\n",
    "display(number_of_user_experiment)"
   ]
  },
  {
   "cell_type": "markdown",
   "metadata": {},
   "source": [
    "**Selecting the most popular event:**"
   ]
  },
  {
   "cell_type": "code",
   "execution_count": 52,
   "metadata": {},
   "outputs": [
    {
     "data": {
      "text/html": [
       "<div>\n",
       "<style scoped>\n",
       "    .dataframe tbody tr th:only-of-type {\n",
       "        vertical-align: middle;\n",
       "    }\n",
       "\n",
       "    .dataframe tbody tr th {\n",
       "        vertical-align: top;\n",
       "    }\n",
       "\n",
       "    .dataframe thead th {\n",
       "        text-align: right;\n",
       "    }\n",
       "</style>\n",
       "<table border=\"1\" class=\"dataframe\">\n",
       "  <thead>\n",
       "    <tr style=\"text-align: right;\">\n",
       "      <th>group</th>\n",
       "      <th>event_name</th>\n",
       "      <th>group_A</th>\n",
       "      <th>group_B</th>\n",
       "    </tr>\n",
       "  </thead>\n",
       "  <tbody>\n",
       "    <tr>\n",
       "      <td>0</td>\n",
       "      <td>login</td>\n",
       "      <td>2747</td>\n",
       "      <td>927</td>\n",
       "    </tr>\n",
       "  </tbody>\n",
       "</table>\n",
       "</div>"
      ],
      "text/plain": [
       "group event_name  group_A  group_B\n",
       "0          login     2747      927"
      ]
     },
     "metadata": {},
     "output_type": "display_data"
    }
   ],
   "source": [
    "group = number_of_user_experiment[number_of_user_experiment['event_name'] == 'login']\n",
    "display(group)"
   ]
  },
  {
   "cell_type": "markdown",
   "metadata": {},
   "source": [
    "The most popular event name is \"login\"."
   ]
  },
  {
   "cell_type": "markdown",
   "metadata": {},
   "source": [
    "**Finding the share in each group: number of users in each group / total  number of users in each  group:**"
   ]
  },
  {
   "cell_type": "code",
   "execution_count": 53,
   "metadata": {},
   "outputs": [
    {
     "name": "stderr",
     "output_type": "stream",
     "text": [
      "/opt/conda/lib/python3.7/site-packages/ipykernel_launcher.py:1: SettingWithCopyWarning: \n",
      "A value is trying to be set on a copy of a slice from a DataFrame.\n",
      "Try using .loc[row_indexer,col_indexer] = value instead\n",
      "\n",
      "See the caveats in the documentation: http://pandas.pydata.org/pandas-docs/stable/user_guide/indexing.html#returning-a-view-versus-a-copy\n",
      "  \"\"\"Entry point for launching an IPython kernel.\n",
      "/opt/conda/lib/python3.7/site-packages/ipykernel_launcher.py:2: SettingWithCopyWarning: \n",
      "A value is trying to be set on a copy of a slice from a DataFrame.\n",
      "Try using .loc[row_indexer,col_indexer] = value instead\n",
      "\n",
      "See the caveats in the documentation: http://pandas.pydata.org/pandas-docs/stable/user_guide/indexing.html#returning-a-view-versus-a-copy\n",
      "  \n"
     ]
    },
    {
     "data": {
      "text/html": [
       "<div>\n",
       "<style scoped>\n",
       "    .dataframe tbody tr th:only-of-type {\n",
       "        vertical-align: middle;\n",
       "    }\n",
       "\n",
       "    .dataframe tbody tr th {\n",
       "        vertical-align: top;\n",
       "    }\n",
       "\n",
       "    .dataframe thead th {\n",
       "        text-align: right;\n",
       "    }\n",
       "</style>\n",
       "<table border=\"1\" class=\"dataframe\">\n",
       "  <thead>\n",
       "    <tr style=\"text-align: right;\">\n",
       "      <th>group</th>\n",
       "      <th>event_name</th>\n",
       "      <th>group_A</th>\n",
       "      <th>group_B</th>\n",
       "      <th>group_A_share</th>\n",
       "      <th>group_B_share</th>\n",
       "    </tr>\n",
       "  </thead>\n",
       "  <tbody>\n",
       "    <tr>\n",
       "      <td>0</td>\n",
       "      <td>login</td>\n",
       "      <td>2747</td>\n",
       "      <td>927</td>\n",
       "      <td>100.0</td>\n",
       "      <td>99.892241</td>\n",
       "    </tr>\n",
       "  </tbody>\n",
       "</table>\n",
       "</div>"
      ],
      "text/plain": [
       "group event_name  group_A  group_B  group_A_share  group_B_share\n",
       "0          login     2747      927          100.0      99.892241"
      ]
     },
     "metadata": {},
     "output_type": "display_data"
    }
   ],
   "source": [
    "group['group_A_share'] = (group['group_A'] / number_of_user_group_one.loc[0,'number_of_users'] )* 100\n",
    "group['group_B_share'] = (group['group_B'] / number_of_user_group_one.loc[1,'number_of_users'] )* 100\n",
    "display(group)"
   ]
  },
  {
   "cell_type": "markdown",
   "metadata": {},
   "source": [
    "The share in each group are almost same and that is 100.0."
   ]
  },
  {
   "cell_type": "markdown",
   "metadata": {},
   "source": [
    "**Function set to be compiled in a table:**"
   ]
  },
  {
   "cell_type": "code",
   "execution_count": 54,
   "metadata": {},
   "outputs": [
    {
     "data": {
      "text/html": [
       "<div>\n",
       "<style scoped>\n",
       "    .dataframe tbody tr th:only-of-type {\n",
       "        vertical-align: middle;\n",
       "    }\n",
       "\n",
       "    .dataframe tbody tr th {\n",
       "        vertical-align: top;\n",
       "    }\n",
       "\n",
       "    .dataframe thead th {\n",
       "        text-align: right;\n",
       "    }\n",
       "</style>\n",
       "<table border=\"1\" class=\"dataframe\">\n",
       "  <thead>\n",
       "    <tr style=\"text-align: right;\">\n",
       "      <th></th>\n",
       "      <th>user_id</th>\n",
       "      <th>first_date</th>\n",
       "      <th>region</th>\n",
       "      <th>device</th>\n",
       "      <th>group</th>\n",
       "      <th>ab_test</th>\n",
       "      <th>event_dt</th>\n",
       "      <th>event_name</th>\n",
       "      <th>details</th>\n",
       "    </tr>\n",
       "  </thead>\n",
       "  <tbody>\n",
       "    <tr>\n",
       "      <td>0</td>\n",
       "      <td>D72A72121175D8BE</td>\n",
       "      <td>2020-12-07</td>\n",
       "      <td>EU</td>\n",
       "      <td>PC</td>\n",
       "      <td>A</td>\n",
       "      <td>recommender_system_test</td>\n",
       "      <td>2020-12-07 21:52:10</td>\n",
       "      <td>product_page</td>\n",
       "      <td>NaN</td>\n",
       "    </tr>\n",
       "    <tr>\n",
       "      <td>1</td>\n",
       "      <td>D72A72121175D8BE</td>\n",
       "      <td>2020-12-07</td>\n",
       "      <td>EU</td>\n",
       "      <td>PC</td>\n",
       "      <td>A</td>\n",
       "      <td>recommender_system_test</td>\n",
       "      <td>2020-12-07 21:52:07</td>\n",
       "      <td>login</td>\n",
       "      <td>NaN</td>\n",
       "    </tr>\n",
       "    <tr>\n",
       "      <td>2</td>\n",
       "      <td>DD4352CDCF8C3D57</td>\n",
       "      <td>2020-12-07</td>\n",
       "      <td>EU</td>\n",
       "      <td>Android</td>\n",
       "      <td>B</td>\n",
       "      <td>recommender_system_test</td>\n",
       "      <td>2020-12-07 15:32:54</td>\n",
       "      <td>product_page</td>\n",
       "      <td>NaN</td>\n",
       "    </tr>\n",
       "    <tr>\n",
       "      <td>3</td>\n",
       "      <td>DD4352CDCF8C3D57</td>\n",
       "      <td>2020-12-07</td>\n",
       "      <td>EU</td>\n",
       "      <td>Android</td>\n",
       "      <td>B</td>\n",
       "      <td>recommender_system_test</td>\n",
       "      <td>2020-12-08 08:29:31</td>\n",
       "      <td>product_page</td>\n",
       "      <td>NaN</td>\n",
       "    </tr>\n",
       "    <tr>\n",
       "      <td>4</td>\n",
       "      <td>DD4352CDCF8C3D57</td>\n",
       "      <td>2020-12-07</td>\n",
       "      <td>EU</td>\n",
       "      <td>Android</td>\n",
       "      <td>B</td>\n",
       "      <td>recommender_system_test</td>\n",
       "      <td>2020-12-10 18:18:27</td>\n",
       "      <td>product_page</td>\n",
       "      <td>NaN</td>\n",
       "    </tr>\n",
       "  </tbody>\n",
       "</table>\n",
       "</div>"
      ],
      "text/plain": [
       "            user_id first_date region   device group                  ab_test  \\\n",
       "0  D72A72121175D8BE 2020-12-07     EU       PC     A  recommender_system_test   \n",
       "1  D72A72121175D8BE 2020-12-07     EU       PC     A  recommender_system_test   \n",
       "2  DD4352CDCF8C3D57 2020-12-07     EU  Android     B  recommender_system_test   \n",
       "3  DD4352CDCF8C3D57 2020-12-07     EU  Android     B  recommender_system_test   \n",
       "4  DD4352CDCF8C3D57 2020-12-07     EU  Android     B  recommender_system_test   \n",
       "\n",
       "             event_dt    event_name  details  \n",
       "0 2020-12-07 21:52:10  product_page      NaN  \n",
       "1 2020-12-07 21:52:07         login      NaN  \n",
       "2 2020-12-07 15:32:54  product_page      NaN  \n",
       "3 2020-12-08 08:29:31  product_page      NaN  \n",
       "4 2020-12-10 18:18:27  product_page      NaN  "
      ]
     },
     "execution_count": 54,
     "metadata": {},
     "output_type": "execute_result"
    }
   ],
   "source": [
    "def z_test(trial_1, success_1, trial_2, success_2, alpha):\n",
    "    p1 = success_1 / trial_1\n",
    "    p2 = success_2 / trial_2\n",
    "    p_combined = (p1 * trial_1 + p2 * trial_2) / (trial_1 + trial_2)\n",
    "    difference = p1 - p2\n",
    "    z_value = difference / mth.sqrt(p_combined * (1 - p_combined) * (1 / trial_1 + 1 / trial_2))\n",
    "    distr = st.norm(0,1)\n",
    "    return (1 - distr.cdf(abs(z_value))) * 2\n",
    "newly = new_merged_data\n",
    "newly.head()"
   ]
  },
  {
   "cell_type": "markdown",
   "metadata": {},
   "source": [
    "**Total number of unique users in each test group:**"
   ]
  },
  {
   "cell_type": "code",
   "execution_count": 55,
   "metadata": {
    "scrolled": true
   },
   "outputs": [
    {
     "data": {
      "text/plain": [
       "group\n",
       "A           2747\n",
       "B            928\n",
       "combined    3675\n",
       "Name: user_id, dtype: int64"
      ]
     },
     "metadata": {},
     "output_type": "display_data"
    }
   ],
   "source": [
    "total_number = newly.groupby('group').agg({'user_id':'nunique'})['user_id']\n",
    "total_number['combined'] = total_number['A'] + total_number['B']\n",
    "display(total_number)"
   ]
  },
  {
   "cell_type": "markdown",
   "metadata": {},
   "source": [
    "Groups \"A\" and \"B\" have unique users are 2747 and 928 respectively."
   ]
  },
  {
   "cell_type": "markdown",
   "metadata": {},
   "source": [
    "**Creating pivot table:**"
   ]
  },
  {
   "cell_type": "code",
   "execution_count": 56,
   "metadata": {},
   "outputs": [
    {
     "data": {
      "text/html": [
       "<div>\n",
       "<style scoped>\n",
       "    .dataframe tbody tr th:only-of-type {\n",
       "        vertical-align: middle;\n",
       "    }\n",
       "\n",
       "    .dataframe tbody tr th {\n",
       "        vertical-align: top;\n",
       "    }\n",
       "\n",
       "    .dataframe thead th {\n",
       "        text-align: right;\n",
       "    }\n",
       "</style>\n",
       "<table border=\"1\" class=\"dataframe\">\n",
       "  <thead>\n",
       "    <tr style=\"text-align: right;\">\n",
       "      <th>group</th>\n",
       "      <th>A</th>\n",
       "      <th>B</th>\n",
       "      <th>combined</th>\n",
       "    </tr>\n",
       "    <tr>\n",
       "      <th>event_name</th>\n",
       "      <th></th>\n",
       "      <th></th>\n",
       "      <th></th>\n",
       "    </tr>\n",
       "  </thead>\n",
       "  <tbody>\n",
       "    <tr>\n",
       "      <td>login</td>\n",
       "      <td>2747</td>\n",
       "      <td>927</td>\n",
       "      <td>3674</td>\n",
       "    </tr>\n",
       "    <tr>\n",
       "      <td>product_cart</td>\n",
       "      <td>824</td>\n",
       "      <td>255</td>\n",
       "      <td>1079</td>\n",
       "    </tr>\n",
       "    <tr>\n",
       "      <td>product_page</td>\n",
       "      <td>1780</td>\n",
       "      <td>523</td>\n",
       "      <td>2303</td>\n",
       "    </tr>\n",
       "    <tr>\n",
       "      <td>purchase</td>\n",
       "      <td>872</td>\n",
       "      <td>256</td>\n",
       "      <td>1128</td>\n",
       "    </tr>\n",
       "  </tbody>\n",
       "</table>\n",
       "</div>"
      ],
      "text/plain": [
       "group            A    B  combined\n",
       "event_name                       \n",
       "login         2747  927      3674\n",
       "product_cart   824  255      1079\n",
       "product_page  1780  523      2303\n",
       "purchase       872  256      1128"
      ]
     },
     "metadata": {},
     "output_type": "display_data"
    }
   ],
   "source": [
    "hypothese = newly.pivot_table(index='event_name', columns='group', values='user_id', aggfunc='nunique')\n",
    "hypothese['combined'] = hypothese['A'] + hypothese['B']\n",
    "display(hypothese)"
   ]
  },
  {
   "cell_type": "markdown",
   "metadata": {},
   "source": [
    "**Setting significance level:**"
   ]
  },
  {
   "cell_type": "code",
   "execution_count": 57,
   "metadata": {},
   "outputs": [
    {
     "data": {
      "text/html": [
       "<div>\n",
       "<style scoped>\n",
       "    .dataframe tbody tr th:only-of-type {\n",
       "        vertical-align: middle;\n",
       "    }\n",
       "\n",
       "    .dataframe tbody tr th {\n",
       "        vertical-align: top;\n",
       "    }\n",
       "\n",
       "    .dataframe thead th {\n",
       "        text-align: right;\n",
       "    }\n",
       "</style>\n",
       "<table border=\"1\" class=\"dataframe\">\n",
       "  <thead>\n",
       "    <tr style=\"text-align: right;\">\n",
       "      <th>group</th>\n",
       "      <th>A</th>\n",
       "      <th>B</th>\n",
       "      <th>combined</th>\n",
       "      <th>alpha</th>\n",
       "    </tr>\n",
       "    <tr>\n",
       "      <th>event_name</th>\n",
       "      <th></th>\n",
       "      <th></th>\n",
       "      <th></th>\n",
       "      <th></th>\n",
       "    </tr>\n",
       "  </thead>\n",
       "  <tbody>\n",
       "    <tr>\n",
       "      <td>login</td>\n",
       "      <td>2747</td>\n",
       "      <td>927</td>\n",
       "      <td>3674</td>\n",
       "      <td>0.05</td>\n",
       "    </tr>\n",
       "    <tr>\n",
       "      <td>product_cart</td>\n",
       "      <td>824</td>\n",
       "      <td>255</td>\n",
       "      <td>1079</td>\n",
       "      <td>0.05</td>\n",
       "    </tr>\n",
       "    <tr>\n",
       "      <td>product_page</td>\n",
       "      <td>1780</td>\n",
       "      <td>523</td>\n",
       "      <td>2303</td>\n",
       "      <td>0.05</td>\n",
       "    </tr>\n",
       "    <tr>\n",
       "      <td>purchase</td>\n",
       "      <td>872</td>\n",
       "      <td>256</td>\n",
       "      <td>1128</td>\n",
       "      <td>0.05</td>\n",
       "    </tr>\n",
       "  </tbody>\n",
       "</table>\n",
       "</div>"
      ],
      "text/plain": [
       "group            A    B  combined  alpha\n",
       "event_name                              \n",
       "login         2747  927      3674   0.05\n",
       "product_cart   824  255      1079   0.05\n",
       "product_page  1780  523      2303   0.05\n",
       "purchase       872  256      1128   0.05"
      ]
     },
     "metadata": {},
     "output_type": "display_data"
    }
   ],
   "source": [
    "hypothese['alpha'] = 0.05\n",
    "display(hypothese)"
   ]
  },
  {
   "cell_type": "markdown",
   "metadata": {},
   "source": [
    "**Hypothsis formulation:**\n",
    "\n",
    "- Null Hypothesis (H_0) : There is not statistically significant difference between groups \"A\" and \"B\" and alpha = 0.05.\n",
    "\n",
    "\n",
    "- Alternative hypothesis (H_1) : There is a statistically significant difference between groups \"A\" and \"B\" and alpha = 0.05."
   ]
  },
  {
   "cell_type": "markdown",
   "metadata": {},
   "source": [
    "**Using z-test for checking the statistical difference between the proportions:**"
   ]
  },
  {
   "cell_type": "code",
   "execution_count": 58,
   "metadata": {},
   "outputs": [
    {
     "data": {
      "text/html": [
       "<div>\n",
       "<style scoped>\n",
       "    .dataframe tbody tr th:only-of-type {\n",
       "        vertical-align: middle;\n",
       "    }\n",
       "\n",
       "    .dataframe tbody tr th {\n",
       "        vertical-align: top;\n",
       "    }\n",
       "\n",
       "    .dataframe thead th {\n",
       "        text-align: right;\n",
       "    }\n",
       "</style>\n",
       "<table border=\"1\" class=\"dataframe\">\n",
       "  <thead>\n",
       "    <tr style=\"text-align: right;\">\n",
       "      <th>group</th>\n",
       "      <th>A</th>\n",
       "      <th>B</th>\n",
       "      <th>combined</th>\n",
       "      <th>alpha</th>\n",
       "      <th>p-value_A_B</th>\n",
       "    </tr>\n",
       "    <tr>\n",
       "      <th>event_name</th>\n",
       "      <th></th>\n",
       "      <th></th>\n",
       "      <th></th>\n",
       "      <th></th>\n",
       "      <th></th>\n",
       "    </tr>\n",
       "  </thead>\n",
       "  <tbody>\n",
       "    <tr>\n",
       "      <td>login</td>\n",
       "      <td>2747</td>\n",
       "      <td>927</td>\n",
       "      <td>3674</td>\n",
       "      <td>0.05</td>\n",
       "      <td>0.085299</td>\n",
       "    </tr>\n",
       "    <tr>\n",
       "      <td>product_cart</td>\n",
       "      <td>824</td>\n",
       "      <td>255</td>\n",
       "      <td>1079</td>\n",
       "      <td>0.05</td>\n",
       "      <td>0.145348</td>\n",
       "    </tr>\n",
       "    <tr>\n",
       "      <td>product_page</td>\n",
       "      <td>1780</td>\n",
       "      <td>523</td>\n",
       "      <td>2303</td>\n",
       "      <td>0.05</td>\n",
       "      <td>0.000004</td>\n",
       "    </tr>\n",
       "    <tr>\n",
       "      <td>purchase</td>\n",
       "      <td>872</td>\n",
       "      <td>256</td>\n",
       "      <td>1128</td>\n",
       "      <td>0.05</td>\n",
       "      <td>0.017592</td>\n",
       "    </tr>\n",
       "  </tbody>\n",
       "</table>\n",
       "</div>"
      ],
      "text/plain": [
       "group            A    B  combined  alpha  p-value_A_B\n",
       "event_name                                           \n",
       "login         2747  927      3674   0.05     0.085299\n",
       "product_cart   824  255      1079   0.05     0.145348\n",
       "product_page  1780  523      2303   0.05     0.000004\n",
       "purchase       872  256      1128   0.05     0.017592"
      ]
     },
     "metadata": {},
     "output_type": "display_data"
    }
   ],
   "source": [
    "hypothese['p-value_A_B'] = hypothese.apply(lambda x: z_test(total_number['A'], x['A'], total_number['B'], x['B'], hypothese['alpha']), axis=1)\n",
    "display(hypothese)"
   ]
  },
  {
   "cell_type": "markdown",
   "metadata": {},
   "source": [
    "For the event type \"login\", \"product_cart\" and \"purchase\" case p-value is greater than the significance level. So there's no reason to reject H₀ and this called type II error or false negative result. On the other hand, event type \"product_page\" case p-value is lower than the significance level. As a result, there are grounds for rejecting H₀ and this is called type I error or false positive result."
   ]
  },
  {
   "cell_type": "markdown",
   "metadata": {},
   "source": [
    "-  Group \"A\" and \"B\" have 18627 and 5282 users respectively. \n",
    "-  In the \"new_events\" dataset, group \"A\" and \"B\" have 2747 and 928 users respectively.\n",
    "-  The most popular event name is \"login\".\n",
    "-  The share in each group are almost same and that is 100.0.\n",
    "-  Groups \"A\" and \"B\" have unique users are 2747 and 928 respectively.\n",
    "-  For the event type \"login\", \"product_cart\" and \"purchase\" case p-value is greater than the significance level. So there's no reason to reject H₀ and this called type II error or false negative result. On the other hand, event type \"product_page\" case p-value is lower than the significance level. As a result, there are grounds for rejecting H₀ and this is called type I error or false positive result."
   ]
  },
  {
   "cell_type": "markdown",
   "metadata": {},
   "source": [
    "****"
   ]
  },
  {
   "cell_type": "markdown",
   "metadata": {},
   "source": [
    "<a id='the_destination4'></a>\n",
    "# Step 4. Overall conclusion"
   ]
  },
  {
   "cell_type": "markdown",
   "metadata": {},
   "source": [
    "- From \"ab_project_marketing_events_us\" dataset we get,\n",
    "  -  In the \"ab_project_marketing_events_us\" dataset, there are 14 rows and 4 columns. Columns name are \"name\", \"regions\", \"start_dt\" and \"finsih_dt\".\n",
    "  -  In the \"ab_project_marketing_events_us\" dataset, all of the columns are object datatype.\n",
    "  -  I converted \"start_dt\" and \"finish_dt\" columns from object to datetime type.\n",
    "  -  There is no missing values in the \"ab_project_marketing_events_us\" dataset.\n",
    "  -  There is no duplicate values in the \"ab_project_marketing_events_us\" dataset.\n",
    "- From the \"final_ab_new_users_upd_us\" dataset:\n",
    "  -  In the \"final_ab_new_users_upd_us\" dataset, there are 58703 rows and 3 columns. Columns name are \"user_id\", \"first_date\", \"region\" and \"device\".\n",
    "  -  In the \"final_ab_new_users_upd_us\" dataset, all of the columns are object data type.\n",
    "  -  In the \"final_ab_new_users_upd_us\" dataset, I converted \"first_date\" column from object to datetime type.\n",
    "  -  There is no missing values in the \"final_ab_new_users_upd_us\" dataset.\n",
    "  -  There is no duplicate values in the \"final_ab_new_users_upd_us\" dataset.\n",
    "-  From \"final_ab_events_upd_us\" dataset\n",
    "   -  In the \"final_ab_events_upd_us\" dataset, there are 423761 rows and 4 columns. Columns name are \"user_id\", \"event_dt\", \"event_name\" and \"details\".\n",
    "   -  In the \"final_ab_events_upd_us\" dataset, \"user_id\", \"event_dt\", \"event_name\" columns are object datatype and \"details\" column is float datatype. \n",
    "   -  I converted \"event_dt\" column from object to datetime type.\n",
    "   -  In the \"final_ab_events_upd_us\" dataset, \"details\" column has 363447 missing values but according to the description of the project those are non-purchase events.\n",
    "   -  In the \"final_ab_events_upd_us\" dataset, there is no duplicate values.\n",
    "- From \"final_ab_participants_upd_us\" dataset,\n",
    "   -  In the \"final_ab_participants_upd_us\" dataset, there are 14525 rows and 3 columns. Columns name are \"user_id\", \"group\" and \"ab_test\".\n",
    "   -  In the \"final_ab_participants_upd_us\" dataset, all of the columns are obejct type.\n",
    "   -  In the \"final_ab_participants_upd_us\" dataset, there is no missing values.\n",
    "   -  In the \"final_ab_participants_upd_us\" dataset, there is no duplicate values.\n",
    "   -  ab project marketing events earliest start date \"2020-01-25 00:00:00\" and latest start date \"2020-12-30 00:00:00\". On the other hand, ab project marketing events earliest finishing date \"2020-02-07 00:00:00\" and \"2021-01-07 00:00:00\".\n",
    "   \n",
    "   \n",
    "   \n",
    "   \n",
    "   \n",
    "-  Final ab new users earliest first date \"2020-12-07 00:00:00\" and latest first date \"2020-12-23 00:00:00\" but according to the technical description of the project we stopped taking new users after \"2020-12-21\". So we would filer our dataset later.\n",
    "-  final ab events earliest event date \"2020-12-07 00:00:33\" and latest event date \"2020-12-30 23:36:33\".\n",
    "-  Number of new users in the EU region is 43396. According to the technical description of the project the percentage of new users in the EU region is 15% but in reality the percentage of new users in EU region is 73.93%.\n",
    "-  There are two types of ab test. One is \"interface_eu_test\" and the other is \"recommender_system_test\" but our goal is look into only \"recommender_system_test\" test. That's why I selected only recommender_system_test for ab test.\n",
    "-  I merged \"final_ab_new_users_upd_us\" and \"recommender_system_test_final_ab_participants_upd_us\" dataset.\n",
    "-  I again merged \"merged_data\"  and \"final_ab_events_upd_us\" dataset.\n",
    "-  \"new_merged_data\" dataset has four types of events named \"login\", \"product_page\", \"purchase\" and \"product_cart\". \"login\", \"product_page\", \"purchase\" and \"product_cart\" have number of users 182465, 120862, 60314 and 60120 respectively.\n",
    "-  The average number of events per user is 7. \n",
    "-  I separted test A and test B for the recommender_system_test.\n",
    "-  The average number of events per user for the group A is 7.\n",
    "-  The average number of events per user for the group B is 6.\n",
    "-  The number of events per user for the group A is between 2 to 24.\n",
    "-  The number of events per user for the group B is between 2 to 27.\n",
    "-  For group A event types \"login\", \"product_cart\", \"product_page\" and \"purchase\" have the percentage of the number of events are 296.01%, 88.8%, 191.82% and 93.97% respectively.\n",
    "-  For group B event types \"login\", \"product_cart\", \"product_page\" and \"purchase\" have the percentage of the number of events are 99.9%, 27.47%, 56.35% and 27.59% respectively.\n",
    "-  The number of events per user distributed equally among the samples.\n",
    "-  The number of more events were distributed between 2020-12-14 and 2020-12-24.\n",
    "-  For group A and the recommender system test we found only one event and that is \"Christmas&New Year Promo\".\n",
    "-  For group B and the recommender system test we found two events and those are \"Christmas&New Year Promo\" and \"CIS New Year Gift Lottery\".\n",
    "-  For group A and B \"Christmas&New Year Promo\" event is more popular.\n",
    "-  In the \"new_merged_data\" dataset, there are new users who joined after \"2020-12-21\". So I dropped out new users who came after \"2020-12-21\".\n",
    "-  After repartition the event \"login\",\"product_page\", \"purchase\" and \"product_cart\" have number of users are 10837, 6702, 3210 and 3160 respectively.\n",
    "-  After repartition the number of users unique per event \"login\",\"product_page\", \"purchase\" and \"product_cart\" have number of users are 3674, 2303, 1128 and 1079  respectively.\n",
    "-  Event \"login\" has no users left.\n",
    "-  The percentage of users left at \"product_cart\" event is more compared to the other events.\n",
    " \n",
    "\n",
    "\n",
    "\n",
    "-  Group \"A\" and \"B\" have 18627 and 5282 users respectively. \n",
    "-  In the \"new_events\" dataset, group \"A\" and \"B\" have 2747 and 928 users respectively.\n",
    "-  The most popular event name is \"login\".\n",
    "-  The share in each group are almost same and that is 100.0.\n",
    "-  Groups \"A\" and \"B\" have unique users are 2747 and 928 respectively.\n",
    "-  For the event type \"login\", \"product_cart\" and \"purchase\" case p-value is greater than the significance level. So there's no reason to reject H₀ and this called type II error or false negative result. On the other hand, event type \"product_page\" case p-value is lower than the significance level. As a result, there are grounds for rejecting H₀ and this is called type I error or false positive result."
   ]
  },
  {
   "cell_type": "code",
   "execution_count": null,
   "metadata": {},
   "outputs": [],
   "source": []
  },
  {
   "cell_type": "markdown",
   "metadata": {},
   "source": [
    "****"
   ]
  }
 ],
 "metadata": {
  "ExecuteTimeLog": [
   {
    "duration": 589,
    "start_time": "2022-01-29T19:37:26.291Z"
   },
   {
    "duration": 926,
    "start_time": "2022-01-29T19:37:26.882Z"
   },
   {
    "duration": 4,
    "start_time": "2022-01-29T19:37:27.810Z"
   },
   {
    "duration": 9,
    "start_time": "2022-01-29T19:37:27.815Z"
   },
   {
    "duration": 503,
    "start_time": "2022-01-29T19:41:08.057Z"
   },
   {
    "duration": 902,
    "start_time": "2022-01-29T19:41:08.562Z"
   },
   {
    "duration": 3,
    "start_time": "2022-01-29T19:41:09.466Z"
   },
   {
    "duration": 9,
    "start_time": "2022-01-29T19:41:09.471Z"
   },
   {
    "duration": 8,
    "start_time": "2022-01-29T19:41:09.481Z"
   },
   {
    "duration": 5,
    "start_time": "2022-01-29T19:41:09.491Z"
   },
   {
    "duration": 233,
    "start_time": "2022-01-29T20:17:58.305Z"
   },
   {
    "duration": 529,
    "start_time": "2022-01-29T20:18:04.163Z"
   },
   {
    "duration": 907,
    "start_time": "2022-01-29T20:18:04.695Z"
   },
   {
    "duration": 4,
    "start_time": "2022-01-29T20:18:05.604Z"
   },
   {
    "duration": 10,
    "start_time": "2022-01-29T20:18:05.610Z"
   },
   {
    "duration": 7,
    "start_time": "2022-01-29T20:18:05.621Z"
   },
   {
    "duration": 6,
    "start_time": "2022-01-29T20:18:05.630Z"
   },
   {
    "duration": 6996,
    "start_time": "2022-01-29T20:18:05.637Z"
   },
   {
    "duration": 4,
    "start_time": "2022-01-29T20:18:12.636Z"
   },
   {
    "duration": 21,
    "start_time": "2022-01-29T20:18:12.642Z"
   },
   {
    "duration": 10,
    "start_time": "2022-01-29T20:18:12.665Z"
   },
   {
    "duration": 56,
    "start_time": "2022-01-29T20:18:12.677Z"
   },
   {
    "duration": 18658,
    "start_time": "2022-01-29T20:18:12.735Z"
   },
   {
    "duration": 4,
    "start_time": "2022-01-29T20:18:31.395Z"
   },
   {
    "duration": 114,
    "start_time": "2022-01-29T20:18:31.400Z"
   },
   {
    "duration": 39,
    "start_time": "2022-01-29T20:18:31.516Z"
   },
   {
    "duration": 13,
    "start_time": "2022-01-29T20:18:31.557Z"
   },
   {
    "duration": 163,
    "start_time": "2022-01-29T20:18:31.572Z"
   },
   {
    "duration": 2784,
    "start_time": "2022-01-29T20:18:31.736Z"
   },
   {
    "duration": 5,
    "start_time": "2022-01-29T20:18:34.521Z"
   },
   {
    "duration": 6,
    "start_time": "2022-01-29T20:21:37.282Z"
   },
   {
    "duration": 9,
    "start_time": "2022-01-29T20:22:42.162Z"
   },
   {
    "duration": 54,
    "start_time": "2022-01-29T20:23:02.216Z"
   },
   {
    "duration": 259,
    "start_time": "2022-01-29T20:24:40.337Z"
   },
   {
    "duration": 534,
    "start_time": "2022-01-29T20:25:39.354Z"
   },
   {
    "duration": 924,
    "start_time": "2022-01-29T20:25:39.890Z"
   },
   {
    "duration": 4,
    "start_time": "2022-01-29T20:25:40.816Z"
   },
   {
    "duration": 8,
    "start_time": "2022-01-29T20:25:40.822Z"
   },
   {
    "duration": 7,
    "start_time": "2022-01-29T20:25:40.831Z"
   },
   {
    "duration": 6,
    "start_time": "2022-01-29T20:25:40.840Z"
   },
   {
    "duration": 3811,
    "start_time": "2022-01-29T20:25:40.847Z"
   },
   {
    "duration": 4,
    "start_time": "2022-01-29T20:25:44.660Z"
   },
   {
    "duration": 24,
    "start_time": "2022-01-29T20:25:44.665Z"
   },
   {
    "duration": 30,
    "start_time": "2022-01-29T20:25:44.690Z"
   },
   {
    "duration": 27,
    "start_time": "2022-01-29T20:25:44.722Z"
   },
   {
    "duration": 8040,
    "start_time": "2022-01-29T20:25:44.751Z"
   },
   {
    "duration": 5,
    "start_time": "2022-01-29T20:25:52.793Z"
   },
   {
    "duration": 117,
    "start_time": "2022-01-29T20:25:52.799Z"
   },
   {
    "duration": 38,
    "start_time": "2022-01-29T20:25:52.917Z"
   },
   {
    "duration": 12,
    "start_time": "2022-01-29T20:25:52.957Z"
   },
   {
    "duration": 164,
    "start_time": "2022-01-29T20:25:52.970Z"
   },
   {
    "duration": 3717,
    "start_time": "2022-01-29T20:25:53.136Z"
   },
   {
    "duration": 4,
    "start_time": "2022-01-29T20:25:56.855Z"
   },
   {
    "duration": 9,
    "start_time": "2022-01-29T20:25:56.860Z"
   },
   {
    "duration": 9,
    "start_time": "2022-01-29T20:25:56.870Z"
   },
   {
    "duration": 57,
    "start_time": "2022-01-29T20:33:03.027Z"
   },
   {
    "duration": 14,
    "start_time": "2022-01-29T20:33:09.109Z"
   },
   {
    "duration": 61,
    "start_time": "2022-01-29T20:35:53.595Z"
   },
   {
    "duration": 564,
    "start_time": "2022-01-29T20:36:30.332Z"
   },
   {
    "duration": 1976,
    "start_time": "2022-01-29T20:36:30.898Z"
   },
   {
    "duration": 4,
    "start_time": "2022-01-29T20:36:32.877Z"
   },
   {
    "duration": 13,
    "start_time": "2022-01-29T20:36:32.883Z"
   },
   {
    "duration": 8,
    "start_time": "2022-01-29T20:36:32.898Z"
   },
   {
    "duration": 14,
    "start_time": "2022-01-29T20:36:32.907Z"
   },
   {
    "duration": 5146,
    "start_time": "2022-01-29T20:36:32.923Z"
   },
   {
    "duration": 4,
    "start_time": "2022-01-29T20:36:38.072Z"
   },
   {
    "duration": 35,
    "start_time": "2022-01-29T20:36:38.077Z"
   },
   {
    "duration": 11,
    "start_time": "2022-01-29T20:36:38.114Z"
   },
   {
    "duration": 25,
    "start_time": "2022-01-29T20:36:38.127Z"
   },
   {
    "duration": 13094,
    "start_time": "2022-01-29T20:36:38.154Z"
   },
   {
    "duration": 5,
    "start_time": "2022-01-29T20:36:51.249Z"
   },
   {
    "duration": 113,
    "start_time": "2022-01-29T20:36:51.256Z"
   },
   {
    "duration": 43,
    "start_time": "2022-01-29T20:36:51.371Z"
   },
   {
    "duration": 13,
    "start_time": "2022-01-29T20:36:51.416Z"
   },
   {
    "duration": 147,
    "start_time": "2022-01-29T20:36:51.430Z"
   },
   {
    "duration": 2147,
    "start_time": "2022-01-29T20:36:51.579Z"
   },
   {
    "duration": 4,
    "start_time": "2022-01-29T20:36:53.728Z"
   },
   {
    "duration": 7,
    "start_time": "2022-01-29T20:36:53.733Z"
   },
   {
    "duration": 8,
    "start_time": "2022-01-29T20:36:53.742Z"
   },
   {
    "duration": 522,
    "start_time": "2022-01-29T21:35:04.769Z"
   },
   {
    "duration": 913,
    "start_time": "2022-01-29T21:35:05.293Z"
   },
   {
    "duration": 3,
    "start_time": "2022-01-29T21:35:06.208Z"
   },
   {
    "duration": 8,
    "start_time": "2022-01-29T21:35:06.213Z"
   },
   {
    "duration": 9,
    "start_time": "2022-01-29T21:35:06.222Z"
   },
   {
    "duration": 5,
    "start_time": "2022-01-29T21:35:06.233Z"
   },
   {
    "duration": 5943,
    "start_time": "2022-01-29T21:35:06.239Z"
   },
   {
    "duration": 5,
    "start_time": "2022-01-29T21:35:12.184Z"
   },
   {
    "duration": 36,
    "start_time": "2022-01-29T21:35:12.191Z"
   },
   {
    "duration": 12,
    "start_time": "2022-01-29T21:35:12.229Z"
   },
   {
    "duration": 28,
    "start_time": "2022-01-29T21:35:12.242Z"
   },
   {
    "duration": 18528,
    "start_time": "2022-01-29T21:35:12.271Z"
   },
   {
    "duration": 13,
    "start_time": "2022-01-29T21:35:30.800Z"
   },
   {
    "duration": 111,
    "start_time": "2022-01-29T21:35:30.814Z"
   },
   {
    "duration": 39,
    "start_time": "2022-01-29T21:35:30.927Z"
   },
   {
    "duration": 12,
    "start_time": "2022-01-29T21:35:30.968Z"
   },
   {
    "duration": 163,
    "start_time": "2022-01-29T21:35:30.982Z"
   },
   {
    "duration": 2135,
    "start_time": "2022-01-29T21:35:31.147Z"
   },
   {
    "duration": 4,
    "start_time": "2022-01-29T21:35:33.283Z"
   },
   {
    "duration": 8,
    "start_time": "2022-01-29T21:35:33.289Z"
   },
   {
    "duration": 12,
    "start_time": "2022-01-29T21:35:33.299Z"
   },
   {
    "duration": 774,
    "start_time": "2022-01-30T09:03:26.956Z"
   },
   {
    "duration": 1342,
    "start_time": "2022-01-30T09:03:27.732Z"
   },
   {
    "duration": 733,
    "start_time": "2022-01-30T09:03:28.345Z"
   },
   {
    "duration": 724,
    "start_time": "2022-01-30T09:03:28.355Z"
   },
   {
    "duration": 722,
    "start_time": "2022-01-30T09:03:28.359Z"
   },
   {
    "duration": 719,
    "start_time": "2022-01-30T09:03:28.363Z"
   },
   {
    "duration": 714,
    "start_time": "2022-01-30T09:03:28.369Z"
   },
   {
    "duration": 712,
    "start_time": "2022-01-30T09:03:28.373Z"
   },
   {
    "duration": 711,
    "start_time": "2022-01-30T09:03:28.376Z"
   },
   {
    "duration": 709,
    "start_time": "2022-01-30T09:03:28.380Z"
   },
   {
    "duration": 706,
    "start_time": "2022-01-30T09:03:28.384Z"
   },
   {
    "duration": 703,
    "start_time": "2022-01-30T09:03:28.388Z"
   },
   {
    "duration": 702,
    "start_time": "2022-01-30T09:03:28.391Z"
   },
   {
    "duration": 698,
    "start_time": "2022-01-30T09:03:28.396Z"
   },
   {
    "duration": 685,
    "start_time": "2022-01-30T09:03:28.411Z"
   },
   {
    "duration": 682,
    "start_time": "2022-01-30T09:03:28.415Z"
   },
   {
    "duration": 679,
    "start_time": "2022-01-30T09:03:28.419Z"
   },
   {
    "duration": 676,
    "start_time": "2022-01-30T09:03:28.423Z"
   },
   {
    "duration": 675,
    "start_time": "2022-01-30T09:03:28.426Z"
   },
   {
    "duration": 672,
    "start_time": "2022-01-30T09:03:28.430Z"
   },
   {
    "duration": 661,
    "start_time": "2022-01-30T09:03:28.443Z"
   },
   {
    "duration": 740,
    "start_time": "2022-01-30T09:03:54.613Z"
   },
   {
    "duration": 1523,
    "start_time": "2022-01-30T09:03:55.358Z"
   },
   {
    "duration": 682,
    "start_time": "2022-01-30T09:03:56.202Z"
   },
   {
    "duration": 674,
    "start_time": "2022-01-30T09:03:56.211Z"
   },
   {
    "duration": 667,
    "start_time": "2022-01-30T09:03:56.219Z"
   },
   {
    "duration": 656,
    "start_time": "2022-01-30T09:03:56.232Z"
   },
   {
    "duration": 650,
    "start_time": "2022-01-30T09:03:56.239Z"
   },
   {
    "duration": 644,
    "start_time": "2022-01-30T09:03:56.246Z"
   },
   {
    "duration": 637,
    "start_time": "2022-01-30T09:03:56.254Z"
   },
   {
    "duration": 622,
    "start_time": "2022-01-30T09:03:56.271Z"
   },
   {
    "duration": 617,
    "start_time": "2022-01-30T09:03:56.277Z"
   },
   {
    "duration": 613,
    "start_time": "2022-01-30T09:03:56.282Z"
   },
   {
    "duration": 609,
    "start_time": "2022-01-30T09:03:56.287Z"
   },
   {
    "duration": 603,
    "start_time": "2022-01-30T09:03:56.295Z"
   },
   {
    "duration": 599,
    "start_time": "2022-01-30T09:03:56.300Z"
   },
   {
    "duration": 596,
    "start_time": "2022-01-30T09:03:56.304Z"
   },
   {
    "duration": 593,
    "start_time": "2022-01-30T09:03:56.309Z"
   },
   {
    "duration": 590,
    "start_time": "2022-01-30T09:03:56.313Z"
   },
   {
    "duration": 587,
    "start_time": "2022-01-30T09:03:56.317Z"
   },
   {
    "duration": 585,
    "start_time": "2022-01-30T09:03:56.320Z"
   },
   {
    "duration": 584,
    "start_time": "2022-01-30T09:03:56.323Z"
   },
   {
    "duration": 705,
    "start_time": "2022-01-30T09:04:53.113Z"
   },
   {
    "duration": 1325,
    "start_time": "2022-01-30T09:04:53.820Z"
   },
   {
    "duration": 679,
    "start_time": "2022-01-30T09:04:54.469Z"
   },
   {
    "duration": 676,
    "start_time": "2022-01-30T09:04:54.474Z"
   },
   {
    "duration": 672,
    "start_time": "2022-01-30T09:04:54.479Z"
   },
   {
    "duration": 668,
    "start_time": "2022-01-30T09:04:54.484Z"
   },
   {
    "duration": 666,
    "start_time": "2022-01-30T09:04:54.487Z"
   },
   {
    "duration": 662,
    "start_time": "2022-01-30T09:04:54.492Z"
   },
   {
    "duration": 661,
    "start_time": "2022-01-30T09:04:54.495Z"
   },
   {
    "duration": 658,
    "start_time": "2022-01-30T09:04:54.499Z"
   },
   {
    "duration": 656,
    "start_time": "2022-01-30T09:04:54.502Z"
   },
   {
    "duration": 626,
    "start_time": "2022-01-30T09:04:54.534Z"
   },
   {
    "duration": 612,
    "start_time": "2022-01-30T09:04:54.549Z"
   },
   {
    "duration": 607,
    "start_time": "2022-01-30T09:04:54.555Z"
   },
   {
    "duration": 603,
    "start_time": "2022-01-30T09:04:54.561Z"
   },
   {
    "duration": 598,
    "start_time": "2022-01-30T09:04:54.567Z"
   },
   {
    "duration": 595,
    "start_time": "2022-01-30T09:04:54.571Z"
   },
   {
    "duration": 592,
    "start_time": "2022-01-30T09:04:54.575Z"
   },
   {
    "duration": 590,
    "start_time": "2022-01-30T09:04:54.579Z"
   },
   {
    "duration": 573,
    "start_time": "2022-01-30T09:04:54.597Z"
   },
   {
    "duration": 568,
    "start_time": "2022-01-30T09:04:54.603Z"
   },
   {
    "duration": 765,
    "start_time": "2022-01-30T20:05:21.567Z"
   },
   {
    "duration": 1342,
    "start_time": "2022-01-30T20:05:22.335Z"
   },
   {
    "duration": 418,
    "start_time": "2022-01-30T20:05:23.264Z"
   },
   {
    "duration": 411,
    "start_time": "2022-01-30T20:05:23.273Z"
   },
   {
    "duration": 408,
    "start_time": "2022-01-30T20:05:23.278Z"
   },
   {
    "duration": 407,
    "start_time": "2022-01-30T20:05:23.281Z"
   },
   {
    "duration": 406,
    "start_time": "2022-01-30T20:05:23.285Z"
   },
   {
    "duration": 404,
    "start_time": "2022-01-30T20:05:23.289Z"
   },
   {
    "duration": 404,
    "start_time": "2022-01-30T20:05:23.292Z"
   },
   {
    "duration": 403,
    "start_time": "2022-01-30T20:05:23.295Z"
   },
   {
    "duration": 402,
    "start_time": "2022-01-30T20:05:23.299Z"
   },
   {
    "duration": 400,
    "start_time": "2022-01-30T20:05:23.303Z"
   },
   {
    "duration": 399,
    "start_time": "2022-01-30T20:05:23.307Z"
   },
   {
    "duration": 397,
    "start_time": "2022-01-30T20:05:23.311Z"
   },
   {
    "duration": 374,
    "start_time": "2022-01-30T20:05:23.336Z"
   },
   {
    "duration": 367,
    "start_time": "2022-01-30T20:05:23.346Z"
   },
   {
    "duration": 364,
    "start_time": "2022-01-30T20:05:23.351Z"
   },
   {
    "duration": 362,
    "start_time": "2022-01-30T20:05:23.354Z"
   },
   {
    "duration": 359,
    "start_time": "2022-01-30T20:05:23.358Z"
   },
   {
    "duration": 356,
    "start_time": "2022-01-30T20:05:23.362Z"
   },
   {
    "duration": 391,
    "start_time": "2022-01-30T20:05:23.368Z"
   },
   {
    "duration": 5303,
    "start_time": "2022-01-30T20:13:09.091Z"
   },
   {
    "duration": 8336,
    "start_time": "2022-01-30T20:13:54.305Z"
   },
   {
    "duration": 1236,
    "start_time": "2022-01-30T20:16:20.464Z"
   },
   {
    "duration": 953,
    "start_time": "2022-01-30T21:26:12.364Z"
   },
   {
    "duration": 5,
    "start_time": "2022-01-30T21:27:00.122Z"
   },
   {
    "duration": 3,
    "start_time": "2022-01-30T21:28:23.812Z"
   },
   {
    "duration": 778,
    "start_time": "2022-01-30T21:28:38.624Z"
   },
   {
    "duration": 3,
    "start_time": "2022-01-30T21:28:39.404Z"
   },
   {
    "duration": 922,
    "start_time": "2022-01-30T21:28:39.410Z"
   },
   {
    "duration": 6,
    "start_time": "2022-01-30T21:28:40.334Z"
   },
   {
    "duration": 12,
    "start_time": "2022-01-30T21:28:40.343Z"
   },
   {
    "duration": 8,
    "start_time": "2022-01-30T21:28:40.357Z"
   },
   {
    "duration": 11,
    "start_time": "2022-01-30T21:28:40.367Z"
   },
   {
    "duration": 1296,
    "start_time": "2022-01-30T21:28:40.381Z"
   },
   {
    "duration": 639,
    "start_time": "2022-01-30T21:28:41.041Z"
   },
   {
    "duration": 627,
    "start_time": "2022-01-30T21:28:41.054Z"
   },
   {
    "duration": 609,
    "start_time": "2022-01-30T21:28:41.074Z"
   },
   {
    "duration": 595,
    "start_time": "2022-01-30T21:28:41.089Z"
   },
   {
    "duration": 581,
    "start_time": "2022-01-30T21:28:41.104Z"
   },
   {
    "duration": 574,
    "start_time": "2022-01-30T21:28:41.112Z"
   },
   {
    "duration": 571,
    "start_time": "2022-01-30T21:28:41.117Z"
   },
   {
    "duration": 567,
    "start_time": "2022-01-30T21:28:41.122Z"
   },
   {
    "duration": 558,
    "start_time": "2022-01-30T21:28:41.132Z"
   },
   {
    "duration": 555,
    "start_time": "2022-01-30T21:28:41.136Z"
   },
   {
    "duration": 552,
    "start_time": "2022-01-30T21:28:41.141Z"
   },
   {
    "duration": 547,
    "start_time": "2022-01-30T21:28:41.147Z"
   },
   {
    "duration": 544,
    "start_time": "2022-01-30T21:28:41.151Z"
   },
   {
    "duration": 539,
    "start_time": "2022-01-30T21:28:41.158Z"
   },
   {
    "duration": 3308,
    "start_time": "2022-01-30T21:30:11.817Z"
   },
   {
    "duration": 8887,
    "start_time": "2022-01-30T21:31:00.294Z"
   },
   {
    "duration": 811,
    "start_time": "2022-01-30T21:31:55.618Z"
   },
   {
    "duration": 3,
    "start_time": "2022-01-30T21:31:56.431Z"
   },
   {
    "duration": 940,
    "start_time": "2022-01-30T21:31:56.437Z"
   },
   {
    "duration": 6,
    "start_time": "2022-01-30T21:31:57.380Z"
   },
   {
    "duration": 12,
    "start_time": "2022-01-30T21:31:57.389Z"
   },
   {
    "duration": 9,
    "start_time": "2022-01-30T21:31:57.404Z"
   },
   {
    "duration": 9,
    "start_time": "2022-01-30T21:31:57.415Z"
   },
   {
    "duration": 2639,
    "start_time": "2022-01-30T21:31:57.461Z"
   },
   {
    "duration": 7,
    "start_time": "2022-01-30T21:32:00.103Z"
   },
   {
    "duration": 54,
    "start_time": "2022-01-30T21:32:00.112Z"
   },
   {
    "duration": 68,
    "start_time": "2022-01-30T21:32:00.169Z"
   },
   {
    "duration": 57,
    "start_time": "2022-01-30T21:32:00.239Z"
   },
   {
    "duration": 11187,
    "start_time": "2022-01-30T21:32:00.298Z"
   },
   {
    "duration": 6,
    "start_time": "2022-01-30T21:32:11.487Z"
   },
   {
    "duration": 168,
    "start_time": "2022-01-30T21:32:11.496Z"
   },
   {
    "duration": 49,
    "start_time": "2022-01-30T21:32:11.667Z"
   },
   {
    "duration": 40,
    "start_time": "2022-01-30T21:32:11.719Z"
   },
   {
    "duration": 214,
    "start_time": "2022-01-30T21:32:11.762Z"
   },
   {
    "duration": 1964,
    "start_time": "2022-01-30T21:32:11.979Z"
   },
   {
    "duration": 7,
    "start_time": "2022-01-30T21:32:13.945Z"
   },
   {
    "duration": 10,
    "start_time": "2022-01-30T21:32:13.954Z"
   },
   {
    "duration": 14,
    "start_time": "2022-01-30T21:32:13.967Z"
   },
   {
    "duration": 31554,
    "start_time": "2022-01-30T21:34:14.254Z"
   },
   {
    "duration": 770,
    "start_time": "2022-01-30T21:37:49.678Z"
   },
   {
    "duration": 3,
    "start_time": "2022-01-30T21:37:50.451Z"
   },
   {
    "duration": 957,
    "start_time": "2022-01-30T21:37:50.460Z"
   },
   {
    "duration": 6,
    "start_time": "2022-01-30T21:37:51.420Z"
   },
   {
    "duration": 14,
    "start_time": "2022-01-30T21:37:51.429Z"
   },
   {
    "duration": 8,
    "start_time": "2022-01-30T21:37:51.445Z"
   },
   {
    "duration": 10,
    "start_time": "2022-01-30T21:37:51.455Z"
   },
   {
    "duration": 2461,
    "start_time": "2022-01-30T21:37:51.469Z"
   },
   {
    "duration": 25,
    "start_time": "2022-01-30T21:37:53.933Z"
   },
   {
    "duration": 31,
    "start_time": "2022-01-30T21:37:53.961Z"
   },
   {
    "duration": 16,
    "start_time": "2022-01-30T21:37:53.994Z"
   },
   {
    "duration": 77,
    "start_time": "2022-01-30T21:37:54.012Z"
   },
   {
    "duration": 8967,
    "start_time": "2022-01-30T21:37:54.092Z"
   },
   {
    "duration": 7,
    "start_time": "2022-01-30T21:38:03.061Z"
   },
   {
    "duration": 180,
    "start_time": "2022-01-30T21:38:03.070Z"
   },
   {
    "duration": 55,
    "start_time": "2022-01-30T21:38:03.252Z"
   },
   {
    "duration": 17,
    "start_time": "2022-01-30T21:38:03.309Z"
   },
   {
    "duration": 231,
    "start_time": "2022-01-30T21:38:03.328Z"
   },
   {
    "duration": 1972,
    "start_time": "2022-01-30T21:38:03.561Z"
   },
   {
    "duration": 6,
    "start_time": "2022-01-30T21:38:05.535Z"
   },
   {
    "duration": 9,
    "start_time": "2022-01-30T21:38:05.543Z"
   },
   {
    "duration": 14,
    "start_time": "2022-01-30T21:38:05.554Z"
   },
   {
    "duration": 1037,
    "start_time": "2022-01-30T21:41:03.259Z"
   },
   {
    "duration": 118,
    "start_time": "2022-01-30T21:41:20.591Z"
   },
   {
    "duration": 48,
    "start_time": "2022-01-30T21:41:27.856Z"
   },
   {
    "duration": 23,
    "start_time": "2022-01-30T21:41:57.046Z"
   },
   {
    "duration": 3055,
    "start_time": "2022-01-30T21:42:15.409Z"
   },
   {
    "duration": 2716,
    "start_time": "2022-01-30T21:43:24.476Z"
   },
   {
    "duration": 2800,
    "start_time": "2022-01-30T21:46:31.252Z"
   },
   {
    "duration": 2548,
    "start_time": "2022-01-30T21:48:08.214Z"
   },
   {
    "duration": 976,
    "start_time": "2022-01-30T21:48:53.699Z"
   },
   {
    "duration": 4715,
    "start_time": "2022-01-30T21:49:00.945Z"
   },
   {
    "duration": 2686,
    "start_time": "2022-01-30T21:49:34.548Z"
   },
   {
    "duration": 269,
    "start_time": "2022-01-30T21:51:15.995Z"
   },
   {
    "duration": 2764,
    "start_time": "2022-01-30T21:53:54.927Z"
   },
   {
    "duration": 906,
    "start_time": "2022-01-30T22:06:53.175Z"
   },
   {
    "duration": 2715,
    "start_time": "2022-01-30T22:07:12.584Z"
   },
   {
    "duration": 256,
    "start_time": "2022-01-30T22:19:10.348Z"
   },
   {
    "duration": 277,
    "start_time": "2022-01-30T22:19:47.465Z"
   },
   {
    "duration": 6182,
    "start_time": "2022-01-30T22:21:30.167Z"
   },
   {
    "duration": 6564,
    "start_time": "2022-01-30T22:21:43.125Z"
   },
   {
    "duration": 4384,
    "start_time": "2022-01-30T22:22:17.021Z"
   },
   {
    "duration": 283,
    "start_time": "2022-01-30T22:24:37.769Z"
   },
   {
    "duration": 335,
    "start_time": "2022-01-30T22:25:53.963Z"
   },
   {
    "duration": 1035,
    "start_time": "2022-01-30T22:26:01.257Z"
   },
   {
    "duration": 291,
    "start_time": "2022-01-30T22:26:02.294Z"
   },
   {
    "duration": 7,
    "start_time": "2022-01-30T22:26:02.587Z"
   },
   {
    "duration": 12,
    "start_time": "2022-01-30T22:26:02.596Z"
   },
   {
    "duration": 10,
    "start_time": "2022-01-30T22:26:02.610Z"
   },
   {
    "duration": 40,
    "start_time": "2022-01-30T22:26:02.622Z"
   },
   {
    "duration": 349,
    "start_time": "2022-01-30T22:26:02.664Z"
   },
   {
    "duration": 6,
    "start_time": "2022-01-30T22:26:03.017Z"
   },
   {
    "duration": 52,
    "start_time": "2022-01-30T22:26:03.026Z"
   },
   {
    "duration": 15,
    "start_time": "2022-01-30T22:26:03.080Z"
   },
   {
    "duration": 38,
    "start_time": "2022-01-30T22:26:03.097Z"
   },
   {
    "duration": 915,
    "start_time": "2022-01-30T22:26:03.137Z"
   },
   {
    "duration": 9,
    "start_time": "2022-01-30T22:26:04.054Z"
   },
   {
    "duration": 167,
    "start_time": "2022-01-30T22:26:04.065Z"
   },
   {
    "duration": 57,
    "start_time": "2022-01-30T22:26:04.234Z"
   },
   {
    "duration": 18,
    "start_time": "2022-01-30T22:26:04.294Z"
   },
   {
    "duration": 236,
    "start_time": "2022-01-30T22:26:04.314Z"
   },
   {
    "duration": 278,
    "start_time": "2022-01-30T22:26:04.560Z"
   },
   {
    "duration": 7,
    "start_time": "2022-01-30T22:26:04.841Z"
   },
   {
    "duration": 12,
    "start_time": "2022-01-30T22:26:04.851Z"
   },
   {
    "duration": 15,
    "start_time": "2022-01-30T22:26:04.865Z"
   },
   {
    "duration": 20,
    "start_time": "2022-01-30T22:26:50.060Z"
   },
   {
    "duration": 840,
    "start_time": "2022-01-31T08:01:05.547Z"
   },
   {
    "duration": 324,
    "start_time": "2022-01-31T08:01:06.390Z"
   },
   {
    "duration": 8,
    "start_time": "2022-01-31T08:01:06.718Z"
   },
   {
    "duration": 12,
    "start_time": "2022-01-31T08:01:06.729Z"
   },
   {
    "duration": 16,
    "start_time": "2022-01-31T08:01:06.744Z"
   },
   {
    "duration": 7,
    "start_time": "2022-01-31T08:01:06.763Z"
   },
   {
    "duration": 410,
    "start_time": "2022-01-31T08:01:06.772Z"
   },
   {
    "duration": 7,
    "start_time": "2022-01-31T08:01:07.186Z"
   },
   {
    "duration": 31,
    "start_time": "2022-01-31T08:01:07.196Z"
   },
   {
    "duration": 39,
    "start_time": "2022-01-31T08:01:07.230Z"
   },
   {
    "duration": 39,
    "start_time": "2022-01-31T08:01:07.272Z"
   },
   {
    "duration": 918,
    "start_time": "2022-01-31T08:01:07.314Z"
   },
   {
    "duration": 6,
    "start_time": "2022-01-31T08:01:08.234Z"
   },
   {
    "duration": 189,
    "start_time": "2022-01-31T08:01:08.243Z"
   },
   {
    "duration": 70,
    "start_time": "2022-01-31T08:01:08.435Z"
   },
   {
    "duration": 20,
    "start_time": "2022-01-31T08:01:08.507Z"
   },
   {
    "duration": 250,
    "start_time": "2022-01-31T08:01:08.529Z"
   },
   {
    "duration": 337,
    "start_time": "2022-01-31T08:01:08.781Z"
   },
   {
    "duration": 7,
    "start_time": "2022-01-31T08:01:09.121Z"
   },
   {
    "duration": 11,
    "start_time": "2022-01-31T08:01:09.131Z"
   },
   {
    "duration": 20,
    "start_time": "2022-01-31T08:01:09.145Z"
   },
   {
    "duration": 562,
    "start_time": "2022-01-31T20:37:47.770Z"
   },
   {
    "duration": 300,
    "start_time": "2022-01-31T20:37:48.333Z"
   },
   {
    "duration": 5,
    "start_time": "2022-01-31T20:37:48.636Z"
   },
   {
    "duration": 12,
    "start_time": "2022-01-31T20:37:48.642Z"
   },
   {
    "duration": 8,
    "start_time": "2022-01-31T20:37:48.656Z"
   },
   {
    "duration": 5,
    "start_time": "2022-01-31T20:37:48.666Z"
   },
   {
    "duration": 961,
    "start_time": "2022-01-31T20:37:48.673Z"
   },
   {
    "duration": 5,
    "start_time": "2022-01-31T20:37:49.637Z"
   },
   {
    "duration": 20,
    "start_time": "2022-01-31T20:37:49.643Z"
   },
   {
    "duration": 10,
    "start_time": "2022-01-31T20:37:49.665Z"
   },
   {
    "duration": 23,
    "start_time": "2022-01-31T20:37:49.676Z"
   },
   {
    "duration": 3964,
    "start_time": "2022-01-31T20:37:49.701Z"
   },
   {
    "duration": 4,
    "start_time": "2022-01-31T20:37:53.667Z"
   },
   {
    "duration": 114,
    "start_time": "2022-01-31T20:37:53.672Z"
   },
   {
    "duration": 48,
    "start_time": "2022-01-31T20:37:53.788Z"
   },
   {
    "duration": 13,
    "start_time": "2022-01-31T20:37:53.838Z"
   },
   {
    "duration": 183,
    "start_time": "2022-01-31T20:37:53.853Z"
   },
   {
    "duration": 381,
    "start_time": "2022-01-31T20:37:54.038Z"
   },
   {
    "duration": 5,
    "start_time": "2022-01-31T20:37:54.421Z"
   },
   {
    "duration": 11,
    "start_time": "2022-01-31T20:37:54.428Z"
   },
   {
    "duration": 13,
    "start_time": "2022-01-31T20:37:54.441Z"
   },
   {
    "duration": 571,
    "start_time": "2022-01-31T21:15:34.337Z"
   },
   {
    "duration": 225,
    "start_time": "2022-01-31T21:15:34.909Z"
   },
   {
    "duration": 4,
    "start_time": "2022-01-31T21:15:35.137Z"
   },
   {
    "duration": 8,
    "start_time": "2022-01-31T21:15:35.142Z"
   },
   {
    "duration": 6,
    "start_time": "2022-01-31T21:15:35.151Z"
   },
   {
    "duration": 8,
    "start_time": "2022-01-31T21:15:35.158Z"
   },
   {
    "duration": 283,
    "start_time": "2022-01-31T21:15:35.168Z"
   },
   {
    "duration": 4,
    "start_time": "2022-01-31T21:15:35.452Z"
   },
   {
    "duration": 22,
    "start_time": "2022-01-31T21:15:35.457Z"
   },
   {
    "duration": 9,
    "start_time": "2022-01-31T21:15:35.480Z"
   },
   {
    "duration": 40,
    "start_time": "2022-01-31T21:15:35.491Z"
   },
   {
    "duration": 691,
    "start_time": "2022-01-31T21:15:35.533Z"
   },
   {
    "duration": 5,
    "start_time": "2022-01-31T21:15:36.226Z"
   },
   {
    "duration": 106,
    "start_time": "2022-01-31T21:15:36.233Z"
   },
   {
    "duration": 34,
    "start_time": "2022-01-31T21:15:36.341Z"
   },
   {
    "duration": 12,
    "start_time": "2022-01-31T21:15:36.376Z"
   },
   {
    "duration": 140,
    "start_time": "2022-01-31T21:15:36.389Z"
   },
   {
    "duration": 267,
    "start_time": "2022-01-31T21:15:36.530Z"
   },
   {
    "duration": 4,
    "start_time": "2022-01-31T21:15:36.798Z"
   },
   {
    "duration": 9,
    "start_time": "2022-01-31T21:15:36.803Z"
   },
   {
    "duration": 11,
    "start_time": "2022-01-31T21:15:36.813Z"
   },
   {
    "duration": 46,
    "start_time": "2022-01-31T21:26:19.830Z"
   },
   {
    "duration": 129,
    "start_time": "2022-01-31T21:32:04.905Z"
   },
   {
    "duration": 323,
    "start_time": "2022-01-31T21:32:35.944Z"
   },
   {
    "duration": 4283,
    "start_time": "2022-01-31T21:33:19.397Z"
   },
   {
    "duration": 578,
    "start_time": "2022-01-31T21:35:56.643Z"
   },
   {
    "duration": 363,
    "start_time": "2022-01-31T21:35:57.222Z"
   },
   {
    "duration": 4,
    "start_time": "2022-01-31T21:35:57.587Z"
   },
   {
    "duration": 8,
    "start_time": "2022-01-31T21:35:57.593Z"
   },
   {
    "duration": 6,
    "start_time": "2022-01-31T21:35:57.602Z"
   },
   {
    "duration": 5,
    "start_time": "2022-01-31T21:35:57.610Z"
   },
   {
    "duration": 356,
    "start_time": "2022-01-31T21:35:57.616Z"
   },
   {
    "duration": 5,
    "start_time": "2022-01-31T21:35:57.974Z"
   },
   {
    "duration": 25,
    "start_time": "2022-01-31T21:35:57.980Z"
   },
   {
    "duration": 21,
    "start_time": "2022-01-31T21:35:58.007Z"
   },
   {
    "duration": 26,
    "start_time": "2022-01-31T21:35:58.029Z"
   },
   {
    "duration": 823,
    "start_time": "2022-01-31T21:35:58.057Z"
   },
   {
    "duration": 4,
    "start_time": "2022-01-31T21:35:58.882Z"
   },
   {
    "duration": 116,
    "start_time": "2022-01-31T21:35:58.888Z"
   },
   {
    "duration": 44,
    "start_time": "2022-01-31T21:35:59.006Z"
   },
   {
    "duration": 14,
    "start_time": "2022-01-31T21:35:59.052Z"
   },
   {
    "duration": 167,
    "start_time": "2022-01-31T21:35:59.067Z"
   },
   {
    "duration": 1489,
    "start_time": "2022-01-31T21:35:59.235Z"
   },
   {
    "duration": 5,
    "start_time": "2022-01-31T21:36:00.725Z"
   },
   {
    "duration": 14,
    "start_time": "2022-01-31T21:36:00.731Z"
   },
   {
    "duration": 16,
    "start_time": "2022-01-31T21:36:00.747Z"
   },
   {
    "duration": 34,
    "start_time": "2022-01-31T23:08:02.574Z"
   },
   {
    "duration": 36,
    "start_time": "2022-01-31T23:22:41.575Z"
   },
   {
    "duration": 90,
    "start_time": "2022-01-31T23:24:31.655Z"
   },
   {
    "duration": 192,
    "start_time": "2022-01-31T23:24:58.859Z"
   },
   {
    "duration": 653,
    "start_time": "2022-02-01T15:50:24.560Z"
   },
   {
    "duration": 200,
    "start_time": "2022-02-01T15:50:25.215Z"
   },
   {
    "duration": 6,
    "start_time": "2022-02-01T15:50:25.418Z"
   },
   {
    "duration": 14,
    "start_time": "2022-02-01T15:50:25.426Z"
   },
   {
    "duration": 9,
    "start_time": "2022-02-01T15:50:25.442Z"
   },
   {
    "duration": 11,
    "start_time": "2022-02-01T15:50:25.454Z"
   },
   {
    "duration": 254,
    "start_time": "2022-02-01T15:50:25.467Z"
   },
   {
    "duration": 5,
    "start_time": "2022-02-01T15:50:25.723Z"
   },
   {
    "duration": 43,
    "start_time": "2022-02-01T15:50:25.731Z"
   },
   {
    "duration": 20,
    "start_time": "2022-02-01T15:50:25.777Z"
   },
   {
    "duration": 58,
    "start_time": "2022-02-01T15:50:25.799Z"
   },
   {
    "duration": 1009,
    "start_time": "2022-02-01T15:50:25.859Z"
   },
   {
    "duration": 6,
    "start_time": "2022-02-01T15:50:26.870Z"
   },
   {
    "duration": 125,
    "start_time": "2022-02-01T15:50:26.877Z"
   },
   {
    "duration": 53,
    "start_time": "2022-02-01T15:50:27.004Z"
   },
   {
    "duration": 19,
    "start_time": "2022-02-01T15:50:27.060Z"
   },
   {
    "duration": 261,
    "start_time": "2022-02-01T15:50:27.081Z"
   },
   {
    "duration": 197,
    "start_time": "2022-02-01T15:50:27.344Z"
   },
   {
    "duration": 5,
    "start_time": "2022-02-01T15:50:27.543Z"
   },
   {
    "duration": 18,
    "start_time": "2022-02-01T15:50:27.550Z"
   },
   {
    "duration": 17,
    "start_time": "2022-02-01T15:50:27.570Z"
   },
   {
    "duration": 55,
    "start_time": "2022-02-01T15:50:27.589Z"
   },
   {
    "duration": 47,
    "start_time": "2022-02-01T15:50:27.647Z"
   },
   {
    "duration": 143,
    "start_time": "2022-02-01T15:50:27.696Z"
   },
   {
    "duration": 146,
    "start_time": "2022-02-01T16:23:09.053Z"
   },
   {
    "duration": 135,
    "start_time": "2022-02-01T16:23:52.370Z"
   },
   {
    "duration": 172,
    "start_time": "2022-02-01T16:25:02.223Z"
   },
   {
    "duration": 730,
    "start_time": "2022-02-01T16:33:38.163Z"
   },
   {
    "duration": 202,
    "start_time": "2022-02-01T16:33:38.895Z"
   },
   {
    "duration": 6,
    "start_time": "2022-02-01T16:33:39.099Z"
   },
   {
    "duration": 14,
    "start_time": "2022-02-01T16:33:39.108Z"
   },
   {
    "duration": 9,
    "start_time": "2022-02-01T16:33:39.124Z"
   },
   {
    "duration": 11,
    "start_time": "2022-02-01T16:33:39.135Z"
   },
   {
    "duration": 261,
    "start_time": "2022-02-01T16:33:39.148Z"
   },
   {
    "duration": 7,
    "start_time": "2022-02-01T16:33:39.412Z"
   },
   {
    "duration": 30,
    "start_time": "2022-02-01T16:33:39.421Z"
   },
   {
    "duration": 11,
    "start_time": "2022-02-01T16:33:39.453Z"
   },
   {
    "duration": 32,
    "start_time": "2022-02-01T16:33:39.466Z"
   },
   {
    "duration": 704,
    "start_time": "2022-02-01T16:33:39.519Z"
   },
   {
    "duration": 5,
    "start_time": "2022-02-01T16:33:40.225Z"
   },
   {
    "duration": 124,
    "start_time": "2022-02-01T16:33:40.232Z"
   },
   {
    "duration": 41,
    "start_time": "2022-02-01T16:33:40.357Z"
   },
   {
    "duration": 37,
    "start_time": "2022-02-01T16:33:40.401Z"
   },
   {
    "duration": 257,
    "start_time": "2022-02-01T16:33:40.440Z"
   },
   {
    "duration": 204,
    "start_time": "2022-02-01T16:33:40.699Z"
   },
   {
    "duration": 5,
    "start_time": "2022-02-01T16:33:40.905Z"
   },
   {
    "duration": 15,
    "start_time": "2022-02-01T16:33:40.912Z"
   },
   {
    "duration": 14,
    "start_time": "2022-02-01T16:33:40.928Z"
   },
   {
    "duration": 41,
    "start_time": "2022-02-01T16:33:40.944Z"
   },
   {
    "duration": 293,
    "start_time": "2022-02-01T16:33:40.988Z"
   },
   {
    "duration": 55,
    "start_time": "2022-02-01T16:33:41.284Z"
   },
   {
    "duration": 122,
    "start_time": "2022-02-01T16:33:41.341Z"
   },
   {
    "duration": 301,
    "start_time": "2022-02-01T16:37:27.040Z"
   },
   {
    "duration": 362,
    "start_time": "2022-02-01T16:38:38.758Z"
   },
   {
    "duration": 10482,
    "start_time": "2022-02-01T16:39:41.187Z"
   },
   {
    "duration": 1150,
    "start_time": "2022-02-01T16:40:02.440Z"
   },
   {
    "duration": 185,
    "start_time": "2022-02-01T16:40:03.592Z"
   },
   {
    "duration": 6,
    "start_time": "2022-02-01T16:40:03.779Z"
   },
   {
    "duration": 12,
    "start_time": "2022-02-01T16:40:03.787Z"
   },
   {
    "duration": 13,
    "start_time": "2022-02-01T16:40:03.801Z"
   },
   {
    "duration": 10,
    "start_time": "2022-02-01T16:40:03.816Z"
   },
   {
    "duration": 257,
    "start_time": "2022-02-01T16:40:03.828Z"
   },
   {
    "duration": 5,
    "start_time": "2022-02-01T16:40:04.089Z"
   },
   {
    "duration": 39,
    "start_time": "2022-02-01T16:40:04.097Z"
   },
   {
    "duration": 14,
    "start_time": "2022-02-01T16:40:04.137Z"
   },
   {
    "duration": 38,
    "start_time": "2022-02-01T16:40:04.152Z"
   },
   {
    "duration": 733,
    "start_time": "2022-02-01T16:40:04.192Z"
   },
   {
    "duration": 5,
    "start_time": "2022-02-01T16:40:04.927Z"
   },
   {
    "duration": 146,
    "start_time": "2022-02-01T16:40:04.934Z"
   },
   {
    "duration": 62,
    "start_time": "2022-02-01T16:40:05.082Z"
   },
   {
    "duration": 23,
    "start_time": "2022-02-01T16:40:05.146Z"
   },
   {
    "duration": 289,
    "start_time": "2022-02-01T16:40:05.172Z"
   },
   {
    "duration": 268,
    "start_time": "2022-02-01T16:40:05.463Z"
   },
   {
    "duration": 5,
    "start_time": "2022-02-01T16:40:05.733Z"
   },
   {
    "duration": 24,
    "start_time": "2022-02-01T16:40:05.740Z"
   },
   {
    "duration": 33,
    "start_time": "2022-02-01T16:40:05.766Z"
   },
   {
    "duration": 57,
    "start_time": "2022-02-01T16:40:05.801Z"
   },
   {
    "duration": 211,
    "start_time": "2022-02-01T16:40:05.862Z"
   },
   {
    "duration": 55,
    "start_time": "2022-02-01T16:40:06.075Z"
   },
   {
    "duration": 158,
    "start_time": "2022-02-01T16:40:06.132Z"
   },
   {
    "duration": 1594,
    "start_time": "2022-02-01T16:40:06.292Z"
   },
   {
    "duration": 378,
    "start_time": "2022-02-01T16:43:14.382Z"
   },
   {
    "duration": 99,
    "start_time": "2022-02-01T16:43:29.698Z"
   },
   {
    "duration": 93,
    "start_time": "2022-02-01T16:44:25.455Z"
   },
   {
    "duration": 336,
    "start_time": "2022-02-01T16:45:47.895Z"
   },
   {
    "duration": 9532,
    "start_time": "2022-02-01T16:46:20.354Z"
   },
   {
    "duration": 438,
    "start_time": "2022-02-01T16:47:11.833Z"
   },
   {
    "duration": 260,
    "start_time": "2022-02-01T16:49:34.694Z"
   },
   {
    "duration": 29,
    "start_time": "2022-02-01T16:49:53.982Z"
   },
   {
    "duration": 13,
    "start_time": "2022-02-01T17:01:23.923Z"
   },
   {
    "duration": 34,
    "start_time": "2022-02-01T17:01:30.919Z"
   },
   {
    "duration": 4,
    "start_time": "2022-02-01T17:02:36.602Z"
   },
   {
    "duration": 4,
    "start_time": "2022-02-01T17:02:37.195Z"
   },
   {
    "duration": 18,
    "start_time": "2022-02-01T17:03:14.426Z"
   },
   {
    "duration": 4,
    "start_time": "2022-02-01T17:03:17.975Z"
   },
   {
    "duration": 4,
    "start_time": "2022-02-01T17:05:18.991Z"
   },
   {
    "duration": 6,
    "start_time": "2022-02-01T17:06:08.731Z"
   },
   {
    "duration": 4,
    "start_time": "2022-02-01T17:06:30.150Z"
   },
   {
    "duration": 60,
    "start_time": "2022-02-01T17:09:30.680Z"
   },
   {
    "duration": 46,
    "start_time": "2022-02-01T17:11:06.446Z"
   },
   {
    "duration": 6760,
    "start_time": "2022-02-01T17:12:38.713Z"
   },
   {
    "duration": 7091,
    "start_time": "2022-02-01T17:12:53.528Z"
   },
   {
    "duration": 78,
    "start_time": "2022-02-01T17:13:14.530Z"
   },
   {
    "duration": 236,
    "start_time": "2022-02-01T17:14:24.155Z"
   },
   {
    "duration": 250,
    "start_time": "2022-02-01T17:14:52.454Z"
   },
   {
    "duration": 10,
    "start_time": "2022-02-01T17:16:01.928Z"
   },
   {
    "duration": 718,
    "start_time": "2022-02-01T17:16:26.269Z"
   },
   {
    "duration": 193,
    "start_time": "2022-02-01T17:19:04.964Z"
   },
   {
    "duration": 175,
    "start_time": "2022-02-01T17:19:09.783Z"
   },
   {
    "duration": 244,
    "start_time": "2022-02-01T17:19:25.175Z"
   },
   {
    "duration": 88,
    "start_time": "2022-02-01T17:20:03.042Z"
   },
   {
    "duration": 197,
    "start_time": "2022-02-01T17:20:23.440Z"
   },
   {
    "duration": 256,
    "start_time": "2022-02-01T17:21:26.837Z"
   },
   {
    "duration": 111,
    "start_time": "2022-02-01T17:23:47.170Z"
   },
   {
    "duration": 16,
    "start_time": "2022-02-01T17:24:03.428Z"
   },
   {
    "duration": 42,
    "start_time": "2022-02-01T17:29:01.370Z"
   },
   {
    "duration": 15,
    "start_time": "2022-02-01T17:29:28.886Z"
   },
   {
    "duration": 33,
    "start_time": "2022-02-01T17:29:53.570Z"
   },
   {
    "duration": 36,
    "start_time": "2022-02-01T17:32:56.762Z"
   },
   {
    "duration": 422,
    "start_time": "2022-02-01T17:33:19.947Z"
   },
   {
    "duration": 10,
    "start_time": "2022-02-01T17:33:51.719Z"
   },
   {
    "duration": 5,
    "start_time": "2022-02-01T17:34:05.477Z"
   },
   {
    "duration": 4,
    "start_time": "2022-02-01T17:34:18.301Z"
   },
   {
    "duration": 5,
    "start_time": "2022-02-01T17:34:22.335Z"
   },
   {
    "duration": 51,
    "start_time": "2022-02-01T17:34:40.624Z"
   },
   {
    "duration": 23,
    "start_time": "2022-02-01T17:34:59.621Z"
   },
   {
    "duration": 36,
    "start_time": "2022-02-01T17:35:16.638Z"
   },
   {
    "duration": 91,
    "start_time": "2022-02-01T17:35:46.632Z"
   },
   {
    "duration": 13,
    "start_time": "2022-02-01T17:35:56.717Z"
   },
   {
    "duration": 27,
    "start_time": "2022-02-01T17:36:01.913Z"
   },
   {
    "duration": 30,
    "start_time": "2022-02-01T17:36:11.198Z"
   },
   {
    "duration": 43,
    "start_time": "2022-02-01T17:36:14.547Z"
   },
   {
    "duration": 389,
    "start_time": "2022-02-01T17:38:10.678Z"
   },
   {
    "duration": 1111,
    "start_time": "2022-02-01T17:38:25.691Z"
   },
   {
    "duration": 447,
    "start_time": "2022-02-01T17:39:30.572Z"
   },
   {
    "duration": 376,
    "start_time": "2022-02-01T19:30:00.111Z"
   },
   {
    "duration": 71,
    "start_time": "2022-02-01T19:30:13.151Z"
   },
   {
    "duration": 123,
    "start_time": "2022-02-01T19:30:35.091Z"
   },
   {
    "duration": 250,
    "start_time": "2022-02-01T19:50:48.585Z"
   },
   {
    "duration": 9,
    "start_time": "2022-02-01T19:51:22.680Z"
   },
   {
    "duration": 7372,
    "start_time": "2022-02-01T19:56:34.849Z"
   },
   {
    "duration": 18,
    "start_time": "2022-02-01T19:57:03.054Z"
   },
   {
    "duration": 13,
    "start_time": "2022-02-01T19:57:25.995Z"
   },
   {
    "duration": 12,
    "start_time": "2022-02-01T20:00:26.606Z"
   },
   {
    "duration": 300,
    "start_time": "2022-02-01T20:01:24.232Z"
   },
   {
    "duration": 49,
    "start_time": "2022-02-01T20:01:32.594Z"
   },
   {
    "duration": 347,
    "start_time": "2022-02-01T20:02:58.883Z"
   },
   {
    "duration": 325,
    "start_time": "2022-02-01T20:05:38.290Z"
   },
   {
    "duration": 274,
    "start_time": "2022-02-01T20:06:05.404Z"
   },
   {
    "duration": 93,
    "start_time": "2022-02-01T20:06:21.988Z"
   },
   {
    "duration": 98,
    "start_time": "2022-02-01T20:09:24.850Z"
   },
   {
    "duration": 52,
    "start_time": "2022-02-01T20:09:49.202Z"
   },
   {
    "duration": 10,
    "start_time": "2022-02-01T20:10:01.408Z"
   },
   {
    "duration": 139,
    "start_time": "2022-02-01T20:47:30.712Z"
   },
   {
    "duration": 85,
    "start_time": "2022-02-01T21:00:30.358Z"
   },
   {
    "duration": 9,
    "start_time": "2022-02-01T21:01:19.370Z"
   },
   {
    "duration": 17,
    "start_time": "2022-02-01T21:01:40.919Z"
   },
   {
    "duration": 13,
    "start_time": "2022-02-01T21:02:09.561Z"
   },
   {
    "duration": 13,
    "start_time": "2022-02-01T21:02:31.528Z"
   },
   {
    "duration": 8459,
    "start_time": "2022-02-01T21:02:46.563Z"
   },
   {
    "duration": 43,
    "start_time": "2022-02-01T21:03:34.185Z"
   },
   {
    "duration": 1176,
    "start_time": "2022-02-01T21:04:34.038Z"
   },
   {
    "duration": 248,
    "start_time": "2022-02-01T21:04:35.218Z"
   },
   {
    "duration": 4,
    "start_time": "2022-02-01T21:04:35.468Z"
   },
   {
    "duration": 14,
    "start_time": "2022-02-01T21:04:35.474Z"
   },
   {
    "duration": 16,
    "start_time": "2022-02-01T21:04:35.490Z"
   },
   {
    "duration": 8,
    "start_time": "2022-02-01T21:04:35.508Z"
   },
   {
    "duration": 281,
    "start_time": "2022-02-01T21:04:35.518Z"
   },
   {
    "duration": 4,
    "start_time": "2022-02-01T21:04:35.801Z"
   },
   {
    "duration": 33,
    "start_time": "2022-02-01T21:04:35.808Z"
   },
   {
    "duration": 12,
    "start_time": "2022-02-01T21:04:35.843Z"
   },
   {
    "duration": 40,
    "start_time": "2022-02-01T21:04:35.857Z"
   },
   {
    "duration": 735,
    "start_time": "2022-02-01T21:04:35.899Z"
   },
   {
    "duration": 5,
    "start_time": "2022-02-01T21:04:36.637Z"
   },
   {
    "duration": 132,
    "start_time": "2022-02-01T21:04:36.644Z"
   },
   {
    "duration": 54,
    "start_time": "2022-02-01T21:04:36.778Z"
   },
   {
    "duration": 16,
    "start_time": "2022-02-01T21:04:36.835Z"
   },
   {
    "duration": 205,
    "start_time": "2022-02-01T21:04:36.853Z"
   },
   {
    "duration": 205,
    "start_time": "2022-02-01T21:04:37.060Z"
   },
   {
    "duration": 6,
    "start_time": "2022-02-01T21:04:37.267Z"
   },
   {
    "duration": 10,
    "start_time": "2022-02-01T21:04:37.275Z"
   },
   {
    "duration": 16,
    "start_time": "2022-02-01T21:04:37.287Z"
   },
   {
    "duration": 153,
    "start_time": "2022-02-01T21:04:37.305Z"
   },
   {
    "duration": 13,
    "start_time": "2022-02-01T21:04:37.460Z"
   },
   {
    "duration": 47,
    "start_time": "2022-02-01T21:04:37.475Z"
   },
   {
    "duration": 23,
    "start_time": "2022-02-01T21:04:37.525Z"
   },
   {
    "duration": 32,
    "start_time": "2022-02-01T21:04:37.551Z"
   },
   {
    "duration": 66,
    "start_time": "2022-02-01T21:04:37.587Z"
   },
   {
    "duration": 450,
    "start_time": "2022-02-01T21:04:37.655Z"
   },
   {
    "duration": 14,
    "start_time": "2022-02-01T21:04:38.106Z"
   },
   {
    "duration": 5,
    "start_time": "2022-02-01T21:04:38.123Z"
   },
   {
    "duration": 23,
    "start_time": "2022-02-01T21:04:38.131Z"
   },
   {
    "duration": 50,
    "start_time": "2022-02-01T21:04:38.156Z"
   },
   {
    "duration": 40,
    "start_time": "2022-02-01T21:04:38.209Z"
   },
   {
    "duration": 30,
    "start_time": "2022-02-01T21:04:38.251Z"
   },
   {
    "duration": 91,
    "start_time": "2022-02-01T21:04:38.283Z"
   },
   {
    "duration": 9,
    "start_time": "2022-02-01T21:04:38.375Z"
   },
   {
    "duration": 518,
    "start_time": "2022-02-01T21:04:38.386Z"
   },
   {
    "duration": 32,
    "start_time": "2022-02-01T21:04:38.906Z"
   },
   {
    "duration": 38,
    "start_time": "2022-02-01T21:04:38.939Z"
   },
   {
    "duration": 98,
    "start_time": "2022-02-01T21:04:38.979Z"
   },
   {
    "duration": 6,
    "start_time": "2022-02-01T21:04:39.079Z"
   },
   {
    "duration": 14,
    "start_time": "2022-02-01T21:04:39.087Z"
   },
   {
    "duration": 32,
    "start_time": "2022-02-01T21:04:39.102Z"
   },
   {
    "duration": 37,
    "start_time": "2022-02-01T21:04:39.136Z"
   },
   {
    "duration": 102,
    "start_time": "2022-02-01T21:04:39.175Z"
   },
   {
    "duration": 7,
    "start_time": "2022-02-01T21:04:39.279Z"
   },
   {
    "duration": 16,
    "start_time": "2022-02-01T21:07:05.348Z"
   },
   {
    "duration": 450,
    "start_time": "2022-02-01T21:07:31.633Z"
   },
   {
    "duration": 47,
    "start_time": "2022-02-01T21:09:29.599Z"
   },
   {
    "duration": 40,
    "start_time": "2022-02-01T21:09:51.068Z"
   },
   {
    "duration": 47,
    "start_time": "2022-02-01T21:10:08.304Z"
   },
   {
    "duration": 1174,
    "start_time": "2022-02-01T21:10:38.835Z"
   },
   {
    "duration": 191,
    "start_time": "2022-02-01T21:10:40.011Z"
   },
   {
    "duration": 6,
    "start_time": "2022-02-01T21:10:40.205Z"
   },
   {
    "duration": 15,
    "start_time": "2022-02-01T21:10:40.213Z"
   },
   {
    "duration": 22,
    "start_time": "2022-02-01T21:10:40.231Z"
   },
   {
    "duration": 16,
    "start_time": "2022-02-01T21:10:40.256Z"
   },
   {
    "duration": 279,
    "start_time": "2022-02-01T21:10:40.274Z"
   },
   {
    "duration": 5,
    "start_time": "2022-02-01T21:10:40.556Z"
   },
   {
    "duration": 37,
    "start_time": "2022-02-01T21:10:40.564Z"
   },
   {
    "duration": 33,
    "start_time": "2022-02-01T21:10:40.603Z"
   },
   {
    "duration": 46,
    "start_time": "2022-02-01T21:10:40.639Z"
   },
   {
    "duration": 944,
    "start_time": "2022-02-01T21:10:40.687Z"
   },
   {
    "duration": 7,
    "start_time": "2022-02-01T21:10:41.633Z"
   },
   {
    "duration": 135,
    "start_time": "2022-02-01T21:10:41.642Z"
   },
   {
    "duration": 52,
    "start_time": "2022-02-01T21:10:41.779Z"
   },
   {
    "duration": 16,
    "start_time": "2022-02-01T21:10:41.834Z"
   },
   {
    "duration": 205,
    "start_time": "2022-02-01T21:10:41.852Z"
   },
   {
    "duration": 202,
    "start_time": "2022-02-01T21:10:42.058Z"
   },
   {
    "duration": 5,
    "start_time": "2022-02-01T21:10:42.262Z"
   },
   {
    "duration": 13,
    "start_time": "2022-02-01T21:10:42.269Z"
   },
   {
    "duration": 11,
    "start_time": "2022-02-01T21:10:42.284Z"
   },
   {
    "duration": 168,
    "start_time": "2022-02-01T21:10:42.297Z"
   },
   {
    "duration": 16,
    "start_time": "2022-02-01T21:10:42.469Z"
   },
   {
    "duration": 71,
    "start_time": "2022-02-01T21:10:42.488Z"
   },
   {
    "duration": 20,
    "start_time": "2022-02-01T21:10:42.561Z"
   },
   {
    "duration": 49,
    "start_time": "2022-02-01T21:10:42.583Z"
   },
   {
    "duration": 15,
    "start_time": "2022-02-01T21:10:42.634Z"
   },
   {
    "duration": 694,
    "start_time": "2022-02-01T21:10:42.651Z"
   },
   {
    "duration": 12,
    "start_time": "2022-02-01T21:10:43.347Z"
   },
   {
    "duration": 6,
    "start_time": "2022-02-01T21:10:43.361Z"
   },
   {
    "duration": 11,
    "start_time": "2022-02-01T21:10:43.369Z"
   },
   {
    "duration": 110,
    "start_time": "2022-02-01T21:10:43.382Z"
   },
   {
    "duration": 43,
    "start_time": "2022-02-01T21:10:43.494Z"
   },
   {
    "duration": 36,
    "start_time": "2022-02-01T21:10:43.539Z"
   },
   {
    "duration": 108,
    "start_time": "2022-02-01T21:10:43.577Z"
   },
   {
    "duration": 9,
    "start_time": "2022-02-01T21:10:43.687Z"
   },
   {
    "duration": 527,
    "start_time": "2022-02-01T21:10:43.698Z"
   },
   {
    "duration": 41,
    "start_time": "2022-02-01T21:10:44.228Z"
   },
   {
    "duration": 75,
    "start_time": "2022-02-01T21:10:44.271Z"
   },
   {
    "duration": 92,
    "start_time": "2022-02-01T21:10:44.348Z"
   },
   {
    "duration": 8,
    "start_time": "2022-02-01T21:10:44.441Z"
   },
   {
    "duration": 14,
    "start_time": "2022-02-01T21:10:44.451Z"
   },
   {
    "duration": 16,
    "start_time": "2022-02-01T21:10:44.467Z"
   },
   {
    "duration": 70,
    "start_time": "2022-02-01T21:10:44.485Z"
   },
   {
    "duration": 93,
    "start_time": "2022-02-01T21:10:44.557Z"
   },
   {
    "duration": 9,
    "start_time": "2022-02-01T21:10:44.651Z"
   },
   {
    "duration": 37,
    "start_time": "2022-02-01T21:15:51.332Z"
   },
   {
    "duration": 427,
    "start_time": "2022-02-01T21:17:13.790Z"
   },
   {
    "duration": 435,
    "start_time": "2022-02-01T21:17:31.710Z"
   },
   {
    "duration": 519,
    "start_time": "2022-02-01T21:18:23.852Z"
   },
   {
    "duration": 422,
    "start_time": "2022-02-01T21:18:27.583Z"
   },
   {
    "duration": 415,
    "start_time": "2022-02-01T21:18:51.969Z"
   },
   {
    "duration": 8,
    "start_time": "2022-02-01T21:20:02.476Z"
   },
   {
    "duration": 9,
    "start_time": "2022-02-01T21:24:14.183Z"
   },
   {
    "duration": 10,
    "start_time": "2022-02-01T21:24:23.588Z"
   },
   {
    "duration": 12,
    "start_time": "2022-02-01T21:32:53.710Z"
   },
   {
    "duration": 4,
    "start_time": "2022-02-01T21:35:06.267Z"
   },
   {
    "duration": 89,
    "start_time": "2022-02-01T21:37:02.505Z"
   },
   {
    "duration": 626,
    "start_time": "2022-02-01T21:39:25.954Z"
   },
   {
    "duration": 4,
    "start_time": "2022-02-01T21:39:39.167Z"
   },
   {
    "duration": 4,
    "start_time": "2022-02-01T21:41:03.201Z"
   },
   {
    "duration": 50,
    "start_time": "2022-02-01T21:42:03.665Z"
   },
   {
    "duration": 24,
    "start_time": "2022-02-01T21:43:15.275Z"
   },
   {
    "duration": 2,
    "start_time": "2022-02-01T21:44:18.490Z"
   },
   {
    "duration": 38,
    "start_time": "2022-02-01T21:44:28.193Z"
   },
   {
    "duration": 40,
    "start_time": "2022-02-01T21:48:10.704Z"
   },
   {
    "duration": 1201,
    "start_time": "2022-02-01T21:48:38.705Z"
   },
   {
    "duration": 225,
    "start_time": "2022-02-01T21:48:39.908Z"
   },
   {
    "duration": 6,
    "start_time": "2022-02-01T21:48:40.135Z"
   },
   {
    "duration": 11,
    "start_time": "2022-02-01T21:48:40.143Z"
   },
   {
    "duration": 7,
    "start_time": "2022-02-01T21:48:40.156Z"
   },
   {
    "duration": 8,
    "start_time": "2022-02-01T21:48:40.164Z"
   },
   {
    "duration": 238,
    "start_time": "2022-02-01T21:48:40.174Z"
   },
   {
    "duration": 6,
    "start_time": "2022-02-01T21:48:40.414Z"
   },
   {
    "duration": 33,
    "start_time": "2022-02-01T21:48:40.423Z"
   },
   {
    "duration": 11,
    "start_time": "2022-02-01T21:48:40.458Z"
   },
   {
    "duration": 51,
    "start_time": "2022-02-01T21:48:40.471Z"
   },
   {
    "duration": 741,
    "start_time": "2022-02-01T21:48:40.525Z"
   },
   {
    "duration": 5,
    "start_time": "2022-02-01T21:48:41.268Z"
   },
   {
    "duration": 130,
    "start_time": "2022-02-01T21:48:41.275Z"
   },
   {
    "duration": 49,
    "start_time": "2022-02-01T21:48:41.407Z"
   },
   {
    "duration": 15,
    "start_time": "2022-02-01T21:48:41.458Z"
   },
   {
    "duration": 195,
    "start_time": "2022-02-01T21:48:41.475Z"
   },
   {
    "duration": 206,
    "start_time": "2022-02-01T21:48:41.672Z"
   },
   {
    "duration": 5,
    "start_time": "2022-02-01T21:48:41.880Z"
   },
   {
    "duration": 9,
    "start_time": "2022-02-01T21:48:41.887Z"
   },
   {
    "duration": 10,
    "start_time": "2022-02-01T21:48:41.898Z"
   },
   {
    "duration": 154,
    "start_time": "2022-02-01T21:48:41.910Z"
   },
   {
    "duration": 15,
    "start_time": "2022-02-01T21:48:42.068Z"
   },
   {
    "duration": 59,
    "start_time": "2022-02-01T21:48:42.085Z"
   },
   {
    "duration": 20,
    "start_time": "2022-02-01T21:48:42.147Z"
   },
   {
    "duration": 31,
    "start_time": "2022-02-01T21:48:42.169Z"
   },
   {
    "duration": 443,
    "start_time": "2022-02-01T21:48:42.218Z"
   },
   {
    "duration": 9,
    "start_time": "2022-02-01T21:48:42.664Z"
   },
   {
    "duration": 336,
    "start_time": "2022-02-01T21:48:42.675Z"
   },
   {
    "duration": 332,
    "start_time": "2022-02-01T21:48:42.681Z"
   },
   {
    "duration": 317,
    "start_time": "2022-02-01T21:48:42.698Z"
   },
   {
    "duration": 309,
    "start_time": "2022-02-01T21:48:42.707Z"
   },
   {
    "duration": 300,
    "start_time": "2022-02-01T21:48:42.717Z"
   },
   {
    "duration": 292,
    "start_time": "2022-02-01T21:48:42.726Z"
   },
   {
    "duration": 286,
    "start_time": "2022-02-01T21:48:42.734Z"
   },
   {
    "duration": 281,
    "start_time": "2022-02-01T21:48:42.741Z"
   },
   {
    "duration": 274,
    "start_time": "2022-02-01T21:48:42.750Z"
   },
   {
    "duration": 269,
    "start_time": "2022-02-01T21:48:42.757Z"
   },
   {
    "duration": 245,
    "start_time": "2022-02-01T21:48:42.782Z"
   },
   {
    "duration": 241,
    "start_time": "2022-02-01T21:48:42.787Z"
   },
   {
    "duration": 237,
    "start_time": "2022-02-01T21:48:42.792Z"
   },
   {
    "duration": 234,
    "start_time": "2022-02-01T21:48:42.797Z"
   },
   {
    "duration": 229,
    "start_time": "2022-02-01T21:48:42.803Z"
   },
   {
    "duration": 224,
    "start_time": "2022-02-01T21:48:42.809Z"
   },
   {
    "duration": 220,
    "start_time": "2022-02-01T21:48:42.814Z"
   },
   {
    "duration": 4,
    "start_time": "2022-02-01T21:49:05.879Z"
   },
   {
    "duration": 1159,
    "start_time": "2022-02-01T21:49:14.637Z"
   },
   {
    "duration": 187,
    "start_time": "2022-02-01T21:49:15.798Z"
   },
   {
    "duration": 5,
    "start_time": "2022-02-01T21:49:15.987Z"
   },
   {
    "duration": 9,
    "start_time": "2022-02-01T21:49:15.994Z"
   },
   {
    "duration": 8,
    "start_time": "2022-02-01T21:49:16.005Z"
   },
   {
    "duration": 10,
    "start_time": "2022-02-01T21:49:16.015Z"
   },
   {
    "duration": 299,
    "start_time": "2022-02-01T21:49:16.028Z"
   },
   {
    "duration": 6,
    "start_time": "2022-02-01T21:49:16.330Z"
   },
   {
    "duration": 29,
    "start_time": "2022-02-01T21:49:16.338Z"
   },
   {
    "duration": 12,
    "start_time": "2022-02-01T21:49:16.368Z"
   },
   {
    "duration": 64,
    "start_time": "2022-02-01T21:49:16.381Z"
   },
   {
    "duration": 843,
    "start_time": "2022-02-01T21:49:16.446Z"
   },
   {
    "duration": 5,
    "start_time": "2022-02-01T21:49:17.291Z"
   },
   {
    "duration": 132,
    "start_time": "2022-02-01T21:49:17.298Z"
   },
   {
    "duration": 43,
    "start_time": "2022-02-01T21:49:17.433Z"
   },
   {
    "duration": 16,
    "start_time": "2022-02-01T21:49:17.477Z"
   },
   {
    "duration": 206,
    "start_time": "2022-02-01T21:49:17.494Z"
   },
   {
    "duration": 252,
    "start_time": "2022-02-01T21:49:17.702Z"
   },
   {
    "duration": 4,
    "start_time": "2022-02-01T21:49:17.956Z"
   },
   {
    "duration": 18,
    "start_time": "2022-02-01T21:49:17.962Z"
   },
   {
    "duration": 12,
    "start_time": "2022-02-01T21:49:17.981Z"
   },
   {
    "duration": 163,
    "start_time": "2022-02-01T21:49:17.995Z"
   },
   {
    "duration": 15,
    "start_time": "2022-02-01T21:49:18.161Z"
   },
   {
    "duration": 56,
    "start_time": "2022-02-01T21:49:18.178Z"
   },
   {
    "duration": 28,
    "start_time": "2022-02-01T21:49:18.236Z"
   },
   {
    "duration": 29,
    "start_time": "2022-02-01T21:49:18.266Z"
   },
   {
    "duration": 589,
    "start_time": "2022-02-01T21:49:18.296Z"
   },
   {
    "duration": 10,
    "start_time": "2022-02-01T21:49:18.887Z"
   },
   {
    "duration": 4,
    "start_time": "2022-02-01T21:49:18.899Z"
   },
   {
    "duration": 17,
    "start_time": "2022-02-01T21:49:18.920Z"
   },
   {
    "duration": 3,
    "start_time": "2022-02-01T21:49:18.939Z"
   },
   {
    "duration": 5,
    "start_time": "2022-02-01T21:49:18.944Z"
   },
   {
    "duration": 400,
    "start_time": "2022-02-01T21:49:18.951Z"
   },
   {
    "duration": 310,
    "start_time": "2022-02-01T21:49:19.043Z"
   },
   {
    "duration": 302,
    "start_time": "2022-02-01T21:49:19.052Z"
   },
   {
    "duration": 296,
    "start_time": "2022-02-01T21:49:19.058Z"
   },
   {
    "duration": 289,
    "start_time": "2022-02-01T21:49:19.066Z"
   },
   {
    "duration": 281,
    "start_time": "2022-02-01T21:49:19.075Z"
   },
   {
    "duration": 275,
    "start_time": "2022-02-01T21:49:19.082Z"
   },
   {
    "duration": 269,
    "start_time": "2022-02-01T21:49:19.089Z"
   },
   {
    "duration": 260,
    "start_time": "2022-02-01T21:49:19.098Z"
   },
   {
    "duration": 254,
    "start_time": "2022-02-01T21:49:19.105Z"
   },
   {
    "duration": 246,
    "start_time": "2022-02-01T21:49:19.114Z"
   },
   {
    "duration": 240,
    "start_time": "2022-02-01T21:49:19.121Z"
   },
   {
    "duration": 233,
    "start_time": "2022-02-01T21:49:19.129Z"
   },
   {
    "duration": 268,
    "start_time": "2022-02-01T21:49:46.643Z"
   },
   {
    "duration": 37,
    "start_time": "2022-02-01T21:49:57.598Z"
   },
   {
    "duration": 17,
    "start_time": "2022-02-01T21:51:39.841Z"
   },
   {
    "duration": 32,
    "start_time": "2022-02-01T21:51:48.741Z"
   },
   {
    "duration": 30,
    "start_time": "2022-02-01T21:52:12.965Z"
   },
   {
    "duration": 64,
    "start_time": "2022-02-01T21:55:22.012Z"
   },
   {
    "duration": 10,
    "start_time": "2022-02-01T21:59:01.132Z"
   },
   {
    "duration": 543,
    "start_time": "2022-02-01T22:00:16.695Z"
   },
   {
    "duration": 32,
    "start_time": "2022-02-01T22:06:15.408Z"
   },
   {
    "duration": 46,
    "start_time": "2022-02-01T22:08:29.684Z"
   },
   {
    "duration": 80,
    "start_time": "2022-02-01T22:10:16.731Z"
   },
   {
    "duration": 88,
    "start_time": "2022-02-01T22:11:17.875Z"
   },
   {
    "duration": 268,
    "start_time": "2022-02-01T22:13:19.113Z"
   },
   {
    "duration": 8,
    "start_time": "2022-02-01T22:13:27.367Z"
   },
   {
    "duration": 12,
    "start_time": "2022-02-01T22:13:35.483Z"
   },
   {
    "duration": 250,
    "start_time": "2022-02-01T22:16:28.686Z"
   },
   {
    "duration": 16,
    "start_time": "2022-02-01T22:16:38.530Z"
   },
   {
    "duration": 37,
    "start_time": "2022-02-01T22:17:07.760Z"
   },
   {
    "duration": 86,
    "start_time": "2022-02-01T22:18:18.306Z"
   },
   {
    "duration": 79,
    "start_time": "2022-02-01T22:19:18.673Z"
   },
   {
    "duration": 1121,
    "start_time": "2022-02-01T22:21:01.647Z"
   },
   {
    "duration": 193,
    "start_time": "2022-02-01T22:21:02.771Z"
   },
   {
    "duration": 5,
    "start_time": "2022-02-01T22:21:02.967Z"
   },
   {
    "duration": 9,
    "start_time": "2022-02-01T22:21:02.974Z"
   },
   {
    "duration": 8,
    "start_time": "2022-02-01T22:21:02.985Z"
   },
   {
    "duration": 12,
    "start_time": "2022-02-01T22:21:02.994Z"
   },
   {
    "duration": 265,
    "start_time": "2022-02-01T22:21:03.008Z"
   },
   {
    "duration": 4,
    "start_time": "2022-02-01T22:21:03.277Z"
   },
   {
    "duration": 43,
    "start_time": "2022-02-01T22:21:03.283Z"
   },
   {
    "duration": 17,
    "start_time": "2022-02-01T22:21:03.328Z"
   },
   {
    "duration": 31,
    "start_time": "2022-02-01T22:21:03.347Z"
   },
   {
    "duration": 719,
    "start_time": "2022-02-01T22:21:03.381Z"
   },
   {
    "duration": 16,
    "start_time": "2022-02-01T22:21:04.103Z"
   },
   {
    "duration": 125,
    "start_time": "2022-02-01T22:21:04.122Z"
   },
   {
    "duration": 39,
    "start_time": "2022-02-01T22:21:04.249Z"
   },
   {
    "duration": 35,
    "start_time": "2022-02-01T22:21:04.290Z"
   },
   {
    "duration": 222,
    "start_time": "2022-02-01T22:21:04.328Z"
   },
   {
    "duration": 216,
    "start_time": "2022-02-01T22:21:04.552Z"
   },
   {
    "duration": 4,
    "start_time": "2022-02-01T22:21:04.769Z"
   },
   {
    "duration": 10,
    "start_time": "2022-02-01T22:21:04.775Z"
   },
   {
    "duration": 16,
    "start_time": "2022-02-01T22:21:04.787Z"
   },
   {
    "duration": 154,
    "start_time": "2022-02-01T22:21:04.804Z"
   },
   {
    "duration": 14,
    "start_time": "2022-02-01T22:21:04.961Z"
   },
   {
    "duration": 54,
    "start_time": "2022-02-01T22:21:04.977Z"
   },
   {
    "duration": 21,
    "start_time": "2022-02-01T22:21:05.034Z"
   },
   {
    "duration": 32,
    "start_time": "2022-02-01T22:21:05.057Z"
   },
   {
    "duration": 482,
    "start_time": "2022-02-01T22:21:05.090Z"
   },
   {
    "duration": 9,
    "start_time": "2022-02-01T22:21:05.574Z"
   },
   {
    "duration": 4,
    "start_time": "2022-02-01T22:21:05.584Z"
   },
   {
    "duration": 29,
    "start_time": "2022-02-01T22:21:05.590Z"
   },
   {
    "duration": 8,
    "start_time": "2022-02-01T22:21:05.622Z"
   },
   {
    "duration": 11,
    "start_time": "2022-02-01T22:21:05.633Z"
   },
   {
    "duration": 21,
    "start_time": "2022-02-01T22:21:05.646Z"
   },
   {
    "duration": 74,
    "start_time": "2022-02-01T22:21:05.669Z"
   },
   {
    "duration": 11,
    "start_time": "2022-02-01T22:21:05.745Z"
   },
   {
    "duration": 684,
    "start_time": "2022-02-01T22:21:05.758Z"
   },
   {
    "duration": 29,
    "start_time": "2022-02-01T22:21:06.444Z"
   },
   {
    "duration": 72,
    "start_time": "2022-02-01T22:21:06.475Z"
   },
   {
    "duration": 92,
    "start_time": "2022-02-01T22:21:06.549Z"
   },
   {
    "duration": 7,
    "start_time": "2022-02-01T22:21:06.643Z"
   },
   {
    "duration": 14,
    "start_time": "2022-02-01T22:21:06.651Z"
   },
   {
    "duration": 13,
    "start_time": "2022-02-01T22:21:06.666Z"
   },
   {
    "duration": 69,
    "start_time": "2022-02-01T22:21:06.681Z"
   },
   {
    "duration": 86,
    "start_time": "2022-02-01T22:21:06.752Z"
   },
   {
    "duration": 445,
    "start_time": "2022-02-01T22:21:06.395Z"
   },
   {
    "duration": 441,
    "start_time": "2022-02-01T22:21:06.400Z"
   },
   {
    "duration": 1213,
    "start_time": "2022-02-01T22:21:48.593Z"
   },
   {
    "duration": 200,
    "start_time": "2022-02-01T22:21:49.808Z"
   },
   {
    "duration": 4,
    "start_time": "2022-02-01T22:21:50.011Z"
   },
   {
    "duration": 20,
    "start_time": "2022-02-01T22:21:50.017Z"
   },
   {
    "duration": 12,
    "start_time": "2022-02-01T22:21:50.039Z"
   },
   {
    "duration": 11,
    "start_time": "2022-02-01T22:21:50.053Z"
   },
   {
    "duration": 341,
    "start_time": "2022-02-01T22:21:50.066Z"
   },
   {
    "duration": 5,
    "start_time": "2022-02-01T22:21:50.409Z"
   },
   {
    "duration": 34,
    "start_time": "2022-02-01T22:21:50.416Z"
   },
   {
    "duration": 13,
    "start_time": "2022-02-01T22:21:50.451Z"
   },
   {
    "duration": 30,
    "start_time": "2022-02-01T22:21:50.466Z"
   },
   {
    "duration": 702,
    "start_time": "2022-02-01T22:21:50.498Z"
   },
   {
    "duration": 4,
    "start_time": "2022-02-01T22:21:51.202Z"
   },
   {
    "duration": 127,
    "start_time": "2022-02-01T22:21:51.208Z"
   },
   {
    "duration": 41,
    "start_time": "2022-02-01T22:21:51.338Z"
   },
   {
    "duration": 14,
    "start_time": "2022-02-01T22:21:51.381Z"
   },
   {
    "duration": 204,
    "start_time": "2022-02-01T22:21:51.397Z"
   },
   {
    "duration": 232,
    "start_time": "2022-02-01T22:21:51.602Z"
   },
   {
    "duration": 5,
    "start_time": "2022-02-01T22:21:51.835Z"
   },
   {
    "duration": 10,
    "start_time": "2022-02-01T22:21:51.841Z"
   },
   {
    "duration": 18,
    "start_time": "2022-02-01T22:21:51.852Z"
   },
   {
    "duration": 176,
    "start_time": "2022-02-01T22:21:51.872Z"
   },
   {
    "duration": 14,
    "start_time": "2022-02-01T22:21:52.052Z"
   },
   {
    "duration": 53,
    "start_time": "2022-02-01T22:21:52.069Z"
   },
   {
    "duration": 23,
    "start_time": "2022-02-01T22:21:52.125Z"
   },
   {
    "duration": 29,
    "start_time": "2022-02-01T22:21:52.150Z"
   },
   {
    "duration": 450,
    "start_time": "2022-02-01T22:21:52.181Z"
   },
   {
    "duration": 9,
    "start_time": "2022-02-01T22:21:52.634Z"
   },
   {
    "duration": 7,
    "start_time": "2022-02-01T22:21:52.645Z"
   },
   {
    "duration": 7,
    "start_time": "2022-02-01T22:21:52.654Z"
   },
   {
    "duration": 9,
    "start_time": "2022-02-01T22:21:52.662Z"
   },
   {
    "duration": 6,
    "start_time": "2022-02-01T22:21:52.673Z"
   },
   {
    "duration": 23,
    "start_time": "2022-02-01T22:21:52.681Z"
   },
   {
    "duration": 63,
    "start_time": "2022-02-01T22:21:52.718Z"
   },
   {
    "duration": 9,
    "start_time": "2022-02-01T22:21:52.782Z"
   },
   {
    "duration": 506,
    "start_time": "2022-02-01T22:21:52.792Z"
   },
   {
    "duration": 36,
    "start_time": "2022-02-01T22:21:53.299Z"
   },
   {
    "duration": 39,
    "start_time": "2022-02-01T22:21:53.337Z"
   },
   {
    "duration": 91,
    "start_time": "2022-02-01T22:21:53.378Z"
   },
   {
    "duration": 6,
    "start_time": "2022-02-01T22:21:53.471Z"
   },
   {
    "duration": 14,
    "start_time": "2022-02-01T22:21:53.479Z"
   },
   {
    "duration": 36,
    "start_time": "2022-02-01T22:21:53.495Z"
   },
   {
    "duration": 46,
    "start_time": "2022-02-01T22:21:53.533Z"
   },
   {
    "duration": 99,
    "start_time": "2022-02-01T22:21:53.581Z"
   },
   {
    "duration": 431,
    "start_time": "2022-02-01T22:21:53.252Z"
   },
   {
    "duration": 423,
    "start_time": "2022-02-01T22:21:53.261Z"
   },
   {
    "duration": 1121,
    "start_time": "2022-02-01T22:22:47.194Z"
   },
   {
    "duration": 231,
    "start_time": "2022-02-01T22:22:48.318Z"
   },
   {
    "duration": 6,
    "start_time": "2022-02-01T22:22:48.551Z"
   },
   {
    "duration": 9,
    "start_time": "2022-02-01T22:22:48.559Z"
   },
   {
    "duration": 8,
    "start_time": "2022-02-01T22:22:48.570Z"
   },
   {
    "duration": 7,
    "start_time": "2022-02-01T22:22:48.580Z"
   },
   {
    "duration": 258,
    "start_time": "2022-02-01T22:22:48.589Z"
   },
   {
    "duration": 5,
    "start_time": "2022-02-01T22:22:48.850Z"
   },
   {
    "duration": 31,
    "start_time": "2022-02-01T22:22:48.857Z"
   },
   {
    "duration": 35,
    "start_time": "2022-02-01T22:22:48.890Z"
   },
   {
    "duration": 30,
    "start_time": "2022-02-01T22:22:48.928Z"
   },
   {
    "duration": 814,
    "start_time": "2022-02-01T22:22:48.960Z"
   },
   {
    "duration": 4,
    "start_time": "2022-02-01T22:22:49.776Z"
   },
   {
    "duration": 124,
    "start_time": "2022-02-01T22:22:49.782Z"
   },
   {
    "duration": 50,
    "start_time": "2022-02-01T22:22:49.908Z"
   },
   {
    "duration": 15,
    "start_time": "2022-02-01T22:22:49.960Z"
   },
   {
    "duration": 210,
    "start_time": "2022-02-01T22:22:49.976Z"
   },
   {
    "duration": 214,
    "start_time": "2022-02-01T22:22:50.188Z"
   },
   {
    "duration": 5,
    "start_time": "2022-02-01T22:22:50.403Z"
   },
   {
    "duration": 15,
    "start_time": "2022-02-01T22:22:50.409Z"
   },
   {
    "duration": 24,
    "start_time": "2022-02-01T22:22:50.427Z"
   },
   {
    "duration": 150,
    "start_time": "2022-02-01T22:22:50.453Z"
   },
   {
    "duration": 23,
    "start_time": "2022-02-01T22:22:50.606Z"
   },
   {
    "duration": 41,
    "start_time": "2022-02-01T22:22:50.631Z"
   },
   {
    "duration": 19,
    "start_time": "2022-02-01T22:22:50.674Z"
   },
   {
    "duration": 59,
    "start_time": "2022-02-01T22:22:50.695Z"
   },
   {
    "duration": 435,
    "start_time": "2022-02-01T22:22:50.755Z"
   },
   {
    "duration": 8,
    "start_time": "2022-02-01T22:22:51.192Z"
   },
   {
    "duration": 17,
    "start_time": "2022-02-01T22:22:51.202Z"
   },
   {
    "duration": 18,
    "start_time": "2022-02-01T22:22:51.222Z"
   },
   {
    "duration": 6,
    "start_time": "2022-02-01T22:22:51.242Z"
   },
   {
    "duration": 6,
    "start_time": "2022-02-01T22:22:51.250Z"
   },
   {
    "duration": 20,
    "start_time": "2022-02-01T22:22:51.257Z"
   },
   {
    "duration": 70,
    "start_time": "2022-02-01T22:22:51.278Z"
   },
   {
    "duration": 8,
    "start_time": "2022-02-01T22:22:51.350Z"
   },
   {
    "duration": 507,
    "start_time": "2022-02-01T22:22:51.359Z"
   },
   {
    "duration": 26,
    "start_time": "2022-02-01T22:22:51.868Z"
   },
   {
    "duration": 65,
    "start_time": "2022-02-01T22:22:51.896Z"
   },
   {
    "duration": 91,
    "start_time": "2022-02-01T22:22:51.963Z"
   },
   {
    "duration": 9,
    "start_time": "2022-02-01T22:22:52.056Z"
   },
   {
    "duration": 17,
    "start_time": "2022-02-01T22:22:52.066Z"
   },
   {
    "duration": 12,
    "start_time": "2022-02-01T22:22:52.085Z"
   },
   {
    "duration": 62,
    "start_time": "2022-02-01T22:22:52.098Z"
   },
   {
    "duration": 91,
    "start_time": "2022-02-01T22:22:52.162Z"
   },
   {
    "duration": 7,
    "start_time": "2022-02-01T22:22:52.255Z"
   },
   {
    "duration": 796,
    "start_time": "2022-02-01T22:29:22.974Z"
   },
   {
    "duration": 3,
    "start_time": "2022-02-01T22:30:40.182Z"
   },
   {
    "duration": 1052,
    "start_time": "2022-02-01T22:30:46.461Z"
   },
   {
    "duration": 192,
    "start_time": "2022-02-01T22:30:47.515Z"
   },
   {
    "duration": 5,
    "start_time": "2022-02-01T22:30:47.709Z"
   },
   {
    "duration": 25,
    "start_time": "2022-02-01T22:30:47.716Z"
   },
   {
    "duration": 8,
    "start_time": "2022-02-01T22:30:47.743Z"
   },
   {
    "duration": 7,
    "start_time": "2022-02-01T22:30:47.753Z"
   },
   {
    "duration": 269,
    "start_time": "2022-02-01T22:30:47.761Z"
   },
   {
    "duration": 5,
    "start_time": "2022-02-01T22:30:48.033Z"
   },
   {
    "duration": 31,
    "start_time": "2022-02-01T22:30:48.040Z"
   },
   {
    "duration": 12,
    "start_time": "2022-02-01T22:30:48.073Z"
   },
   {
    "duration": 54,
    "start_time": "2022-02-01T22:30:48.087Z"
   },
   {
    "duration": 739,
    "start_time": "2022-02-01T22:30:48.143Z"
   },
   {
    "duration": 6,
    "start_time": "2022-02-01T22:30:48.883Z"
   },
   {
    "duration": 134,
    "start_time": "2022-02-01T22:30:48.890Z"
   },
   {
    "duration": 44,
    "start_time": "2022-02-01T22:30:49.027Z"
   },
   {
    "duration": 16,
    "start_time": "2022-02-01T22:30:49.073Z"
   },
   {
    "duration": 215,
    "start_time": "2022-02-01T22:30:49.091Z"
   },
   {
    "duration": 243,
    "start_time": "2022-02-01T22:30:49.309Z"
   },
   {
    "duration": 5,
    "start_time": "2022-02-01T22:30:49.554Z"
   },
   {
    "duration": 12,
    "start_time": "2022-02-01T22:30:49.560Z"
   },
   {
    "duration": 14,
    "start_time": "2022-02-01T22:30:49.574Z"
   },
   {
    "duration": 167,
    "start_time": "2022-02-01T22:30:49.590Z"
   },
   {
    "duration": 13,
    "start_time": "2022-02-01T22:30:49.760Z"
   },
   {
    "duration": 55,
    "start_time": "2022-02-01T22:30:49.775Z"
   },
   {
    "duration": 19,
    "start_time": "2022-02-01T22:30:49.833Z"
   },
   {
    "duration": 34,
    "start_time": "2022-02-01T22:30:49.854Z"
   },
   {
    "duration": 579,
    "start_time": "2022-02-01T22:30:49.890Z"
   },
   {
    "duration": 10,
    "start_time": "2022-02-01T22:30:50.472Z"
   },
   {
    "duration": 4,
    "start_time": "2022-02-01T22:30:50.484Z"
   },
   {
    "duration": 17,
    "start_time": "2022-02-01T22:30:50.490Z"
   },
   {
    "duration": 12,
    "start_time": "2022-02-01T22:30:50.520Z"
   },
   {
    "duration": 8,
    "start_time": "2022-02-01T22:30:50.535Z"
   },
   {
    "duration": 21,
    "start_time": "2022-02-01T22:30:50.545Z"
   },
   {
    "duration": 73,
    "start_time": "2022-02-01T22:30:50.568Z"
   },
   {
    "duration": 10,
    "start_time": "2022-02-01T22:30:50.643Z"
   },
   {
    "duration": 513,
    "start_time": "2022-02-01T22:30:50.654Z"
   },
   {
    "duration": 28,
    "start_time": "2022-02-01T22:30:51.169Z"
   },
   {
    "duration": 62,
    "start_time": "2022-02-01T22:30:51.198Z"
   },
   {
    "duration": 87,
    "start_time": "2022-02-01T22:30:51.261Z"
   },
   {
    "duration": 7,
    "start_time": "2022-02-01T22:30:51.349Z"
   },
   {
    "duration": 14,
    "start_time": "2022-02-01T22:30:51.357Z"
   },
   {
    "duration": 11,
    "start_time": "2022-02-01T22:30:51.373Z"
   },
   {
    "duration": 67,
    "start_time": "2022-02-01T22:30:51.385Z"
   },
   {
    "duration": 82,
    "start_time": "2022-02-01T22:30:51.454Z"
   },
   {
    "duration": 8,
    "start_time": "2022-02-01T22:30:51.537Z"
   },
   {
    "duration": 985,
    "start_time": "2022-02-01T22:30:51.546Z"
   },
   {
    "duration": 1049,
    "start_time": "2022-02-01T22:31:34.076Z"
   },
   {
    "duration": 206,
    "start_time": "2022-02-01T22:31:35.128Z"
   },
   {
    "duration": 6,
    "start_time": "2022-02-01T22:31:35.337Z"
   },
   {
    "duration": 16,
    "start_time": "2022-02-01T22:31:35.345Z"
   },
   {
    "duration": 10,
    "start_time": "2022-02-01T22:31:35.363Z"
   },
   {
    "duration": 14,
    "start_time": "2022-02-01T22:31:35.375Z"
   },
   {
    "duration": 318,
    "start_time": "2022-02-01T22:31:35.391Z"
   },
   {
    "duration": 4,
    "start_time": "2022-02-01T22:31:35.712Z"
   },
   {
    "duration": 35,
    "start_time": "2022-02-01T22:31:35.720Z"
   },
   {
    "duration": 12,
    "start_time": "2022-02-01T22:31:35.756Z"
   },
   {
    "duration": 26,
    "start_time": "2022-02-01T22:31:35.769Z"
   },
   {
    "duration": 711,
    "start_time": "2022-02-01T22:31:35.797Z"
   },
   {
    "duration": 11,
    "start_time": "2022-02-01T22:31:36.509Z"
   },
   {
    "duration": 127,
    "start_time": "2022-02-01T22:31:36.522Z"
   },
   {
    "duration": 39,
    "start_time": "2022-02-01T22:31:36.650Z"
   },
   {
    "duration": 29,
    "start_time": "2022-02-01T22:31:36.691Z"
   },
   {
    "duration": 199,
    "start_time": "2022-02-01T22:31:36.723Z"
   },
   {
    "duration": 213,
    "start_time": "2022-02-01T22:31:36.924Z"
   },
   {
    "duration": 4,
    "start_time": "2022-02-01T22:31:37.139Z"
   },
   {
    "duration": 9,
    "start_time": "2022-02-01T22:31:37.145Z"
   },
   {
    "duration": 13,
    "start_time": "2022-02-01T22:31:37.156Z"
   },
   {
    "duration": 178,
    "start_time": "2022-02-01T22:31:37.170Z"
   },
   {
    "duration": 12,
    "start_time": "2022-02-01T22:31:37.351Z"
   },
   {
    "duration": 40,
    "start_time": "2022-02-01T22:31:37.365Z"
   },
   {
    "duration": 28,
    "start_time": "2022-02-01T22:31:37.418Z"
   },
   {
    "duration": 30,
    "start_time": "2022-02-01T22:31:37.447Z"
   },
   {
    "duration": 454,
    "start_time": "2022-02-01T22:31:37.479Z"
   },
   {
    "duration": 8,
    "start_time": "2022-02-01T22:31:37.935Z"
   },
   {
    "duration": 5,
    "start_time": "2022-02-01T22:31:37.945Z"
   },
   {
    "duration": 5,
    "start_time": "2022-02-01T22:31:37.951Z"
   },
   {
    "duration": 6,
    "start_time": "2022-02-01T22:31:37.958Z"
   },
   {
    "duration": 4,
    "start_time": "2022-02-01T22:31:37.965Z"
   },
   {
    "duration": 22,
    "start_time": "2022-02-01T22:31:37.971Z"
   },
   {
    "duration": 68,
    "start_time": "2022-02-01T22:31:38.021Z"
   },
   {
    "duration": 9,
    "start_time": "2022-02-01T22:31:38.091Z"
   },
   {
    "duration": 497,
    "start_time": "2022-02-01T22:31:38.102Z"
   },
   {
    "duration": 32,
    "start_time": "2022-02-01T22:31:38.601Z"
   },
   {
    "duration": 42,
    "start_time": "2022-02-01T22:31:38.635Z"
   },
   {
    "duration": 98,
    "start_time": "2022-02-01T22:31:38.679Z"
   },
   {
    "duration": 7,
    "start_time": "2022-02-01T22:31:38.778Z"
   },
   {
    "duration": 12,
    "start_time": "2022-02-01T22:31:38.787Z"
   },
   {
    "duration": 27,
    "start_time": "2022-02-01T22:31:38.801Z"
   },
   {
    "duration": 41,
    "start_time": "2022-02-01T22:31:38.831Z"
   },
   {
    "duration": 90,
    "start_time": "2022-02-01T22:31:38.874Z"
   },
   {
    "duration": 7,
    "start_time": "2022-02-01T22:31:38.966Z"
   },
   {
    "duration": 17,
    "start_time": "2022-02-01T22:31:38.974Z"
   },
   {
    "duration": 24,
    "start_time": "2022-02-01T22:33:01.079Z"
   },
   {
    "duration": 21,
    "start_time": "2022-02-01T22:33:21.393Z"
   },
   {
    "duration": 19,
    "start_time": "2022-02-01T22:38:11.424Z"
   },
   {
    "duration": 15,
    "start_time": "2022-02-01T22:38:16.635Z"
   },
   {
    "duration": 1064,
    "start_time": "2022-02-01T22:38:23.644Z"
   },
   {
    "duration": 199,
    "start_time": "2022-02-01T22:38:24.710Z"
   },
   {
    "duration": 5,
    "start_time": "2022-02-01T22:38:24.911Z"
   },
   {
    "duration": 23,
    "start_time": "2022-02-01T22:38:24.918Z"
   },
   {
    "duration": 7,
    "start_time": "2022-02-01T22:38:24.943Z"
   },
   {
    "duration": 7,
    "start_time": "2022-02-01T22:38:24.952Z"
   },
   {
    "duration": 285,
    "start_time": "2022-02-01T22:38:24.961Z"
   },
   {
    "duration": 5,
    "start_time": "2022-02-01T22:38:25.249Z"
   },
   {
    "duration": 33,
    "start_time": "2022-02-01T22:38:25.256Z"
   },
   {
    "duration": 31,
    "start_time": "2022-02-01T22:38:25.291Z"
   },
   {
    "duration": 36,
    "start_time": "2022-02-01T22:38:25.324Z"
   },
   {
    "duration": 701,
    "start_time": "2022-02-01T22:38:25.362Z"
   },
   {
    "duration": 5,
    "start_time": "2022-02-01T22:38:26.065Z"
   },
   {
    "duration": 132,
    "start_time": "2022-02-01T22:38:26.072Z"
   },
   {
    "duration": 55,
    "start_time": "2022-02-01T22:38:26.206Z"
   },
   {
    "duration": 16,
    "start_time": "2022-02-01T22:38:26.263Z"
   },
   {
    "duration": 203,
    "start_time": "2022-02-01T22:38:26.281Z"
   },
   {
    "duration": 192,
    "start_time": "2022-02-01T22:38:26.486Z"
   },
   {
    "duration": 4,
    "start_time": "2022-02-01T22:38:26.680Z"
   },
   {
    "duration": 12,
    "start_time": "2022-02-01T22:38:26.686Z"
   },
   {
    "duration": 29,
    "start_time": "2022-02-01T22:38:26.699Z"
   },
   {
    "duration": 147,
    "start_time": "2022-02-01T22:38:26.730Z"
   },
   {
    "duration": 13,
    "start_time": "2022-02-01T22:38:26.881Z"
   },
   {
    "duration": 56,
    "start_time": "2022-02-01T22:38:26.896Z"
   },
   {
    "duration": 18,
    "start_time": "2022-02-01T22:38:26.953Z"
   },
   {
    "duration": 29,
    "start_time": "2022-02-01T22:38:26.973Z"
   },
   {
    "duration": 444,
    "start_time": "2022-02-01T22:38:27.004Z"
   },
   {
    "duration": 8,
    "start_time": "2022-02-01T22:38:27.450Z"
   },
   {
    "duration": 4,
    "start_time": "2022-02-01T22:38:27.460Z"
   },
   {
    "duration": 6,
    "start_time": "2022-02-01T22:38:27.465Z"
   },
   {
    "duration": 6,
    "start_time": "2022-02-01T22:38:27.472Z"
   },
   {
    "duration": 5,
    "start_time": "2022-02-01T22:38:27.479Z"
   },
   {
    "duration": 50,
    "start_time": "2022-02-01T22:38:27.486Z"
   },
   {
    "duration": 58,
    "start_time": "2022-02-01T22:38:27.538Z"
   },
   {
    "duration": 21,
    "start_time": "2022-02-01T22:38:27.598Z"
   },
   {
    "duration": 516,
    "start_time": "2022-02-01T22:38:27.622Z"
   },
   {
    "duration": 30,
    "start_time": "2022-02-01T22:38:28.140Z"
   },
   {
    "duration": 60,
    "start_time": "2022-02-01T22:38:28.171Z"
   },
   {
    "duration": 73,
    "start_time": "2022-02-01T22:38:28.233Z"
   },
   {
    "duration": 12,
    "start_time": "2022-02-01T22:38:28.319Z"
   },
   {
    "duration": 15,
    "start_time": "2022-02-01T22:38:28.333Z"
   },
   {
    "duration": 12,
    "start_time": "2022-02-01T22:38:28.350Z"
   },
   {
    "duration": 58,
    "start_time": "2022-02-01T22:38:28.363Z"
   },
   {
    "duration": 76,
    "start_time": "2022-02-01T22:38:28.424Z"
   },
   {
    "duration": 29,
    "start_time": "2022-02-01T22:38:28.502Z"
   },
   {
    "duration": 16,
    "start_time": "2022-02-01T22:38:28.534Z"
   },
   {
    "duration": 100,
    "start_time": "2022-02-01T22:44:16.765Z"
   },
   {
    "duration": 1088,
    "start_time": "2022-02-01T22:53:41.018Z"
   },
   {
    "duration": 237,
    "start_time": "2022-02-01T22:53:42.108Z"
   },
   {
    "duration": 5,
    "start_time": "2022-02-01T22:53:42.347Z"
   },
   {
    "duration": 12,
    "start_time": "2022-02-01T22:53:42.353Z"
   },
   {
    "duration": 8,
    "start_time": "2022-02-01T22:53:42.367Z"
   },
   {
    "duration": 8,
    "start_time": "2022-02-01T22:53:42.376Z"
   },
   {
    "duration": 257,
    "start_time": "2022-02-01T22:53:42.386Z"
   },
   {
    "duration": 4,
    "start_time": "2022-02-01T22:53:42.645Z"
   },
   {
    "duration": 23,
    "start_time": "2022-02-01T22:53:42.652Z"
   },
   {
    "duration": 11,
    "start_time": "2022-02-01T22:53:42.677Z"
   },
   {
    "duration": 58,
    "start_time": "2022-02-01T22:53:42.689Z"
   },
   {
    "duration": 718,
    "start_time": "2022-02-01T22:53:42.749Z"
   },
   {
    "duration": 5,
    "start_time": "2022-02-01T22:53:43.468Z"
   },
   {
    "duration": 125,
    "start_time": "2022-02-01T22:53:43.475Z"
   },
   {
    "duration": 58,
    "start_time": "2022-02-01T22:53:43.602Z"
   },
   {
    "duration": 14,
    "start_time": "2022-02-01T22:53:43.662Z"
   },
   {
    "duration": 193,
    "start_time": "2022-02-01T22:53:43.678Z"
   },
   {
    "duration": 194,
    "start_time": "2022-02-01T22:53:43.872Z"
   },
   {
    "duration": 5,
    "start_time": "2022-02-01T22:53:44.067Z"
   },
   {
    "duration": 10,
    "start_time": "2022-02-01T22:53:44.073Z"
   },
   {
    "duration": 11,
    "start_time": "2022-02-01T22:53:44.085Z"
   },
   {
    "duration": 143,
    "start_time": "2022-02-01T22:53:44.098Z"
   },
   {
    "duration": 13,
    "start_time": "2022-02-01T22:53:44.247Z"
   },
   {
    "duration": 41,
    "start_time": "2022-02-01T22:53:44.262Z"
   },
   {
    "duration": 27,
    "start_time": "2022-02-01T22:53:44.304Z"
   },
   {
    "duration": 31,
    "start_time": "2022-02-01T22:53:44.332Z"
   },
   {
    "duration": 425,
    "start_time": "2022-02-01T22:53:44.367Z"
   },
   {
    "duration": 8,
    "start_time": "2022-02-01T22:53:44.795Z"
   },
   {
    "duration": 15,
    "start_time": "2022-02-01T22:53:44.804Z"
   },
   {
    "duration": 17,
    "start_time": "2022-02-01T22:53:44.821Z"
   },
   {
    "duration": 7,
    "start_time": "2022-02-01T22:53:44.840Z"
   },
   {
    "duration": 9,
    "start_time": "2022-02-01T22:53:44.848Z"
   },
   {
    "duration": 20,
    "start_time": "2022-02-01T22:53:44.858Z"
   },
   {
    "duration": 70,
    "start_time": "2022-02-01T22:53:44.880Z"
   },
   {
    "duration": 9,
    "start_time": "2022-02-01T22:53:44.952Z"
   },
   {
    "duration": 651,
    "start_time": "2022-02-01T22:53:44.962Z"
   },
   {
    "duration": 32,
    "start_time": "2022-02-01T22:53:45.615Z"
   },
   {
    "duration": 40,
    "start_time": "2022-02-01T22:53:45.649Z"
   },
   {
    "duration": 97,
    "start_time": "2022-02-01T22:53:45.691Z"
   },
   {
    "duration": 7,
    "start_time": "2022-02-01T22:53:45.789Z"
   },
   {
    "duration": 26,
    "start_time": "2022-02-01T22:53:45.797Z"
   },
   {
    "duration": 15,
    "start_time": "2022-02-01T22:53:45.826Z"
   },
   {
    "duration": 37,
    "start_time": "2022-02-01T22:53:45.843Z"
   },
   {
    "duration": 94,
    "start_time": "2022-02-01T22:53:45.881Z"
   },
   {
    "duration": 7,
    "start_time": "2022-02-01T22:53:45.977Z"
   },
   {
    "duration": 17,
    "start_time": "2022-02-01T22:53:45.985Z"
   },
   {
    "duration": 1089,
    "start_time": "2022-02-01T22:58:25.655Z"
   },
   {
    "duration": 223,
    "start_time": "2022-02-01T22:58:26.746Z"
   },
   {
    "duration": 5,
    "start_time": "2022-02-01T22:58:26.971Z"
   },
   {
    "duration": 9,
    "start_time": "2022-02-01T22:58:26.978Z"
   },
   {
    "duration": 7,
    "start_time": "2022-02-01T22:58:26.989Z"
   },
   {
    "duration": 7,
    "start_time": "2022-02-01T22:58:26.998Z"
   },
   {
    "duration": 250,
    "start_time": "2022-02-01T22:58:27.007Z"
   },
   {
    "duration": 5,
    "start_time": "2022-02-01T22:58:27.261Z"
   },
   {
    "duration": 29,
    "start_time": "2022-02-01T22:58:27.268Z"
   },
   {
    "duration": 29,
    "start_time": "2022-02-01T22:58:27.299Z"
   },
   {
    "duration": 35,
    "start_time": "2022-02-01T22:58:27.329Z"
   },
   {
    "duration": 728,
    "start_time": "2022-02-01T22:58:27.366Z"
   },
   {
    "duration": 5,
    "start_time": "2022-02-01T22:58:28.096Z"
   },
   {
    "duration": 142,
    "start_time": "2022-02-01T22:58:28.103Z"
   },
   {
    "duration": 36,
    "start_time": "2022-02-01T22:58:28.247Z"
   },
   {
    "duration": 14,
    "start_time": "2022-02-01T22:58:28.285Z"
   },
   {
    "duration": 194,
    "start_time": "2022-02-01T22:58:28.301Z"
   },
   {
    "duration": 247,
    "start_time": "2022-02-01T22:58:28.497Z"
   },
   {
    "duration": 4,
    "start_time": "2022-02-01T22:58:28.746Z"
   },
   {
    "duration": 15,
    "start_time": "2022-02-01T22:58:28.752Z"
   },
   {
    "duration": 14,
    "start_time": "2022-02-01T22:58:28.769Z"
   },
   {
    "duration": 177,
    "start_time": "2022-02-01T22:58:28.784Z"
   },
   {
    "duration": 14,
    "start_time": "2022-02-01T22:58:28.964Z"
   },
   {
    "duration": 52,
    "start_time": "2022-02-01T22:58:28.980Z"
   },
   {
    "duration": 20,
    "start_time": "2022-02-01T22:58:29.034Z"
   },
   {
    "duration": 31,
    "start_time": "2022-02-01T22:58:29.056Z"
   },
   {
    "duration": 434,
    "start_time": "2022-02-01T22:58:29.089Z"
   },
   {
    "duration": 11,
    "start_time": "2022-02-01T22:58:29.525Z"
   },
   {
    "duration": 4,
    "start_time": "2022-02-01T22:58:29.539Z"
   },
   {
    "duration": 15,
    "start_time": "2022-02-01T22:58:29.545Z"
   },
   {
    "duration": 370,
    "start_time": "2022-02-01T22:58:29.563Z"
   },
   {
    "duration": 465,
    "start_time": "2022-02-01T22:58:29.470Z"
   },
   {
    "duration": 461,
    "start_time": "2022-02-01T22:58:29.475Z"
   },
   {
    "duration": 457,
    "start_time": "2022-02-01T22:58:29.481Z"
   },
   {
    "duration": 455,
    "start_time": "2022-02-01T22:58:29.485Z"
   },
   {
    "duration": 450,
    "start_time": "2022-02-01T22:58:29.491Z"
   },
   {
    "duration": 447,
    "start_time": "2022-02-01T22:58:29.496Z"
   },
   {
    "duration": 444,
    "start_time": "2022-02-01T22:58:29.500Z"
   },
   {
    "duration": 441,
    "start_time": "2022-02-01T22:58:29.505Z"
   },
   {
    "duration": 437,
    "start_time": "2022-02-01T22:58:29.510Z"
   },
   {
    "duration": 435,
    "start_time": "2022-02-01T22:58:29.514Z"
   },
   {
    "duration": 431,
    "start_time": "2022-02-01T22:58:29.519Z"
   },
   {
    "duration": 475,
    "start_time": "2022-02-01T23:07:58.284Z"
   },
   {
    "duration": 29,
    "start_time": "2022-02-01T23:08:20.363Z"
   },
   {
    "duration": 59,
    "start_time": "2022-02-01T23:10:27.169Z"
   },
   {
    "duration": 1117,
    "start_time": "2022-02-01T23:11:23.388Z"
   },
   {
    "duration": 188,
    "start_time": "2022-02-01T23:11:24.507Z"
   },
   {
    "duration": 5,
    "start_time": "2022-02-01T23:11:24.698Z"
   },
   {
    "duration": 11,
    "start_time": "2022-02-01T23:11:24.705Z"
   },
   {
    "duration": 20,
    "start_time": "2022-02-01T23:11:24.718Z"
   },
   {
    "duration": 8,
    "start_time": "2022-02-01T23:11:24.740Z"
   },
   {
    "duration": 236,
    "start_time": "2022-02-01T23:11:24.750Z"
   },
   {
    "duration": 5,
    "start_time": "2022-02-01T23:11:24.988Z"
   },
   {
    "duration": 45,
    "start_time": "2022-02-01T23:11:24.995Z"
   },
   {
    "duration": 15,
    "start_time": "2022-02-01T23:11:25.042Z"
   },
   {
    "duration": 35,
    "start_time": "2022-02-01T23:11:25.059Z"
   },
   {
    "duration": 699,
    "start_time": "2022-02-01T23:11:25.095Z"
   },
   {
    "duration": 4,
    "start_time": "2022-02-01T23:11:25.795Z"
   },
   {
    "duration": 128,
    "start_time": "2022-02-01T23:11:25.801Z"
   },
   {
    "duration": 39,
    "start_time": "2022-02-01T23:11:25.932Z"
   },
   {
    "duration": 15,
    "start_time": "2022-02-01T23:11:25.972Z"
   },
   {
    "duration": 204,
    "start_time": "2022-02-01T23:11:25.989Z"
   },
   {
    "duration": 198,
    "start_time": "2022-02-01T23:11:26.195Z"
   },
   {
    "duration": 5,
    "start_time": "2022-02-01T23:11:26.395Z"
   },
   {
    "duration": 14,
    "start_time": "2022-02-01T23:11:26.402Z"
   },
   {
    "duration": 27,
    "start_time": "2022-02-01T23:11:26.420Z"
   },
   {
    "duration": 136,
    "start_time": "2022-02-01T23:11:26.450Z"
   },
   {
    "duration": 13,
    "start_time": "2022-02-01T23:11:26.589Z"
   },
   {
    "duration": 56,
    "start_time": "2022-02-01T23:11:26.604Z"
   },
   {
    "duration": 20,
    "start_time": "2022-02-01T23:11:26.662Z"
   },
   {
    "duration": 46,
    "start_time": "2022-02-01T23:11:26.684Z"
   },
   {
    "duration": 439,
    "start_time": "2022-02-01T23:11:26.731Z"
   },
   {
    "duration": 8,
    "start_time": "2022-02-01T23:11:27.172Z"
   },
   {
    "duration": 4,
    "start_time": "2022-02-01T23:11:27.181Z"
   },
   {
    "duration": 9,
    "start_time": "2022-02-01T23:11:27.187Z"
   },
   {
    "duration": 56,
    "start_time": "2022-02-01T23:11:27.198Z"
   },
   {
    "duration": 67,
    "start_time": "2022-02-01T23:11:27.256Z"
   },
   {
    "duration": 12,
    "start_time": "2022-02-01T23:11:27.325Z"
   },
   {
    "duration": 475,
    "start_time": "2022-02-01T23:11:27.340Z"
   },
   {
    "duration": 31,
    "start_time": "2022-02-01T23:11:27.817Z"
   },
   {
    "duration": 40,
    "start_time": "2022-02-01T23:11:27.850Z"
   },
   {
    "duration": 96,
    "start_time": "2022-02-01T23:11:27.892Z"
   },
   {
    "duration": 8,
    "start_time": "2022-02-01T23:11:27.990Z"
   },
   {
    "duration": 33,
    "start_time": "2022-02-01T23:11:28.000Z"
   },
   {
    "duration": 12,
    "start_time": "2022-02-01T23:11:28.036Z"
   },
   {
    "duration": 39,
    "start_time": "2022-02-01T23:11:28.050Z"
   },
   {
    "duration": 99,
    "start_time": "2022-02-01T23:11:28.091Z"
   },
   {
    "duration": 7,
    "start_time": "2022-02-01T23:11:28.192Z"
   },
   {
    "duration": 28,
    "start_time": "2022-02-01T23:11:28.200Z"
   },
   {
    "duration": 7,
    "start_time": "2022-02-01T23:15:35.142Z"
   },
   {
    "duration": 12,
    "start_time": "2022-02-01T23:16:09.563Z"
   },
   {
    "duration": 1062,
    "start_time": "2022-02-01T23:17:32.432Z"
   },
   {
    "duration": 188,
    "start_time": "2022-02-01T23:17:33.496Z"
   },
   {
    "duration": 4,
    "start_time": "2022-02-01T23:17:33.686Z"
   },
   {
    "duration": 9,
    "start_time": "2022-02-01T23:17:33.693Z"
   },
   {
    "duration": 9,
    "start_time": "2022-02-01T23:17:33.703Z"
   },
   {
    "duration": 8,
    "start_time": "2022-02-01T23:17:33.714Z"
   },
   {
    "duration": 254,
    "start_time": "2022-02-01T23:17:33.723Z"
   },
   {
    "duration": 4,
    "start_time": "2022-02-01T23:17:33.979Z"
   },
   {
    "duration": 25,
    "start_time": "2022-02-01T23:17:33.985Z"
   },
   {
    "duration": 18,
    "start_time": "2022-02-01T23:17:34.018Z"
   },
   {
    "duration": 29,
    "start_time": "2022-02-01T23:17:34.038Z"
   },
   {
    "duration": 717,
    "start_time": "2022-02-01T23:17:34.069Z"
   },
   {
    "duration": 4,
    "start_time": "2022-02-01T23:17:34.788Z"
   },
   {
    "duration": 126,
    "start_time": "2022-02-01T23:17:34.794Z"
   },
   {
    "duration": 45,
    "start_time": "2022-02-01T23:17:34.922Z"
   },
   {
    "duration": 14,
    "start_time": "2022-02-01T23:17:34.969Z"
   },
   {
    "duration": 244,
    "start_time": "2022-02-01T23:17:34.985Z"
   },
   {
    "duration": 192,
    "start_time": "2022-02-01T23:17:35.231Z"
   },
   {
    "duration": 5,
    "start_time": "2022-02-01T23:17:35.425Z"
   },
   {
    "duration": 23,
    "start_time": "2022-02-01T23:17:35.432Z"
   },
   {
    "duration": 11,
    "start_time": "2022-02-01T23:17:35.456Z"
   },
   {
    "duration": 143,
    "start_time": "2022-02-01T23:17:35.468Z"
   },
   {
    "duration": 19,
    "start_time": "2022-02-01T23:17:35.617Z"
   },
   {
    "duration": 35,
    "start_time": "2022-02-01T23:17:35.638Z"
   },
   {
    "duration": 19,
    "start_time": "2022-02-01T23:17:35.675Z"
   },
   {
    "duration": 55,
    "start_time": "2022-02-01T23:17:35.695Z"
   },
   {
    "duration": 431,
    "start_time": "2022-02-01T23:17:35.753Z"
   },
   {
    "duration": 8,
    "start_time": "2022-02-01T23:17:36.186Z"
   },
   {
    "duration": 4,
    "start_time": "2022-02-01T23:17:36.196Z"
   },
   {
    "duration": 20,
    "start_time": "2022-02-01T23:17:36.201Z"
   },
   {
    "duration": 46,
    "start_time": "2022-02-01T23:17:36.224Z"
   },
   {
    "duration": 74,
    "start_time": "2022-02-01T23:17:36.271Z"
   },
   {
    "duration": 8,
    "start_time": "2022-02-01T23:17:36.347Z"
   },
   {
    "duration": 523,
    "start_time": "2022-02-01T23:17:36.356Z"
   },
   {
    "duration": 26,
    "start_time": "2022-02-01T23:17:36.881Z"
   },
   {
    "duration": 55,
    "start_time": "2022-02-01T23:17:36.909Z"
   },
   {
    "duration": 99,
    "start_time": "2022-02-01T23:17:36.965Z"
   },
   {
    "duration": 6,
    "start_time": "2022-02-01T23:17:37.065Z"
   },
   {
    "duration": 15,
    "start_time": "2022-02-01T23:17:37.073Z"
   },
   {
    "duration": 13,
    "start_time": "2022-02-01T23:17:37.090Z"
   },
   {
    "duration": 58,
    "start_time": "2022-02-01T23:17:37.104Z"
   },
   {
    "duration": 83,
    "start_time": "2022-02-01T23:17:37.164Z"
   },
   {
    "duration": 7,
    "start_time": "2022-02-01T23:17:37.248Z"
   },
   {
    "duration": 14,
    "start_time": "2022-02-01T23:17:37.257Z"
   },
   {
    "duration": 1146,
    "start_time": "2022-02-01T23:20:31.521Z"
   },
   {
    "duration": 191,
    "start_time": "2022-02-01T23:20:32.669Z"
   },
   {
    "duration": 8,
    "start_time": "2022-02-01T23:20:32.862Z"
   },
   {
    "duration": 20,
    "start_time": "2022-02-01T23:20:32.872Z"
   },
   {
    "duration": 9,
    "start_time": "2022-02-01T23:20:32.894Z"
   },
   {
    "duration": 9,
    "start_time": "2022-02-01T23:20:32.905Z"
   },
   {
    "duration": 257,
    "start_time": "2022-02-01T23:20:32.916Z"
   },
   {
    "duration": 5,
    "start_time": "2022-02-01T23:20:33.177Z"
   },
   {
    "duration": 37,
    "start_time": "2022-02-01T23:20:33.183Z"
   },
   {
    "duration": 18,
    "start_time": "2022-02-01T23:20:33.223Z"
   },
   {
    "duration": 30,
    "start_time": "2022-02-01T23:20:33.242Z"
   },
   {
    "duration": 749,
    "start_time": "2022-02-01T23:20:33.274Z"
   },
   {
    "duration": 8,
    "start_time": "2022-02-01T23:20:34.025Z"
   },
   {
    "duration": 134,
    "start_time": "2022-02-01T23:20:34.035Z"
   },
   {
    "duration": 38,
    "start_time": "2022-02-01T23:20:34.171Z"
   },
   {
    "duration": 40,
    "start_time": "2022-02-01T23:20:34.211Z"
   },
   {
    "duration": 201,
    "start_time": "2022-02-01T23:20:34.252Z"
   },
   {
    "duration": 203,
    "start_time": "2022-02-01T23:20:34.455Z"
   },
   {
    "duration": 4,
    "start_time": "2022-02-01T23:20:34.660Z"
   },
   {
    "duration": 13,
    "start_time": "2022-02-01T23:20:34.666Z"
   },
   {
    "duration": 16,
    "start_time": "2022-02-01T23:20:34.681Z"
   },
   {
    "duration": 163,
    "start_time": "2022-02-01T23:20:34.698Z"
   },
   {
    "duration": 15,
    "start_time": "2022-02-01T23:20:34.866Z"
   },
   {
    "duration": 63,
    "start_time": "2022-02-01T23:20:34.884Z"
   },
   {
    "duration": 20,
    "start_time": "2022-02-01T23:20:34.949Z"
   },
   {
    "duration": 34,
    "start_time": "2022-02-01T23:20:34.971Z"
   },
   {
    "duration": 480,
    "start_time": "2022-02-01T23:20:35.020Z"
   },
   {
    "duration": 24,
    "start_time": "2022-02-01T23:20:35.503Z"
   },
   {
    "duration": 7,
    "start_time": "2022-02-01T23:20:35.531Z"
   },
   {
    "duration": 15,
    "start_time": "2022-02-01T23:20:35.540Z"
   },
   {
    "duration": 42,
    "start_time": "2022-02-01T23:20:35.557Z"
   },
   {
    "duration": 75,
    "start_time": "2022-02-01T23:20:35.601Z"
   },
   {
    "duration": 11,
    "start_time": "2022-02-01T23:20:35.678Z"
   },
   {
    "duration": 755,
    "start_time": "2022-02-01T23:20:35.691Z"
   },
   {
    "duration": 27,
    "start_time": "2022-02-01T23:20:36.449Z"
   },
   {
    "duration": 62,
    "start_time": "2022-02-01T23:20:36.478Z"
   },
   {
    "duration": 85,
    "start_time": "2022-02-01T23:20:36.542Z"
   },
   {
    "duration": 11,
    "start_time": "2022-02-01T23:20:36.630Z"
   },
   {
    "duration": 19,
    "start_time": "2022-02-01T23:20:36.642Z"
   },
   {
    "duration": 14,
    "start_time": "2022-02-01T23:20:36.662Z"
   },
   {
    "duration": 74,
    "start_time": "2022-02-01T23:20:36.678Z"
   },
   {
    "duration": 92,
    "start_time": "2022-02-01T23:20:36.754Z"
   },
   {
    "duration": 9,
    "start_time": "2022-02-01T23:20:36.849Z"
   },
   {
    "duration": 18,
    "start_time": "2022-02-01T23:20:36.860Z"
   },
   {
    "duration": 7,
    "start_time": "2022-02-02T15:56:22.131Z"
   },
   {
    "duration": 263,
    "start_time": "2022-02-02T15:56:22.139Z"
   },
   {
    "duration": 5,
    "start_time": "2022-02-02T15:56:22.404Z"
   },
   {
    "duration": 18,
    "start_time": "2022-02-02T15:56:22.411Z"
   },
   {
    "duration": 16,
    "start_time": "2022-02-02T15:56:22.431Z"
   },
   {
    "duration": 8,
    "start_time": "2022-02-02T15:56:22.449Z"
   },
   {
    "duration": 255,
    "start_time": "2022-02-02T15:56:22.459Z"
   },
   {
    "duration": 5,
    "start_time": "2022-02-02T15:56:22.716Z"
   },
   {
    "duration": 27,
    "start_time": "2022-02-02T15:56:22.723Z"
   },
   {
    "duration": 14,
    "start_time": "2022-02-02T15:56:22.753Z"
   },
   {
    "duration": 60,
    "start_time": "2022-02-02T15:56:22.769Z"
   },
   {
    "duration": 674,
    "start_time": "2022-02-02T15:56:22.831Z"
   },
   {
    "duration": 5,
    "start_time": "2022-02-02T15:56:23.507Z"
   },
   {
    "duration": 120,
    "start_time": "2022-02-02T15:56:23.514Z"
   },
   {
    "duration": 39,
    "start_time": "2022-02-02T15:56:23.636Z"
   },
   {
    "duration": 32,
    "start_time": "2022-02-02T15:56:23.676Z"
   },
   {
    "duration": 192,
    "start_time": "2022-02-02T15:56:23.711Z"
   },
   {
    "duration": 193,
    "start_time": "2022-02-02T15:56:23.907Z"
   },
   {
    "duration": 5,
    "start_time": "2022-02-02T15:56:24.102Z"
   },
   {
    "duration": 22,
    "start_time": "2022-02-02T15:56:24.108Z"
   },
   {
    "duration": 22,
    "start_time": "2022-02-02T15:56:24.132Z"
   },
   {
    "duration": 139,
    "start_time": "2022-02-02T15:56:24.156Z"
   },
   {
    "duration": 20,
    "start_time": "2022-02-02T15:56:24.297Z"
   },
   {
    "duration": 46,
    "start_time": "2022-02-02T15:56:24.323Z"
   },
   {
    "duration": 37,
    "start_time": "2022-02-02T15:56:24.371Z"
   },
   {
    "duration": 32,
    "start_time": "2022-02-02T15:56:24.410Z"
   },
   {
    "duration": 454,
    "start_time": "2022-02-02T15:56:24.445Z"
   },
   {
    "duration": 13,
    "start_time": "2022-02-02T15:56:24.901Z"
   },
   {
    "duration": 5,
    "start_time": "2022-02-02T15:56:24.917Z"
   },
   {
    "duration": 9,
    "start_time": "2022-02-02T15:56:24.924Z"
   },
   {
    "duration": 34,
    "start_time": "2022-02-02T15:56:24.935Z"
   },
   {
    "duration": 99,
    "start_time": "2022-02-02T15:56:24.971Z"
   },
   {
    "duration": 10,
    "start_time": "2022-02-02T15:56:25.072Z"
   },
   {
    "duration": 26,
    "start_time": "2022-02-02T15:56:25.108Z"
   },
   {
    "duration": 23,
    "start_time": "2022-02-02T15:56:25.137Z"
   },
   {
    "duration": 71,
    "start_time": "2022-02-02T15:56:25.162Z"
   },
   {
    "duration": 97,
    "start_time": "2022-02-02T15:56:25.235Z"
   },
   {
    "duration": 8,
    "start_time": "2022-02-02T15:56:25.334Z"
   },
   {
    "duration": 16,
    "start_time": "2022-02-02T15:56:25.344Z"
   },
   {
    "duration": 14,
    "start_time": "2022-02-02T15:56:25.362Z"
   },
   {
    "duration": 77,
    "start_time": "2022-02-02T15:56:25.379Z"
   },
   {
    "duration": 91,
    "start_time": "2022-02-02T15:56:25.458Z"
   },
   {
    "duration": 9,
    "start_time": "2022-02-02T15:56:25.551Z"
   },
   {
    "duration": 18,
    "start_time": "2022-02-02T15:56:25.561Z"
   },
   {
    "duration": 1129,
    "start_time": "2022-02-02T17:22:32.493Z"
   },
   {
    "duration": 196,
    "start_time": "2022-02-02T17:22:33.624Z"
   },
   {
    "duration": 5,
    "start_time": "2022-02-02T17:22:33.823Z"
   },
   {
    "duration": 11,
    "start_time": "2022-02-02T17:22:33.830Z"
   },
   {
    "duration": 9,
    "start_time": "2022-02-02T17:22:33.843Z"
   },
   {
    "duration": 8,
    "start_time": "2022-02-02T17:22:33.854Z"
   },
   {
    "duration": 248,
    "start_time": "2022-02-02T17:22:33.864Z"
   },
   {
    "duration": 5,
    "start_time": "2022-02-02T17:22:34.114Z"
   },
   {
    "duration": 42,
    "start_time": "2022-02-02T17:22:34.122Z"
   },
   {
    "duration": 13,
    "start_time": "2022-02-02T17:22:34.166Z"
   },
   {
    "duration": 43,
    "start_time": "2022-02-02T17:22:34.181Z"
   },
   {
    "duration": 720,
    "start_time": "2022-02-02T17:22:34.225Z"
   },
   {
    "duration": 5,
    "start_time": "2022-02-02T17:22:34.947Z"
   },
   {
    "duration": 132,
    "start_time": "2022-02-02T17:22:34.954Z"
   },
   {
    "duration": 53,
    "start_time": "2022-02-02T17:22:35.088Z"
   },
   {
    "duration": 19,
    "start_time": "2022-02-02T17:22:35.143Z"
   },
   {
    "duration": 285,
    "start_time": "2022-02-02T17:22:35.164Z"
   },
   {
    "duration": 204,
    "start_time": "2022-02-02T17:22:35.452Z"
   },
   {
    "duration": 5,
    "start_time": "2022-02-02T17:22:35.658Z"
   },
   {
    "duration": 12,
    "start_time": "2022-02-02T17:22:35.665Z"
   },
   {
    "duration": 18,
    "start_time": "2022-02-02T17:22:35.679Z"
   },
   {
    "duration": 206,
    "start_time": "2022-02-02T17:22:35.708Z"
   },
   {
    "duration": 27,
    "start_time": "2022-02-02T17:22:35.917Z"
   },
   {
    "duration": 96,
    "start_time": "2022-02-02T17:22:35.946Z"
   },
   {
    "duration": 31,
    "start_time": "2022-02-02T17:22:36.045Z"
   },
   {
    "duration": 61,
    "start_time": "2022-02-02T17:22:36.079Z"
   },
   {
    "duration": 709,
    "start_time": "2022-02-02T17:22:36.146Z"
   },
   {
    "duration": 12,
    "start_time": "2022-02-02T17:22:36.858Z"
   },
   {
    "duration": 6,
    "start_time": "2022-02-02T17:22:36.872Z"
   },
   {
    "duration": 30,
    "start_time": "2022-02-02T17:22:36.880Z"
   },
   {
    "duration": 40,
    "start_time": "2022-02-02T17:22:36.912Z"
   },
   {
    "duration": 93,
    "start_time": "2022-02-02T17:22:36.954Z"
   },
   {
    "duration": 11,
    "start_time": "2022-02-02T17:22:37.049Z"
   },
   {
    "duration": 57945,
    "start_time": "2022-02-02T17:22:37.062Z"
   },
   {
    "duration": 29,
    "start_time": "2022-02-02T17:23:35.009Z"
   },
   {
    "duration": 50,
    "start_time": "2022-02-02T17:23:35.040Z"
   },
   {
    "duration": 83,
    "start_time": "2022-02-02T17:23:35.108Z"
   },
   {
    "duration": 22,
    "start_time": "2022-02-02T17:23:35.194Z"
   },
   {
    "duration": 23,
    "start_time": "2022-02-02T17:23:35.218Z"
   },
   {
    "duration": 14,
    "start_time": "2022-02-02T17:23:35.243Z"
   },
   {
    "duration": 70,
    "start_time": "2022-02-02T17:23:35.259Z"
   },
   {
    "duration": 91,
    "start_time": "2022-02-02T17:23:35.331Z"
   },
   {
    "duration": 9,
    "start_time": "2022-02-02T17:23:35.424Z"
   },
   {
    "duration": 28,
    "start_time": "2022-02-02T17:23:35.435Z"
   },
   {
    "duration": 1004,
    "start_time": "2022-02-02T19:11:41.232Z"
   },
   {
    "duration": 181,
    "start_time": "2022-02-02T19:11:42.238Z"
   },
   {
    "duration": 5,
    "start_time": "2022-02-02T19:11:42.421Z"
   },
   {
    "duration": 21,
    "start_time": "2022-02-02T19:11:42.428Z"
   },
   {
    "duration": 18,
    "start_time": "2022-02-02T19:11:42.450Z"
   },
   {
    "duration": 7,
    "start_time": "2022-02-02T19:11:42.470Z"
   },
   {
    "duration": 285,
    "start_time": "2022-02-02T19:11:42.478Z"
   },
   {
    "duration": 4,
    "start_time": "2022-02-02T19:11:42.766Z"
   },
   {
    "duration": 34,
    "start_time": "2022-02-02T19:11:42.773Z"
   },
   {
    "duration": 13,
    "start_time": "2022-02-02T19:11:42.809Z"
   },
   {
    "duration": 44,
    "start_time": "2022-02-02T19:11:42.823Z"
   },
   {
    "duration": 1405,
    "start_time": "2022-02-02T19:11:42.869Z"
   },
   {
    "duration": 5,
    "start_time": "2022-02-02T19:11:44.277Z"
   },
   {
    "duration": 124,
    "start_time": "2022-02-02T19:11:44.284Z"
   },
   {
    "duration": 49,
    "start_time": "2022-02-02T19:11:44.410Z"
   },
   {
    "duration": 15,
    "start_time": "2022-02-02T19:11:44.460Z"
   },
   {
    "duration": 158,
    "start_time": "2022-02-02T19:11:44.477Z"
   },
   {
    "duration": 250,
    "start_time": "2022-02-02T19:11:44.637Z"
   },
   {
    "duration": 5,
    "start_time": "2022-02-02T19:11:44.889Z"
   },
   {
    "duration": 15,
    "start_time": "2022-02-02T19:11:44.896Z"
   },
   {
    "duration": 31,
    "start_time": "2022-02-02T19:11:44.913Z"
   },
   {
    "duration": 176,
    "start_time": "2022-02-02T19:11:44.947Z"
   },
   {
    "duration": 14,
    "start_time": "2022-02-02T19:11:45.126Z"
   },
   {
    "duration": 63,
    "start_time": "2022-02-02T19:11:45.142Z"
   },
   {
    "duration": 15,
    "start_time": "2022-02-02T19:11:45.206Z"
   },
   {
    "duration": 62,
    "start_time": "2022-02-02T19:11:45.223Z"
   },
   {
    "duration": 446,
    "start_time": "2022-02-02T19:11:45.287Z"
   },
   {
    "duration": 8,
    "start_time": "2022-02-02T19:11:45.735Z"
   },
   {
    "duration": 22,
    "start_time": "2022-02-02T19:11:45.744Z"
   },
   {
    "duration": 17,
    "start_time": "2022-02-02T19:11:45.767Z"
   },
   {
    "duration": 35,
    "start_time": "2022-02-02T19:11:45.785Z"
   },
   {
    "duration": 54,
    "start_time": "2022-02-02T19:11:45.822Z"
   },
   {
    "duration": 9,
    "start_time": "2022-02-02T19:11:45.877Z"
   },
   {
    "duration": 377,
    "start_time": "2022-02-02T19:11:45.888Z"
   },
   {
    "duration": 34,
    "start_time": "2022-02-02T19:11:46.267Z"
   },
   {
    "duration": 77,
    "start_time": "2022-02-02T19:11:46.303Z"
   },
   {
    "duration": 88,
    "start_time": "2022-02-02T19:11:46.382Z"
   },
   {
    "duration": 7,
    "start_time": "2022-02-02T19:11:46.473Z"
   },
   {
    "duration": 13,
    "start_time": "2022-02-02T19:11:46.482Z"
   },
   {
    "duration": 10,
    "start_time": "2022-02-02T19:11:46.497Z"
   },
   {
    "duration": 63,
    "start_time": "2022-02-02T19:11:46.509Z"
   },
   {
    "duration": 67,
    "start_time": "2022-02-02T19:11:46.574Z"
   },
   {
    "duration": 20,
    "start_time": "2022-02-02T19:11:46.643Z"
   },
   {
    "duration": 22,
    "start_time": "2022-02-02T19:11:46.664Z"
   },
   {
    "duration": 12,
    "start_time": "2022-02-02T19:18:04.332Z"
   },
   {
    "duration": 273,
    "start_time": "2022-02-02T19:18:23.719Z"
   },
   {
    "duration": 15,
    "start_time": "2022-02-02T19:47:30.380Z"
   },
   {
    "duration": 11,
    "start_time": "2022-02-02T19:47:40.757Z"
   },
   {
    "duration": 1085,
    "start_time": "2022-02-02T19:49:26.747Z"
   },
   {
    "duration": 138,
    "start_time": "2022-02-02T19:49:27.834Z"
   },
   {
    "duration": 4,
    "start_time": "2022-02-02T19:49:27.974Z"
   },
   {
    "duration": 11,
    "start_time": "2022-02-02T19:49:27.979Z"
   },
   {
    "duration": 7,
    "start_time": "2022-02-02T19:49:27.992Z"
   },
   {
    "duration": 7,
    "start_time": "2022-02-02T19:49:28.001Z"
   },
   {
    "duration": 231,
    "start_time": "2022-02-02T19:49:28.010Z"
   },
   {
    "duration": 4,
    "start_time": "2022-02-02T19:49:28.245Z"
   },
   {
    "duration": 24,
    "start_time": "2022-02-02T19:49:28.252Z"
   },
   {
    "duration": 11,
    "start_time": "2022-02-02T19:49:28.277Z"
   },
   {
    "duration": 27,
    "start_time": "2022-02-02T19:49:28.289Z"
   },
   {
    "duration": 605,
    "start_time": "2022-02-02T19:49:28.318Z"
   },
   {
    "duration": 6,
    "start_time": "2022-02-02T19:49:28.925Z"
   },
   {
    "duration": 111,
    "start_time": "2022-02-02T19:49:28.933Z"
   },
   {
    "duration": 45,
    "start_time": "2022-02-02T19:49:29.046Z"
   },
   {
    "duration": 166,
    "start_time": "2022-02-02T19:49:29.093Z"
   },
   {
    "duration": 144,
    "start_time": "2022-02-02T19:49:29.261Z"
   },
   {
    "duration": 4,
    "start_time": "2022-02-02T19:49:29.407Z"
   },
   {
    "duration": 8,
    "start_time": "2022-02-02T19:49:29.413Z"
   },
   {
    "duration": 11,
    "start_time": "2022-02-02T19:49:29.422Z"
   },
   {
    "duration": 124,
    "start_time": "2022-02-02T19:49:29.435Z"
   },
   {
    "duration": 16,
    "start_time": "2022-02-02T19:49:29.561Z"
   },
   {
    "duration": 14,
    "start_time": "2022-02-02T19:49:29.580Z"
   },
   {
    "duration": 38,
    "start_time": "2022-02-02T19:49:29.596Z"
   },
   {
    "duration": 36,
    "start_time": "2022-02-02T19:49:29.636Z"
   },
   {
    "duration": 30,
    "start_time": "2022-02-02T19:49:29.674Z"
   },
   {
    "duration": 456,
    "start_time": "2022-02-02T19:49:29.706Z"
   },
   {
    "duration": 9,
    "start_time": "2022-02-02T19:49:30.164Z"
   },
   {
    "duration": 5,
    "start_time": "2022-02-02T19:49:30.175Z"
   },
   {
    "duration": 7,
    "start_time": "2022-02-02T19:49:30.182Z"
   },
   {
    "duration": 36,
    "start_time": "2022-02-02T19:49:30.190Z"
   },
   {
    "duration": 87,
    "start_time": "2022-02-02T19:49:30.228Z"
   },
   {
    "duration": 12,
    "start_time": "2022-02-02T19:49:30.317Z"
   },
   {
    "duration": 305,
    "start_time": "2022-02-02T19:49:30.331Z"
   },
   {
    "duration": 23,
    "start_time": "2022-02-02T19:49:30.638Z"
   },
   {
    "duration": 39,
    "start_time": "2022-02-02T19:49:30.663Z"
   },
   {
    "duration": 91,
    "start_time": "2022-02-02T19:49:30.704Z"
   },
   {
    "duration": 8,
    "start_time": "2022-02-02T19:49:30.797Z"
   },
   {
    "duration": 18,
    "start_time": "2022-02-02T19:49:30.807Z"
   },
   {
    "duration": 17,
    "start_time": "2022-02-02T19:49:30.827Z"
   },
   {
    "duration": 47,
    "start_time": "2022-02-02T19:49:30.860Z"
   },
   {
    "duration": 72,
    "start_time": "2022-02-02T19:49:30.909Z"
   },
   {
    "duration": 8,
    "start_time": "2022-02-02T19:49:30.983Z"
   },
   {
    "duration": 20,
    "start_time": "2022-02-02T19:49:30.993Z"
   },
   {
    "duration": 1083,
    "start_time": "2022-02-02T19:52:05.458Z"
   },
   {
    "duration": 134,
    "start_time": "2022-02-02T19:52:06.542Z"
   },
   {
    "duration": 4,
    "start_time": "2022-02-02T19:52:06.678Z"
   },
   {
    "duration": 11,
    "start_time": "2022-02-02T19:52:06.684Z"
   },
   {
    "duration": 7,
    "start_time": "2022-02-02T19:52:06.696Z"
   },
   {
    "duration": 8,
    "start_time": "2022-02-02T19:52:06.704Z"
   },
   {
    "duration": 195,
    "start_time": "2022-02-02T19:52:06.713Z"
   },
   {
    "duration": 5,
    "start_time": "2022-02-02T19:52:06.910Z"
   },
   {
    "duration": 28,
    "start_time": "2022-02-02T19:52:06.917Z"
   },
   {
    "duration": 15,
    "start_time": "2022-02-02T19:52:06.947Z"
   },
   {
    "duration": 31,
    "start_time": "2022-02-02T19:52:06.964Z"
   },
   {
    "duration": 602,
    "start_time": "2022-02-02T19:52:06.997Z"
   },
   {
    "duration": 5,
    "start_time": "2022-02-02T19:52:07.601Z"
   },
   {
    "duration": 114,
    "start_time": "2022-02-02T19:52:07.608Z"
   },
   {
    "duration": 45,
    "start_time": "2022-02-02T19:52:07.724Z"
   },
   {
    "duration": 167,
    "start_time": "2022-02-02T19:52:07.770Z"
   },
   {
    "duration": 142,
    "start_time": "2022-02-02T19:52:07.939Z"
   },
   {
    "duration": 5,
    "start_time": "2022-02-02T19:52:08.082Z"
   },
   {
    "duration": 14,
    "start_time": "2022-02-02T19:52:08.088Z"
   },
   {
    "duration": 13,
    "start_time": "2022-02-02T19:52:08.104Z"
   },
   {
    "duration": 146,
    "start_time": "2022-02-02T19:52:08.118Z"
   },
   {
    "duration": 16,
    "start_time": "2022-02-02T19:52:08.266Z"
   },
   {
    "duration": 17,
    "start_time": "2022-02-02T19:52:08.285Z"
   },
   {
    "duration": 37,
    "start_time": "2022-02-02T19:52:08.304Z"
   },
   {
    "duration": 15,
    "start_time": "2022-02-02T19:52:08.359Z"
   },
   {
    "duration": 34,
    "start_time": "2022-02-02T19:52:08.376Z"
   },
   {
    "duration": 441,
    "start_time": "2022-02-02T19:52:08.412Z"
   },
   {
    "duration": 9,
    "start_time": "2022-02-02T19:52:08.855Z"
   },
   {
    "duration": 5,
    "start_time": "2022-02-02T19:52:08.866Z"
   },
   {
    "duration": 5,
    "start_time": "2022-02-02T19:52:08.873Z"
   },
   {
    "duration": 29,
    "start_time": "2022-02-02T19:52:08.880Z"
   },
   {
    "duration": 77,
    "start_time": "2022-02-02T19:52:08.911Z"
   },
   {
    "duration": 12,
    "start_time": "2022-02-02T19:52:08.990Z"
   },
   {
    "duration": 658,
    "start_time": "2022-02-02T19:52:09.004Z"
   },
   {
    "duration": 25,
    "start_time": "2022-02-02T19:52:09.664Z"
   },
   {
    "duration": 41,
    "start_time": "2022-02-02T19:52:09.690Z"
   },
   {
    "duration": 94,
    "start_time": "2022-02-02T19:52:09.733Z"
   },
   {
    "duration": 6,
    "start_time": "2022-02-02T19:52:09.829Z"
   },
   {
    "duration": 26,
    "start_time": "2022-02-02T19:52:09.837Z"
   },
   {
    "duration": 12,
    "start_time": "2022-02-02T19:52:09.864Z"
   },
   {
    "duration": 40,
    "start_time": "2022-02-02T19:52:09.877Z"
   },
   {
    "duration": 85,
    "start_time": "2022-02-02T19:52:09.918Z"
   },
   {
    "duration": 8,
    "start_time": "2022-02-02T19:52:10.005Z"
   },
   {
    "duration": 23,
    "start_time": "2022-02-02T19:52:10.014Z"
   },
   {
    "duration": 233,
    "start_time": "2022-02-03T08:57:19.906Z"
   },
   {
    "duration": 1046,
    "start_time": "2022-02-03T08:57:27.653Z"
   },
   {
    "duration": 151,
    "start_time": "2022-02-03T08:57:28.701Z"
   },
   {
    "duration": 5,
    "start_time": "2022-02-03T08:57:28.853Z"
   },
   {
    "duration": 8,
    "start_time": "2022-02-03T08:57:28.860Z"
   },
   {
    "duration": 7,
    "start_time": "2022-02-03T08:57:28.870Z"
   },
   {
    "duration": 6,
    "start_time": "2022-02-03T08:57:28.879Z"
   },
   {
    "duration": 199,
    "start_time": "2022-02-03T08:57:28.886Z"
   },
   {
    "duration": 5,
    "start_time": "2022-02-03T08:57:29.087Z"
   },
   {
    "duration": 22,
    "start_time": "2022-02-03T08:57:29.094Z"
   },
   {
    "duration": 11,
    "start_time": "2022-02-03T08:57:29.118Z"
   },
   {
    "duration": 25,
    "start_time": "2022-02-03T08:57:29.131Z"
   },
   {
    "duration": 723,
    "start_time": "2022-02-03T08:57:29.158Z"
   },
   {
    "duration": 4,
    "start_time": "2022-02-03T08:57:29.883Z"
   },
   {
    "duration": 104,
    "start_time": "2022-02-03T08:57:29.889Z"
   },
   {
    "duration": 46,
    "start_time": "2022-02-03T08:57:29.995Z"
   },
   {
    "duration": 155,
    "start_time": "2022-02-03T08:57:30.043Z"
   },
   {
    "duration": 168,
    "start_time": "2022-02-03T08:57:30.200Z"
   },
   {
    "duration": 4,
    "start_time": "2022-02-03T08:57:30.370Z"
   },
   {
    "duration": 12,
    "start_time": "2022-02-03T08:57:30.376Z"
   },
   {
    "duration": 22,
    "start_time": "2022-02-03T08:57:30.390Z"
   },
   {
    "duration": 5,
    "start_time": "2022-02-03T08:57:30.414Z"
   },
   {
    "duration": 128,
    "start_time": "2022-02-03T08:57:30.420Z"
   },
   {
    "duration": 16,
    "start_time": "2022-02-03T08:57:30.552Z"
   },
   {
    "duration": 25,
    "start_time": "2022-02-03T08:57:30.570Z"
   },
   {
    "duration": 58,
    "start_time": "2022-02-03T08:57:30.597Z"
   },
   {
    "duration": 16,
    "start_time": "2022-02-03T08:57:30.656Z"
   },
   {
    "duration": 33,
    "start_time": "2022-02-03T08:57:30.674Z"
   },
   {
    "duration": 431,
    "start_time": "2022-02-03T08:57:30.709Z"
   },
   {
    "duration": 7,
    "start_time": "2022-02-03T08:57:31.142Z"
   },
   {
    "duration": 4,
    "start_time": "2022-02-03T08:57:31.151Z"
   },
   {
    "duration": 10,
    "start_time": "2022-02-03T08:57:31.157Z"
   },
   {
    "duration": 49,
    "start_time": "2022-02-03T08:57:31.169Z"
   },
   {
    "duration": 52,
    "start_time": "2022-02-03T08:57:31.220Z"
   },
   {
    "duration": 9,
    "start_time": "2022-02-03T08:57:31.274Z"
   },
   {
    "duration": 318,
    "start_time": "2022-02-03T08:57:31.285Z"
   },
   {
    "duration": 25,
    "start_time": "2022-02-03T08:57:31.605Z"
   },
   {
    "duration": 40,
    "start_time": "2022-02-03T08:57:31.632Z"
   },
   {
    "duration": 91,
    "start_time": "2022-02-03T08:57:31.674Z"
   },
   {
    "duration": 7,
    "start_time": "2022-02-03T08:57:31.767Z"
   },
   {
    "duration": 16,
    "start_time": "2022-02-03T08:57:31.775Z"
   },
   {
    "duration": 24,
    "start_time": "2022-02-03T08:57:31.793Z"
   },
   {
    "duration": 41,
    "start_time": "2022-02-03T08:57:31.818Z"
   },
   {
    "duration": 84,
    "start_time": "2022-02-03T08:57:31.860Z"
   },
   {
    "duration": 8,
    "start_time": "2022-02-03T08:57:31.946Z"
   },
   {
    "duration": 16,
    "start_time": "2022-02-03T08:57:31.956Z"
   },
   {
    "duration": 5,
    "start_time": "2022-02-03T08:58:14.618Z"
   },
   {
    "duration": 5,
    "start_time": "2022-02-03T08:58:59.567Z"
   },
   {
    "duration": 5,
    "start_time": "2022-02-03T08:59:14.391Z"
   },
   {
    "duration": 5,
    "start_time": "2022-02-03T08:59:24.921Z"
   },
   {
    "duration": 4779,
    "start_time": "2022-02-03T09:01:38.010Z"
   },
   {
    "duration": 6,
    "start_time": "2022-02-03T09:01:52.041Z"
   },
   {
    "duration": 8,
    "start_time": "2022-02-03T09:02:05.444Z"
   },
   {
    "duration": 7,
    "start_time": "2022-02-03T09:03:58.853Z"
   },
   {
    "duration": 8,
    "start_time": "2022-02-03T09:04:24.626Z"
   },
   {
    "duration": 5,
    "start_time": "2022-02-03T09:12:12.320Z"
   },
   {
    "duration": 5,
    "start_time": "2022-02-03T09:12:25.016Z"
   },
   {
    "duration": 31,
    "start_time": "2022-02-03T09:14:36.773Z"
   },
   {
    "duration": 10,
    "start_time": "2022-02-03T09:15:48.548Z"
   },
   {
    "duration": 10,
    "start_time": "2022-02-03T09:17:04.347Z"
   },
   {
    "duration": 142,
    "start_time": "2022-02-03T09:26:25.564Z"
   },
   {
    "duration": 132,
    "start_time": "2022-02-03T09:26:53.013Z"
   },
   {
    "duration": 12,
    "start_time": "2022-02-03T09:27:08.332Z"
   },
   {
    "duration": 4,
    "start_time": "2022-02-03T09:31:03.869Z"
   },
   {
    "duration": 4,
    "start_time": "2022-02-03T09:31:16.877Z"
   },
   {
    "duration": 4679,
    "start_time": "2022-02-03T09:31:34.223Z"
   },
   {
    "duration": 5,
    "start_time": "2022-02-03T09:31:48.168Z"
   },
   {
    "duration": 4,
    "start_time": "2022-02-03T09:32:16.279Z"
   },
   {
    "duration": 1021,
    "start_time": "2022-02-03T09:35:35.039Z"
   },
   {
    "duration": 158,
    "start_time": "2022-02-03T09:35:36.062Z"
   },
   {
    "duration": 5,
    "start_time": "2022-02-03T09:35:36.222Z"
   },
   {
    "duration": 16,
    "start_time": "2022-02-03T09:35:36.230Z"
   },
   {
    "duration": 10,
    "start_time": "2022-02-03T09:35:36.248Z"
   },
   {
    "duration": 8,
    "start_time": "2022-02-03T09:35:36.260Z"
   },
   {
    "duration": 205,
    "start_time": "2022-02-03T09:35:36.270Z"
   },
   {
    "duration": 5,
    "start_time": "2022-02-03T09:35:36.478Z"
   },
   {
    "duration": 48,
    "start_time": "2022-02-03T09:35:36.485Z"
   },
   {
    "duration": 11,
    "start_time": "2022-02-03T09:35:36.535Z"
   },
   {
    "duration": 28,
    "start_time": "2022-02-03T09:35:36.547Z"
   },
   {
    "duration": 615,
    "start_time": "2022-02-03T09:35:36.577Z"
   },
   {
    "duration": 5,
    "start_time": "2022-02-03T09:35:37.193Z"
   },
   {
    "duration": 119,
    "start_time": "2022-02-03T09:35:37.200Z"
   },
   {
    "duration": 39,
    "start_time": "2022-02-03T09:35:37.321Z"
   },
   {
    "duration": 175,
    "start_time": "2022-02-03T09:35:37.362Z"
   },
   {
    "duration": 152,
    "start_time": "2022-02-03T09:35:37.539Z"
   },
   {
    "duration": 5,
    "start_time": "2022-02-03T09:35:37.693Z"
   },
   {
    "duration": 8,
    "start_time": "2022-02-03T09:35:37.699Z"
   },
   {
    "duration": 10,
    "start_time": "2022-02-03T09:35:37.709Z"
   },
   {
    "duration": 4,
    "start_time": "2022-02-03T09:35:37.721Z"
   },
   {
    "duration": 5,
    "start_time": "2022-02-03T09:35:37.726Z"
   },
   {
    "duration": 4,
    "start_time": "2022-02-03T09:35:37.735Z"
   },
   {
    "duration": 6,
    "start_time": "2022-02-03T09:35:37.741Z"
   },
   {
    "duration": 4,
    "start_time": "2022-02-03T09:35:37.748Z"
   },
   {
    "duration": 6,
    "start_time": "2022-02-03T09:35:37.754Z"
   },
   {
    "duration": 5,
    "start_time": "2022-02-03T09:35:37.762Z"
   },
   {
    "duration": 4,
    "start_time": "2022-02-03T09:35:37.769Z"
   },
   {
    "duration": 6,
    "start_time": "2022-02-03T09:35:37.774Z"
   },
   {
    "duration": 4,
    "start_time": "2022-02-03T09:35:37.781Z"
   },
   {
    "duration": 149,
    "start_time": "2022-02-03T09:35:37.813Z"
   },
   {
    "duration": 12,
    "start_time": "2022-02-03T09:35:37.963Z"
   },
   {
    "duration": 14,
    "start_time": "2022-02-03T09:35:37.976Z"
   },
   {
    "duration": 58,
    "start_time": "2022-02-03T09:35:37.991Z"
   },
   {
    "duration": 15,
    "start_time": "2022-02-03T09:35:38.051Z"
   },
   {
    "duration": 44,
    "start_time": "2022-02-03T09:35:38.068Z"
   },
   {
    "duration": 444,
    "start_time": "2022-02-03T09:35:38.114Z"
   },
   {
    "duration": 8,
    "start_time": "2022-02-03T09:35:38.560Z"
   },
   {
    "duration": 5,
    "start_time": "2022-02-03T09:35:38.569Z"
   },
   {
    "duration": 7,
    "start_time": "2022-02-03T09:35:38.575Z"
   },
   {
    "duration": 50,
    "start_time": "2022-02-03T09:35:38.583Z"
   },
   {
    "duration": 51,
    "start_time": "2022-02-03T09:35:38.634Z"
   },
   {
    "duration": 8,
    "start_time": "2022-02-03T09:35:38.687Z"
   },
   {
    "duration": 288,
    "start_time": "2022-02-03T09:35:38.712Z"
   },
   {
    "duration": 24,
    "start_time": "2022-02-03T09:35:39.002Z"
   },
   {
    "duration": 40,
    "start_time": "2022-02-03T09:35:39.028Z"
   },
   {
    "duration": 83,
    "start_time": "2022-02-03T09:35:39.070Z"
   },
   {
    "duration": 7,
    "start_time": "2022-02-03T09:35:39.155Z"
   },
   {
    "duration": 13,
    "start_time": "2022-02-03T09:35:39.163Z"
   },
   {
    "duration": 11,
    "start_time": "2022-02-03T09:35:39.177Z"
   },
   {
    "duration": 55,
    "start_time": "2022-02-03T09:35:39.189Z"
   },
   {
    "duration": 82,
    "start_time": "2022-02-03T09:35:39.245Z"
   },
   {
    "duration": 7,
    "start_time": "2022-02-03T09:35:39.328Z"
   },
   {
    "duration": 16,
    "start_time": "2022-02-03T09:35:39.337Z"
   },
   {
    "duration": 4,
    "start_time": "2022-02-03T09:38:47.644Z"
   },
   {
    "duration": 7,
    "start_time": "2022-02-03T09:39:09.726Z"
   },
   {
    "duration": 56,
    "start_time": "2022-02-03T09:39:31.852Z"
   },
   {
    "duration": 5,
    "start_time": "2022-02-03T09:39:37.392Z"
   },
   {
    "duration": 300,
    "start_time": "2022-02-03T13:29:49.817Z"
   },
   {
    "duration": 1412,
    "start_time": "2022-02-03T13:30:03.423Z"
   },
   {
    "duration": 202,
    "start_time": "2022-02-03T13:30:04.837Z"
   },
   {
    "duration": 8,
    "start_time": "2022-02-03T13:30:05.042Z"
   },
   {
    "duration": 21,
    "start_time": "2022-02-03T13:30:05.053Z"
   },
   {
    "duration": 18,
    "start_time": "2022-02-03T13:30:05.076Z"
   },
   {
    "duration": 11,
    "start_time": "2022-02-03T13:30:05.097Z"
   },
   {
    "duration": 464,
    "start_time": "2022-02-03T13:30:05.110Z"
   },
   {
    "duration": 6,
    "start_time": "2022-02-03T13:30:05.578Z"
   },
   {
    "duration": 43,
    "start_time": "2022-02-03T13:30:05.587Z"
   },
   {
    "duration": 43,
    "start_time": "2022-02-03T13:30:05.632Z"
   },
   {
    "duration": 37,
    "start_time": "2022-02-03T13:30:05.678Z"
   },
   {
    "duration": 842,
    "start_time": "2022-02-03T13:30:05.718Z"
   },
   {
    "duration": 11,
    "start_time": "2022-02-03T13:30:06.562Z"
   },
   {
    "duration": 161,
    "start_time": "2022-02-03T13:30:06.576Z"
   },
   {
    "duration": 58,
    "start_time": "2022-02-03T13:30:06.739Z"
   },
   {
    "duration": 237,
    "start_time": "2022-02-03T13:30:06.800Z"
   },
   {
    "duration": 218,
    "start_time": "2022-02-03T13:30:07.040Z"
   },
   {
    "duration": 6,
    "start_time": "2022-02-03T13:30:07.261Z"
   },
   {
    "duration": 11,
    "start_time": "2022-02-03T13:30:07.269Z"
   },
   {
    "duration": 16,
    "start_time": "2022-02-03T13:30:07.282Z"
   },
   {
    "duration": 5,
    "start_time": "2022-02-03T13:30:07.300Z"
   },
   {
    "duration": 10,
    "start_time": "2022-02-03T13:30:07.307Z"
   },
   {
    "duration": 6,
    "start_time": "2022-02-03T13:30:07.323Z"
   },
   {
    "duration": 6,
    "start_time": "2022-02-03T13:30:07.371Z"
   },
   {
    "duration": 10,
    "start_time": "2022-02-03T13:30:07.379Z"
   },
   {
    "duration": 29,
    "start_time": "2022-02-03T13:30:07.391Z"
   },
   {
    "duration": 14,
    "start_time": "2022-02-03T13:30:07.423Z"
   },
   {
    "duration": 10,
    "start_time": "2022-02-03T13:30:07.440Z"
   },
   {
    "duration": 13,
    "start_time": "2022-02-03T13:30:07.453Z"
   },
   {
    "duration": 9,
    "start_time": "2022-02-03T13:30:07.469Z"
   },
   {
    "duration": 224,
    "start_time": "2022-02-03T13:30:07.480Z"
   },
   {
    "duration": 14,
    "start_time": "2022-02-03T13:30:07.706Z"
   },
   {
    "duration": 28,
    "start_time": "2022-02-03T13:30:07.722Z"
   },
   {
    "duration": 42,
    "start_time": "2022-02-03T13:30:07.770Z"
   },
   {
    "duration": 23,
    "start_time": "2022-02-03T13:30:07.815Z"
   },
   {
    "duration": 61,
    "start_time": "2022-02-03T13:30:07.840Z"
   },
   {
    "duration": 708,
    "start_time": "2022-02-03T13:30:07.904Z"
   },
   {
    "duration": 11,
    "start_time": "2022-02-03T13:30:08.614Z"
   },
   {
    "duration": 22,
    "start_time": "2022-02-03T13:30:08.627Z"
   },
   {
    "duration": 18,
    "start_time": "2022-02-03T13:30:08.651Z"
   },
   {
    "duration": 42,
    "start_time": "2022-02-03T13:30:08.672Z"
   },
   {
    "duration": 99,
    "start_time": "2022-02-03T13:30:08.717Z"
   },
   {
    "duration": 13,
    "start_time": "2022-02-03T13:30:08.818Z"
   },
   {
    "duration": 837,
    "start_time": "2022-02-03T13:30:08.834Z"
   },
   {
    "duration": 33,
    "start_time": "2022-02-03T13:30:09.674Z"
   },
   {
    "duration": 86,
    "start_time": "2022-02-03T13:30:09.710Z"
   },
   {
    "duration": 117,
    "start_time": "2022-02-03T13:30:09.799Z"
   },
   {
    "duration": 10,
    "start_time": "2022-02-03T13:30:09.919Z"
   },
   {
    "duration": 39,
    "start_time": "2022-02-03T13:30:09.931Z"
   },
   {
    "duration": 22,
    "start_time": "2022-02-03T13:30:09.972Z"
   },
   {
    "duration": 72,
    "start_time": "2022-02-03T13:30:09.997Z"
   },
   {
    "duration": 144,
    "start_time": "2022-02-03T13:30:10.071Z"
   },
   {
    "duration": 16,
    "start_time": "2022-02-03T13:30:10.218Z"
   },
   {
    "duration": 43,
    "start_time": "2022-02-03T13:30:10.237Z"
   },
   {
    "duration": 1417,
    "start_time": "2022-02-03T13:31:07.126Z"
   },
   {
    "duration": 210,
    "start_time": "2022-02-03T13:31:08.546Z"
   },
   {
    "duration": 7,
    "start_time": "2022-02-03T13:31:08.759Z"
   },
   {
    "duration": 24,
    "start_time": "2022-02-03T13:31:08.769Z"
   },
   {
    "duration": 25,
    "start_time": "2022-02-03T13:31:08.796Z"
   },
   {
    "duration": 20,
    "start_time": "2022-02-03T13:31:08.823Z"
   },
   {
    "duration": 325,
    "start_time": "2022-02-03T13:31:08.845Z"
   },
   {
    "duration": 7,
    "start_time": "2022-02-03T13:31:09.174Z"
   },
   {
    "duration": 45,
    "start_time": "2022-02-03T13:31:09.184Z"
   },
   {
    "duration": 40,
    "start_time": "2022-02-03T13:31:09.232Z"
   },
   {
    "duration": 43,
    "start_time": "2022-02-03T13:31:09.275Z"
   },
   {
    "duration": 856,
    "start_time": "2022-02-03T13:31:09.320Z"
   },
   {
    "duration": 7,
    "start_time": "2022-02-03T13:31:10.178Z"
   },
   {
    "duration": 167,
    "start_time": "2022-02-03T13:31:10.188Z"
   },
   {
    "duration": 59,
    "start_time": "2022-02-03T13:31:10.357Z"
   },
   {
    "duration": 269,
    "start_time": "2022-02-03T13:31:10.419Z"
   },
   {
    "duration": 193,
    "start_time": "2022-02-03T13:31:10.690Z"
   },
   {
    "duration": 7,
    "start_time": "2022-02-03T13:31:10.885Z"
   },
   {
    "duration": 18,
    "start_time": "2022-02-03T13:31:10.894Z"
   },
   {
    "duration": 17,
    "start_time": "2022-02-03T13:31:10.914Z"
   },
   {
    "duration": 6,
    "start_time": "2022-02-03T13:31:10.934Z"
   },
   {
    "duration": 6,
    "start_time": "2022-02-03T13:31:10.970Z"
   },
   {
    "duration": 11,
    "start_time": "2022-02-03T13:31:10.982Z"
   },
   {
    "duration": 8,
    "start_time": "2022-02-03T13:31:10.996Z"
   },
   {
    "duration": 10,
    "start_time": "2022-02-03T13:31:11.006Z"
   },
   {
    "duration": 54,
    "start_time": "2022-02-03T13:31:11.018Z"
   },
   {
    "duration": 6,
    "start_time": "2022-02-03T13:31:11.074Z"
   },
   {
    "duration": 10,
    "start_time": "2022-02-03T13:31:11.082Z"
   },
   {
    "duration": 8,
    "start_time": "2022-02-03T13:31:11.094Z"
   },
   {
    "duration": 7,
    "start_time": "2022-02-03T13:31:11.104Z"
   },
   {
    "duration": 243,
    "start_time": "2022-02-03T13:31:11.113Z"
   },
   {
    "duration": 19,
    "start_time": "2022-02-03T13:31:11.358Z"
   },
   {
    "duration": 18,
    "start_time": "2022-02-03T13:31:11.379Z"
   },
   {
    "duration": 70,
    "start_time": "2022-02-03T13:31:11.400Z"
   },
   {
    "duration": 22,
    "start_time": "2022-02-03T13:31:11.473Z"
   },
   {
    "duration": 37,
    "start_time": "2022-02-03T13:31:11.498Z"
   },
   {
    "duration": 722,
    "start_time": "2022-02-03T13:31:11.538Z"
   },
   {
    "duration": 15,
    "start_time": "2022-02-03T13:31:12.263Z"
   },
   {
    "duration": 51,
    "start_time": "2022-02-03T13:31:12.280Z"
   },
   {
    "duration": 8,
    "start_time": "2022-02-03T13:31:12.333Z"
   },
   {
    "duration": 49,
    "start_time": "2022-02-03T13:31:12.344Z"
   },
   {
    "duration": 82,
    "start_time": "2022-02-03T13:31:12.395Z"
   },
   {
    "duration": 12,
    "start_time": "2022-02-03T13:31:12.480Z"
   },
   {
    "duration": 775,
    "start_time": "2022-02-03T13:31:12.495Z"
   },
   {
    "duration": 37,
    "start_time": "2022-02-03T13:31:13.273Z"
   },
   {
    "duration": 86,
    "start_time": "2022-02-03T13:31:13.313Z"
   },
   {
    "duration": 114,
    "start_time": "2022-02-03T13:31:13.402Z"
   },
   {
    "duration": 11,
    "start_time": "2022-02-03T13:31:13.518Z"
   },
   {
    "duration": 39,
    "start_time": "2022-02-03T13:31:13.532Z"
   },
   {
    "duration": 18,
    "start_time": "2022-02-03T13:31:13.573Z"
   },
   {
    "duration": 75,
    "start_time": "2022-02-03T13:31:13.593Z"
   },
   {
    "duration": 116,
    "start_time": "2022-02-03T13:31:13.671Z"
   },
   {
    "duration": 11,
    "start_time": "2022-02-03T13:31:13.790Z"
   },
   {
    "duration": 26,
    "start_time": "2022-02-03T13:31:13.803Z"
   },
   {
    "duration": 10,
    "start_time": "2022-02-03T13:32:26.799Z"
   },
   {
    "duration": 13,
    "start_time": "2022-02-03T13:32:42.496Z"
   },
   {
    "duration": 13,
    "start_time": "2022-02-03T13:32:46.174Z"
   },
   {
    "duration": 15,
    "start_time": "2022-02-03T13:36:02.252Z"
   },
   {
    "duration": 24,
    "start_time": "2022-02-03T13:36:23.275Z"
   },
   {
    "duration": 22,
    "start_time": "2022-02-03T13:36:38.296Z"
   },
   {
    "duration": 26,
    "start_time": "2022-02-03T13:36:47.491Z"
   },
   {
    "duration": 7,
    "start_time": "2022-02-03T13:37:39.219Z"
   },
   {
    "duration": 10,
    "start_time": "2022-02-03T13:37:54.691Z"
   },
   {
    "duration": 6,
    "start_time": "2022-02-03T13:50:37.419Z"
   },
   {
    "duration": 8,
    "start_time": "2022-02-03T13:52:04.456Z"
   },
   {
    "duration": 6,
    "start_time": "2022-02-03T13:52:48.287Z"
   },
   {
    "duration": 7,
    "start_time": "2022-02-03T13:53:51.311Z"
   },
   {
    "duration": 9,
    "start_time": "2022-02-03T13:55:27.533Z"
   },
   {
    "duration": 9,
    "start_time": "2022-02-03T13:56:23.971Z"
   },
   {
    "duration": 9,
    "start_time": "2022-02-03T13:56:56.032Z"
   },
   {
    "duration": 8,
    "start_time": "2022-02-03T13:57:44.530Z"
   },
   {
    "duration": 6,
    "start_time": "2022-02-03T14:04:11.894Z"
   },
   {
    "duration": 82,
    "start_time": "2022-02-03T14:04:37.933Z"
   },
   {
    "duration": 12,
    "start_time": "2022-02-03T14:10:09.447Z"
   },
   {
    "duration": 12,
    "start_time": "2022-02-03T14:10:26.652Z"
   },
   {
    "duration": 13,
    "start_time": "2022-02-03T14:11:38.871Z"
   },
   {
    "duration": 93,
    "start_time": "2022-02-03T14:11:53.823Z"
   },
   {
    "duration": 84,
    "start_time": "2022-02-03T14:12:06.180Z"
   },
   {
    "duration": 13,
    "start_time": "2022-02-03T14:12:15.006Z"
   },
   {
    "duration": 7,
    "start_time": "2022-02-03T14:17:28.200Z"
   },
   {
    "duration": 13,
    "start_time": "2022-02-03T14:19:27.100Z"
   },
   {
    "duration": 494,
    "start_time": "2022-02-03T14:20:37.766Z"
   },
   {
    "duration": 426,
    "start_time": "2022-02-03T14:21:42.702Z"
   },
   {
    "duration": 14,
    "start_time": "2022-02-03T14:22:36.440Z"
   },
   {
    "duration": 1399,
    "start_time": "2022-02-03T14:23:23.644Z"
   },
   {
    "duration": 205,
    "start_time": "2022-02-03T14:23:25.046Z"
   },
   {
    "duration": 7,
    "start_time": "2022-02-03T14:23:25.254Z"
   },
   {
    "duration": 14,
    "start_time": "2022-02-03T14:23:25.264Z"
   },
   {
    "duration": 12,
    "start_time": "2022-02-03T14:23:25.280Z"
   },
   {
    "duration": 7,
    "start_time": "2022-02-03T14:23:25.295Z"
   },
   {
    "duration": 258,
    "start_time": "2022-02-03T14:23:25.305Z"
   },
   {
    "duration": 7,
    "start_time": "2022-02-03T14:23:25.566Z"
   },
   {
    "duration": 42,
    "start_time": "2022-02-03T14:23:25.577Z"
   },
   {
    "duration": 15,
    "start_time": "2022-02-03T14:23:25.621Z"
   },
   {
    "duration": 39,
    "start_time": "2022-02-03T14:23:25.670Z"
   },
   {
    "duration": 821,
    "start_time": "2022-02-03T14:23:25.712Z"
   },
   {
    "duration": 6,
    "start_time": "2022-02-03T14:23:26.535Z"
   },
   {
    "duration": 167,
    "start_time": "2022-02-03T14:23:26.543Z"
   },
   {
    "duration": 60,
    "start_time": "2022-02-03T14:23:26.712Z"
   },
   {
    "duration": 224,
    "start_time": "2022-02-03T14:23:26.775Z"
   },
   {
    "duration": 208,
    "start_time": "2022-02-03T14:23:27.002Z"
   },
   {
    "duration": 6,
    "start_time": "2022-02-03T14:23:27.212Z"
   },
   {
    "duration": 10,
    "start_time": "2022-02-03T14:23:27.220Z"
   },
   {
    "duration": 13,
    "start_time": "2022-02-03T14:23:27.232Z"
   },
   {
    "duration": 25,
    "start_time": "2022-02-03T14:23:27.248Z"
   },
   {
    "duration": 6,
    "start_time": "2022-02-03T14:23:27.276Z"
   },
   {
    "duration": 10,
    "start_time": "2022-02-03T14:23:27.289Z"
   },
   {
    "duration": 7,
    "start_time": "2022-02-03T14:23:27.302Z"
   },
   {
    "duration": 63,
    "start_time": "2022-02-03T14:23:27.311Z"
   },
   {
    "duration": 225,
    "start_time": "2022-02-03T14:23:27.377Z"
   },
   {
    "duration": 23,
    "start_time": "2022-02-03T14:23:27.605Z"
   },
   {
    "duration": 9,
    "start_time": "2022-02-03T14:23:27.630Z"
   },
   {
    "duration": 44,
    "start_time": "2022-02-03T14:23:27.641Z"
   },
   {
    "duration": 43,
    "start_time": "2022-02-03T14:23:27.687Z"
   },
   {
    "duration": 53,
    "start_time": "2022-02-03T14:23:27.733Z"
   },
   {
    "duration": 37,
    "start_time": "2022-02-03T14:23:27.788Z"
   },
   {
    "duration": 700,
    "start_time": "2022-02-03T14:23:27.828Z"
   },
   {
    "duration": 11,
    "start_time": "2022-02-03T14:23:28.530Z"
   },
   {
    "duration": 26,
    "start_time": "2022-02-03T14:23:28.543Z"
   },
   {
    "duration": 15,
    "start_time": "2022-02-03T14:23:28.571Z"
   },
   {
    "duration": 39,
    "start_time": "2022-02-03T14:23:28.588Z"
   },
   {
    "duration": 90,
    "start_time": "2022-02-03T14:23:28.629Z"
   },
   {
    "duration": 12,
    "start_time": "2022-02-03T14:23:28.722Z"
   },
   {
    "duration": 565,
    "start_time": "2022-02-03T14:23:28.736Z"
   },
   {
    "duration": 33,
    "start_time": "2022-02-03T14:23:29.304Z"
   },
   {
    "duration": 80,
    "start_time": "2022-02-03T14:23:29.339Z"
   },
   {
    "duration": 142,
    "start_time": "2022-02-03T14:23:29.422Z"
   },
   {
    "duration": 11,
    "start_time": "2022-02-03T14:23:29.570Z"
   },
   {
    "duration": 18,
    "start_time": "2022-02-03T14:23:29.584Z"
   },
   {
    "duration": 19,
    "start_time": "2022-02-03T14:23:29.605Z"
   },
   {
    "duration": 126,
    "start_time": "2022-02-03T14:23:29.626Z"
   },
   {
    "duration": 154,
    "start_time": "2022-02-03T14:23:29.755Z"
   },
   {
    "duration": 11,
    "start_time": "2022-02-03T14:23:29.911Z"
   },
   {
    "duration": 29,
    "start_time": "2022-02-03T14:23:29.925Z"
   },
   {
    "duration": 21,
    "start_time": "2022-02-03T14:24:54.025Z"
   },
   {
    "duration": 50,
    "start_time": "2022-02-03T14:25:15.487Z"
   },
   {
    "duration": 90,
    "start_time": "2022-02-03T14:26:28.706Z"
   },
   {
    "duration": 81,
    "start_time": "2022-02-03T14:27:35.312Z"
   },
   {
    "duration": 79,
    "start_time": "2022-02-03T14:29:31.792Z"
   },
   {
    "duration": 85,
    "start_time": "2022-02-03T14:30:09.424Z"
   },
   {
    "duration": 91,
    "start_time": "2022-02-03T14:30:58.117Z"
   },
   {
    "duration": 15,
    "start_time": "2022-02-03T14:31:15.423Z"
   },
   {
    "duration": 15,
    "start_time": "2022-02-03T14:32:19.763Z"
   },
   {
    "duration": 14,
    "start_time": "2022-02-03T14:32:33.176Z"
   },
   {
    "duration": 14,
    "start_time": "2022-02-03T14:33:20.690Z"
   },
   {
    "duration": 14,
    "start_time": "2022-02-03T14:33:33.414Z"
   },
   {
    "duration": 15,
    "start_time": "2022-02-03T14:34:11.376Z"
   },
   {
    "duration": 14,
    "start_time": "2022-02-03T14:38:18.054Z"
   },
   {
    "duration": 13,
    "start_time": "2022-02-03T14:38:31.485Z"
   },
   {
    "duration": 74,
    "start_time": "2022-02-03T14:40:02.310Z"
   },
   {
    "duration": 60,
    "start_time": "2022-02-03T14:43:37.094Z"
   },
   {
    "duration": 6628,
    "start_time": "2022-02-03T14:44:44.601Z"
   },
   {
    "duration": 548,
    "start_time": "2022-02-03T14:50:48.391Z"
   },
   {
    "duration": 52,
    "start_time": "2022-02-03T14:51:23.938Z"
   },
   {
    "duration": 323,
    "start_time": "2022-02-03T14:52:12.198Z"
   },
   {
    "duration": 213,
    "start_time": "2022-02-03T14:52:20.956Z"
   },
   {
    "duration": 45,
    "start_time": "2022-02-03T14:52:54.490Z"
   },
   {
    "duration": 47,
    "start_time": "2022-02-03T14:53:13.793Z"
   },
   {
    "duration": 38,
    "start_time": "2022-02-03T14:53:52.962Z"
   },
   {
    "duration": 34,
    "start_time": "2022-02-03T14:54:11.745Z"
   },
   {
    "duration": 532,
    "start_time": "2022-02-03T15:01:12.186Z"
   },
   {
    "duration": 489,
    "start_time": "2022-02-03T15:02:55.073Z"
   },
   {
    "duration": 51,
    "start_time": "2022-02-03T15:03:11.554Z"
   },
   {
    "duration": 161,
    "start_time": "2022-02-03T15:03:18.431Z"
   },
   {
    "duration": 186,
    "start_time": "2022-02-03T15:03:39.163Z"
   },
   {
    "duration": 163,
    "start_time": "2022-02-03T15:03:48.620Z"
   },
   {
    "duration": 49,
    "start_time": "2022-02-03T15:04:44.025Z"
   },
   {
    "duration": 35,
    "start_time": "2022-02-03T15:05:02.408Z"
   },
   {
    "duration": 52,
    "start_time": "2022-02-03T15:09:30.210Z"
   },
   {
    "duration": 133,
    "start_time": "2022-02-03T15:09:50.238Z"
   },
   {
    "duration": 724,
    "start_time": "2022-02-03T15:10:07.918Z"
   },
   {
    "duration": 306,
    "start_time": "2022-02-03T15:13:34.719Z"
   },
   {
    "duration": 112,
    "start_time": "2022-02-03T15:16:55.667Z"
   },
   {
    "duration": 858,
    "start_time": "2022-02-03T15:17:12.465Z"
   },
   {
    "duration": 15,
    "start_time": "2022-02-03T15:17:32.396Z"
   },
   {
    "duration": 29,
    "start_time": "2022-02-03T15:17:41.772Z"
   },
   {
    "duration": 62,
    "start_time": "2022-02-03T15:17:53.408Z"
   },
   {
    "duration": 841,
    "start_time": "2022-02-03T15:18:15.864Z"
   },
   {
    "duration": 695,
    "start_time": "2022-02-03T15:21:39.303Z"
   },
   {
    "duration": 1011,
    "start_time": "2022-02-03T15:22:19.979Z"
   },
   {
    "duration": 12,
    "start_time": "2022-02-03T15:22:40.012Z"
   },
   {
    "duration": 16,
    "start_time": "2022-02-03T15:22:47.173Z"
   },
   {
    "duration": 20,
    "start_time": "2022-02-03T15:23:10.546Z"
   },
   {
    "duration": 575,
    "start_time": "2022-02-03T15:23:20.406Z"
   },
   {
    "duration": 971,
    "start_time": "2022-02-03T15:23:28.803Z"
   },
   {
    "duration": 12,
    "start_time": "2022-02-03T15:23:35.142Z"
   },
   {
    "duration": 21,
    "start_time": "2022-02-03T15:23:43.313Z"
   },
   {
    "duration": 757,
    "start_time": "2022-02-03T15:24:13.162Z"
   },
   {
    "duration": 134,
    "start_time": "2022-02-03T15:24:29.353Z"
   },
   {
    "duration": 1384,
    "start_time": "2022-02-03T15:24:43.539Z"
   },
   {
    "duration": 177,
    "start_time": "2022-02-03T15:24:44.925Z"
   },
   {
    "duration": 6,
    "start_time": "2022-02-03T15:24:45.105Z"
   },
   {
    "duration": 13,
    "start_time": "2022-02-03T15:24:45.114Z"
   },
   {
    "duration": 16,
    "start_time": "2022-02-03T15:24:45.129Z"
   },
   {
    "duration": 22,
    "start_time": "2022-02-03T15:24:45.147Z"
   },
   {
    "duration": 798,
    "start_time": "2022-02-03T15:24:45.171Z"
   },
   {
    "duration": 8,
    "start_time": "2022-02-03T15:24:45.974Z"
   },
   {
    "duration": 61,
    "start_time": "2022-02-03T15:24:45.986Z"
   },
   {
    "duration": 15,
    "start_time": "2022-02-03T15:24:46.070Z"
   },
   {
    "duration": 41,
    "start_time": "2022-02-03T15:24:46.087Z"
   },
   {
    "duration": 825,
    "start_time": "2022-02-03T15:24:46.130Z"
   },
   {
    "duration": 15,
    "start_time": "2022-02-03T15:24:46.957Z"
   },
   {
    "duration": 163,
    "start_time": "2022-02-03T15:24:46.975Z"
   },
   {
    "duration": 60,
    "start_time": "2022-02-03T15:24:47.140Z"
   },
   {
    "duration": 242,
    "start_time": "2022-02-03T15:24:47.202Z"
   },
   {
    "duration": 234,
    "start_time": "2022-02-03T15:24:47.446Z"
   },
   {
    "duration": 5,
    "start_time": "2022-02-03T15:24:47.683Z"
   },
   {
    "duration": 11,
    "start_time": "2022-02-03T15:24:47.690Z"
   },
   {
    "duration": 15,
    "start_time": "2022-02-03T15:24:47.703Z"
   },
   {
    "duration": 7,
    "start_time": "2022-02-03T15:24:47.720Z"
   },
   {
    "duration": 6,
    "start_time": "2022-02-03T15:24:47.769Z"
   },
   {
    "duration": 33,
    "start_time": "2022-02-03T15:24:47.780Z"
   },
   {
    "duration": 7,
    "start_time": "2022-02-03T15:24:47.816Z"
   },
   {
    "duration": 47,
    "start_time": "2022-02-03T15:24:47.825Z"
   },
   {
    "duration": 13,
    "start_time": "2022-02-03T15:24:47.874Z"
   },
   {
    "duration": 83,
    "start_time": "2022-02-03T15:24:47.889Z"
   },
   {
    "duration": 659,
    "start_time": "2022-02-03T15:24:47.975Z"
   },
   {
    "duration": 64,
    "start_time": "2022-02-03T15:24:48.636Z"
   },
   {
    "duration": 266,
    "start_time": "2022-02-03T15:24:48.703Z"
   },
   {
    "duration": 99,
    "start_time": "2022-02-03T15:24:48.972Z"
   },
   {
    "duration": 35,
    "start_time": "2022-02-03T15:24:49.073Z"
   },
   {
    "duration": 78,
    "start_time": "2022-02-03T15:24:49.110Z"
   },
   {
    "duration": 142,
    "start_time": "2022-02-03T15:24:49.191Z"
   },
   {
    "duration": 765,
    "start_time": "2022-02-03T15:24:49.336Z"
   },
   {
    "duration": 144,
    "start_time": "2022-02-03T15:24:50.104Z"
   },
   {
    "duration": 664,
    "start_time": "2022-02-03T15:24:50.251Z"
   },
   {
    "duration": 14,
    "start_time": "2022-02-03T15:24:50.918Z"
   },
   {
    "duration": 609,
    "start_time": "2022-02-03T15:24:50.935Z"
   },
   {
    "duration": 83,
    "start_time": "2022-02-03T15:24:51.547Z"
   },
   {
    "duration": 711,
    "start_time": "2022-02-03T15:24:51.633Z"
   },
   {
    "duration": 935,
    "start_time": "2022-02-03T15:24:52.347Z"
   },
   {
    "duration": 11,
    "start_time": "2022-02-03T15:24:53.284Z"
   },
   {
    "duration": 21,
    "start_time": "2022-02-03T15:24:53.297Z"
   },
   {
    "duration": 50,
    "start_time": "2022-02-03T15:24:53.321Z"
   },
   {
    "duration": 610,
    "start_time": "2022-02-03T15:24:53.373Z"
   },
   {
    "duration": 977,
    "start_time": "2022-02-03T15:24:53.986Z"
   },
   {
    "duration": 13,
    "start_time": "2022-02-03T15:24:54.969Z"
   },
   {
    "duration": 23,
    "start_time": "2022-02-03T15:24:54.985Z"
   },
   {
    "duration": 362,
    "start_time": "2022-02-03T18:13:34.307Z"
   },
   {
    "duration": 1112,
    "start_time": "2022-02-03T18:13:46.496Z"
   },
   {
    "duration": 184,
    "start_time": "2022-02-03T18:13:47.610Z"
   },
   {
    "duration": 4,
    "start_time": "2022-02-03T18:13:47.796Z"
   },
   {
    "duration": 11,
    "start_time": "2022-02-03T18:13:47.802Z"
   },
   {
    "duration": 7,
    "start_time": "2022-02-03T18:13:47.814Z"
   },
   {
    "duration": 9,
    "start_time": "2022-02-03T18:13:47.823Z"
   },
   {
    "duration": 240,
    "start_time": "2022-02-03T18:13:47.833Z"
   },
   {
    "duration": 5,
    "start_time": "2022-02-03T18:13:48.075Z"
   },
   {
    "duration": 47,
    "start_time": "2022-02-03T18:13:48.082Z"
   },
   {
    "duration": 11,
    "start_time": "2022-02-03T18:13:48.131Z"
   },
   {
    "duration": 28,
    "start_time": "2022-02-03T18:13:48.144Z"
   },
   {
    "duration": 650,
    "start_time": "2022-02-03T18:13:48.174Z"
   },
   {
    "duration": 5,
    "start_time": "2022-02-03T18:13:48.825Z"
   },
   {
    "duration": 120,
    "start_time": "2022-02-03T18:13:48.832Z"
   },
   {
    "duration": 38,
    "start_time": "2022-02-03T18:13:48.954Z"
   },
   {
    "duration": 169,
    "start_time": "2022-02-03T18:13:48.994Z"
   },
   {
    "duration": 184,
    "start_time": "2022-02-03T18:13:49.165Z"
   },
   {
    "duration": 5,
    "start_time": "2022-02-03T18:13:49.351Z"
   },
   {
    "duration": 13,
    "start_time": "2022-02-03T18:13:49.357Z"
   },
   {
    "duration": 16,
    "start_time": "2022-02-03T18:13:49.372Z"
   },
   {
    "duration": 7,
    "start_time": "2022-02-03T18:13:49.390Z"
   },
   {
    "duration": 10,
    "start_time": "2022-02-03T18:13:49.399Z"
   },
   {
    "duration": 34,
    "start_time": "2022-02-03T18:13:49.412Z"
   },
   {
    "duration": 7,
    "start_time": "2022-02-03T18:13:49.449Z"
   },
   {
    "duration": 14,
    "start_time": "2022-02-03T18:13:49.458Z"
   },
   {
    "duration": 11,
    "start_time": "2022-02-03T18:13:49.474Z"
   },
   {
    "duration": 161,
    "start_time": "2022-02-03T18:13:49.487Z"
   },
   {
    "duration": 514,
    "start_time": "2022-02-03T18:13:49.650Z"
   },
   {
    "duration": 6731,
    "start_time": "2022-02-03T18:13:50.167Z"
   },
   {
    "duration": -194,
    "start_time": "2022-02-03T18:13:57.095Z"
   },
   {
    "duration": -200,
    "start_time": "2022-02-03T18:13:57.102Z"
   },
   {
    "duration": -203,
    "start_time": "2022-02-03T18:13:57.107Z"
   },
   {
    "duration": -207,
    "start_time": "2022-02-03T18:13:57.112Z"
   },
   {
    "duration": -210,
    "start_time": "2022-02-03T18:13:57.117Z"
   },
   {
    "duration": -216,
    "start_time": "2022-02-03T18:13:57.124Z"
   },
   {
    "duration": -219,
    "start_time": "2022-02-03T18:13:57.129Z"
   },
   {
    "duration": -224,
    "start_time": "2022-02-03T18:13:57.135Z"
   },
   {
    "duration": -227,
    "start_time": "2022-02-03T18:13:57.140Z"
   },
   {
    "duration": -231,
    "start_time": "2022-02-03T18:13:57.146Z"
   },
   {
    "duration": -235,
    "start_time": "2022-02-03T18:13:57.151Z"
   },
   {
    "duration": -240,
    "start_time": "2022-02-03T18:13:57.157Z"
   },
   {
    "duration": -244,
    "start_time": "2022-02-03T18:13:57.162Z"
   },
   {
    "duration": -248,
    "start_time": "2022-02-03T18:13:57.167Z"
   },
   {
    "duration": -252,
    "start_time": "2022-02-03T18:13:57.172Z"
   },
   {
    "duration": -257,
    "start_time": "2022-02-03T18:13:57.178Z"
   },
   {
    "duration": -262,
    "start_time": "2022-02-03T18:13:57.183Z"
   },
   {
    "duration": -267,
    "start_time": "2022-02-03T18:13:57.189Z"
   },
   {
    "duration": -284,
    "start_time": "2022-02-03T18:13:57.207Z"
   },
   {
    "duration": -288,
    "start_time": "2022-02-03T18:13:57.212Z"
   },
   {
    "duration": 9,
    "start_time": "2022-02-03T18:15:03.664Z"
   },
   {
    "duration": 14,
    "start_time": "2022-02-03T18:15:44.561Z"
   },
   {
    "duration": 9,
    "start_time": "2022-02-03T18:15:53.380Z"
   },
   {
    "duration": 8,
    "start_time": "2022-02-03T18:15:58.893Z"
   },
   {
    "duration": 15,
    "start_time": "2022-02-03T18:16:14.576Z"
   },
   {
    "duration": 13,
    "start_time": "2022-02-03T18:16:34.216Z"
   },
   {
    "duration": 409,
    "start_time": "2022-02-03T18:16:47.155Z"
   },
   {
    "duration": 476,
    "start_time": "2022-02-03T18:17:05.039Z"
   },
   {
    "duration": 50,
    "start_time": "2022-02-03T18:21:46.975Z"
   },
   {
    "duration": 512,
    "start_time": "2022-02-03T18:22:38.099Z"
   },
   {
    "duration": 10,
    "start_time": "2022-02-03T18:23:25.659Z"
   },
   {
    "duration": 687,
    "start_time": "2022-02-03T18:23:33.866Z"
   },
   {
    "duration": 48,
    "start_time": "2022-02-03T18:23:59.555Z"
   },
   {
    "duration": 12,
    "start_time": "2022-02-03T18:24:02.704Z"
   },
   {
    "duration": 52,
    "start_time": "2022-02-03T18:24:15.438Z"
   },
   {
    "duration": 8,
    "start_time": "2022-02-03T18:24:28.993Z"
   },
   {
    "duration": 12,
    "start_time": "2022-02-03T18:24:36.869Z"
   },
   {
    "duration": 14,
    "start_time": "2022-02-03T18:24:43.693Z"
   },
   {
    "duration": 536,
    "start_time": "2022-02-03T18:24:50.965Z"
   },
   {
    "duration": 272,
    "start_time": "2022-02-03T18:24:59.167Z"
   },
   {
    "duration": 14,
    "start_time": "2022-02-03T18:25:17.728Z"
   },
   {
    "duration": 50,
    "start_time": "2022-02-03T18:25:25.547Z"
   },
   {
    "duration": 24,
    "start_time": "2022-02-03T18:25:28.040Z"
   },
   {
    "duration": 9,
    "start_time": "2022-02-03T18:25:36.816Z"
   },
   {
    "duration": 17,
    "start_time": "2022-02-03T18:25:46.074Z"
   },
   {
    "duration": 1091,
    "start_time": "2022-02-03T18:25:53.227Z"
   },
   {
    "duration": 193,
    "start_time": "2022-02-03T18:25:54.320Z"
   },
   {
    "duration": 6,
    "start_time": "2022-02-03T18:25:54.515Z"
   },
   {
    "duration": 12,
    "start_time": "2022-02-03T18:25:54.523Z"
   },
   {
    "duration": 9,
    "start_time": "2022-02-03T18:25:54.537Z"
   },
   {
    "duration": 11,
    "start_time": "2022-02-03T18:25:54.547Z"
   },
   {
    "duration": 247,
    "start_time": "2022-02-03T18:25:54.560Z"
   },
   {
    "duration": 4,
    "start_time": "2022-02-03T18:25:54.810Z"
   },
   {
    "duration": 31,
    "start_time": "2022-02-03T18:25:54.816Z"
   },
   {
    "duration": 12,
    "start_time": "2022-02-03T18:25:54.848Z"
   },
   {
    "duration": 32,
    "start_time": "2022-02-03T18:25:54.862Z"
   },
   {
    "duration": 686,
    "start_time": "2022-02-03T18:25:54.895Z"
   },
   {
    "duration": 4,
    "start_time": "2022-02-03T18:25:55.583Z"
   },
   {
    "duration": 121,
    "start_time": "2022-02-03T18:25:55.589Z"
   },
   {
    "duration": 45,
    "start_time": "2022-02-03T18:25:55.712Z"
   },
   {
    "duration": 178,
    "start_time": "2022-02-03T18:25:55.758Z"
   },
   {
    "duration": 198,
    "start_time": "2022-02-03T18:25:55.938Z"
   },
   {
    "duration": 4,
    "start_time": "2022-02-03T18:25:56.137Z"
   },
   {
    "duration": 10,
    "start_time": "2022-02-03T18:25:56.143Z"
   },
   {
    "duration": 18,
    "start_time": "2022-02-03T18:25:56.155Z"
   },
   {
    "duration": 6,
    "start_time": "2022-02-03T18:25:56.175Z"
   },
   {
    "duration": 7,
    "start_time": "2022-02-03T18:25:56.183Z"
   },
   {
    "duration": 41,
    "start_time": "2022-02-03T18:25:56.194Z"
   },
   {
    "duration": 6,
    "start_time": "2022-02-03T18:25:56.237Z"
   },
   {
    "duration": 11,
    "start_time": "2022-02-03T18:25:56.244Z"
   },
   {
    "duration": 11,
    "start_time": "2022-02-03T18:25:56.257Z"
   },
   {
    "duration": 163,
    "start_time": "2022-02-03T18:25:56.270Z"
   },
   {
    "duration": 8,
    "start_time": "2022-02-03T18:25:56.435Z"
   },
   {
    "duration": 17,
    "start_time": "2022-02-03T18:25:56.445Z"
   },
   {
    "duration": 8,
    "start_time": "2022-02-03T18:25:56.463Z"
   },
   {
    "duration": 8,
    "start_time": "2022-02-03T18:25:56.473Z"
   },
   {
    "duration": 44,
    "start_time": "2022-02-03T18:25:56.483Z"
   },
   {
    "duration": 15,
    "start_time": "2022-02-03T18:25:56.529Z"
   },
   {
    "duration": 441,
    "start_time": "2022-02-03T18:25:56.546Z"
   },
   {
    "duration": 62,
    "start_time": "2022-02-03T18:25:56.989Z"
   },
   {
    "duration": 546,
    "start_time": "2022-02-03T18:25:57.053Z"
   },
   {
    "duration": 19,
    "start_time": "2022-02-03T18:25:57.602Z"
   },
   {
    "duration": 523,
    "start_time": "2022-02-03T18:25:57.624Z"
   },
   {
    "duration": 17,
    "start_time": "2022-02-03T18:25:58.150Z"
   },
   {
    "duration": 29,
    "start_time": "2022-02-03T18:25:58.169Z"
   },
   {
    "duration": 54,
    "start_time": "2022-02-03T18:25:58.219Z"
   },
   {
    "duration": 7,
    "start_time": "2022-02-03T18:25:58.275Z"
   },
   {
    "duration": 37,
    "start_time": "2022-02-03T18:25:58.284Z"
   },
   {
    "duration": 12,
    "start_time": "2022-02-03T18:25:58.323Z"
   },
   {
    "duration": 30,
    "start_time": "2022-02-03T18:25:58.337Z"
   },
   {
    "duration": 68,
    "start_time": "2022-02-03T18:25:58.369Z"
   },
   {
    "duration": 7,
    "start_time": "2022-02-03T18:25:58.439Z"
   },
   {
    "duration": 17,
    "start_time": "2022-02-03T18:25:58.448Z"
   },
   {
    "duration": 45,
    "start_time": "2022-02-03T21:18:07.119Z"
   },
   {
    "duration": 14,
    "start_time": "2022-02-03T21:19:40.215Z"
   },
   {
    "duration": 42,
    "start_time": "2022-02-03T21:19:47.675Z"
   },
   {
    "duration": 6898,
    "start_time": "2022-02-03T21:19:53.953Z"
   },
   {
    "duration": 128,
    "start_time": "2022-02-03T21:21:20.955Z"
   },
   {
    "duration": 9,
    "start_time": "2022-02-03T21:21:33.384Z"
   },
   {
    "duration": 16,
    "start_time": "2022-02-03T21:21:40.122Z"
   },
   {
    "duration": 9,
    "start_time": "2022-02-03T21:21:46.745Z"
   },
   {
    "duration": 8,
    "start_time": "2022-02-03T21:21:49.785Z"
   },
   {
    "duration": 9,
    "start_time": "2022-02-03T21:21:57.192Z"
   },
   {
    "duration": 14,
    "start_time": "2022-02-03T21:22:18.645Z"
   },
   {
    "duration": 406,
    "start_time": "2022-02-03T21:22:29.436Z"
   },
   {
    "duration": 25,
    "start_time": "2022-02-03T21:22:39.133Z"
   },
   {
    "duration": 53,
    "start_time": "2022-02-03T21:24:15.492Z"
   },
   {
    "duration": 1245,
    "start_time": "2022-02-03T21:29:00.074Z"
   },
   {
    "duration": 1096,
    "start_time": "2022-02-03T21:29:36.159Z"
   },
   {
    "duration": 79,
    "start_time": "2022-02-03T21:30:41.620Z"
   },
   {
    "duration": 427,
    "start_time": "2022-02-03T21:31:46.667Z"
   },
   {
    "duration": 39,
    "start_time": "2022-02-03T21:31:57.870Z"
   },
   {
    "duration": 124,
    "start_time": "2022-02-03T21:32:06.558Z"
   },
   {
    "duration": 36,
    "start_time": "2022-02-03T21:32:18.308Z"
   },
   {
    "duration": 242,
    "start_time": "2022-02-03T21:32:27.901Z"
   },
   {
    "duration": 25,
    "start_time": "2022-02-03T21:32:32.463Z"
   },
   {
    "duration": 40,
    "start_time": "2022-02-03T21:32:47.080Z"
   },
   {
    "duration": 127,
    "start_time": "2022-02-03T21:33:01.312Z"
   },
   {
    "duration": 449,
    "start_time": "2022-02-03T21:33:21.333Z"
   },
   {
    "duration": 28,
    "start_time": "2022-02-03T21:35:13.939Z"
   },
   {
    "duration": 62,
    "start_time": "2022-02-03T21:35:49.008Z"
   },
   {
    "duration": 29,
    "start_time": "2022-02-03T21:36:21.274Z"
   },
   {
    "duration": 11,
    "start_time": "2022-02-03T21:36:27.496Z"
   },
   {
    "duration": 105,
    "start_time": "2022-02-03T21:36:33.806Z"
   },
   {
    "duration": 46,
    "start_time": "2022-02-03T21:36:57.905Z"
   },
   {
    "duration": 460,
    "start_time": "2022-02-03T21:37:09.274Z"
   },
   {
    "duration": 700,
    "start_time": "2022-02-03T21:37:18.670Z"
   },
   {
    "duration": 8,
    "start_time": "2022-02-03T21:37:30.451Z"
   },
   {
    "duration": 11,
    "start_time": "2022-02-03T21:37:36.984Z"
   },
   {
    "duration": 12,
    "start_time": "2022-02-03T21:37:42.991Z"
   },
   {
    "duration": 15,
    "start_time": "2022-02-03T21:37:49.398Z"
   },
   {
    "duration": 453,
    "start_time": "2022-02-03T21:37:56.193Z"
   },
   {
    "duration": 677,
    "start_time": "2022-02-03T21:38:11.079Z"
   },
   {
    "duration": 8,
    "start_time": "2022-02-03T21:38:19.213Z"
   },
   {
    "duration": 14,
    "start_time": "2022-02-03T21:38:26.532Z"
   },
   {
    "duration": 1136,
    "start_time": "2022-02-03T21:39:06.376Z"
   },
   {
    "duration": 187,
    "start_time": "2022-02-03T21:39:07.514Z"
   },
   {
    "duration": 6,
    "start_time": "2022-02-03T21:39:07.703Z"
   },
   {
    "duration": 10,
    "start_time": "2022-02-03T21:39:07.711Z"
   },
   {
    "duration": 9,
    "start_time": "2022-02-03T21:39:07.722Z"
   },
   {
    "duration": 53,
    "start_time": "2022-02-03T21:39:07.733Z"
   },
   {
    "duration": 264,
    "start_time": "2022-02-03T21:39:07.788Z"
   },
   {
    "duration": 5,
    "start_time": "2022-02-03T21:39:08.054Z"
   },
   {
    "duration": 57,
    "start_time": "2022-02-03T21:39:08.062Z"
   },
   {
    "duration": 16,
    "start_time": "2022-02-03T21:39:08.122Z"
   },
   {
    "duration": 40,
    "start_time": "2022-02-03T21:39:08.140Z"
   },
   {
    "duration": 701,
    "start_time": "2022-02-03T21:39:08.182Z"
   },
   {
    "duration": 5,
    "start_time": "2022-02-03T21:39:08.884Z"
   },
   {
    "duration": 133,
    "start_time": "2022-02-03T21:39:08.892Z"
   },
   {
    "duration": 42,
    "start_time": "2022-02-03T21:39:09.027Z"
   },
   {
    "duration": 223,
    "start_time": "2022-02-03T21:39:09.071Z"
   },
   {
    "duration": 217,
    "start_time": "2022-02-03T21:39:09.296Z"
   },
   {
    "duration": 5,
    "start_time": "2022-02-03T21:39:09.515Z"
   },
   {
    "duration": 38,
    "start_time": "2022-02-03T21:39:09.522Z"
   },
   {
    "duration": 22,
    "start_time": "2022-02-03T21:39:09.562Z"
   },
   {
    "duration": 16,
    "start_time": "2022-02-03T21:39:09.586Z"
   },
   {
    "duration": 13,
    "start_time": "2022-02-03T21:39:09.603Z"
   },
   {
    "duration": 12,
    "start_time": "2022-02-03T21:39:09.620Z"
   },
   {
    "duration": 5,
    "start_time": "2022-02-03T21:39:09.635Z"
   },
   {
    "duration": 24,
    "start_time": "2022-02-03T21:39:09.641Z"
   },
   {
    "duration": 69,
    "start_time": "2022-02-03T21:39:09.667Z"
   },
   {
    "duration": 493,
    "start_time": "2022-02-03T21:39:09.738Z"
   },
   {
    "duration": 45,
    "start_time": "2022-02-03T21:39:10.233Z"
   },
   {
    "duration": 156,
    "start_time": "2022-02-03T21:39:10.280Z"
   },
   {
    "duration": 38,
    "start_time": "2022-02-03T21:39:10.438Z"
   },
   {
    "duration": 43,
    "start_time": "2022-02-03T21:39:10.478Z"
   },
   {
    "duration": 70,
    "start_time": "2022-02-03T21:39:10.523Z"
   },
   {
    "duration": 150,
    "start_time": "2022-02-03T21:39:10.595Z"
   },
   {
    "duration": 508,
    "start_time": "2022-02-03T21:39:10.746Z"
   },
   {
    "duration": 28,
    "start_time": "2022-02-03T21:39:11.256Z"
   },
   {
    "duration": 88,
    "start_time": "2022-02-03T21:39:11.286Z"
   },
   {
    "duration": 31,
    "start_time": "2022-02-03T21:39:11.377Z"
   },
   {
    "duration": 10,
    "start_time": "2022-02-03T21:39:11.418Z"
   },
   {
    "duration": 642,
    "start_time": "2022-02-03T21:39:11.430Z"
   },
   {
    "duration": 76,
    "start_time": "2022-02-03T21:39:12.074Z"
   },
   {
    "duration": 560,
    "start_time": "2022-02-03T21:39:12.152Z"
   },
   {
    "duration": 717,
    "start_time": "2022-02-03T21:39:12.714Z"
   },
   {
    "duration": 7,
    "start_time": "2022-02-03T21:39:13.433Z"
   },
   {
    "duration": 12,
    "start_time": "2022-02-03T21:39:13.442Z"
   },
   {
    "duration": 14,
    "start_time": "2022-02-03T21:39:13.456Z"
   },
   {
    "duration": 513,
    "start_time": "2022-02-03T21:39:13.472Z"
   },
   {
    "duration": 720,
    "start_time": "2022-02-03T21:39:13.987Z"
   },
   {
    "duration": 12,
    "start_time": "2022-02-03T21:39:14.709Z"
   },
   {
    "duration": 15,
    "start_time": "2022-02-03T21:39:14.723Z"
   },
   {
    "duration": 20,
    "start_time": "2022-02-03T21:41:09.437Z"
   },
   {
    "duration": 23,
    "start_time": "2022-02-03T21:54:15.365Z"
   },
   {
    "duration": 14,
    "start_time": "2022-02-03T21:54:30.426Z"
   },
   {
    "duration": 144,
    "start_time": "2022-02-03T22:03:13.971Z"
   },
   {
    "duration": 211,
    "start_time": "2022-02-03T22:03:42.370Z"
   },
   {
    "duration": 18,
    "start_time": "2022-02-03T22:05:27.249Z"
   },
   {
    "duration": 339,
    "start_time": "2022-02-03T22:06:31.603Z"
   },
   {
    "duration": 973,
    "start_time": "2022-02-03T22:06:38.960Z"
   },
   {
    "duration": 25,
    "start_time": "2022-02-03T22:07:00.696Z"
   },
   {
    "duration": 22,
    "start_time": "2022-02-03T22:07:26.252Z"
   },
   {
    "duration": 38,
    "start_time": "2022-02-03T22:07:40.067Z"
   },
   {
    "duration": 42,
    "start_time": "2022-02-03T22:08:17.898Z"
   },
   {
    "duration": 5,
    "start_time": "2022-02-03T22:08:41.611Z"
   },
   {
    "duration": 13,
    "start_time": "2022-02-03T22:08:47.855Z"
   },
   {
    "duration": 10,
    "start_time": "2022-02-03T22:08:56.726Z"
   },
   {
    "duration": 280,
    "start_time": "2022-02-03T22:09:14.529Z"
   },
   {
    "duration": 5,
    "start_time": "2022-02-03T22:09:22.924Z"
   },
   {
    "duration": 11,
    "start_time": "2022-02-03T22:09:31.531Z"
   },
   {
    "duration": 10,
    "start_time": "2022-02-03T22:10:12.891Z"
   },
   {
    "duration": 10,
    "start_time": "2022-02-03T22:10:59.653Z"
   },
   {
    "duration": 27,
    "start_time": "2022-02-03T22:12:31.687Z"
   },
   {
    "duration": 11,
    "start_time": "2022-02-03T22:15:26.292Z"
   },
   {
    "duration": 15,
    "start_time": "2022-02-03T22:16:14.437Z"
   },
   {
    "duration": 14,
    "start_time": "2022-02-03T22:17:03.049Z"
   },
   {
    "duration": 11,
    "start_time": "2022-02-03T22:26:25.423Z"
   },
   {
    "duration": 186,
    "start_time": "2022-02-03T22:27:56.184Z"
   },
   {
    "duration": 217,
    "start_time": "2022-02-03T22:28:00.526Z"
   },
   {
    "duration": 259,
    "start_time": "2022-02-03T22:31:42.747Z"
   },
   {
    "duration": 9,
    "start_time": "2022-02-03T22:32:22.880Z"
   },
   {
    "duration": 5,
    "start_time": "2022-02-03T22:32:32.991Z"
   },
   {
    "duration": 4,
    "start_time": "2022-02-03T22:32:40.734Z"
   },
   {
    "duration": 3,
    "start_time": "2022-02-03T22:32:48.221Z"
   },
   {
    "duration": 18,
    "start_time": "2022-02-03T22:32:56.174Z"
   },
   {
    "duration": 6459,
    "start_time": "2022-02-03T22:33:46.202Z"
   },
   {
    "duration": 5999,
    "start_time": "2022-02-03T22:34:31.821Z"
   },
   {
    "duration": 85,
    "start_time": "2022-02-03T22:35:53.338Z"
   },
   {
    "duration": 9,
    "start_time": "2022-02-03T22:35:57.750Z"
   },
   {
    "duration": 5,
    "start_time": "2022-02-03T22:36:07.618Z"
   },
   {
    "duration": 248,
    "start_time": "2022-02-03T22:36:27.733Z"
   },
   {
    "duration": 4139,
    "start_time": "2022-02-03T22:37:09.128Z"
   },
   {
    "duration": 29,
    "start_time": "2022-02-03T22:37:39.553Z"
   },
   {
    "duration": 5994,
    "start_time": "2022-02-03T22:39:12.433Z"
   },
   {
    "duration": 260,
    "start_time": "2022-02-03T22:39:35.222Z"
   },
   {
    "duration": 24,
    "start_time": "2022-02-03T22:39:55.625Z"
   },
   {
    "duration": 12,
    "start_time": "2022-02-03T22:40:49.253Z"
   },
   {
    "duration": 87,
    "start_time": "2022-02-03T22:42:19.937Z"
   },
   {
    "duration": 4498,
    "start_time": "2022-02-03T22:42:28.186Z"
   },
   {
    "duration": 20,
    "start_time": "2022-02-03T22:43:20.764Z"
   },
   {
    "duration": 11,
    "start_time": "2022-02-03T22:44:15.365Z"
   },
   {
    "duration": 4009,
    "start_time": "2022-02-03T22:44:20.468Z"
   },
   {
    "duration": 4,
    "start_time": "2022-02-03T22:45:03.571Z"
   },
   {
    "duration": 4,
    "start_time": "2022-02-03T22:45:56.632Z"
   },
   {
    "duration": 4,
    "start_time": "2022-02-03T22:46:03.969Z"
   },
   {
    "duration": 4050,
    "start_time": "2022-02-03T22:47:04.693Z"
   },
   {
    "duration": 41,
    "start_time": "2022-02-03T22:49:36.684Z"
   },
   {
    "duration": 42,
    "start_time": "2022-02-03T22:52:34.317Z"
   },
   {
    "duration": 124,
    "start_time": "2022-02-03T22:54:00.461Z"
   },
   {
    "duration": 36,
    "start_time": "2022-02-03T22:54:12.643Z"
   },
   {
    "duration": 36,
    "start_time": "2022-02-03T22:54:47.550Z"
   },
   {
    "duration": 1049,
    "start_time": "2022-02-03T23:05:31.170Z"
   },
   {
    "duration": 188,
    "start_time": "2022-02-03T23:05:32.221Z"
   },
   {
    "duration": 6,
    "start_time": "2022-02-03T23:05:32.411Z"
   },
   {
    "duration": 11,
    "start_time": "2022-02-03T23:05:32.419Z"
   },
   {
    "duration": 9,
    "start_time": "2022-02-03T23:05:32.432Z"
   },
   {
    "duration": 8,
    "start_time": "2022-02-03T23:05:32.442Z"
   },
   {
    "duration": 248,
    "start_time": "2022-02-03T23:05:32.451Z"
   },
   {
    "duration": 4,
    "start_time": "2022-02-03T23:05:32.701Z"
   },
   {
    "duration": 31,
    "start_time": "2022-02-03T23:05:32.707Z"
   },
   {
    "duration": 11,
    "start_time": "2022-02-03T23:05:32.740Z"
   },
   {
    "duration": 28,
    "start_time": "2022-02-03T23:05:32.753Z"
   },
   {
    "duration": 676,
    "start_time": "2022-02-03T23:05:32.782Z"
   },
   {
    "duration": 4,
    "start_time": "2022-02-03T23:05:33.460Z"
   },
   {
    "duration": 120,
    "start_time": "2022-02-03T23:05:33.466Z"
   },
   {
    "duration": 46,
    "start_time": "2022-02-03T23:05:33.588Z"
   },
   {
    "duration": 174,
    "start_time": "2022-02-03T23:05:33.636Z"
   },
   {
    "duration": 189,
    "start_time": "2022-02-03T23:05:33.812Z"
   },
   {
    "duration": 4,
    "start_time": "2022-02-03T23:05:34.003Z"
   },
   {
    "duration": 8,
    "start_time": "2022-02-03T23:05:34.009Z"
   },
   {
    "duration": 15,
    "start_time": "2022-02-03T23:05:34.018Z"
   },
   {
    "duration": 5,
    "start_time": "2022-02-03T23:05:34.034Z"
   },
   {
    "duration": 12,
    "start_time": "2022-02-03T23:05:34.041Z"
   },
   {
    "duration": 15,
    "start_time": "2022-02-03T23:05:34.056Z"
   },
   {
    "duration": 12,
    "start_time": "2022-02-03T23:05:34.073Z"
   },
   {
    "duration": 4,
    "start_time": "2022-02-03T23:05:34.087Z"
   },
   {
    "duration": 27,
    "start_time": "2022-02-03T23:05:34.092Z"
   },
   {
    "duration": 41,
    "start_time": "2022-02-03T23:05:34.121Z"
   },
   {
    "duration": 458,
    "start_time": "2022-02-03T23:05:34.164Z"
   },
   {
    "duration": 39,
    "start_time": "2022-02-03T23:05:34.623Z"
   },
   {
    "duration": 54,
    "start_time": "2022-02-03T23:05:34.664Z"
   },
   {
    "duration": 11,
    "start_time": "2022-02-03T23:05:34.720Z"
   },
   {
    "duration": 10,
    "start_time": "2022-02-03T23:05:34.733Z"
   },
   {
    "duration": 31,
    "start_time": "2022-02-03T23:05:34.744Z"
   },
   {
    "duration": 43,
    "start_time": "2022-02-03T23:05:34.776Z"
   },
   {
    "duration": 15,
    "start_time": "2022-02-03T23:05:34.821Z"
   },
   {
    "duration": 101,
    "start_time": "2022-02-03T23:05:34.838Z"
   },
   {
    "duration": 463,
    "start_time": "2022-02-03T23:05:34.941Z"
   },
   {
    "duration": 38,
    "start_time": "2022-02-03T23:05:35.405Z"
   },
   {
    "duration": 33,
    "start_time": "2022-02-03T23:05:35.444Z"
   },
   {
    "duration": 41,
    "start_time": "2022-02-03T23:05:35.479Z"
   },
   {
    "duration": 60,
    "start_time": "2022-02-03T23:05:35.522Z"
   },
   {
    "duration": 49,
    "start_time": "2022-02-03T23:05:35.584Z"
   },
   {
    "duration": 8,
    "start_time": "2022-02-03T23:05:35.635Z"
   },
   {
    "duration": 483,
    "start_time": "2022-02-03T23:05:35.644Z"
   },
   {
    "duration": 57,
    "start_time": "2022-02-03T23:05:36.129Z"
   },
   {
    "duration": 460,
    "start_time": "2022-02-03T23:05:36.188Z"
   },
   {
    "duration": 670,
    "start_time": "2022-02-03T23:05:36.649Z"
   },
   {
    "duration": 7,
    "start_time": "2022-02-03T23:05:37.321Z"
   },
   {
    "duration": 16,
    "start_time": "2022-02-03T23:05:37.329Z"
   },
   {
    "duration": 13,
    "start_time": "2022-02-03T23:05:37.346Z"
   },
   {
    "duration": 454,
    "start_time": "2022-02-03T23:05:37.360Z"
   },
   {
    "duration": 776,
    "start_time": "2022-02-03T23:05:37.818Z"
   },
   {
    "duration": 8,
    "start_time": "2022-02-03T23:05:38.596Z"
   },
   {
    "duration": 25,
    "start_time": "2022-02-03T23:05:38.606Z"
   },
   {
    "duration": 21,
    "start_time": "2022-02-03T23:11:41.907Z"
   },
   {
    "duration": 1125,
    "start_time": "2022-02-03T23:12:01.096Z"
   },
   {
    "duration": 190,
    "start_time": "2022-02-03T23:12:02.223Z"
   },
   {
    "duration": 5,
    "start_time": "2022-02-03T23:12:02.415Z"
   },
   {
    "duration": 33,
    "start_time": "2022-02-03T23:12:02.422Z"
   },
   {
    "duration": 36,
    "start_time": "2022-02-03T23:12:02.457Z"
   },
   {
    "duration": 38,
    "start_time": "2022-02-03T23:12:02.495Z"
   },
   {
    "duration": 270,
    "start_time": "2022-02-03T23:12:02.534Z"
   },
   {
    "duration": 4,
    "start_time": "2022-02-03T23:12:02.807Z"
   },
   {
    "duration": 43,
    "start_time": "2022-02-03T23:12:02.813Z"
   },
   {
    "duration": 25,
    "start_time": "2022-02-03T23:12:02.858Z"
   },
   {
    "duration": 64,
    "start_time": "2022-02-03T23:12:02.884Z"
   },
   {
    "duration": 679,
    "start_time": "2022-02-03T23:12:02.950Z"
   },
   {
    "duration": 5,
    "start_time": "2022-02-03T23:12:03.631Z"
   },
   {
    "duration": 126,
    "start_time": "2022-02-03T23:12:03.637Z"
   },
   {
    "duration": 38,
    "start_time": "2022-02-03T23:12:03.765Z"
   },
   {
    "duration": 181,
    "start_time": "2022-02-03T23:12:03.805Z"
   },
   {
    "duration": 193,
    "start_time": "2022-02-03T23:12:03.988Z"
   },
   {
    "duration": 5,
    "start_time": "2022-02-03T23:12:04.183Z"
   },
   {
    "duration": 32,
    "start_time": "2022-02-03T23:12:04.190Z"
   },
   {
    "duration": 33,
    "start_time": "2022-02-03T23:12:04.224Z"
   },
   {
    "duration": 38,
    "start_time": "2022-02-03T23:12:04.259Z"
   },
   {
    "duration": 13,
    "start_time": "2022-02-03T23:12:04.299Z"
   },
   {
    "duration": 16,
    "start_time": "2022-02-03T23:12:04.316Z"
   },
   {
    "duration": 8,
    "start_time": "2022-02-03T23:12:04.334Z"
   },
   {
    "duration": 3,
    "start_time": "2022-02-03T23:12:04.343Z"
   },
   {
    "duration": 13,
    "start_time": "2022-02-03T23:12:04.347Z"
   },
   {
    "duration": 59,
    "start_time": "2022-02-03T23:12:04.362Z"
   },
   {
    "duration": 434,
    "start_time": "2022-02-03T23:12:04.423Z"
   },
   {
    "duration": 38,
    "start_time": "2022-02-03T23:12:04.859Z"
   },
   {
    "duration": 54,
    "start_time": "2022-02-03T23:12:04.899Z"
   },
   {
    "duration": 17,
    "start_time": "2022-02-03T23:12:04.954Z"
   },
   {
    "duration": 12,
    "start_time": "2022-02-03T23:12:04.972Z"
   },
   {
    "duration": 52,
    "start_time": "2022-02-03T23:12:04.986Z"
   },
   {
    "duration": 28,
    "start_time": "2022-02-03T23:12:05.040Z"
   },
   {
    "duration": 20,
    "start_time": "2022-02-03T23:12:05.070Z"
   },
   {
    "duration": 137,
    "start_time": "2022-02-03T23:12:05.092Z"
   },
   {
    "duration": 459,
    "start_time": "2022-02-03T23:12:05.231Z"
   },
   {
    "duration": 37,
    "start_time": "2022-02-03T23:12:05.692Z"
   },
   {
    "duration": 33,
    "start_time": "2022-02-03T23:12:05.731Z"
   },
   {
    "duration": 23,
    "start_time": "2022-02-03T23:12:05.765Z"
   },
   {
    "duration": 79,
    "start_time": "2022-02-03T23:12:05.790Z"
   },
   {
    "duration": 25,
    "start_time": "2022-02-03T23:12:05.871Z"
   },
   {
    "duration": 25,
    "start_time": "2022-02-03T23:12:05.898Z"
   },
   {
    "duration": 511,
    "start_time": "2022-02-03T23:12:05.924Z"
   },
   {
    "duration": 64,
    "start_time": "2022-02-03T23:12:06.437Z"
   },
   {
    "duration": 457,
    "start_time": "2022-02-03T23:12:06.503Z"
   },
   {
    "duration": 671,
    "start_time": "2022-02-03T23:12:06.962Z"
   },
   {
    "duration": 7,
    "start_time": "2022-02-03T23:12:07.634Z"
   },
   {
    "duration": 13,
    "start_time": "2022-02-03T23:12:07.642Z"
   },
   {
    "duration": 13,
    "start_time": "2022-02-03T23:12:07.657Z"
   },
   {
    "duration": 442,
    "start_time": "2022-02-03T23:12:07.672Z"
   },
   {
    "duration": 661,
    "start_time": "2022-02-03T23:12:08.118Z"
   },
   {
    "duration": 7,
    "start_time": "2022-02-03T23:12:08.781Z"
   },
   {
    "duration": 28,
    "start_time": "2022-02-03T23:12:08.790Z"
   },
   {
    "duration": 335,
    "start_time": "2022-02-04T09:42:11.142Z"
   },
   {
    "duration": 1142,
    "start_time": "2022-02-04T09:42:19.063Z"
   },
   {
    "duration": 247,
    "start_time": "2022-02-04T09:42:20.207Z"
   },
   {
    "duration": 5,
    "start_time": "2022-02-04T09:42:20.457Z"
   },
   {
    "duration": 10,
    "start_time": "2022-02-04T09:42:20.464Z"
   },
   {
    "duration": 11,
    "start_time": "2022-02-04T09:42:20.476Z"
   },
   {
    "duration": 7,
    "start_time": "2022-02-04T09:42:20.489Z"
   },
   {
    "duration": 306,
    "start_time": "2022-02-04T09:42:20.498Z"
   },
   {
    "duration": 4,
    "start_time": "2022-02-04T09:42:20.807Z"
   },
   {
    "duration": 38,
    "start_time": "2022-02-04T09:42:20.813Z"
   },
   {
    "duration": 12,
    "start_time": "2022-02-04T09:42:20.853Z"
   },
   {
    "duration": 51,
    "start_time": "2022-02-04T09:42:20.866Z"
   },
   {
    "duration": 5128,
    "start_time": "2022-02-04T09:42:20.918Z"
   },
   {
    "duration": 6,
    "start_time": "2022-02-04T09:42:26.048Z"
   },
   {
    "duration": 128,
    "start_time": "2022-02-04T09:42:26.056Z"
   },
   {
    "duration": 46,
    "start_time": "2022-02-04T09:42:26.186Z"
   },
   {
    "duration": 172,
    "start_time": "2022-02-04T09:42:26.235Z"
   },
   {
    "duration": 288,
    "start_time": "2022-02-04T09:42:26.410Z"
   },
   {
    "duration": 5,
    "start_time": "2022-02-04T09:42:26.700Z"
   },
   {
    "duration": 13,
    "start_time": "2022-02-04T09:42:26.707Z"
   },
   {
    "duration": 14,
    "start_time": "2022-02-04T09:42:26.722Z"
   },
   {
    "duration": 5,
    "start_time": "2022-02-04T09:42:26.738Z"
   },
   {
    "duration": 7,
    "start_time": "2022-02-04T09:42:26.744Z"
   },
   {
    "duration": 66,
    "start_time": "2022-02-04T09:42:26.755Z"
   },
   {
    "duration": 6,
    "start_time": "2022-02-04T09:42:26.825Z"
   },
   {
    "duration": 2,
    "start_time": "2022-02-04T09:42:26.834Z"
   },
   {
    "duration": 19,
    "start_time": "2022-02-04T09:42:26.838Z"
   },
   {
    "duration": 68,
    "start_time": "2022-02-04T09:42:26.859Z"
   },
   {
    "duration": 448,
    "start_time": "2022-02-04T09:42:26.929Z"
   },
   {
    "duration": 49,
    "start_time": "2022-02-04T09:42:27.379Z"
   },
   {
    "duration": 43,
    "start_time": "2022-02-04T09:42:27.430Z"
   },
   {
    "duration": 35,
    "start_time": "2022-02-04T09:42:27.475Z"
   },
   {
    "duration": 11,
    "start_time": "2022-02-04T09:42:27.512Z"
   },
   {
    "duration": 40,
    "start_time": "2022-02-04T09:42:27.525Z"
   },
   {
    "duration": 43,
    "start_time": "2022-02-04T09:42:27.566Z"
   },
   {
    "duration": 16,
    "start_time": "2022-02-04T09:42:27.611Z"
   },
   {
    "duration": 119,
    "start_time": "2022-02-04T09:42:27.628Z"
   },
   {
    "duration": 536,
    "start_time": "2022-02-04T09:42:27.749Z"
   },
   {
    "duration": 40,
    "start_time": "2022-02-04T09:42:28.287Z"
   },
   {
    "duration": 35,
    "start_time": "2022-02-04T09:42:28.329Z"
   },
   {
    "duration": 44,
    "start_time": "2022-02-04T09:42:28.365Z"
   },
   {
    "duration": 52,
    "start_time": "2022-02-04T09:42:28.411Z"
   },
   {
    "duration": 47,
    "start_time": "2022-02-04T09:42:28.465Z"
   },
   {
    "duration": 10,
    "start_time": "2022-02-04T09:42:28.513Z"
   },
   {
    "duration": 378,
    "start_time": "2022-02-04T09:42:28.524Z"
   },
   {
    "duration": 55,
    "start_time": "2022-02-04T09:42:28.904Z"
   },
   {
    "duration": 455,
    "start_time": "2022-02-04T09:42:28.961Z"
   },
   {
    "duration": 699,
    "start_time": "2022-02-04T09:42:29.418Z"
   },
   {
    "duration": 7,
    "start_time": "2022-02-04T09:42:30.119Z"
   },
   {
    "duration": 31,
    "start_time": "2022-02-04T09:42:30.127Z"
   },
   {
    "duration": 15,
    "start_time": "2022-02-04T09:42:30.159Z"
   },
   {
    "duration": 459,
    "start_time": "2022-02-04T09:42:30.176Z"
   },
   {
    "duration": 696,
    "start_time": "2022-02-04T09:42:30.636Z"
   },
   {
    "duration": 7,
    "start_time": "2022-02-04T09:42:31.334Z"
   },
   {
    "duration": 32,
    "start_time": "2022-02-04T09:42:31.343Z"
   },
   {
    "duration": 387,
    "start_time": "2022-02-04T09:43:43.817Z"
   },
   {
    "duration": 11,
    "start_time": "2022-02-04T09:44:38.071Z"
   },
   {
    "duration": 45,
    "start_time": "2022-02-04T09:50:12.101Z"
   },
   {
    "duration": 129,
    "start_time": "2022-02-04T09:58:36.195Z"
   },
   {
    "duration": 151,
    "start_time": "2022-02-04T10:00:03.921Z"
   },
   {
    "duration": 130,
    "start_time": "2022-02-04T10:00:15.660Z"
   },
   {
    "duration": 302,
    "start_time": "2022-02-04T10:09:52.868Z"
   },
   {
    "duration": 43,
    "start_time": "2022-02-04T10:09:58.783Z"
   },
   {
    "duration": 10,
    "start_time": "2022-02-04T10:10:11.723Z"
   },
   {
    "duration": 10,
    "start_time": "2022-02-04T10:10:18.729Z"
   },
   {
    "duration": 7,
    "start_time": "2022-02-04T10:12:00.855Z"
   },
   {
    "duration": 8,
    "start_time": "2022-02-04T10:12:28.626Z"
   },
   {
    "duration": 10,
    "start_time": "2022-02-04T10:12:37.666Z"
   },
   {
    "duration": 54554,
    "start_time": "2022-02-04T10:15:28.928Z"
   },
   {
    "duration": 13,
    "start_time": "2022-02-04T10:17:35.459Z"
   },
   {
    "duration": 14,
    "start_time": "2022-02-04T10:18:37.146Z"
   },
   {
    "duration": 13,
    "start_time": "2022-02-04T10:19:07.489Z"
   },
   {
    "duration": 12,
    "start_time": "2022-02-04T10:19:29.925Z"
   },
   {
    "duration": 14,
    "start_time": "2022-02-04T10:19:52.050Z"
   },
   {
    "duration": 13,
    "start_time": "2022-02-04T10:21:19.124Z"
   },
   {
    "duration": 93,
    "start_time": "2022-02-04T10:21:55.670Z"
   },
   {
    "duration": 13,
    "start_time": "2022-02-04T10:23:35.390Z"
   },
   {
    "duration": 11,
    "start_time": "2022-02-04T10:23:43.751Z"
   },
   {
    "duration": 40,
    "start_time": "2022-02-04T10:25:46.298Z"
   },
   {
    "duration": 42,
    "start_time": "2022-02-04T10:26:04.074Z"
   },
   {
    "duration": 1164,
    "start_time": "2022-02-04T10:27:40.644Z"
   },
   {
    "duration": 207,
    "start_time": "2022-02-04T10:27:41.811Z"
   },
   {
    "duration": 6,
    "start_time": "2022-02-04T10:27:42.021Z"
   },
   {
    "duration": 23,
    "start_time": "2022-02-04T10:27:42.029Z"
   },
   {
    "duration": 31,
    "start_time": "2022-02-04T10:27:42.053Z"
   },
   {
    "duration": 17,
    "start_time": "2022-02-04T10:27:42.086Z"
   },
   {
    "duration": 294,
    "start_time": "2022-02-04T10:27:42.105Z"
   },
   {
    "duration": 5,
    "start_time": "2022-02-04T10:27:42.403Z"
   },
   {
    "duration": 46,
    "start_time": "2022-02-04T10:27:42.412Z"
   },
   {
    "duration": 16,
    "start_time": "2022-02-04T10:27:42.459Z"
   },
   {
    "duration": 51,
    "start_time": "2022-02-04T10:27:42.477Z"
   },
   {
    "duration": 785,
    "start_time": "2022-02-04T10:27:42.531Z"
   },
   {
    "duration": 7,
    "start_time": "2022-02-04T10:27:43.318Z"
   },
   {
    "duration": 140,
    "start_time": "2022-02-04T10:27:43.327Z"
   },
   {
    "duration": 53,
    "start_time": "2022-02-04T10:27:43.469Z"
   },
   {
    "duration": 196,
    "start_time": "2022-02-04T10:27:43.524Z"
   },
   {
    "duration": 229,
    "start_time": "2022-02-04T10:27:43.723Z"
   },
   {
    "duration": 5,
    "start_time": "2022-02-04T10:27:43.954Z"
   },
   {
    "duration": 15,
    "start_time": "2022-02-04T10:27:43.962Z"
   },
   {
    "duration": 14,
    "start_time": "2022-02-04T10:27:43.979Z"
   },
   {
    "duration": 23,
    "start_time": "2022-02-04T10:27:43.995Z"
   },
   {
    "duration": 32,
    "start_time": "2022-02-04T10:27:44.020Z"
   },
   {
    "duration": 8,
    "start_time": "2022-02-04T10:27:44.056Z"
   },
   {
    "duration": 24,
    "start_time": "2022-02-04T10:27:44.066Z"
   },
   {
    "duration": 30,
    "start_time": "2022-02-04T10:27:44.092Z"
   },
   {
    "duration": 72,
    "start_time": "2022-02-04T10:27:44.123Z"
   },
   {
    "duration": 471,
    "start_time": "2022-02-04T10:27:44.197Z"
   },
   {
    "duration": 48,
    "start_time": "2022-02-04T10:27:44.669Z"
   },
   {
    "duration": 150,
    "start_time": "2022-02-04T10:27:44.719Z"
   },
   {
    "duration": 53,
    "start_time": "2022-02-04T10:27:44.871Z"
   },
   {
    "duration": 11,
    "start_time": "2022-02-04T10:27:44.925Z"
   },
   {
    "duration": 22,
    "start_time": "2022-02-04T10:27:44.937Z"
   },
   {
    "duration": 32,
    "start_time": "2022-02-04T10:27:44.961Z"
   },
   {
    "duration": 14,
    "start_time": "2022-02-04T10:27:44.995Z"
   },
   {
    "duration": 150,
    "start_time": "2022-02-04T10:27:45.011Z"
   },
   {
    "duration": 565,
    "start_time": "2022-02-04T10:27:45.163Z"
   },
   {
    "duration": 98,
    "start_time": "2022-02-04T10:27:45.730Z"
   },
   {
    "duration": 816,
    "start_time": "2022-02-04T10:27:45.014Z"
   },
   {
    "duration": 812,
    "start_time": "2022-02-04T10:27:45.020Z"
   },
   {
    "duration": 803,
    "start_time": "2022-02-04T10:27:45.030Z"
   },
   {
    "duration": 799,
    "start_time": "2022-02-04T10:27:45.035Z"
   },
   {
    "duration": 794,
    "start_time": "2022-02-04T10:27:45.041Z"
   },
   {
    "duration": 789,
    "start_time": "2022-02-04T10:27:45.048Z"
   },
   {
    "duration": 784,
    "start_time": "2022-02-04T10:27:45.054Z"
   },
   {
    "duration": 780,
    "start_time": "2022-02-04T10:27:45.059Z"
   },
   {
    "duration": 775,
    "start_time": "2022-02-04T10:27:45.065Z"
   },
   {
    "duration": 771,
    "start_time": "2022-02-04T10:27:45.070Z"
   },
   {
    "duration": 766,
    "start_time": "2022-02-04T10:27:45.076Z"
   },
   {
    "duration": 762,
    "start_time": "2022-02-04T10:27:45.081Z"
   },
   {
    "duration": 757,
    "start_time": "2022-02-04T10:27:45.087Z"
   },
   {
    "duration": 753,
    "start_time": "2022-02-04T10:27:45.092Z"
   },
   {
    "duration": 732,
    "start_time": "2022-02-04T10:27:45.115Z"
   },
   {
    "duration": 725,
    "start_time": "2022-02-04T10:27:45.123Z"
   },
   {
    "duration": 719,
    "start_time": "2022-02-04T10:27:45.130Z"
   },
   {
    "duration": 1230,
    "start_time": "2022-02-04T10:30:28.176Z"
   },
   {
    "duration": 230,
    "start_time": "2022-02-04T10:30:29.408Z"
   },
   {
    "duration": 5,
    "start_time": "2022-02-04T10:30:29.640Z"
   },
   {
    "duration": 19,
    "start_time": "2022-02-04T10:30:29.647Z"
   },
   {
    "duration": 11,
    "start_time": "2022-02-04T10:30:29.669Z"
   },
   {
    "duration": 9,
    "start_time": "2022-02-04T10:30:29.682Z"
   },
   {
    "duration": 303,
    "start_time": "2022-02-04T10:30:29.693Z"
   },
   {
    "duration": 6,
    "start_time": "2022-02-04T10:30:29.999Z"
   },
   {
    "duration": 39,
    "start_time": "2022-02-04T10:30:30.009Z"
   },
   {
    "duration": 14,
    "start_time": "2022-02-04T10:30:30.052Z"
   },
   {
    "duration": 57,
    "start_time": "2022-02-04T10:30:30.068Z"
   },
   {
    "duration": 784,
    "start_time": "2022-02-04T10:30:30.127Z"
   },
   {
    "duration": 5,
    "start_time": "2022-02-04T10:30:30.913Z"
   },
   {
    "duration": 130,
    "start_time": "2022-02-04T10:30:30.920Z"
   },
   {
    "duration": 53,
    "start_time": "2022-02-04T10:30:31.051Z"
   },
   {
    "duration": 201,
    "start_time": "2022-02-04T10:30:31.105Z"
   },
   {
    "duration": 257,
    "start_time": "2022-02-04T10:30:31.308Z"
   },
   {
    "duration": 7,
    "start_time": "2022-02-04T10:30:31.567Z"
   },
   {
    "duration": 13,
    "start_time": "2022-02-04T10:30:31.576Z"
   },
   {
    "duration": 18,
    "start_time": "2022-02-04T10:30:31.591Z"
   },
   {
    "duration": 7,
    "start_time": "2022-02-04T10:30:31.611Z"
   },
   {
    "duration": 8,
    "start_time": "2022-02-04T10:30:31.620Z"
   },
   {
    "duration": 13,
    "start_time": "2022-02-04T10:30:31.630Z"
   },
   {
    "duration": 14,
    "start_time": "2022-02-04T10:30:31.645Z"
   },
   {
    "duration": 38,
    "start_time": "2022-02-04T10:30:31.661Z"
   },
   {
    "duration": 51,
    "start_time": "2022-02-04T10:30:31.701Z"
   },
   {
    "duration": 472,
    "start_time": "2022-02-04T10:30:31.756Z"
   },
   {
    "duration": 44,
    "start_time": "2022-02-04T10:30:32.231Z"
   },
   {
    "duration": 162,
    "start_time": "2022-02-04T10:30:32.277Z"
   },
   {
    "duration": 44,
    "start_time": "2022-02-04T10:30:32.441Z"
   },
   {
    "duration": 23,
    "start_time": "2022-02-04T10:30:32.487Z"
   },
   {
    "duration": 8,
    "start_time": "2022-02-04T10:30:32.512Z"
   },
   {
    "duration": 26,
    "start_time": "2022-02-04T10:30:32.522Z"
   },
   {
    "duration": 15,
    "start_time": "2022-02-04T10:30:32.551Z"
   },
   {
    "duration": 151,
    "start_time": "2022-02-04T10:30:32.568Z"
   },
   {
    "duration": 571,
    "start_time": "2022-02-04T10:30:32.721Z"
   },
   {
    "duration": 41,
    "start_time": "2022-02-04T10:30:33.295Z"
   },
   {
    "duration": 63,
    "start_time": "2022-02-04T10:30:33.339Z"
   },
   {
    "duration": 29,
    "start_time": "2022-02-04T10:30:33.404Z"
   },
   {
    "duration": 82,
    "start_time": "2022-02-04T10:30:33.435Z"
   },
   {
    "duration": 31,
    "start_time": "2022-02-04T10:30:33.518Z"
   },
   {
    "duration": 11,
    "start_time": "2022-02-04T10:30:33.552Z"
   },
   {
    "duration": 399,
    "start_time": "2022-02-04T10:30:33.565Z"
   },
   {
    "duration": 67,
    "start_time": "2022-02-04T10:30:33.967Z"
   },
   {
    "duration": 525,
    "start_time": "2022-02-04T10:30:34.036Z"
   },
   {
    "duration": 748,
    "start_time": "2022-02-04T10:30:34.563Z"
   },
   {
    "duration": 8,
    "start_time": "2022-02-04T10:30:35.312Z"
   },
   {
    "duration": 14,
    "start_time": "2022-02-04T10:30:35.322Z"
   },
   {
    "duration": 16,
    "start_time": "2022-02-04T10:30:35.337Z"
   },
   {
    "duration": 506,
    "start_time": "2022-02-04T10:30:35.355Z"
   },
   {
    "duration": 748,
    "start_time": "2022-02-04T10:30:35.863Z"
   },
   {
    "duration": 9,
    "start_time": "2022-02-04T10:30:36.613Z"
   },
   {
    "duration": 22,
    "start_time": "2022-02-04T10:30:36.624Z"
   },
   {
    "duration": 9,
    "start_time": "2022-02-04T11:06:03.835Z"
   },
   {
    "duration": 228,
    "start_time": "2022-02-04T11:06:29.214Z"
   },
   {
    "duration": 6,
    "start_time": "2022-02-04T11:17:10.069Z"
   },
   {
    "duration": 8,
    "start_time": "2022-02-04T11:17:36.704Z"
   },
   {
    "duration": 242,
    "start_time": "2022-02-04T11:28:44.519Z"
   },
   {
    "duration": 238,
    "start_time": "2022-02-04T11:29:19.822Z"
   },
   {
    "duration": 247,
    "start_time": "2022-02-04T11:34:12.326Z"
   },
   {
    "duration": 45,
    "start_time": "2022-02-04T11:35:03.957Z"
   },
   {
    "duration": 1062,
    "start_time": "2022-02-04T11:38:50.835Z"
   },
   {
    "duration": 232,
    "start_time": "2022-02-04T11:38:51.900Z"
   },
   {
    "duration": 5,
    "start_time": "2022-02-04T11:38:52.134Z"
   },
   {
    "duration": 12,
    "start_time": "2022-02-04T11:38:52.141Z"
   },
   {
    "duration": 10,
    "start_time": "2022-02-04T11:38:52.154Z"
   },
   {
    "duration": 8,
    "start_time": "2022-02-04T11:38:52.166Z"
   },
   {
    "duration": 317,
    "start_time": "2022-02-04T11:38:52.176Z"
   },
   {
    "duration": 5,
    "start_time": "2022-02-04T11:38:52.496Z"
   },
   {
    "duration": 36,
    "start_time": "2022-02-04T11:38:52.504Z"
   },
   {
    "duration": 12,
    "start_time": "2022-02-04T11:38:52.542Z"
   },
   {
    "duration": 57,
    "start_time": "2022-02-04T11:38:52.556Z"
   },
   {
    "duration": 733,
    "start_time": "2022-02-04T11:38:52.614Z"
   },
   {
    "duration": 5,
    "start_time": "2022-02-04T11:38:53.348Z"
   },
   {
    "duration": 121,
    "start_time": "2022-02-04T11:38:53.354Z"
   },
   {
    "duration": 50,
    "start_time": "2022-02-04T11:38:53.477Z"
   },
   {
    "duration": 185,
    "start_time": "2022-02-04T11:38:53.528Z"
   },
   {
    "duration": 222,
    "start_time": "2022-02-04T11:38:53.715Z"
   },
   {
    "duration": 4,
    "start_time": "2022-02-04T11:38:53.939Z"
   },
   {
    "duration": 9,
    "start_time": "2022-02-04T11:38:53.945Z"
   },
   {
    "duration": 17,
    "start_time": "2022-02-04T11:38:53.956Z"
   },
   {
    "duration": 7,
    "start_time": "2022-02-04T11:38:53.975Z"
   },
   {
    "duration": 7,
    "start_time": "2022-02-04T11:38:53.983Z"
   },
   {
    "duration": 6,
    "start_time": "2022-02-04T11:38:53.998Z"
   },
   {
    "duration": 12,
    "start_time": "2022-02-04T11:38:54.006Z"
   },
   {
    "duration": 13,
    "start_time": "2022-02-04T11:38:54.020Z"
   },
   {
    "duration": 70,
    "start_time": "2022-02-04T11:38:54.035Z"
   },
   {
    "duration": 438,
    "start_time": "2022-02-04T11:38:54.106Z"
   },
   {
    "duration": 41,
    "start_time": "2022-02-04T11:38:54.546Z"
   },
   {
    "duration": 149,
    "start_time": "2022-02-04T11:38:54.589Z"
   },
   {
    "duration": 41,
    "start_time": "2022-02-04T11:38:54.741Z"
   },
   {
    "duration": 12,
    "start_time": "2022-02-04T11:38:54.798Z"
   },
   {
    "duration": 8,
    "start_time": "2022-02-04T11:38:54.812Z"
   },
   {
    "duration": 262,
    "start_time": "2022-02-04T11:38:54.822Z"
   },
   {
    "duration": 244,
    "start_time": "2022-02-04T11:38:55.086Z"
   },
   {
    "duration": 14,
    "start_time": "2022-02-04T11:38:55.332Z"
   },
   {
    "duration": 10,
    "start_time": "2022-02-04T11:38:55.348Z"
   },
   {
    "duration": 127,
    "start_time": "2022-02-04T11:38:55.360Z"
   },
   {
    "duration": 532,
    "start_time": "2022-02-04T11:38:55.499Z"
   },
   {
    "duration": 39,
    "start_time": "2022-02-04T11:38:56.033Z"
   },
   {
    "duration": 57,
    "start_time": "2022-02-04T11:38:56.074Z"
   },
   {
    "duration": 94,
    "start_time": "2022-02-04T11:38:56.133Z"
   },
   {
    "duration": 990,
    "start_time": "2022-02-04T11:38:55.238Z"
   },
   {
    "duration": 980,
    "start_time": "2022-02-04T11:38:55.249Z"
   },
   {
    "duration": 975,
    "start_time": "2022-02-04T11:38:55.255Z"
   },
   {
    "duration": 969,
    "start_time": "2022-02-04T11:38:55.262Z"
   },
   {
    "duration": 964,
    "start_time": "2022-02-04T11:38:55.269Z"
   },
   {
    "duration": 958,
    "start_time": "2022-02-04T11:38:55.275Z"
   },
   {
    "duration": 928,
    "start_time": "2022-02-04T11:38:55.306Z"
   },
   {
    "duration": 921,
    "start_time": "2022-02-04T11:38:55.314Z"
   },
   {
    "duration": 916,
    "start_time": "2022-02-04T11:38:55.320Z"
   },
   {
    "duration": 911,
    "start_time": "2022-02-04T11:38:55.326Z"
   },
   {
    "duration": 906,
    "start_time": "2022-02-04T11:38:55.332Z"
   },
   {
    "duration": 902,
    "start_time": "2022-02-04T11:38:55.338Z"
   },
   {
    "duration": 896,
    "start_time": "2022-02-04T11:38:55.345Z"
   },
   {
    "duration": 889,
    "start_time": "2022-02-04T11:38:55.353Z"
   },
   {
    "duration": 885,
    "start_time": "2022-02-04T11:38:55.358Z"
   },
   {
    "duration": 879,
    "start_time": "2022-02-04T11:38:55.365Z"
   },
   {
    "duration": 26,
    "start_time": "2022-02-04T11:39:56.220Z"
   },
   {
    "duration": 1216,
    "start_time": "2022-02-04T11:40:03.007Z"
   },
   {
    "duration": 248,
    "start_time": "2022-02-04T11:40:04.225Z"
   },
   {
    "duration": 5,
    "start_time": "2022-02-04T11:40:04.475Z"
   },
   {
    "duration": 31,
    "start_time": "2022-02-04T11:40:04.482Z"
   },
   {
    "duration": 25,
    "start_time": "2022-02-04T11:40:04.515Z"
   },
   {
    "duration": 32,
    "start_time": "2022-02-04T11:40:04.542Z"
   },
   {
    "duration": 456,
    "start_time": "2022-02-04T11:40:04.576Z"
   },
   {
    "duration": 5,
    "start_time": "2022-02-04T11:40:05.035Z"
   },
   {
    "duration": 49,
    "start_time": "2022-02-04T11:40:05.042Z"
   },
   {
    "duration": 14,
    "start_time": "2022-02-04T11:40:05.093Z"
   },
   {
    "duration": 49,
    "start_time": "2022-02-04T11:40:05.108Z"
   },
   {
    "duration": 777,
    "start_time": "2022-02-04T11:40:05.159Z"
   },
   {
    "duration": 5,
    "start_time": "2022-02-04T11:40:05.938Z"
   },
   {
    "duration": 131,
    "start_time": "2022-02-04T11:40:05.944Z"
   },
   {
    "duration": 51,
    "start_time": "2022-02-04T11:40:06.077Z"
   },
   {
    "duration": 201,
    "start_time": "2022-02-04T11:40:06.130Z"
   },
   {
    "duration": 2805,
    "start_time": "2022-02-04T11:40:06.333Z"
   },
   {
    "duration": 5,
    "start_time": "2022-02-04T11:40:09.140Z"
   },
   {
    "duration": 13,
    "start_time": "2022-02-04T11:40:09.146Z"
   },
   {
    "duration": 17,
    "start_time": "2022-02-04T11:40:09.161Z"
   },
   {
    "duration": 9,
    "start_time": "2022-02-04T11:40:09.180Z"
   },
   {
    "duration": 9,
    "start_time": "2022-02-04T11:40:09.191Z"
   },
   {
    "duration": 6,
    "start_time": "2022-02-04T11:40:09.204Z"
   },
   {
    "duration": 21,
    "start_time": "2022-02-04T11:40:09.212Z"
   },
   {
    "duration": 12,
    "start_time": "2022-02-04T11:40:09.235Z"
   },
   {
    "duration": 59,
    "start_time": "2022-02-04T11:40:09.249Z"
   },
   {
    "duration": 444,
    "start_time": "2022-02-04T11:40:09.310Z"
   },
   {
    "duration": 46,
    "start_time": "2022-02-04T11:40:09.755Z"
   },
   {
    "duration": 144,
    "start_time": "2022-02-04T11:40:09.803Z"
   },
   {
    "duration": 51,
    "start_time": "2022-02-04T11:40:09.949Z"
   },
   {
    "duration": 10,
    "start_time": "2022-02-04T11:40:10.002Z"
   },
   {
    "duration": 9,
    "start_time": "2022-02-04T11:40:10.014Z"
   },
   {
    "duration": 260,
    "start_time": "2022-02-04T11:40:10.025Z"
   },
   {
    "duration": 235,
    "start_time": "2022-02-04T11:40:10.287Z"
   },
   {
    "duration": 14,
    "start_time": "2022-02-04T11:40:10.524Z"
   },
   {
    "duration": 10,
    "start_time": "2022-02-04T11:40:10.540Z"
   },
   {
    "duration": 127,
    "start_time": "2022-02-04T11:40:10.552Z"
   },
   {
    "duration": 539,
    "start_time": "2022-02-04T11:40:10.681Z"
   },
   {
    "duration": 37,
    "start_time": "2022-02-04T11:40:11.222Z"
   },
   {
    "duration": 55,
    "start_time": "2022-02-04T11:40:11.261Z"
   },
   {
    "duration": 27,
    "start_time": "2022-02-04T11:40:11.318Z"
   },
   {
    "duration": 7,
    "start_time": "2022-02-04T11:40:11.347Z"
   },
   {
    "duration": 85,
    "start_time": "2022-02-04T11:40:11.356Z"
   },
   {
    "duration": 30,
    "start_time": "2022-02-04T11:40:11.443Z"
   },
   {
    "duration": 25,
    "start_time": "2022-02-04T11:40:11.475Z"
   },
   {
    "duration": 1258,
    "start_time": "2022-02-04T11:40:11.502Z"
   },
   {
    "duration": 62,
    "start_time": "2022-02-04T11:40:12.763Z"
   },
   {
    "duration": 474,
    "start_time": "2022-02-04T11:40:12.826Z"
   },
   {
    "duration": 713,
    "start_time": "2022-02-04T11:40:13.301Z"
   },
   {
    "duration": 7,
    "start_time": "2022-02-04T11:40:14.016Z"
   },
   {
    "duration": 35,
    "start_time": "2022-02-04T11:40:14.025Z"
   },
   {
    "duration": 34,
    "start_time": "2022-02-04T11:40:14.061Z"
   },
   {
    "duration": 474,
    "start_time": "2022-02-04T11:40:14.097Z"
   },
   {
    "duration": 714,
    "start_time": "2022-02-04T11:40:14.573Z"
   },
   {
    "duration": 13,
    "start_time": "2022-02-04T11:40:15.289Z"
   },
   {
    "duration": 22,
    "start_time": "2022-02-04T11:40:15.304Z"
   },
   {
    "duration": 1232,
    "start_time": "2022-02-04T11:40:43.978Z"
   },
   {
    "duration": 770,
    "start_time": "2022-02-04T11:40:45.212Z"
   },
   {
    "duration": 5,
    "start_time": "2022-02-04T11:40:45.984Z"
   },
   {
    "duration": 15,
    "start_time": "2022-02-04T11:40:45.991Z"
   },
   {
    "duration": 10,
    "start_time": "2022-02-04T11:40:46.008Z"
   },
   {
    "duration": 13,
    "start_time": "2022-02-04T11:40:46.019Z"
   },
   {
    "duration": 300,
    "start_time": "2022-02-04T11:40:46.034Z"
   },
   {
    "duration": 5,
    "start_time": "2022-02-04T11:40:46.337Z"
   },
   {
    "duration": 34,
    "start_time": "2022-02-04T11:40:46.344Z"
   },
   {
    "duration": 26,
    "start_time": "2022-02-04T11:40:46.380Z"
   },
   {
    "duration": 34,
    "start_time": "2022-02-04T11:40:46.408Z"
   },
   {
    "duration": 762,
    "start_time": "2022-02-04T11:40:46.444Z"
   },
   {
    "duration": 5,
    "start_time": "2022-02-04T11:40:47.208Z"
   },
   {
    "duration": 122,
    "start_time": "2022-02-04T11:40:47.215Z"
   },
   {
    "duration": 40,
    "start_time": "2022-02-04T11:40:47.339Z"
   },
   {
    "duration": 189,
    "start_time": "2022-02-04T11:40:47.381Z"
   },
   {
    "duration": 287,
    "start_time": "2022-02-04T11:40:47.572Z"
   },
   {
    "duration": 5,
    "start_time": "2022-02-04T11:40:47.861Z"
   },
   {
    "duration": 10,
    "start_time": "2022-02-04T11:40:47.868Z"
   },
   {
    "duration": 14,
    "start_time": "2022-02-04T11:40:47.880Z"
   },
   {
    "duration": 5,
    "start_time": "2022-02-04T11:40:47.896Z"
   },
   {
    "duration": 11,
    "start_time": "2022-02-04T11:40:47.903Z"
   },
   {
    "duration": 7,
    "start_time": "2022-02-04T11:40:47.918Z"
   },
   {
    "duration": 12,
    "start_time": "2022-02-04T11:40:47.928Z"
   },
   {
    "duration": 10,
    "start_time": "2022-02-04T11:40:47.941Z"
   },
   {
    "duration": 78,
    "start_time": "2022-02-04T11:40:47.953Z"
   },
   {
    "duration": 457,
    "start_time": "2022-02-04T11:40:48.033Z"
   },
   {
    "duration": 43,
    "start_time": "2022-02-04T11:40:48.492Z"
   },
   {
    "duration": 160,
    "start_time": "2022-02-04T11:40:48.536Z"
   },
   {
    "duration": 42,
    "start_time": "2022-02-04T11:40:48.698Z"
   },
   {
    "duration": 10,
    "start_time": "2022-02-04T11:40:48.742Z"
   },
   {
    "duration": 11,
    "start_time": "2022-02-04T11:40:48.753Z"
   },
   {
    "duration": 270,
    "start_time": "2022-02-04T11:40:48.765Z"
   },
   {
    "duration": 275,
    "start_time": "2022-02-04T11:40:49.037Z"
   },
   {
    "duration": 15,
    "start_time": "2022-02-04T11:40:49.314Z"
   },
   {
    "duration": 11,
    "start_time": "2022-02-04T11:40:49.331Z"
   },
   {
    "duration": 135,
    "start_time": "2022-02-04T11:40:49.343Z"
   },
   {
    "duration": 572,
    "start_time": "2022-02-04T11:40:49.480Z"
   },
   {
    "duration": 46,
    "start_time": "2022-02-04T11:40:50.054Z"
   },
   {
    "duration": 37,
    "start_time": "2022-02-04T11:40:50.102Z"
   },
   {
    "duration": 28,
    "start_time": "2022-02-04T11:40:50.141Z"
   },
   {
    "duration": 33,
    "start_time": "2022-02-04T11:40:50.170Z"
   },
   {
    "duration": 61,
    "start_time": "2022-02-04T11:40:50.205Z"
   },
   {
    "duration": 56,
    "start_time": "2022-02-04T11:40:50.267Z"
   },
   {
    "duration": 10,
    "start_time": "2022-02-04T11:40:50.325Z"
   },
   {
    "duration": 401,
    "start_time": "2022-02-04T11:40:50.337Z"
   },
   {
    "duration": 71,
    "start_time": "2022-02-04T11:40:50.740Z"
   },
   {
    "duration": 495,
    "start_time": "2022-02-04T11:40:50.813Z"
   },
   {
    "duration": 755,
    "start_time": "2022-02-04T11:40:51.310Z"
   },
   {
    "duration": 8,
    "start_time": "2022-02-04T11:40:52.067Z"
   },
   {
    "duration": 23,
    "start_time": "2022-02-04T11:40:52.077Z"
   },
   {
    "duration": 16,
    "start_time": "2022-02-04T11:40:52.102Z"
   },
   {
    "duration": 494,
    "start_time": "2022-02-04T11:40:52.120Z"
   },
   {
    "duration": 727,
    "start_time": "2022-02-04T11:40:52.616Z"
   },
   {
    "duration": 8,
    "start_time": "2022-02-04T11:40:53.345Z"
   },
   {
    "duration": 19,
    "start_time": "2022-02-04T11:40:53.355Z"
   },
   {
    "duration": 102,
    "start_time": "2022-02-04T11:43:23.095Z"
   },
   {
    "duration": 103,
    "start_time": "2022-02-04T11:45:08.178Z"
   },
   {
    "duration": 1186,
    "start_time": "2022-02-04T11:45:25.892Z"
   },
   {
    "duration": 229,
    "start_time": "2022-02-04T11:45:27.081Z"
   },
   {
    "duration": 5,
    "start_time": "2022-02-04T11:45:27.312Z"
   },
   {
    "duration": 13,
    "start_time": "2022-02-04T11:45:27.319Z"
   },
   {
    "duration": 12,
    "start_time": "2022-02-04T11:45:27.334Z"
   },
   {
    "duration": 8,
    "start_time": "2022-02-04T11:45:27.348Z"
   },
   {
    "duration": 325,
    "start_time": "2022-02-04T11:45:27.357Z"
   },
   {
    "duration": 5,
    "start_time": "2022-02-04T11:45:27.686Z"
   },
   {
    "duration": 33,
    "start_time": "2022-02-04T11:45:27.693Z"
   },
   {
    "duration": 13,
    "start_time": "2022-02-04T11:45:27.728Z"
   },
   {
    "duration": 58,
    "start_time": "2022-02-04T11:45:27.742Z"
   },
   {
    "duration": 724,
    "start_time": "2022-02-04T11:45:27.802Z"
   },
   {
    "duration": 5,
    "start_time": "2022-02-04T11:45:28.527Z"
   },
   {
    "duration": 124,
    "start_time": "2022-02-04T11:45:28.534Z"
   },
   {
    "duration": 55,
    "start_time": "2022-02-04T11:45:28.660Z"
   },
   {
    "duration": 184,
    "start_time": "2022-02-04T11:45:28.717Z"
   },
   {
    "duration": 219,
    "start_time": "2022-02-04T11:45:28.903Z"
   },
   {
    "duration": 5,
    "start_time": "2022-02-04T11:45:29.123Z"
   },
   {
    "duration": 10,
    "start_time": "2022-02-04T11:45:29.130Z"
   },
   {
    "duration": 13,
    "start_time": "2022-02-04T11:45:29.142Z"
   },
   {
    "duration": 6,
    "start_time": "2022-02-04T11:45:29.157Z"
   },
   {
    "duration": 36,
    "start_time": "2022-02-04T11:45:29.165Z"
   },
   {
    "duration": 6,
    "start_time": "2022-02-04T11:45:29.207Z"
   },
   {
    "duration": 13,
    "start_time": "2022-02-04T11:45:29.216Z"
   },
   {
    "duration": 11,
    "start_time": "2022-02-04T11:45:29.232Z"
   },
   {
    "duration": 86,
    "start_time": "2022-02-04T11:45:29.245Z"
   },
   {
    "duration": 452,
    "start_time": "2022-02-04T11:45:29.334Z"
   },
   {
    "duration": 48,
    "start_time": "2022-02-04T11:45:29.788Z"
   },
   {
    "duration": 142,
    "start_time": "2022-02-04T11:45:29.838Z"
   },
   {
    "duration": 48,
    "start_time": "2022-02-04T11:45:29.982Z"
   },
   {
    "duration": 10,
    "start_time": "2022-02-04T11:45:30.032Z"
   },
   {
    "duration": 9,
    "start_time": "2022-02-04T11:45:30.043Z"
   },
   {
    "duration": 266,
    "start_time": "2022-02-04T11:45:30.054Z"
   },
   {
    "duration": 241,
    "start_time": "2022-02-04T11:45:30.322Z"
   },
   {
    "duration": 15,
    "start_time": "2022-02-04T11:45:30.565Z"
   },
   {
    "duration": 27,
    "start_time": "2022-02-04T11:45:30.582Z"
   },
   {
    "duration": 124,
    "start_time": "2022-02-04T11:45:30.611Z"
   },
   {
    "duration": 537,
    "start_time": "2022-02-04T11:45:30.737Z"
   },
   {
    "duration": 47,
    "start_time": "2022-02-04T11:45:31.276Z"
   },
   {
    "duration": 36,
    "start_time": "2022-02-04T11:45:31.325Z"
   },
   {
    "duration": 49,
    "start_time": "2022-02-04T11:45:31.362Z"
   },
   {
    "duration": 7,
    "start_time": "2022-02-04T11:45:31.413Z"
   },
   {
    "duration": 79,
    "start_time": "2022-02-04T11:45:31.421Z"
   },
   {
    "duration": 30,
    "start_time": "2022-02-04T11:45:31.502Z"
   },
   {
    "duration": 10,
    "start_time": "2022-02-04T11:45:31.534Z"
   },
   {
    "duration": 396,
    "start_time": "2022-02-04T11:45:31.546Z"
   },
   {
    "duration": 62,
    "start_time": "2022-02-04T11:45:31.944Z"
   },
   {
    "duration": 475,
    "start_time": "2022-02-04T11:45:32.008Z"
   },
   {
    "duration": 736,
    "start_time": "2022-02-04T11:45:32.485Z"
   },
   {
    "duration": 8,
    "start_time": "2022-02-04T11:45:33.223Z"
   },
   {
    "duration": 16,
    "start_time": "2022-02-04T11:45:33.233Z"
   },
   {
    "duration": 36,
    "start_time": "2022-02-04T11:45:33.251Z"
   },
   {
    "duration": 471,
    "start_time": "2022-02-04T11:45:33.289Z"
   },
   {
    "duration": 719,
    "start_time": "2022-02-04T11:45:33.762Z"
   },
   {
    "duration": 15,
    "start_time": "2022-02-04T11:45:34.483Z"
   },
   {
    "duration": 15,
    "start_time": "2022-02-04T11:45:34.500Z"
   },
   {
    "duration": 280,
    "start_time": "2022-02-04T11:54:41.286Z"
   },
   {
    "duration": 1138,
    "start_time": "2022-02-04T12:08:46.400Z"
   },
   {
    "duration": 223,
    "start_time": "2022-02-04T12:08:47.540Z"
   },
   {
    "duration": 5,
    "start_time": "2022-02-04T12:08:47.765Z"
   },
   {
    "duration": 15,
    "start_time": "2022-02-04T12:08:47.772Z"
   },
   {
    "duration": 12,
    "start_time": "2022-02-04T12:08:47.789Z"
   },
   {
    "duration": 10,
    "start_time": "2022-02-04T12:08:47.802Z"
   },
   {
    "duration": 266,
    "start_time": "2022-02-04T12:08:47.813Z"
   },
   {
    "duration": 5,
    "start_time": "2022-02-04T12:08:48.083Z"
   },
   {
    "duration": 38,
    "start_time": "2022-02-04T12:08:48.091Z"
   },
   {
    "duration": 13,
    "start_time": "2022-02-04T12:08:48.131Z"
   },
   {
    "duration": 33,
    "start_time": "2022-02-04T12:08:48.145Z"
   },
   {
    "duration": 757,
    "start_time": "2022-02-04T12:08:48.180Z"
   },
   {
    "duration": 5,
    "start_time": "2022-02-04T12:08:48.938Z"
   },
   {
    "duration": 128,
    "start_time": "2022-02-04T12:08:48.945Z"
   },
   {
    "duration": 51,
    "start_time": "2022-02-04T12:08:49.075Z"
   },
   {
    "duration": 202,
    "start_time": "2022-02-04T12:08:49.128Z"
   },
   {
    "duration": 221,
    "start_time": "2022-02-04T12:08:49.332Z"
   },
   {
    "duration": 5,
    "start_time": "2022-02-04T12:08:49.554Z"
   },
   {
    "duration": 10,
    "start_time": "2022-02-04T12:08:49.561Z"
   },
   {
    "duration": 12,
    "start_time": "2022-02-04T12:08:49.573Z"
   },
   {
    "duration": 6,
    "start_time": "2022-02-04T12:08:49.587Z"
   },
   {
    "duration": 6,
    "start_time": "2022-02-04T12:08:49.594Z"
   },
   {
    "duration": 6,
    "start_time": "2022-02-04T12:08:49.604Z"
   },
   {
    "duration": 15,
    "start_time": "2022-02-04T12:08:49.612Z"
   },
   {
    "duration": 10,
    "start_time": "2022-02-04T12:08:49.628Z"
   },
   {
    "duration": 76,
    "start_time": "2022-02-04T12:08:49.640Z"
   },
   {
    "duration": 445,
    "start_time": "2022-02-04T12:08:49.718Z"
   },
   {
    "duration": 46,
    "start_time": "2022-02-04T12:08:50.165Z"
   },
   {
    "duration": 153,
    "start_time": "2022-02-04T12:08:50.213Z"
   },
   {
    "duration": 48,
    "start_time": "2022-02-04T12:08:50.368Z"
   },
   {
    "duration": 10,
    "start_time": "2022-02-04T12:08:50.418Z"
   },
   {
    "duration": 7,
    "start_time": "2022-02-04T12:08:50.430Z"
   },
   {
    "duration": 267,
    "start_time": "2022-02-04T12:08:50.438Z"
   },
   {
    "duration": 252,
    "start_time": "2022-02-04T12:08:50.706Z"
   },
   {
    "duration": 14,
    "start_time": "2022-02-04T12:08:50.960Z"
   },
   {
    "duration": 24,
    "start_time": "2022-02-04T12:08:50.976Z"
   },
   {
    "duration": 128,
    "start_time": "2022-02-04T12:08:51.002Z"
   },
   {
    "duration": 548,
    "start_time": "2022-02-04T12:08:51.132Z"
   },
   {
    "duration": 45,
    "start_time": "2022-02-04T12:08:51.682Z"
   },
   {
    "duration": 39,
    "start_time": "2022-02-04T12:08:51.729Z"
   },
   {
    "duration": 47,
    "start_time": "2022-02-04T12:08:51.770Z"
   },
   {
    "duration": 7,
    "start_time": "2022-02-04T12:08:51.819Z"
   },
   {
    "duration": 78,
    "start_time": "2022-02-04T12:08:51.827Z"
   },
   {
    "duration": 29,
    "start_time": "2022-02-04T12:08:51.907Z"
   },
   {
    "duration": 10,
    "start_time": "2022-02-04T12:08:51.939Z"
   },
   {
    "duration": 436,
    "start_time": "2022-02-04T12:08:51.951Z"
   },
   {
    "duration": 68,
    "start_time": "2022-02-04T12:08:52.390Z"
   },
   {
    "duration": 496,
    "start_time": "2022-02-04T12:08:52.460Z"
   },
   {
    "duration": 727,
    "start_time": "2022-02-04T12:08:52.958Z"
   },
   {
    "duration": 13,
    "start_time": "2022-02-04T12:08:53.687Z"
   },
   {
    "duration": 13,
    "start_time": "2022-02-04T12:08:53.702Z"
   },
   {
    "duration": 22,
    "start_time": "2022-02-04T12:08:53.717Z"
   },
   {
    "duration": 484,
    "start_time": "2022-02-04T12:08:53.741Z"
   },
   {
    "duration": 719,
    "start_time": "2022-02-04T12:08:54.227Z"
   },
   {
    "duration": 9,
    "start_time": "2022-02-04T12:08:54.948Z"
   },
   {
    "duration": 18,
    "start_time": "2022-02-04T12:08:54.959Z"
   },
   {
    "duration": 119,
    "start_time": "2022-02-04T12:19:58.395Z"
   },
   {
    "duration": 57,
    "start_time": "2022-02-04T12:21:32.507Z"
   },
   {
    "duration": 57,
    "start_time": "2022-02-04T12:21:50.194Z"
   },
   {
    "duration": 1210,
    "start_time": "2022-02-04T12:27:06.091Z"
   },
   {
    "duration": 214,
    "start_time": "2022-02-04T12:27:07.304Z"
   },
   {
    "duration": 6,
    "start_time": "2022-02-04T12:27:07.520Z"
   },
   {
    "duration": 12,
    "start_time": "2022-02-04T12:27:07.528Z"
   },
   {
    "duration": 10,
    "start_time": "2022-02-04T12:27:07.542Z"
   },
   {
    "duration": 9,
    "start_time": "2022-02-04T12:27:07.554Z"
   },
   {
    "duration": 280,
    "start_time": "2022-02-04T12:27:07.564Z"
   },
   {
    "duration": 5,
    "start_time": "2022-02-04T12:27:07.846Z"
   },
   {
    "duration": 45,
    "start_time": "2022-02-04T12:27:07.854Z"
   },
   {
    "duration": 13,
    "start_time": "2022-02-04T12:27:07.901Z"
   },
   {
    "duration": 40,
    "start_time": "2022-02-04T12:27:07.917Z"
   },
   {
    "duration": 756,
    "start_time": "2022-02-04T12:27:07.959Z"
   },
   {
    "duration": 6,
    "start_time": "2022-02-04T12:27:08.717Z"
   },
   {
    "duration": 131,
    "start_time": "2022-02-04T12:27:08.725Z"
   },
   {
    "duration": 55,
    "start_time": "2022-02-04T12:27:08.858Z"
   },
   {
    "duration": 193,
    "start_time": "2022-02-04T12:27:08.916Z"
   },
   {
    "duration": 223,
    "start_time": "2022-02-04T12:27:09.111Z"
   },
   {
    "duration": 5,
    "start_time": "2022-02-04T12:27:09.336Z"
   },
   {
    "duration": 9,
    "start_time": "2022-02-04T12:27:09.344Z"
   },
   {
    "duration": 23,
    "start_time": "2022-02-04T12:27:09.355Z"
   },
   {
    "duration": 7,
    "start_time": "2022-02-04T12:27:09.379Z"
   },
   {
    "duration": 14,
    "start_time": "2022-02-04T12:27:09.388Z"
   },
   {
    "duration": 10,
    "start_time": "2022-02-04T12:27:09.406Z"
   },
   {
    "duration": 12,
    "start_time": "2022-02-04T12:27:09.419Z"
   },
   {
    "duration": 12,
    "start_time": "2022-02-04T12:27:09.433Z"
   },
   {
    "duration": 67,
    "start_time": "2022-02-04T12:27:09.447Z"
   },
   {
    "duration": 475,
    "start_time": "2022-02-04T12:27:09.516Z"
   },
   {
    "duration": 41,
    "start_time": "2022-02-04T12:27:09.993Z"
   },
   {
    "duration": 161,
    "start_time": "2022-02-04T12:27:10.036Z"
   },
   {
    "duration": 40,
    "start_time": "2022-02-04T12:27:10.199Z"
   },
   {
    "duration": 9,
    "start_time": "2022-02-04T12:27:10.241Z"
   },
   {
    "duration": 6,
    "start_time": "2022-02-04T12:27:10.252Z"
   },
   {
    "duration": 1169,
    "start_time": "2022-02-04T13:25:14.135Z"
   },
   {
    "duration": 230,
    "start_time": "2022-02-04T13:25:15.306Z"
   },
   {
    "duration": 6,
    "start_time": "2022-02-04T13:25:15.538Z"
   },
   {
    "duration": 12,
    "start_time": "2022-02-04T13:25:15.547Z"
   },
   {
    "duration": 12,
    "start_time": "2022-02-04T13:25:15.561Z"
   },
   {
    "duration": 10,
    "start_time": "2022-02-04T13:25:15.576Z"
   },
   {
    "duration": 281,
    "start_time": "2022-02-04T13:25:15.587Z"
   },
   {
    "duration": 5,
    "start_time": "2022-02-04T13:25:15.871Z"
   },
   {
    "duration": 42,
    "start_time": "2022-02-04T13:25:15.878Z"
   },
   {
    "duration": 12,
    "start_time": "2022-02-04T13:25:15.921Z"
   },
   {
    "duration": 33,
    "start_time": "2022-02-04T13:25:15.935Z"
   },
   {
    "duration": 717,
    "start_time": "2022-02-04T13:25:15.969Z"
   },
   {
    "duration": 4,
    "start_time": "2022-02-04T13:25:16.688Z"
   },
   {
    "duration": 120,
    "start_time": "2022-02-04T13:25:16.698Z"
   },
   {
    "duration": 43,
    "start_time": "2022-02-04T13:25:16.820Z"
   },
   {
    "duration": 208,
    "start_time": "2022-02-04T13:25:16.865Z"
   },
   {
    "duration": 223,
    "start_time": "2022-02-04T13:25:17.075Z"
   },
   {
    "duration": 5,
    "start_time": "2022-02-04T13:25:17.300Z"
   },
   {
    "duration": 11,
    "start_time": "2022-02-04T13:25:17.307Z"
   },
   {
    "duration": 12,
    "start_time": "2022-02-04T13:25:17.319Z"
   },
   {
    "duration": 6,
    "start_time": "2022-02-04T13:25:17.333Z"
   },
   {
    "duration": 7,
    "start_time": "2022-02-04T13:25:17.340Z"
   },
   {
    "duration": 6,
    "start_time": "2022-02-04T13:25:17.351Z"
   },
   {
    "duration": 47,
    "start_time": "2022-02-04T13:25:17.359Z"
   },
   {
    "duration": 11,
    "start_time": "2022-02-04T13:25:17.407Z"
   },
   {
    "duration": 55,
    "start_time": "2022-02-04T13:25:17.419Z"
   },
   {
    "duration": 472,
    "start_time": "2022-02-04T13:25:17.475Z"
   },
   {
    "duration": 51,
    "start_time": "2022-02-04T13:25:17.949Z"
   },
   {
    "duration": 153,
    "start_time": "2022-02-04T13:25:18.002Z"
   },
   {
    "duration": 47,
    "start_time": "2022-02-04T13:25:18.157Z"
   },
   {
    "duration": 9,
    "start_time": "2022-02-04T13:25:18.206Z"
   },
   {
    "duration": 7,
    "start_time": "2022-02-04T13:25:18.217Z"
   },
   {
    "duration": 256,
    "start_time": "2022-02-04T13:25:18.226Z"
   },
   {
    "duration": 254,
    "start_time": "2022-02-04T13:25:18.484Z"
   },
   {
    "duration": 15,
    "start_time": "2022-02-04T13:25:18.740Z"
   },
   {
    "duration": 11,
    "start_time": "2022-02-04T13:25:18.757Z"
   },
   {
    "duration": 153,
    "start_time": "2022-02-04T13:25:18.770Z"
   },
   {
    "duration": 543,
    "start_time": "2022-02-04T13:25:18.924Z"
   },
   {
    "duration": 47,
    "start_time": "2022-02-04T13:25:19.469Z"
   },
   {
    "duration": 36,
    "start_time": "2022-02-04T13:25:19.518Z"
   },
   {
    "duration": 45,
    "start_time": "2022-02-04T13:25:19.556Z"
   },
   {
    "duration": 59,
    "start_time": "2022-02-04T13:25:19.603Z"
   },
   {
    "duration": 48,
    "start_time": "2022-02-04T13:25:19.663Z"
   },
   {
    "duration": 10,
    "start_time": "2022-02-04T13:25:19.712Z"
   },
   {
    "duration": 409,
    "start_time": "2022-02-04T13:25:19.724Z"
   },
   {
    "duration": 65,
    "start_time": "2022-02-04T13:25:20.135Z"
   },
   {
    "duration": 479,
    "start_time": "2022-02-04T13:25:20.202Z"
   },
   {
    "duration": 721,
    "start_time": "2022-02-04T13:25:20.683Z"
   },
   {
    "duration": 8,
    "start_time": "2022-02-04T13:25:21.406Z"
   },
   {
    "duration": 20,
    "start_time": "2022-02-04T13:25:21.416Z"
   },
   {
    "duration": 31,
    "start_time": "2022-02-04T13:25:21.438Z"
   },
   {
    "duration": 478,
    "start_time": "2022-02-04T13:25:21.471Z"
   },
   {
    "duration": 713,
    "start_time": "2022-02-04T13:25:21.951Z"
   },
   {
    "duration": 8,
    "start_time": "2022-02-04T13:25:22.666Z"
   },
   {
    "duration": 28,
    "start_time": "2022-02-04T13:25:22.676Z"
   },
   {
    "duration": 1204,
    "start_time": "2022-02-04T13:58:11.883Z"
   },
   {
    "duration": 227,
    "start_time": "2022-02-04T13:58:13.089Z"
   },
   {
    "duration": 5,
    "start_time": "2022-02-04T13:58:13.318Z"
   },
   {
    "duration": 27,
    "start_time": "2022-02-04T13:58:13.325Z"
   },
   {
    "duration": 20,
    "start_time": "2022-02-04T13:58:13.354Z"
   },
   {
    "duration": 14,
    "start_time": "2022-02-04T13:58:13.376Z"
   },
   {
    "duration": 286,
    "start_time": "2022-02-04T13:58:13.392Z"
   },
   {
    "duration": 4,
    "start_time": "2022-02-04T13:58:13.681Z"
   },
   {
    "duration": 34,
    "start_time": "2022-02-04T13:58:13.688Z"
   },
   {
    "duration": 11,
    "start_time": "2022-02-04T13:58:13.724Z"
   },
   {
    "duration": 31,
    "start_time": "2022-02-04T13:58:13.736Z"
   },
   {
    "duration": 786,
    "start_time": "2022-02-04T13:58:13.768Z"
   },
   {
    "duration": 4,
    "start_time": "2022-02-04T13:58:14.556Z"
   },
   {
    "duration": 136,
    "start_time": "2022-02-04T13:58:14.562Z"
   },
   {
    "duration": 40,
    "start_time": "2022-02-04T13:58:14.700Z"
   },
   {
    "duration": 202,
    "start_time": "2022-02-04T13:58:14.742Z"
   },
   {
    "duration": 681,
    "start_time": "2022-02-04T13:58:14.946Z"
   },
   {
    "duration": 4,
    "start_time": "2022-02-04T13:58:15.629Z"
   },
   {
    "duration": 10,
    "start_time": "2022-02-04T13:58:15.635Z"
   },
   {
    "duration": 13,
    "start_time": "2022-02-04T13:58:15.646Z"
   },
   {
    "duration": 6,
    "start_time": "2022-02-04T13:58:15.660Z"
   },
   {
    "duration": 10,
    "start_time": "2022-02-04T13:58:15.667Z"
   },
   {
    "duration": 6,
    "start_time": "2022-02-04T13:58:15.698Z"
   },
   {
    "duration": 12,
    "start_time": "2022-02-04T13:58:15.706Z"
   },
   {
    "duration": 11,
    "start_time": "2022-02-04T13:58:15.720Z"
   },
   {
    "duration": 68,
    "start_time": "2022-02-04T13:58:15.732Z"
   },
   {
    "duration": 462,
    "start_time": "2022-02-04T13:58:15.801Z"
   },
   {
    "duration": 46,
    "start_time": "2022-02-04T13:58:16.264Z"
   },
   {
    "duration": 152,
    "start_time": "2022-02-04T13:58:16.312Z"
   },
   {
    "duration": 48,
    "start_time": "2022-02-04T13:58:16.465Z"
   },
   {
    "duration": 10,
    "start_time": "2022-02-04T13:58:16.514Z"
   },
   {
    "duration": 6,
    "start_time": "2022-02-04T13:58:16.526Z"
   },
   {
    "duration": 272,
    "start_time": "2022-02-04T13:58:16.534Z"
   },
   {
    "duration": 240,
    "start_time": "2022-02-04T13:58:16.808Z"
   },
   {
    "duration": 15,
    "start_time": "2022-02-04T13:58:17.050Z"
   },
   {
    "duration": 23,
    "start_time": "2022-02-04T13:58:17.067Z"
   },
   {
    "duration": 139,
    "start_time": "2022-02-04T13:58:17.092Z"
   },
   {
    "duration": 562,
    "start_time": "2022-02-04T13:58:17.234Z"
   },
   {
    "duration": 37,
    "start_time": "2022-02-04T13:58:17.798Z"
   },
   {
    "duration": 38,
    "start_time": "2022-02-04T13:58:17.836Z"
   },
   {
    "duration": 47,
    "start_time": "2022-02-04T13:58:17.875Z"
   },
   {
    "duration": 75,
    "start_time": "2022-02-04T13:58:17.924Z"
   },
   {
    "duration": 29,
    "start_time": "2022-02-04T13:58:18.001Z"
   },
   {
    "duration": 9,
    "start_time": "2022-02-04T13:58:18.032Z"
   },
   {
    "duration": 452,
    "start_time": "2022-02-04T13:58:18.042Z"
   },
   {
    "duration": 59,
    "start_time": "2022-02-04T13:58:18.496Z"
   },
   {
    "duration": 495,
    "start_time": "2022-02-04T13:58:18.557Z"
   },
   {
    "duration": 753,
    "start_time": "2022-02-04T13:58:19.054Z"
   },
   {
    "duration": 7,
    "start_time": "2022-02-04T13:58:19.809Z"
   },
   {
    "duration": 28,
    "start_time": "2022-02-04T13:58:19.818Z"
   },
   {
    "duration": 34,
    "start_time": "2022-02-04T13:58:19.847Z"
   },
   {
    "duration": 493,
    "start_time": "2022-02-04T13:58:19.883Z"
   },
   {
    "duration": 725,
    "start_time": "2022-02-04T13:58:20.377Z"
   },
   {
    "duration": 9,
    "start_time": "2022-02-04T13:58:21.104Z"
   },
   {
    "duration": 17,
    "start_time": "2022-02-04T13:58:21.115Z"
   },
   {
    "duration": 1220,
    "start_time": "2022-02-04T14:01:52.581Z"
   },
   {
    "duration": 213,
    "start_time": "2022-02-04T14:01:53.803Z"
   },
   {
    "duration": 5,
    "start_time": "2022-02-04T14:01:54.018Z"
   },
   {
    "duration": 16,
    "start_time": "2022-02-04T14:01:54.025Z"
   },
   {
    "duration": 13,
    "start_time": "2022-02-04T14:01:54.043Z"
   },
   {
    "duration": 8,
    "start_time": "2022-02-04T14:01:54.058Z"
   },
   {
    "duration": 268,
    "start_time": "2022-02-04T14:01:54.068Z"
   },
   {
    "duration": 5,
    "start_time": "2022-02-04T14:01:54.338Z"
   },
   {
    "duration": 37,
    "start_time": "2022-02-04T14:01:54.346Z"
   },
   {
    "duration": 24,
    "start_time": "2022-02-04T14:01:54.386Z"
   },
   {
    "duration": 34,
    "start_time": "2022-02-04T14:01:54.412Z"
   },
   {
    "duration": 734,
    "start_time": "2022-02-04T14:01:54.448Z"
   },
   {
    "duration": 5,
    "start_time": "2022-02-04T14:01:55.183Z"
   },
   {
    "duration": 125,
    "start_time": "2022-02-04T14:01:55.199Z"
   },
   {
    "duration": 44,
    "start_time": "2022-02-04T14:01:55.326Z"
   },
   {
    "duration": 214,
    "start_time": "2022-02-04T14:01:55.372Z"
   },
   {
    "duration": 276,
    "start_time": "2022-02-04T14:01:55.589Z"
   },
   {
    "duration": 5,
    "start_time": "2022-02-04T14:01:55.867Z"
   },
   {
    "duration": 12,
    "start_time": "2022-02-04T14:01:55.874Z"
   },
   {
    "duration": 13,
    "start_time": "2022-02-04T14:01:55.888Z"
   },
   {
    "duration": 7,
    "start_time": "2022-02-04T14:01:55.903Z"
   },
   {
    "duration": 9,
    "start_time": "2022-02-04T14:01:55.912Z"
   },
   {
    "duration": 7,
    "start_time": "2022-02-04T14:01:55.923Z"
   },
   {
    "duration": 14,
    "start_time": "2022-02-04T14:01:55.933Z"
   },
   {
    "duration": 11,
    "start_time": "2022-02-04T14:01:55.949Z"
   },
   {
    "duration": 83,
    "start_time": "2022-02-04T14:01:55.962Z"
   },
   {
    "duration": 467,
    "start_time": "2022-02-04T14:01:56.049Z"
   },
   {
    "duration": 43,
    "start_time": "2022-02-04T14:01:56.519Z"
   },
   {
    "duration": 163,
    "start_time": "2022-02-04T14:01:56.563Z"
   },
   {
    "duration": 44,
    "start_time": "2022-02-04T14:01:56.728Z"
   },
   {
    "duration": 26,
    "start_time": "2022-02-04T14:01:56.774Z"
   },
   {
    "duration": 7,
    "start_time": "2022-02-04T14:01:56.801Z"
   },
   {
    "duration": 256,
    "start_time": "2022-02-04T14:01:56.810Z"
   },
   {
    "duration": 241,
    "start_time": "2022-02-04T14:01:57.068Z"
   },
   {
    "duration": 15,
    "start_time": "2022-02-04T14:01:57.311Z"
   },
   {
    "duration": 13,
    "start_time": "2022-02-04T14:01:57.328Z"
   },
   {
    "duration": 143,
    "start_time": "2022-02-04T14:01:57.343Z"
   },
   {
    "duration": 540,
    "start_time": "2022-02-04T14:01:57.488Z"
   },
   {
    "duration": 36,
    "start_time": "2022-02-04T14:01:58.030Z"
   },
   {
    "duration": 54,
    "start_time": "2022-02-04T14:01:58.068Z"
   },
   {
    "duration": 26,
    "start_time": "2022-02-04T14:01:58.124Z"
   },
   {
    "duration": 81,
    "start_time": "2022-02-04T14:01:58.152Z"
   },
   {
    "duration": 32,
    "start_time": "2022-02-04T14:01:58.235Z"
   },
   {
    "duration": 10,
    "start_time": "2022-02-04T14:01:58.269Z"
   },
   {
    "duration": 491,
    "start_time": "2022-02-04T14:01:58.298Z"
   },
   {
    "duration": 59,
    "start_time": "2022-02-04T14:01:58.791Z"
   },
   {
    "duration": 477,
    "start_time": "2022-02-04T14:01:58.852Z"
   },
   {
    "duration": 715,
    "start_time": "2022-02-04T14:01:59.331Z"
   },
   {
    "duration": 7,
    "start_time": "2022-02-04T14:02:00.048Z"
   },
   {
    "duration": 17,
    "start_time": "2022-02-04T14:02:00.057Z"
   },
   {
    "duration": 31,
    "start_time": "2022-02-04T14:02:00.075Z"
   },
   {
    "duration": 495,
    "start_time": "2022-02-04T14:02:00.107Z"
   },
   {
    "duration": 711,
    "start_time": "2022-02-04T14:02:00.604Z"
   },
   {
    "duration": 9,
    "start_time": "2022-02-04T14:02:01.317Z"
   },
   {
    "duration": 28,
    "start_time": "2022-02-04T14:02:01.328Z"
   },
   {
    "duration": 1117,
    "start_time": "2022-02-04T17:22:21.299Z"
   },
   {
    "duration": 198,
    "start_time": "2022-02-04T17:22:22.419Z"
   },
   {
    "duration": 5,
    "start_time": "2022-02-04T17:22:22.619Z"
   },
   {
    "duration": 14,
    "start_time": "2022-02-04T17:22:22.626Z"
   },
   {
    "duration": 12,
    "start_time": "2022-02-04T17:22:22.642Z"
   },
   {
    "duration": 19,
    "start_time": "2022-02-04T17:22:22.656Z"
   },
   {
    "duration": 242,
    "start_time": "2022-02-04T17:22:22.678Z"
   },
   {
    "duration": 5,
    "start_time": "2022-02-04T17:22:22.923Z"
   },
   {
    "duration": 39,
    "start_time": "2022-02-04T17:22:22.930Z"
   },
   {
    "duration": 22,
    "start_time": "2022-02-04T17:22:22.971Z"
   },
   {
    "duration": 46,
    "start_time": "2022-02-04T17:22:22.995Z"
   },
   {
    "duration": 705,
    "start_time": "2022-02-04T17:22:23.043Z"
   },
   {
    "duration": 5,
    "start_time": "2022-02-04T17:22:23.750Z"
   },
   {
    "duration": 126,
    "start_time": "2022-02-04T17:22:23.756Z"
   },
   {
    "duration": 51,
    "start_time": "2022-02-04T17:22:23.884Z"
   },
   {
    "duration": 196,
    "start_time": "2022-02-04T17:22:23.937Z"
   },
   {
    "duration": 198,
    "start_time": "2022-02-04T17:22:24.135Z"
   },
   {
    "duration": 6,
    "start_time": "2022-02-04T17:22:24.335Z"
   },
   {
    "duration": 13,
    "start_time": "2022-02-04T17:22:24.342Z"
   },
   {
    "duration": 16,
    "start_time": "2022-02-04T17:22:24.357Z"
   },
   {
    "duration": 9,
    "start_time": "2022-02-04T17:22:24.375Z"
   },
   {
    "duration": 24,
    "start_time": "2022-02-04T17:22:24.385Z"
   },
   {
    "duration": 6,
    "start_time": "2022-02-04T17:22:24.414Z"
   },
   {
    "duration": 14,
    "start_time": "2022-02-04T17:22:24.422Z"
   },
   {
    "duration": 16,
    "start_time": "2022-02-04T17:22:24.437Z"
   },
   {
    "duration": 75,
    "start_time": "2022-02-04T17:22:24.454Z"
   },
   {
    "duration": 448,
    "start_time": "2022-02-04T17:22:24.531Z"
   },
   {
    "duration": 50,
    "start_time": "2022-02-04T17:22:24.981Z"
   },
   {
    "duration": 157,
    "start_time": "2022-02-04T17:22:25.033Z"
   },
   {
    "duration": 47,
    "start_time": "2022-02-04T17:22:25.192Z"
   },
   {
    "duration": 10,
    "start_time": "2022-02-04T17:22:25.241Z"
   },
   {
    "duration": 16,
    "start_time": "2022-02-04T17:22:25.253Z"
   },
   {
    "duration": 240,
    "start_time": "2022-02-04T17:22:25.271Z"
   },
   {
    "duration": 227,
    "start_time": "2022-02-04T17:22:25.512Z"
   },
   {
    "duration": 18,
    "start_time": "2022-02-04T17:22:25.741Z"
   },
   {
    "duration": 24,
    "start_time": "2022-02-04T17:22:25.761Z"
   },
   {
    "duration": 124,
    "start_time": "2022-02-04T17:22:25.787Z"
   },
   {
    "duration": 519,
    "start_time": "2022-02-04T17:22:25.913Z"
   },
   {
    "duration": 37,
    "start_time": "2022-02-04T17:22:26.435Z"
   },
   {
    "duration": 60,
    "start_time": "2022-02-04T17:22:26.474Z"
   },
   {
    "duration": 28,
    "start_time": "2022-02-04T17:22:26.536Z"
   },
   {
    "duration": 76,
    "start_time": "2022-02-04T17:22:26.567Z"
   },
   {
    "duration": 33,
    "start_time": "2022-02-04T17:22:26.645Z"
   },
   {
    "duration": 35,
    "start_time": "2022-02-04T17:22:26.680Z"
   },
   {
    "duration": 60912,
    "start_time": "2022-02-04T17:22:26.716Z"
   },
   {
    "duration": 60,
    "start_time": "2022-02-04T17:23:27.630Z"
   },
   {
    "duration": 497,
    "start_time": "2022-02-04T17:23:27.692Z"
   },
   {
    "duration": 717,
    "start_time": "2022-02-04T17:23:28.191Z"
   },
   {
    "duration": 8,
    "start_time": "2022-02-04T17:23:28.910Z"
   },
   {
    "duration": 15,
    "start_time": "2022-02-04T17:23:28.920Z"
   },
   {
    "duration": 15,
    "start_time": "2022-02-04T17:23:28.937Z"
   },
   {
    "duration": 484,
    "start_time": "2022-02-04T17:23:28.954Z"
   },
   {
    "duration": 703,
    "start_time": "2022-02-04T17:23:29.440Z"
   },
   {
    "duration": 8,
    "start_time": "2022-02-04T17:23:30.145Z"
   },
   {
    "duration": 25,
    "start_time": "2022-02-04T17:23:30.155Z"
   },
   {
    "duration": 14,
    "start_time": "2022-02-04T17:55:14.986Z"
   },
   {
    "duration": 22,
    "start_time": "2022-02-04T17:56:16.368Z"
   },
   {
    "duration": 19,
    "start_time": "2022-02-04T17:56:24.106Z"
   },
   {
    "duration": 18,
    "start_time": "2022-02-04T17:56:26.554Z"
   },
   {
    "duration": 241,
    "start_time": "2022-02-04T18:01:09.834Z"
   },
   {
    "duration": 20,
    "start_time": "2022-02-04T18:05:25.226Z"
   },
   {
    "duration": 14,
    "start_time": "2022-02-04T18:05:59.722Z"
   },
   {
    "duration": 9,
    "start_time": "2022-02-04T18:10:50.103Z"
   },
   {
    "duration": 4,
    "start_time": "2022-02-04T18:11:17.266Z"
   },
   {
    "duration": 16,
    "start_time": "2022-02-04T18:11:20.845Z"
   },
   {
    "duration": 18,
    "start_time": "2022-02-04T18:11:47.882Z"
   },
   {
    "duration": 15,
    "start_time": "2022-02-04T18:12:39.193Z"
   },
   {
    "duration": 21,
    "start_time": "2022-02-04T18:12:40.584Z"
   },
   {
    "duration": 1129,
    "start_time": "2022-02-04T18:16:36.278Z"
   },
   {
    "duration": 200,
    "start_time": "2022-02-04T18:16:37.410Z"
   },
   {
    "duration": 5,
    "start_time": "2022-02-04T18:16:37.612Z"
   },
   {
    "duration": 12,
    "start_time": "2022-02-04T18:16:37.619Z"
   },
   {
    "duration": 11,
    "start_time": "2022-02-04T18:16:37.633Z"
   },
   {
    "duration": 7,
    "start_time": "2022-02-04T18:16:37.646Z"
   },
   {
    "duration": 278,
    "start_time": "2022-02-04T18:16:37.656Z"
   },
   {
    "duration": 5,
    "start_time": "2022-02-04T18:16:37.937Z"
   },
   {
    "duration": 32,
    "start_time": "2022-02-04T18:16:37.944Z"
   },
   {
    "duration": 12,
    "start_time": "2022-02-04T18:16:37.977Z"
   },
   {
    "duration": 31,
    "start_time": "2022-02-04T18:16:38.008Z"
   },
   {
    "duration": 758,
    "start_time": "2022-02-04T18:16:38.041Z"
   },
   {
    "duration": 9,
    "start_time": "2022-02-04T18:16:38.802Z"
   },
   {
    "duration": 131,
    "start_time": "2022-02-04T18:16:38.813Z"
   },
   {
    "duration": 42,
    "start_time": "2022-02-04T18:16:38.946Z"
   },
   {
    "duration": 179,
    "start_time": "2022-02-04T18:16:38.990Z"
   },
   {
    "duration": 261,
    "start_time": "2022-02-04T18:16:39.171Z"
   },
   {
    "duration": 5,
    "start_time": "2022-02-04T18:16:39.434Z"
   },
   {
    "duration": 15,
    "start_time": "2022-02-04T18:16:39.441Z"
   },
   {
    "duration": 31,
    "start_time": "2022-02-04T18:16:39.457Z"
   },
   {
    "duration": 18,
    "start_time": "2022-02-04T18:16:39.490Z"
   },
   {
    "duration": 10,
    "start_time": "2022-02-04T18:16:39.511Z"
   },
   {
    "duration": 5,
    "start_time": "2022-02-04T18:16:39.526Z"
   },
   {
    "duration": 12,
    "start_time": "2022-02-04T18:16:39.534Z"
   },
   {
    "duration": 10,
    "start_time": "2022-02-04T18:16:39.548Z"
   },
   {
    "duration": 80,
    "start_time": "2022-02-04T18:16:39.560Z"
   },
   {
    "duration": 541,
    "start_time": "2022-02-04T18:16:39.643Z"
   },
   {
    "duration": 80,
    "start_time": "2022-02-04T18:16:40.187Z"
   },
   {
    "duration": 199,
    "start_time": "2022-02-04T18:16:40.270Z"
   },
   {
    "duration": 80,
    "start_time": "2022-02-04T18:16:40.471Z"
   },
   {
    "duration": 14,
    "start_time": "2022-02-04T18:16:40.553Z"
   },
   {
    "duration": 10,
    "start_time": "2022-02-04T18:16:40.570Z"
   },
   {
    "duration": 289,
    "start_time": "2022-02-04T18:16:40.582Z"
   },
   {
    "duration": 238,
    "start_time": "2022-02-04T18:16:40.873Z"
   },
   {
    "duration": 246,
    "start_time": "2022-02-04T18:16:41.113Z"
   },
   {
    "duration": 19,
    "start_time": "2022-02-04T18:16:41.362Z"
   },
   {
    "duration": 28,
    "start_time": "2022-02-04T18:16:41.383Z"
   },
   {
    "duration": 14,
    "start_time": "2022-02-04T18:16:41.414Z"
   },
   {
    "duration": 136,
    "start_time": "2022-02-04T18:16:41.430Z"
   },
   {
    "duration": 520,
    "start_time": "2022-02-04T18:16:41.568Z"
   },
   {
    "duration": 48,
    "start_time": "2022-02-04T18:16:42.090Z"
   },
   {
    "duration": 68,
    "start_time": "2022-02-04T18:16:42.140Z"
   },
   {
    "duration": 42,
    "start_time": "2022-02-04T18:16:42.210Z"
   },
   {
    "duration": 88,
    "start_time": "2022-02-04T18:16:42.255Z"
   },
   {
    "duration": 31,
    "start_time": "2022-02-04T18:16:42.345Z"
   },
   {
    "duration": 10,
    "start_time": "2022-02-04T18:16:42.378Z"
   },
   {
    "duration": 57176,
    "start_time": "2022-02-04T18:16:42.407Z"
   },
   {
    "duration": 27,
    "start_time": "2022-02-04T18:17:39.586Z"
   },
   {
    "duration": 58,
    "start_time": "2022-02-04T18:17:39.615Z"
   },
   {
    "duration": 606,
    "start_time": "2022-02-04T18:17:39.675Z"
   },
   {
    "duration": 733,
    "start_time": "2022-02-04T18:17:40.283Z"
   },
   {
    "duration": 8,
    "start_time": "2022-02-04T18:17:41.019Z"
   },
   {
    "duration": 15,
    "start_time": "2022-02-04T18:17:41.030Z"
   },
   {
    "duration": 14,
    "start_time": "2022-02-04T18:17:41.047Z"
   },
   {
    "duration": 492,
    "start_time": "2022-02-04T18:17:41.063Z"
   },
   {
    "duration": 710,
    "start_time": "2022-02-04T18:17:41.557Z"
   },
   {
    "duration": 9,
    "start_time": "2022-02-04T18:17:42.269Z"
   },
   {
    "duration": 46,
    "start_time": "2022-02-04T18:17:42.279Z"
   },
   {
    "duration": 354,
    "start_time": "2022-02-04T19:41:20.652Z"
   },
   {
    "duration": 1398,
    "start_time": "2022-02-04T19:41:28.267Z"
   },
   {
    "duration": 219,
    "start_time": "2022-02-04T19:41:29.667Z"
   },
   {
    "duration": 7,
    "start_time": "2022-02-04T19:41:29.889Z"
   },
   {
    "duration": 16,
    "start_time": "2022-02-04T19:41:29.899Z"
   },
   {
    "duration": 21,
    "start_time": "2022-02-04T19:41:29.917Z"
   },
   {
    "duration": 16,
    "start_time": "2022-02-04T19:41:29.941Z"
   },
   {
    "duration": 337,
    "start_time": "2022-02-04T19:41:29.960Z"
   },
   {
    "duration": 6,
    "start_time": "2022-02-04T19:41:30.299Z"
   },
   {
    "duration": 50,
    "start_time": "2022-02-04T19:41:30.309Z"
   },
   {
    "duration": 16,
    "start_time": "2022-02-04T19:41:30.362Z"
   },
   {
    "duration": 70,
    "start_time": "2022-02-04T19:41:30.380Z"
   },
   {
    "duration": 926,
    "start_time": "2022-02-04T19:41:30.452Z"
   },
   {
    "duration": 6,
    "start_time": "2022-02-04T19:41:31.380Z"
   },
   {
    "duration": 220,
    "start_time": "2022-02-04T19:41:31.388Z"
   },
   {
    "duration": 62,
    "start_time": "2022-02-04T19:41:31.610Z"
   },
   {
    "duration": 251,
    "start_time": "2022-02-04T19:41:31.674Z"
   },
   {
    "duration": 241,
    "start_time": "2022-02-04T19:41:31.928Z"
   },
   {
    "duration": 6,
    "start_time": "2022-02-04T19:41:32.172Z"
   },
   {
    "duration": 10,
    "start_time": "2022-02-04T19:41:32.181Z"
   },
   {
    "duration": 16,
    "start_time": "2022-02-04T19:41:32.193Z"
   },
   {
    "duration": 17,
    "start_time": "2022-02-04T19:41:32.212Z"
   },
   {
    "duration": 14,
    "start_time": "2022-02-04T19:41:32.232Z"
   },
   {
    "duration": 9,
    "start_time": "2022-02-04T19:41:32.249Z"
   },
   {
    "duration": 16,
    "start_time": "2022-02-04T19:41:32.260Z"
   },
   {
    "duration": 53,
    "start_time": "2022-02-04T19:41:32.279Z"
   },
   {
    "duration": 66,
    "start_time": "2022-02-04T19:41:32.335Z"
   },
   {
    "duration": 703,
    "start_time": "2022-02-04T19:41:32.429Z"
   },
   {
    "duration": 51,
    "start_time": "2022-02-04T19:41:33.138Z"
   },
   {
    "duration": 228,
    "start_time": "2022-02-04T19:41:33.192Z"
   },
   {
    "duration": 64,
    "start_time": "2022-02-04T19:41:33.425Z"
   },
   {
    "duration": 44,
    "start_time": "2022-02-04T19:41:33.492Z"
   },
   {
    "duration": 12,
    "start_time": "2022-02-04T19:41:33.539Z"
   },
   {
    "duration": 356,
    "start_time": "2022-02-04T19:41:33.554Z"
   },
   {
    "duration": 378,
    "start_time": "2022-02-04T19:41:33.913Z"
   },
   {
    "duration": 388,
    "start_time": "2022-02-04T19:41:34.294Z"
   },
   {
    "duration": 38,
    "start_time": "2022-02-04T19:41:34.685Z"
   },
   {
    "duration": 24,
    "start_time": "2022-02-04T19:41:34.726Z"
   },
   {
    "duration": 13,
    "start_time": "2022-02-04T19:41:34.753Z"
   },
   {
    "duration": 54,
    "start_time": "2022-02-04T19:41:34.769Z"
   },
   {
    "duration": 137,
    "start_time": "2022-02-04T19:41:34.827Z"
   },
   {
    "duration": 765,
    "start_time": "2022-02-04T19:41:34.967Z"
   },
   {
    "duration": 55,
    "start_time": "2022-02-04T19:41:35.735Z"
   },
   {
    "duration": 84,
    "start_time": "2022-02-04T19:41:35.793Z"
   },
   {
    "duration": 55,
    "start_time": "2022-02-04T19:41:35.879Z"
   },
   {
    "duration": 66,
    "start_time": "2022-02-04T19:41:35.937Z"
   },
   {
    "duration": 64,
    "start_time": "2022-02-04T19:41:36.005Z"
   },
   {
    "duration": 15,
    "start_time": "2022-02-04T19:41:36.072Z"
   },
   {
    "duration": 700,
    "start_time": "2022-02-04T19:41:36.090Z"
   },
   {
    "duration": 46,
    "start_time": "2022-02-04T19:41:36.794Z"
   },
   {
    "duration": 66,
    "start_time": "2022-02-04T19:41:36.842Z"
   },
   {
    "duration": 767,
    "start_time": "2022-02-04T19:41:36.924Z"
   },
   {
    "duration": 1024,
    "start_time": "2022-02-04T19:41:37.694Z"
   },
   {
    "duration": 14,
    "start_time": "2022-02-04T19:41:38.723Z"
   },
   {
    "duration": 18,
    "start_time": "2022-02-04T19:41:38.740Z"
   },
   {
    "duration": 20,
    "start_time": "2022-02-04T19:41:38.760Z"
   },
   {
    "duration": 615,
    "start_time": "2022-02-04T19:41:38.782Z"
   },
   {
    "duration": 1018,
    "start_time": "2022-02-04T19:41:39.399Z"
   },
   {
    "duration": 17,
    "start_time": "2022-02-04T19:41:40.423Z"
   },
   {
    "duration": 22,
    "start_time": "2022-02-04T19:41:40.443Z"
   },
   {
    "duration": 20,
    "start_time": "2022-02-04T19:43:09.636Z"
   },
   {
    "duration": 29,
    "start_time": "2022-02-04T19:45:12.023Z"
   },
   {
    "duration": 31,
    "start_time": "2022-02-04T19:46:19.178Z"
   },
   {
    "duration": 1438,
    "start_time": "2022-02-04T19:52:05.249Z"
   },
   {
    "duration": 253,
    "start_time": "2022-02-04T19:52:06.690Z"
   },
   {
    "duration": 7,
    "start_time": "2022-02-04T19:52:06.945Z"
   },
   {
    "duration": 14,
    "start_time": "2022-02-04T19:52:06.955Z"
   },
   {
    "duration": 8,
    "start_time": "2022-02-04T19:52:06.972Z"
   },
   {
    "duration": 46,
    "start_time": "2022-02-04T19:52:06.982Z"
   },
   {
    "duration": 332,
    "start_time": "2022-02-04T19:52:07.033Z"
   },
   {
    "duration": 6,
    "start_time": "2022-02-04T19:52:07.369Z"
   },
   {
    "duration": 67,
    "start_time": "2022-02-04T19:52:07.378Z"
   },
   {
    "duration": 15,
    "start_time": "2022-02-04T19:52:07.448Z"
   },
   {
    "duration": 62,
    "start_time": "2022-02-04T19:52:07.465Z"
   },
   {
    "duration": 947,
    "start_time": "2022-02-04T19:52:07.531Z"
   },
   {
    "duration": 7,
    "start_time": "2022-02-04T19:52:08.480Z"
   },
   {
    "duration": 172,
    "start_time": "2022-02-04T19:52:08.489Z"
   },
   {
    "duration": 65,
    "start_time": "2022-02-04T19:52:08.663Z"
   },
   {
    "duration": 231,
    "start_time": "2022-02-04T19:52:08.731Z"
   },
   {
    "duration": 254,
    "start_time": "2022-02-04T19:52:08.964Z"
   },
   {
    "duration": 7,
    "start_time": "2022-02-04T19:52:09.220Z"
   },
   {
    "duration": 9,
    "start_time": "2022-02-04T19:52:09.230Z"
   },
   {
    "duration": 17,
    "start_time": "2022-02-04T19:52:09.242Z"
   },
   {
    "duration": 8,
    "start_time": "2022-02-04T19:52:09.262Z"
   },
   {
    "duration": 54,
    "start_time": "2022-02-04T19:52:09.272Z"
   },
   {
    "duration": 7,
    "start_time": "2022-02-04T19:52:09.331Z"
   },
   {
    "duration": 33,
    "start_time": "2022-02-04T19:52:09.341Z"
   },
   {
    "duration": 14,
    "start_time": "2022-02-04T19:52:09.376Z"
   },
   {
    "duration": 66,
    "start_time": "2022-02-04T19:52:09.424Z"
   },
   {
    "duration": 648,
    "start_time": "2022-02-04T19:52:09.493Z"
   },
   {
    "duration": 57,
    "start_time": "2022-02-04T19:52:10.144Z"
   },
   {
    "duration": 207,
    "start_time": "2022-02-04T19:52:10.203Z"
   },
   {
    "duration": 68,
    "start_time": "2022-02-04T19:52:10.413Z"
   },
   {
    "duration": 15,
    "start_time": "2022-02-04T19:52:10.484Z"
   },
   {
    "duration": 14,
    "start_time": "2022-02-04T19:52:10.524Z"
   },
   {
    "duration": 393,
    "start_time": "2022-02-04T19:52:10.541Z"
   },
   {
    "duration": 349,
    "start_time": "2022-02-04T19:52:10.938Z"
   },
   {
    "duration": 370,
    "start_time": "2022-02-04T19:52:11.290Z"
   },
   {
    "duration": 35,
    "start_time": "2022-02-04T19:52:11.663Z"
   },
   {
    "duration": 32,
    "start_time": "2022-02-04T19:52:11.701Z"
   },
   {
    "duration": 19,
    "start_time": "2022-02-04T19:52:11.735Z"
   },
   {
    "duration": 150,
    "start_time": "2022-02-04T19:52:11.756Z"
   },
   {
    "duration": 734,
    "start_time": "2022-02-04T19:52:11.908Z"
   },
   {
    "duration": 53,
    "start_time": "2022-02-04T19:52:12.644Z"
   },
   {
    "duration": 82,
    "start_time": "2022-02-04T19:52:12.700Z"
   },
   {
    "duration": 57,
    "start_time": "2022-02-04T19:52:12.784Z"
   },
   {
    "duration": 82,
    "start_time": "2022-02-04T19:52:12.844Z"
   },
   {
    "duration": 45,
    "start_time": "2022-02-04T19:52:12.930Z"
   },
   {
    "duration": 13,
    "start_time": "2022-02-04T19:52:12.978Z"
   },
   {
    "duration": 756,
    "start_time": "2022-02-04T19:52:12.993Z"
   },
   {
    "duration": 29,
    "start_time": "2022-02-04T19:52:13.752Z"
   },
   {
    "duration": 88,
    "start_time": "2022-02-04T19:52:13.784Z"
   },
   {
    "duration": 605,
    "start_time": "2022-02-04T19:52:13.875Z"
   },
   {
    "duration": 930,
    "start_time": "2022-02-04T19:52:14.482Z"
   },
   {
    "duration": 17,
    "start_time": "2022-02-04T19:52:15.414Z"
   },
   {
    "duration": 27,
    "start_time": "2022-02-04T19:52:15.433Z"
   },
   {
    "duration": 21,
    "start_time": "2022-02-04T19:52:15.463Z"
   },
   {
    "duration": 601,
    "start_time": "2022-02-04T19:52:15.486Z"
   },
   {
    "duration": 925,
    "start_time": "2022-02-04T19:52:16.089Z"
   },
   {
    "duration": 16,
    "start_time": "2022-02-04T19:52:17.024Z"
   },
   {
    "duration": 22,
    "start_time": "2022-02-04T19:52:17.043Z"
   },
   {
    "duration": 1537,
    "start_time": "2022-02-04T20:00:48.061Z"
   },
   {
    "duration": 277,
    "start_time": "2022-02-04T20:00:49.601Z"
   },
   {
    "duration": 9,
    "start_time": "2022-02-04T20:00:49.881Z"
   },
   {
    "duration": 15,
    "start_time": "2022-02-04T20:00:49.893Z"
   },
   {
    "duration": 26,
    "start_time": "2022-02-04T20:00:49.911Z"
   },
   {
    "duration": 14,
    "start_time": "2022-02-04T20:00:49.940Z"
   },
   {
    "duration": 383,
    "start_time": "2022-02-04T20:00:49.957Z"
   },
   {
    "duration": 7,
    "start_time": "2022-02-04T20:00:50.344Z"
   },
   {
    "duration": 77,
    "start_time": "2022-02-04T20:00:50.355Z"
   },
   {
    "duration": 22,
    "start_time": "2022-02-04T20:00:50.435Z"
   },
   {
    "duration": 89,
    "start_time": "2022-02-04T20:00:50.460Z"
   },
   {
    "duration": 1216,
    "start_time": "2022-02-04T20:00:50.553Z"
   },
   {
    "duration": 9,
    "start_time": "2022-02-04T20:00:51.772Z"
   },
   {
    "duration": 197,
    "start_time": "2022-02-04T20:00:51.784Z"
   },
   {
    "duration": 76,
    "start_time": "2022-02-04T20:00:51.983Z"
   },
   {
    "duration": 311,
    "start_time": "2022-02-04T20:00:52.062Z"
   },
   {
    "duration": 304,
    "start_time": "2022-02-04T20:00:52.376Z"
   },
   {
    "duration": 8,
    "start_time": "2022-02-04T20:00:52.684Z"
   },
   {
    "duration": 15,
    "start_time": "2022-02-04T20:00:52.695Z"
   },
   {
    "duration": 21,
    "start_time": "2022-02-04T20:00:52.713Z"
   },
   {
    "duration": 23,
    "start_time": "2022-02-04T20:00:52.738Z"
   },
   {
    "duration": 12,
    "start_time": "2022-02-04T20:00:52.764Z"
   },
   {
    "duration": 8,
    "start_time": "2022-02-04T20:00:52.782Z"
   },
   {
    "duration": 45,
    "start_time": "2022-02-04T20:00:52.794Z"
   },
   {
    "duration": 19,
    "start_time": "2022-02-04T20:00:52.841Z"
   },
   {
    "duration": 87,
    "start_time": "2022-02-04T20:00:52.863Z"
   },
   {
    "duration": 707,
    "start_time": "2022-02-04T20:00:52.953Z"
   },
   {
    "duration": 68,
    "start_time": "2022-02-04T20:00:53.662Z"
   },
   {
    "duration": 219,
    "start_time": "2022-02-04T20:00:53.733Z"
   },
   {
    "duration": 71,
    "start_time": "2022-02-04T20:00:53.954Z"
   },
   {
    "duration": 25,
    "start_time": "2022-02-04T20:00:54.030Z"
   },
   {
    "duration": 10,
    "start_time": "2022-02-04T20:00:54.058Z"
   },
   {
    "duration": 438,
    "start_time": "2022-02-04T20:00:54.071Z"
   },
   {
    "duration": 500,
    "start_time": "2022-02-04T20:00:54.512Z"
   },
   {
    "duration": 414,
    "start_time": "2022-02-04T20:00:55.015Z"
   },
   {
    "duration": 44,
    "start_time": "2022-02-04T20:00:55.447Z"
   },
   {
    "duration": 20,
    "start_time": "2022-02-04T20:00:55.493Z"
   },
   {
    "duration": 28,
    "start_time": "2022-02-04T20:00:55.523Z"
   },
   {
    "duration": 134,
    "start_time": "2022-02-04T20:00:55.554Z"
   },
   {
    "duration": 849,
    "start_time": "2022-02-04T20:00:55.691Z"
   },
   {
    "duration": 95,
    "start_time": "2022-02-04T20:00:56.543Z"
   },
   {
    "duration": 59,
    "start_time": "2022-02-04T20:00:56.642Z"
   },
   {
    "duration": 60,
    "start_time": "2022-02-04T20:00:56.704Z"
   },
   {
    "duration": 116,
    "start_time": "2022-02-04T20:00:56.767Z"
   },
   {
    "duration": 80,
    "start_time": "2022-02-04T20:00:56.886Z"
   },
   {
    "duration": 20,
    "start_time": "2022-02-04T20:00:56.969Z"
   },
   {
    "duration": 818,
    "start_time": "2022-02-04T20:00:56.992Z"
   },
   {
    "duration": 46,
    "start_time": "2022-02-04T20:00:57.813Z"
   },
   {
    "duration": 102,
    "start_time": "2022-02-04T20:00:57.866Z"
   },
   {
    "duration": 1003,
    "start_time": "2022-02-04T20:00:57.971Z"
   },
   {
    "duration": 1366,
    "start_time": "2022-02-04T20:00:58.977Z"
   },
   {
    "duration": 19,
    "start_time": "2022-02-04T20:01:00.351Z"
   },
   {
    "duration": 23,
    "start_time": "2022-02-04T20:01:00.373Z"
   },
   {
    "duration": 55,
    "start_time": "2022-02-04T20:01:00.398Z"
   },
   {
    "duration": 657,
    "start_time": "2022-02-04T20:01:00.456Z"
   },
   {
    "duration": 1030,
    "start_time": "2022-02-04T20:01:01.116Z"
   },
   {
    "duration": 13,
    "start_time": "2022-02-04T20:01:02.150Z"
   },
   {
    "duration": 45,
    "start_time": "2022-02-04T20:01:02.166Z"
   },
   {
    "duration": 27,
    "start_time": "2022-02-04T20:06:22.924Z"
   },
   {
    "duration": 72,
    "start_time": "2022-02-04T20:07:22.181Z"
   },
   {
    "duration": 58,
    "start_time": "2022-02-04T20:07:38.422Z"
   },
   {
    "duration": 26,
    "start_time": "2022-02-04T20:07:56.017Z"
   },
   {
    "duration": 29,
    "start_time": "2022-02-04T20:09:18.841Z"
   },
   {
    "duration": 35,
    "start_time": "2022-02-04T20:10:36.941Z"
   },
   {
    "duration": 1697,
    "start_time": "2022-02-04T20:17:50.686Z"
   },
   {
    "duration": 244,
    "start_time": "2022-02-04T20:17:52.386Z"
   },
   {
    "duration": 7,
    "start_time": "2022-02-04T20:17:52.634Z"
   },
   {
    "duration": 15,
    "start_time": "2022-02-04T20:17:52.645Z"
   },
   {
    "duration": 10,
    "start_time": "2022-02-04T20:17:52.663Z"
   },
   {
    "duration": 53,
    "start_time": "2022-02-04T20:17:52.676Z"
   },
   {
    "duration": 299,
    "start_time": "2022-02-04T20:17:52.732Z"
   },
   {
    "duration": 7,
    "start_time": "2022-02-04T20:17:53.037Z"
   },
   {
    "duration": 40,
    "start_time": "2022-02-04T20:17:53.048Z"
   },
   {
    "duration": 39,
    "start_time": "2022-02-04T20:17:53.091Z"
   },
   {
    "duration": 52,
    "start_time": "2022-02-04T20:17:53.132Z"
   },
   {
    "duration": 849,
    "start_time": "2022-02-04T20:17:53.187Z"
   },
   {
    "duration": 7,
    "start_time": "2022-02-04T20:17:54.039Z"
   },
   {
    "duration": 176,
    "start_time": "2022-02-04T20:17:54.048Z"
   },
   {
    "duration": 60,
    "start_time": "2022-02-04T20:17:54.228Z"
   },
   {
    "duration": 251,
    "start_time": "2022-02-04T20:17:54.291Z"
   },
   {
    "duration": 237,
    "start_time": "2022-02-04T20:17:54.545Z"
   },
   {
    "duration": 6,
    "start_time": "2022-02-04T20:17:54.784Z"
   },
   {
    "duration": 10,
    "start_time": "2022-02-04T20:17:54.793Z"
   },
   {
    "duration": 15,
    "start_time": "2022-02-04T20:17:54.805Z"
   },
   {
    "duration": 7,
    "start_time": "2022-02-04T20:17:54.824Z"
   },
   {
    "duration": 6,
    "start_time": "2022-02-04T20:17:54.834Z"
   },
   {
    "duration": 7,
    "start_time": "2022-02-04T20:17:54.846Z"
   },
   {
    "duration": 15,
    "start_time": "2022-02-04T20:17:54.857Z"
   },
   {
    "duration": 57,
    "start_time": "2022-02-04T20:17:54.875Z"
   },
   {
    "duration": 59,
    "start_time": "2022-02-04T20:17:54.935Z"
   },
   {
    "duration": 567,
    "start_time": "2022-02-04T20:17:54.996Z"
   },
   {
    "duration": 59,
    "start_time": "2022-02-04T20:17:55.566Z"
   },
   {
    "duration": 169,
    "start_time": "2022-02-04T20:17:55.628Z"
   },
   {
    "duration": 65,
    "start_time": "2022-02-04T20:17:55.800Z"
   },
   {
    "duration": 15,
    "start_time": "2022-02-04T20:17:55.868Z"
   },
   {
    "duration": 8,
    "start_time": "2022-02-04T20:17:55.886Z"
   },
   {
    "duration": 320,
    "start_time": "2022-02-04T20:17:55.924Z"
   },
   {
    "duration": 317,
    "start_time": "2022-02-04T20:17:56.246Z"
   },
   {
    "duration": 352,
    "start_time": "2022-02-04T20:17:56.565Z"
   },
   {
    "duration": 35,
    "start_time": "2022-02-04T20:17:56.923Z"
   },
   {
    "duration": 19,
    "start_time": "2022-02-04T20:17:56.961Z"
   },
   {
    "duration": 44,
    "start_time": "2022-02-04T20:17:56.983Z"
   },
   {
    "duration": 146,
    "start_time": "2022-02-04T20:17:57.030Z"
   },
   {
    "duration": 728,
    "start_time": "2022-02-04T20:17:57.178Z"
   },
   {
    "duration": 75,
    "start_time": "2022-02-04T20:17:57.909Z"
   },
   {
    "duration": 83,
    "start_time": "2022-02-04T20:17:57.986Z"
   },
   {
    "duration": 61,
    "start_time": "2022-02-04T20:17:58.072Z"
   },
   {
    "duration": 87,
    "start_time": "2022-02-04T20:17:58.136Z"
   },
   {
    "duration": 40,
    "start_time": "2022-02-04T20:17:58.226Z"
   },
   {
    "duration": 30,
    "start_time": "2022-02-04T20:17:58.269Z"
   },
   {
    "duration": 38,
    "start_time": "2022-02-04T20:17:58.325Z"
   },
   {
    "duration": 98,
    "start_time": "2022-02-04T20:17:58.366Z"
   },
   {
    "duration": 607,
    "start_time": "2022-02-04T20:17:58.467Z"
   },
   {
    "duration": 1212,
    "start_time": "2022-02-04T20:17:59.077Z"
   },
   {
    "duration": 10,
    "start_time": "2022-02-04T20:18:00.292Z"
   },
   {
    "duration": 33,
    "start_time": "2022-02-04T20:18:00.304Z"
   },
   {
    "duration": 30,
    "start_time": "2022-02-04T20:18:00.339Z"
   },
   {
    "duration": 623,
    "start_time": "2022-02-04T20:18:00.371Z"
   },
   {
    "duration": 972,
    "start_time": "2022-02-04T20:18:00.997Z"
   },
   {
    "duration": 17,
    "start_time": "2022-02-04T20:18:01.972Z"
   },
   {
    "duration": 68,
    "start_time": "2022-02-04T20:18:01.992Z"
   },
   {
    "duration": 229,
    "start_time": "2022-02-05T06:50:51.974Z"
   },
   {
    "duration": 1205,
    "start_time": "2022-02-05T06:50:56.504Z"
   },
   {
    "duration": 145,
    "start_time": "2022-02-05T06:50:57.711Z"
   },
   {
    "duration": 5,
    "start_time": "2022-02-05T06:50:57.858Z"
   },
   {
    "duration": 15,
    "start_time": "2022-02-05T06:50:57.865Z"
   },
   {
    "duration": 7,
    "start_time": "2022-02-05T06:50:57.882Z"
   },
   {
    "duration": 7,
    "start_time": "2022-02-05T06:50:57.891Z"
   },
   {
    "duration": 212,
    "start_time": "2022-02-05T06:50:57.900Z"
   },
   {
    "duration": 4,
    "start_time": "2022-02-05T06:50:58.115Z"
   },
   {
    "duration": 34,
    "start_time": "2022-02-05T06:50:58.121Z"
   },
   {
    "duration": 12,
    "start_time": "2022-02-05T06:50:58.156Z"
   },
   {
    "duration": 53,
    "start_time": "2022-02-05T06:50:58.170Z"
   },
   {
    "duration": 668,
    "start_time": "2022-02-05T06:50:58.224Z"
   },
   {
    "duration": 4,
    "start_time": "2022-02-05T06:50:58.899Z"
   },
   {
    "duration": 123,
    "start_time": "2022-02-05T06:50:58.905Z"
   },
   {
    "duration": 39,
    "start_time": "2022-02-05T06:50:59.030Z"
   },
   {
    "duration": 182,
    "start_time": "2022-02-05T06:50:59.071Z"
   },
   {
    "duration": 137,
    "start_time": "2022-02-05T06:50:59.254Z"
   },
   {
    "duration": 4,
    "start_time": "2022-02-05T06:50:59.393Z"
   },
   {
    "duration": 9,
    "start_time": "2022-02-05T06:50:59.399Z"
   },
   {
    "duration": 13,
    "start_time": "2022-02-05T06:50:59.410Z"
   },
   {
    "duration": 5,
    "start_time": "2022-02-05T06:50:59.424Z"
   },
   {
    "duration": 6,
    "start_time": "2022-02-05T06:50:59.431Z"
   },
   {
    "duration": 7,
    "start_time": "2022-02-05T06:50:59.440Z"
   },
   {
    "duration": 12,
    "start_time": "2022-02-05T06:50:59.449Z"
   },
   {
    "duration": 44,
    "start_time": "2022-02-05T06:50:59.463Z"
   },
   {
    "duration": 42,
    "start_time": "2022-02-05T06:50:59.509Z"
   },
   {
    "duration": 445,
    "start_time": "2022-02-05T06:50:59.553Z"
   },
   {
    "duration": 47,
    "start_time": "2022-02-05T06:51:00.000Z"
   },
   {
    "duration": 150,
    "start_time": "2022-02-05T06:51:00.049Z"
   },
   {
    "duration": 42,
    "start_time": "2022-02-05T06:51:00.201Z"
   },
   {
    "duration": 10,
    "start_time": "2022-02-05T06:51:00.245Z"
   },
   {
    "duration": 7,
    "start_time": "2022-02-05T06:51:00.257Z"
   },
   {
    "duration": 263,
    "start_time": "2022-02-05T06:51:00.266Z"
   },
   {
    "duration": 246,
    "start_time": "2022-02-05T06:51:00.531Z"
   },
   {
    "duration": 253,
    "start_time": "2022-02-05T06:51:00.779Z"
   },
   {
    "duration": 25,
    "start_time": "2022-02-05T06:51:01.033Z"
   },
   {
    "duration": 41,
    "start_time": "2022-02-05T06:51:01.059Z"
   },
   {
    "duration": 13,
    "start_time": "2022-02-05T06:51:01.102Z"
   },
   {
    "duration": 27,
    "start_time": "2022-02-05T06:51:01.117Z"
   },
   {
    "duration": 123,
    "start_time": "2022-02-05T06:51:01.145Z"
   },
   {
    "duration": 535,
    "start_time": "2022-02-05T06:51:01.270Z"
   },
   {
    "duration": 37,
    "start_time": "2022-02-05T06:51:01.808Z"
   },
   {
    "duration": 68,
    "start_time": "2022-02-05T06:51:01.847Z"
   },
   {
    "duration": 29,
    "start_time": "2022-02-05T06:51:01.917Z"
   },
   {
    "duration": 76,
    "start_time": "2022-02-05T06:51:01.948Z"
   },
   {
    "duration": 31,
    "start_time": "2022-02-05T06:51:02.026Z"
   },
   {
    "duration": 43,
    "start_time": "2022-02-05T06:51:02.059Z"
   },
   {
    "duration": 22,
    "start_time": "2022-02-05T06:51:02.104Z"
   },
   {
    "duration": 72,
    "start_time": "2022-02-05T06:51:02.128Z"
   },
   {
    "duration": 489,
    "start_time": "2022-02-05T06:51:02.202Z"
   },
   {
    "duration": 717,
    "start_time": "2022-02-05T06:51:02.693Z"
   },
   {
    "duration": 7,
    "start_time": "2022-02-05T06:51:03.412Z"
   },
   {
    "duration": 25,
    "start_time": "2022-02-05T06:51:03.421Z"
   },
   {
    "duration": 15,
    "start_time": "2022-02-05T06:51:03.448Z"
   },
   {
    "duration": 484,
    "start_time": "2022-02-05T06:51:03.465Z"
   },
   {
    "duration": 715,
    "start_time": "2022-02-05T06:51:03.951Z"
   },
   {
    "duration": 8,
    "start_time": "2022-02-05T06:51:04.668Z"
   },
   {
    "duration": 28,
    "start_time": "2022-02-05T06:51:04.677Z"
   }
  ],
  "kernelspec": {
   "display_name": "Python 3",
   "language": "python",
   "name": "python3"
  },
  "language_info": {
   "codemirror_mode": {
    "name": "ipython",
    "version": 3
   },
   "file_extension": ".py",
   "mimetype": "text/x-python",
   "name": "python",
   "nbconvert_exporter": "python",
   "pygments_lexer": "ipython3",
   "version": "3.7.4"
  },
  "toc": {
   "base_numbering": 1,
   "nav_menu": {},
   "number_sections": true,
   "sideBar": true,
   "skip_h1_title": true,
   "title_cell": "Table of Contents",
   "title_sidebar": "Contents",
   "toc_cell": false,
   "toc_position": {},
   "toc_section_display": true,
   "toc_window_display": false
  }
 },
 "nbformat": 4,
 "nbformat_minor": 2
}
